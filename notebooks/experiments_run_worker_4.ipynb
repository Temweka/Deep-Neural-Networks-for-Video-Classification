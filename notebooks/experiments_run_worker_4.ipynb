{
 "cells": [
  {
   "cell_type": "code",
   "execution_count": 1,
   "metadata": {
    "ExecuteTime": {
     "end_time": "2019-01-20T13:22:35.603894Z",
     "start_time": "2019-01-20T13:22:35.600657Z"
    }
   },
   "outputs": [],
   "source": [
    "WORKER_ID = 4"
   ]
  },
  {
   "cell_type": "code",
   "execution_count": 2,
   "metadata": {
    "ExecuteTime": {
     "end_time": "2019-01-20T13:22:35.610261Z",
     "start_time": "2019-01-20T13:22:35.606251Z"
    }
   },
   "outputs": [],
   "source": [
    "import os\n",
    "os.environ[\"CUDA_DEVICE_ORDER\"]=\"PCI_BUS_ID\"\n",
    "os.environ[\"CUDA_VISIBLE_DEVICES\"]=str(WORKER_ID)"
   ]
  },
  {
   "cell_type": "code",
   "execution_count": 3,
   "metadata": {
    "ExecuteTime": {
     "end_time": "2019-01-20T13:22:35.615883Z",
     "start_time": "2019-01-20T13:22:35.612822Z"
    }
   },
   "outputs": [],
   "source": [
    "# whether to log each feature and sequence status\n",
    "verbose = True"
   ]
  },
  {
   "cell_type": "code",
   "execution_count": 4,
   "metadata": {
    "ExecuteTime": {
     "end_time": "2019-01-20T13:22:36.089739Z",
     "start_time": "2019-01-20T13:22:35.618612Z"
    }
   },
   "outputs": [],
   "source": [
    "import gc\n",
    "import os\n",
    "import pandas as pd\n",
    "import numpy as np\n",
    "import json\n",
    "import datetime\n",
    "import matplotlib.pyplot as plt\n",
    "import itertools\n",
    "import sys\n",
    "sys.path.append('..')"
   ]
  },
  {
   "cell_type": "code",
   "execution_count": 5,
   "metadata": {
    "ExecuteTime": {
     "end_time": "2019-01-20T13:22:36.095593Z",
     "start_time": "2019-01-20T13:22:36.092304Z"
    }
   },
   "outputs": [],
   "source": [
    "# setup paths\n",
    "pwd = os.getcwd().replace(\"notebooks\",\"\")\n",
    "path_cache = pwd + 'cache/'\n",
    "path_data = pwd + 'data/'"
   ]
  },
  {
   "cell_type": "code",
   "execution_count": 6,
   "metadata": {
    "ExecuteTime": {
     "end_time": "2019-01-20T13:22:36.103959Z",
     "start_time": "2019-01-20T13:22:36.098670Z"
    }
   },
   "outputs": [],
   "source": [
    "# setup logging\n",
    "# any explicit log messages or uncaught errors to stdout and file /logs.log\n",
    "import logging\n",
    "logging.basicConfig(\n",
    "    level=logging.INFO,\n",
    "    format=\"%(asctime)s [%(threadName)-12.12s] [%(levelname)-5.5s]  %(message)s\",\n",
    "    handlers=[\n",
    "        logging.FileHandler(\"{0}/{1}.log\".format(pwd, \"logs\")),\n",
    "        logging.StreamHandler()\n",
    "    ])\n",
    "# init logger\n",
    "logger = logging.getLogger()\n",
    "# make logger aware of any uncaught exceptions\n",
    "def handle_exception(exc_type, exc_value, exc_traceback):\n",
    "    if issubclass(exc_type, KeyboardInterrupt):\n",
    "        sys.__excepthook__(exc_type, exc_value, exc_traceback)\n",
    "        return\n",
    "\n",
    "    logger.error(\"Uncaught exception\", exc_info=(exc_type, exc_value, exc_traceback))\n",
    "sys.excepthook = handle_exception"
   ]
  },
  {
   "cell_type": "code",
   "execution_count": 7,
   "metadata": {
    "ExecuteTime": {
     "end_time": "2019-01-20T13:22:38.115021Z",
     "start_time": "2019-01-20T13:22:36.106483Z"
    }
   },
   "outputs": [
    {
     "name": "stderr",
     "output_type": "stream",
     "text": [
      "Using TensorFlow backend.\n"
     ]
    }
   ],
   "source": [
    "from deepvideoclassification.architectures import Architecture"
   ]
  },
  {
   "cell_type": "markdown",
   "metadata": {},
   "source": [
    "# Run experiments"
   ]
  },
  {
   "cell_type": "code",
   "execution_count": 8,
   "metadata": {
    "ExecuteTime": {
     "end_time": "2019-01-20T13:22:38.121380Z",
     "start_time": "2019-01-20T13:22:38.117807Z"
    }
   },
   "outputs": [],
   "source": [
    "experiment_batch_name = 'experiment_batch_1'"
   ]
  },
  {
   "cell_type": "code",
   "execution_count": 9,
   "metadata": {
    "ExecuteTime": {
     "end_time": "2019-01-20T13:22:38.141505Z",
     "start_time": "2019-01-20T13:22:38.123566Z"
    }
   },
   "outputs": [],
   "source": [
    "# load list of experiments\n",
    "experiments = pd.read_csv(pwd + \"experiments/\" + experiment_batch_name + '.csv')"
   ]
  },
  {
   "cell_type": "code",
   "execution_count": 10,
   "metadata": {
    "ExecuteTime": {
     "end_time": "2019-01-20T13:22:38.148052Z",
     "start_time": "2019-01-20T13:22:38.144224Z"
    }
   },
   "outputs": [
    {
     "name": "stdout",
     "output_type": "stream",
     "text": [
      "(5376, 12)\n"
     ]
    }
   ],
   "source": [
    "print(experiments.shape)"
   ]
  },
  {
   "cell_type": "code",
   "execution_count": null,
   "metadata": {
    "ExecuteTime": {
     "start_time": "2019-01-20T13:22:35.593Z"
    },
    "scrolled": false
   },
   "outputs": [
    {
     "name": "stderr",
     "output_type": "stream",
     "text": [
      "2019-01-20 13:22:38,162 [MainThread  ] [INFO ]  Begin experiment for model_id=76 on GPU:4 \n",
      "2019-01-20 13:22:38,163 [MainThread  ] [INFO ]  Model folder exists but no results found - potential error in previous model training\n",
      "2019-01-20 13:22:38,164 [MainThread  ] [INFO ]  Loading data\n"
     ]
    },
    {
     "name": "stdout",
     "output_type": "stream",
     "text": [
      "76   XXXXXXXXXXXXXXXXXXXXXXXXXXXXXXXXXXXXXXXXXXXXXXXXXXXXXXXXXXXX\n",
      "{'layer_2_size': 0, 'sequence_length': 1.0, 'layer_1_size': 512, 'sequence_model': nan, 'model_id': 76, 'pretrained_model_name': 'vgg16', 'architecture': 'image_MLP_frozen', 'layer_3_size': 512, 'sequence_model_layers': nan, 'pooling': 'max', 'WORKER': 4, 'dropout': 0.2}\n"
     ]
    },
    {
     "name": "stderr",
     "output_type": "stream",
     "text": [
      "2019-01-20 13:22:39,162 [MainThread  ] [INFO ]  Features already cached: /mnt/seals/cache/features/vgg16/max/\n",
      "2019-01-20 13:22:39,163 [MainThread  ] [INFO ]  Loading features data into memory [may take a few minutes]\n"
     ]
    },
    {
     "name": "stdout",
     "output_type": "stream",
     "text": [
      "Done initializing data with #samples: train=60597, valid=6416, test=3139\n",
      "Train on 60597 samples, validate on 6416 samples\n",
      "Epoch 1/20\n",
      "60597/60597 [==============================] - 15s 251us/step - loss: 0.3483 - acc: 0.9357 - val_loss: 0.1829 - val_acc: 0.9251\n",
      "\n",
      "Epoch 00001: val_acc improved from -inf to 0.92514, saving model to /mnt/seals/models/76/model_round_1.h5\n",
      "Epoch 2/20\n",
      "60597/60597 [==============================] - 9s 154us/step - loss: 0.1188 - acc: 0.9526 - val_loss: 0.2047 - val_acc: 0.9227\n",
      "\n",
      "Epoch 00002: val_acc did not improve from 0.92514\n",
      "Epoch 3/20\n",
      "60597/60597 [==============================] - 9s 154us/step - loss: 0.1113 - acc: 0.9556 - val_loss: 0.1746 - val_acc: 0.9251\n",
      "\n",
      "Epoch 00003: val_acc did not improve from 0.92514\n",
      "Epoch 4/20\n",
      "60597/60597 [==============================] - 10s 161us/step - loss: 0.1066 - acc: 0.9575 - val_loss: 0.1596 - val_acc: 0.9391\n",
      "\n",
      "Epoch 00004: val_acc improved from 0.92514 to 0.93915, saving model to /mnt/seals/models/76/model_round_1.h5\n",
      "Epoch 5/20\n",
      "60597/60597 [==============================] - 10s 164us/step - loss: 0.1020 - acc: 0.9594 - val_loss: 0.1994 - val_acc: 0.9296\n",
      "\n",
      "Epoch 00005: val_acc did not improve from 0.93915\n",
      "Epoch 6/20\n",
      "60597/60597 [==============================] - 10s 164us/step - loss: 0.0972 - acc: 0.9610 - val_loss: 0.1677 - val_acc: 0.9406\n",
      "\n",
      "Epoch 00006: val_acc improved from 0.93915 to 0.94059, saving model to /mnt/seals/models/76/model_round_1.h5\n",
      "Epoch 7/20\n",
      "60597/60597 [==============================] - 10s 164us/step - loss: 0.0947 - acc: 0.9620 - val_loss: 0.2048 - val_acc: 0.9310\n",
      "\n",
      "Epoch 00007: val_acc did not improve from 0.94059\n",
      "Epoch 8/20\n",
      "60597/60597 [==============================] - 10s 164us/step - loss: 0.0913 - acc: 0.9634 - val_loss: 0.2173 - val_acc: 0.9349\n",
      "\n",
      "Epoch 00008: val_acc did not improve from 0.94059\n",
      "Epoch 9/20\n",
      "60597/60597 [==============================] - 10s 163us/step - loss: 0.0887 - acc: 0.9641 - val_loss: 0.2218 - val_acc: 0.9209\n",
      "\n",
      "Epoch 00009: val_acc did not improve from 0.94059\n",
      "H1 {'val_loss': [0.1828937391167567, 0.2047357180172071, 0.17460393099267585, 0.15960059645690228, 0.19944270114946247, 0.1677090623729544, 0.20483836256655077, 0.21730995438342676, 0.2218274512790385], 'val_acc': [0.9251425215728265, 0.9226932858588393, 0.9250534543967307, 0.9391476859772889, 0.9296402057210109, 0.9405949597346812, 0.9309538839166599, 0.9348503919016393, 0.9208897575178646], 'loss': [0.34833788042398234, 0.11877693046342186, 0.11131633389855221, 0.106561023723702, 0.1020286557749783, 0.09719098324280205, 0.09473725550240261, 0.09134597734964639, 0.08872254522429135], 'acc': [0.9357394121530349, 0.9525978583796716, 0.9555706590552246, 0.9575297362828374, 0.9593756553351526, 0.9609669644299448, 0.9620301952241587, 0.9633551063731489, 0.964135436475093]}\n",
      "stopped_epoch1 6\n",
      "9\n",
      "0.9309538839166599\n",
      "Train on 60597 samples, validate on 6416 samples\n",
      "Epoch 1/20\n",
      "60597/60597 [==============================] - 11s 175us/step - loss: 0.0732 - acc: 0.9701 - val_loss: 0.1892 - val_acc: 0.9390\n",
      "\n",
      "Epoch 00001: val_acc improved from -inf to 0.93897, saving model to /mnt/seals/models/76/model_round_2.h5\n",
      "Epoch 2/20\n",
      "60597/60597 [==============================] - 10s 170us/step - loss: 0.0695 - acc: 0.9712 - val_loss: 0.1993 - val_acc: 0.9366\n",
      "\n",
      "Epoch 00002: val_acc did not improve from 0.93897\n",
      "Epoch 3/20\n",
      "60597/60597 [==============================] - 10s 165us/step - loss: 0.0675 - acc: 0.9718 - val_loss: 0.2039 - val_acc: 0.9343\n",
      "\n",
      "Epoch 00003: val_acc did not improve from 0.93897\n",
      "Epoch 4/20\n",
      "60597/60597 [==============================] - 10s 166us/step - loss: 0.0669 - acc: 0.9720 - val_loss: 0.2068 - val_acc: 0.9353\n",
      "\n",
      "Epoch 00004: val_acc did not improve from 0.93897\n",
      "H2 {'val_loss': [0.1891513729370443, 0.19930315125464204, 0.20386815136135963, 0.20676089904998007], 'val_acc': [0.9389695589084578, 0.93663165367155, 0.9342714839445385, 0.935295707269797], 'loss': [0.07322948005103352, 0.06947075720557823, 0.06752899669725909, 0.06688638455280037], 'acc': [0.9701164013700446, 0.9712338540739637, 0.9718303001857282, 0.9719741076689863]}\n",
      "stopped_epoch2 1\n",
      "4\n",
      "0.93663165367155\n",
      "Train on 60597 samples, validate on 6416 samples\n",
      "Epoch 1/20\n",
      "60597/60597 [==============================] - 11s 174us/step - loss: 0.0643 - acc: 0.9730 - val_loss: 0.2071 - val_acc: 0.9357\n",
      "\n",
      "Epoch 00001: val_acc improved from -inf to 0.93570, saving model to /mnt/seals/models/76/model_round_3.h5\n",
      "Epoch 2/20\n",
      "60597/60597 [==============================] - 10s 166us/step - loss: 0.0638 - acc: 0.9733 - val_loss: 0.2085 - val_acc: 0.9346\n",
      "\n",
      "Epoch 00002: val_acc did not improve from 0.93570\n",
      "Epoch 3/20\n",
      "60597/60597 [==============================] - 10s 166us/step - loss: 0.0638 - acc: 0.9733 - val_loss: 0.2078 - val_acc: 0.9349\n",
      "\n",
      "Epoch 00003: val_acc did not improve from 0.93570\n",
      "Epoch 4/20\n",
      "60597/60597 [==============================] - 10s 166us/step - loss: 0.0633 - acc: 0.9733 - val_loss: 0.2075 - val_acc: 0.9354\n",
      "\n",
      "Epoch 00004: val_acc did not improve from 0.93570\n",
      "H3 {'val_loss': [0.20709622413514558, 0.2085445735445641, 0.20776358304401288, 0.2074541187197193], 'val_acc': [0.9356964915767869, 0.9346277348121206, 0.9349171907229911, 0.9354070374495965], 'loss': [0.06430383838633495, 0.06383232189633194, 0.06382577861975602, 0.06334754208016971], 'acc': [0.9730373371421935, 0.9732778018011968, 0.9732636561780813, 0.9733108068485513]}\n",
      "stopped_epoch3 1\n",
      "4\n",
      "0.9346277348121206\n",
      "best fit round 2 0.93663165367155\n",
      "3139/3139 [==============================] - 0s 57us/step\n"
     ]
    },
    {
     "name": "stderr",
     "output_type": "stream",
     "text": [
      "2019-01-20 13:25:40,811 [MainThread  ] [INFO ]  {'fit_stopped_epoch3': 1, 'sequence_model': nan, 'num_features': 512, 'data_total_rows_valid': 6416, 'batch_size': 32, 'fit_dt_test_end': '2019-01-20 13:25:38', 'path_model': '/mnt/seals/models/76/', 'data_total_rows_train': 60597, 'fit_dt_test_start': '2019-01-20 13:25:38', 'architecture': 'image_mlp_frozen', 'layer_3_size': 512, 'fit_dt_test_duration_seconds': '0', 'sequence_model_layers': nan, 'layer_2_size': 0, 'model_weights_path': None, 'fit_dt_train_start': '2019-01-20 13:22:39', 'fit_stopped_epoch1': 6, 'sequence_length': 1.0, 'model_param_count': 266247, 'fit_val_acc': 0.93663165367155, 'layer_1_size': 512, 'fit_best_round': 2, 'frame_size': (224, 224), 'fit_dt_train_duration_seconds': '178', 'fit_train_acc': 0.9712338540739637, 'convolution_kernel_size': 3, 'fit_stopped_epoch2': 1, 'model_id': 76, 'fit_val_loss': 0.19930315125464204, 'pretrained_model_name': 'vgg16', 'fit_train_loss': 0.06947075720557823, 'fit_dt_train_end': '2019-01-20 13:25:38', 'pooling': 'max', 'data_total_rows_test': 3139, 'verbose': True, 'fit_num_epochs': 11, 'fit_test_acc': 0.6530742274609749, 'dropout': 0.2}\n",
      "2019-01-20 13:25:40,813 [MainThread  ] [INFO ]  model 76 test acc: 0.6530742274609749\n",
      "2019-01-20 13:25:41,004 [MainThread  ] [INFO ]  Begin experiment for model_id=84 on GPU:4 \n",
      "2019-01-20 13:25:41,006 [MainThread  ] [INFO ]  Loading data\n"
     ]
    },
    {
     "name": "stdout",
     "output_type": "stream",
     "text": [
      "84   XXXXXXXXXXXXXXXXXXXXXXXXXXXXXXXXXXXXXXXXXXXXXXXXXXXXXXXXXXXX\n",
      "{'layer_2_size': 256, 'sequence_length': 1.0, 'layer_1_size': 256, 'sequence_model': nan, 'model_id': 84, 'pretrained_model_name': 'vgg16', 'architecture': 'image_MLP_frozen', 'layer_3_size': 512, 'sequence_model_layers': nan, 'pooling': 'max', 'WORKER': 4, 'dropout': 0.2}\n"
     ]
    },
    {
     "name": "stderr",
     "output_type": "stream",
     "text": [
      "2019-01-20 13:25:42,128 [MainThread  ] [INFO ]  Features already cached: /mnt/seals/cache/features/vgg16/max/\n",
      "2019-01-20 13:25:42,130 [MainThread  ] [INFO ]  Loading features data into memory [may take a few minutes]\n"
     ]
    },
    {
     "name": "stdout",
     "output_type": "stream",
     "text": [
      "Done initializing data with #samples: train=60597, valid=6416, test=3139\n",
      "Train on 60597 samples, validate on 6416 samples\n",
      "Epoch 1/20\n",
      "60597/60597 [==============================] - 14s 236us/step - loss: 0.1872 - acc: 0.9342 - val_loss: 0.2040 - val_acc: 0.9087\n",
      "\n",
      "Epoch 00001: val_acc improved from -inf to 0.90873, saving model to /mnt/seals/models/84/model_round_1.h5\n",
      "Epoch 2/20\n",
      "60597/60597 [==============================] - 13s 222us/step - loss: 0.1269 - acc: 0.9500 - val_loss: 0.1704 - val_acc: 0.9350\n",
      "\n",
      "Epoch 00002: val_acc improved from 0.90873 to 0.93496, saving model to /mnt/seals/models/84/model_round_1.h5\n",
      "Epoch 3/20\n",
      "60597/60597 [==============================] - 13s 223us/step - loss: 0.1167 - acc: 0.9539 - val_loss: 0.2338 - val_acc: 0.9112\n",
      "\n",
      "Epoch 00003: val_acc did not improve from 0.93496\n",
      "Epoch 4/20\n",
      "60597/60597 [==============================] - 13s 222us/step - loss: 0.1127 - acc: 0.9562 - val_loss: 0.1697 - val_acc: 0.9372\n",
      "\n",
      "Epoch 00004: val_acc improved from 0.93496 to 0.93719, saving model to /mnt/seals/models/84/model_round_1.h5\n",
      "Epoch 5/20\n",
      "60597/60597 [==============================] - 14s 223us/step - loss: 0.1074 - acc: 0.9580 - val_loss: 0.1767 - val_acc: 0.9314\n",
      "\n",
      "Epoch 00005: val_acc did not improve from 0.93719\n",
      "Epoch 6/20\n",
      "60597/60597 [==============================] - 14s 223us/step - loss: 0.1032 - acc: 0.9592 - val_loss: 0.1597 - val_acc: 0.9400\n",
      "\n",
      "Epoch 00006: val_acc improved from 0.93719 to 0.93997, saving model to /mnt/seals/models/84/model_round_1.h5\n",
      "Epoch 7/20\n",
      "60597/60597 [==============================] - 14s 224us/step - loss: 0.1000 - acc: 0.9610 - val_loss: 0.1828 - val_acc: 0.9415\n",
      "\n",
      "Epoch 00007: val_acc improved from 0.93997 to 0.94151, saving model to /mnt/seals/models/84/model_round_1.h5\n",
      "Epoch 8/20\n",
      "60597/60597 [==============================] - 13s 222us/step - loss: 0.0991 - acc: 0.9611 - val_loss: 0.1697 - val_acc: 0.9354\n",
      "\n",
      "Epoch 00008: val_acc did not improve from 0.94151\n",
      "Epoch 9/20\n",
      "60597/60597 [==============================] - 14s 223us/step - loss: 0.0974 - acc: 0.9617 - val_loss: 0.1796 - val_acc: 0.9337\n",
      "\n",
      "Epoch 00009: val_acc did not improve from 0.94151\n",
      "Epoch 10/20\n",
      "60597/60597 [==============================] - 14s 225us/step - loss: 0.0944 - acc: 0.9630 - val_loss: 0.2178 - val_acc: 0.9235\n",
      "\n",
      "Epoch 00010: val_acc did not improve from 0.94151\n",
      "H1 {'val_loss': [0.20398683550574834, 0.17043874256703026, 0.2337624829011665, 0.16971087890521547, 0.1767026260123586, 0.15970886649187663, 0.18275030602020514, 0.169734975271986, 0.17958325376162804, 0.21779721214475478], 'val_acc': [0.9087326535560246, 0.9349617214868788, 0.9112486818484832, 0.9371882992195072, 0.9314437322783053, 0.9399715181895325, 0.9415078573393405, 0.9354070377468765, 0.9336925712309574, 0.9234948541755391], 'loss': [0.18715788220527893, 0.12694529514910827, 0.11674893615673577, 0.11265195961810773, 0.10744191614002738, 0.10317649925649407, 0.10002542616871124, 0.09911615882191026, 0.09739582369768189, 0.094430900196017], 'acc': [0.9341928933112046, 0.950039975273945, 0.9539463446681558, 0.956209539890069, 0.9579705888824436, 0.9592483508521374, 0.9609787523670752, 0.961110771933859, 0.9617166481561106, 0.9629826227729466]}\n",
      "stopped_epoch1 7\n",
      "10\n",
      "0.9354070377468765\n",
      "Train on 60597 samples, validate on 6416 samples\n",
      "Epoch 1/20\n",
      "60597/60597 [==============================] - 14s 238us/step - loss: 0.0802 - acc: 0.9680 - val_loss: 0.1977 - val_acc: 0.9323\n",
      "\n",
      "Epoch 00001: val_acc improved from -inf to 0.93233, saving model to /mnt/seals/models/84/model_round_2.h5\n",
      "Epoch 2/20\n",
      "60597/60597 [==============================] - 14s 225us/step - loss: 0.0756 - acc: 0.9690 - val_loss: 0.1903 - val_acc: 0.9336\n",
      "\n",
      "Epoch 00002: val_acc improved from 0.93233 to 0.93356, saving model to /mnt/seals/models/84/model_round_2.h5\n",
      "Epoch 3/20\n",
      "60597/60597 [==============================] - 14s 224us/step - loss: 0.0738 - acc: 0.9699 - val_loss: 0.1893 - val_acc: 0.9363\n",
      "\n",
      "Epoch 00003: val_acc improved from 0.93356 to 0.93632, saving model to /mnt/seals/models/84/model_round_2.h5\n",
      "Epoch 4/20\n",
      "60597/60597 [==============================] - 14s 225us/step - loss: 0.0726 - acc: 0.9702 - val_loss: 0.1901 - val_acc: 0.9353\n",
      "\n",
      "Epoch 00004: val_acc did not improve from 0.93632\n",
      "Epoch 5/20\n",
      "60597/60597 [==============================] - 14s 224us/step - loss: 0.0719 - acc: 0.9707 - val_loss: 0.1999 - val_acc: 0.9297\n",
      "\n",
      "Epoch 00005: val_acc did not improve from 0.93632\n",
      "Epoch 6/20\n",
      "60597/60597 [==============================] - 14s 224us/step - loss: 0.0706 - acc: 0.9711 - val_loss: 0.1978 - val_acc: 0.9362\n",
      "\n",
      "Epoch 00006: val_acc did not improve from 0.93632\n",
      "H2 {'val_loss': [0.197655164318489, 0.19032336251248147, 0.18928685399733874, 0.19005371121099762, 0.19993618677864944, 0.1977644295355031], 'val_acc': [0.9323343575149403, 0.9335589771556141, 0.9363199347569758, 0.9353402395200848, 0.9296847355930585, 0.9362086065094964], 'loss': [0.0802226076306328, 0.07559680347046463, 0.07378797218792982, 0.07261267593402963, 0.07190088373086567, 0.07063517180628978], 'acc': [0.9680229458224312, 0.9689965908384985, 0.9699301597922423, 0.9701753391474665, 0.9706562673933233, 0.9710593982909594]}\n",
      "stopped_epoch2 3\n",
      "6\n",
      "0.9353402395200848\n",
      "Train on 60597 samples, validate on 6416 samples\n",
      "Epoch 1/20\n",
      "60597/60597 [==============================] - 15s 246us/step - loss: 0.0686 - acc: 0.9717 - val_loss: 0.1971 - val_acc: 0.9371\n",
      "\n",
      "Epoch 00001: val_acc improved from -inf to 0.93705, saving model to /mnt/seals/models/84/model_round_3.h5\n",
      "Epoch 2/20\n",
      "60597/60597 [==============================] - 14s 225us/step - loss: 0.0684 - acc: 0.9719 - val_loss: 0.1992 - val_acc: 0.9363\n",
      "\n",
      "Epoch 00002: val_acc did not improve from 0.93705\n",
      "Epoch 3/20\n",
      "60597/60597 [==============================] - 14s 225us/step - loss: 0.0678 - acc: 0.9721 - val_loss: 0.1992 - val_acc: 0.9365\n",
      "\n",
      "Epoch 00003: val_acc did not improve from 0.93705\n",
      "Epoch 4/20\n",
      "60597/60597 [==============================] - 13s 219us/step - loss: 0.0678 - acc: 0.9719 - val_loss: 0.2017 - val_acc: 0.9361\n",
      "\n",
      "Epoch 00004: val_acc did not improve from 0.93705\n",
      "H3 {'val_loss': [0.19708176152292928, 0.19923127939613383, 0.19923650242964228, 0.201728917732649], 'val_acc': [0.9370547057387241, 0.9362976690777519, 0.9365425927383346, 0.9361418075395047], 'loss': [0.06859573217163775, 0.06840614647296328, 0.06775649797216171, 0.06776476021333089], 'acc': [0.9716912081964099, 0.9719222424301666, 0.9720566185458666, 0.9718963093509126]}\n",
      "stopped_epoch3 1\n",
      "4\n",
      "0.9362976690777519\n",
      "best fit round 3 0.9362976690777519\n",
      "3139/3139 [==============================] - 0s 95us/step\n"
     ]
    },
    {
     "name": "stderr",
     "output_type": "stream",
     "text": [
      "2019-01-20 13:30:26,422 [MainThread  ] [INFO ]  {'fit_stopped_epoch3': 1, 'sequence_model': nan, 'num_features': 512, 'data_total_rows_valid': 6416, 'batch_size': 32, 'fit_dt_test_end': '2019-01-20 13:30:24', 'path_model': '/mnt/seals/models/84/', 'fit_train_loss': 0.06840614647296328, 'data_total_rows_train': 60597, 'fit_dt_test_start': '2019-01-20 13:30:24', 'architecture': 'image_mlp_frozen', 'layer_3_size': 512, 'fit_dt_test_duration_seconds': '0', 'fit_dt_train_end': '2019-01-20 13:30:24', 'sequence_model_layers': nan, 'layer_2_size': 256, 'model_weights_path': None, 'fit_dt_train_start': '2019-01-20 13:25:42', 'fit_stopped_epoch1': 7, 'sequence_length': 1.0, 'model_param_count': 332295, 'fit_val_acc': 0.9362976690777519, 'layer_1_size': 256, 'fit_best_round': 3, 'frame_size': (224, 224), 'fit_dt_train_duration_seconds': '281', 'fit_train_acc': 0.9719222424301666, 'convolution_kernel_size': 3, 'fit_stopped_epoch2': 3, 'model_id': 84, 'fit_val_loss': 0.19923127939613383, 'pretrained_model_name': 'vgg16', 'pooling': 'max', 'data_total_rows_test': 3139, 'verbose': True, 'fit_num_epochs': 14, 'fit_test_acc': 0.6565785281936922, 'dropout': 0.2}\n",
      "2019-01-20 13:30:26,423 [MainThread  ] [INFO ]  model 84 test acc: 0.6565785281936922\n",
      "2019-01-20 13:30:26,657 [MainThread  ] [INFO ]  Begin experiment for model_id=92 on GPU:4 \n",
      "2019-01-20 13:30:26,659 [MainThread  ] [INFO ]  Loading data\n"
     ]
    },
    {
     "name": "stdout",
     "output_type": "stream",
     "text": [
      "92   XXXXXXXXXXXXXXXXXXXXXXXXXXXXXXXXXXXXXXXXXXXXXXXXXXXXXXXXXXXX\n",
      "{'layer_2_size': 0, 'sequence_length': 1.0, 'layer_1_size': 256, 'sequence_model': nan, 'model_id': 92, 'pretrained_model_name': 'vgg16', 'architecture': 'image_MLP_frozen', 'layer_3_size': 512, 'sequence_model_layers': nan, 'pooling': 'max', 'WORKER': 4, 'dropout': 0.2}\n"
     ]
    },
    {
     "name": "stderr",
     "output_type": "stream",
     "text": [
      "2019-01-20 13:30:27,708 [MainThread  ] [INFO ]  Features already cached: /mnt/seals/cache/features/vgg16/max/\n",
      "2019-01-20 13:30:27,710 [MainThread  ] [INFO ]  Loading features data into memory [may take a few minutes]\n"
     ]
    },
    {
     "name": "stdout",
     "output_type": "stream",
     "text": [
      "Done initializing data with #samples: train=60597, valid=6416, test=3139\n",
      "Train on 60597 samples, validate on 6416 samples\n",
      "Epoch 1/20\n",
      "60597/60597 [==============================] - 11s 179us/step - loss: 0.3316 - acc: 0.9309 - val_loss: 0.2144 - val_acc: 0.9166\n",
      "\n",
      "Epoch 00001: val_acc improved from -inf to 0.91659, saving model to /mnt/seals/models/92/model_round_1.h5\n",
      "Epoch 2/20\n",
      "60597/60597 [==============================] - 10s 166us/step - loss: 0.1239 - acc: 0.9506 - val_loss: 0.1762 - val_acc: 0.9323\n",
      "\n",
      "Epoch 00002: val_acc improved from 0.91659 to 0.93231, saving model to /mnt/seals/models/92/model_round_1.h5\n",
      "Epoch 3/20\n",
      "60597/60597 [==============================] - 10s 167us/step - loss: 0.1133 - acc: 0.9545 - val_loss: 0.1709 - val_acc: 0.9313\n",
      "\n",
      "Epoch 00003: val_acc did not improve from 0.93231\n",
      "Epoch 4/20\n",
      "60597/60597 [==============================] - 10s 167us/step - loss: 0.1080 - acc: 0.9566 - val_loss: 0.2051 - val_acc: 0.9196\n",
      "\n",
      "Epoch 00004: val_acc did not improve from 0.93231\n",
      "Epoch 5/20\n",
      "60597/60597 [==============================] - 10s 167us/step - loss: 0.1034 - acc: 0.9581 - val_loss: 0.1860 - val_acc: 0.9355\n",
      "\n",
      "Epoch 00005: val_acc improved from 0.93231 to 0.93554, saving model to /mnt/seals/models/92/model_round_1.h5\n",
      "Epoch 6/20\n",
      "60597/60597 [==============================] - 10s 167us/step - loss: 0.0999 - acc: 0.9597 - val_loss: 0.1873 - val_acc: 0.9398\n",
      "\n",
      "Epoch 00006: val_acc improved from 0.93554 to 0.93982, saving model to /mnt/seals/models/92/model_round_1.h5\n",
      "Epoch 7/20\n",
      "60597/60597 [==============================] - 10s 167us/step - loss: 0.0969 - acc: 0.9608 - val_loss: 0.1883 - val_acc: 0.9356\n",
      "\n",
      "Epoch 00007: val_acc did not improve from 0.93982\n",
      "Epoch 8/20\n",
      "60597/60597 [==============================] - 10s 167us/step - loss: 0.0935 - acc: 0.9623 - val_loss: 0.1884 - val_acc: 0.9347\n",
      "\n",
      "Epoch 00008: val_acc did not improve from 0.93982\n",
      "Epoch 9/20\n",
      "60597/60597 [==============================] - 10s 166us/step - loss: 0.0928 - acc: 0.9626 - val_loss: 0.1850 - val_acc: 0.9387\n",
      "\n",
      "Epoch 00009: val_acc did not improve from 0.93982\n",
      "H1 {'val_loss': [0.21438496476248314, 0.17616546150306217, 0.1708768104525873, 0.20508742611158517, 0.18604076127904906, 0.18732083668732583, 0.18832418547381188, 0.18844563159116187, 0.18499366444839802], 'val_acc': [0.9165924686446154, 0.9323120952544367, 0.9312878647944577, 0.9195760729306951, 0.9355406309303798, 0.9398156559080851, 0.9355851610997074, 0.9347390635055199, 0.9386578380615634], 'loss': [0.331609536196876, 0.12386504974703916, 0.11330765605212352, 0.10797515237684216, 0.10340198104025726, 0.09986675937498832, 0.09687187441008999, 0.09354082430718919, 0.09280669241691164], 'acc': [0.93093483638104, 0.9505869149768293, 0.9545380773437214, 0.9566315318663989, 0.958093177970865, 0.959719849502926, 0.9608302292728262, 0.9622706591759365, 0.9626266405686967]}\n",
      "stopped_epoch1 6\n",
      "9\n",
      "0.9355851610997074\n",
      "Train on 60597 samples, validate on 6416 samples\n",
      "Epoch 1/20\n",
      "60597/60597 [==============================] - 11s 179us/step - loss: 0.0771 - acc: 0.9683 - val_loss: 0.1895 - val_acc: 0.9364\n",
      "\n",
      "Epoch 00001: val_acc improved from -inf to 0.93639, saving model to /mnt/seals/models/92/model_round_2.h5\n",
      "Epoch 2/20\n",
      "60597/60597 [==============================] - 10s 168us/step - loss: 0.0734 - acc: 0.9698 - val_loss: 0.2016 - val_acc: 0.9318\n",
      "\n",
      "Epoch 00002: val_acc did not improve from 0.93639\n",
      "Epoch 3/20\n",
      "60597/60597 [==============================] - 10s 168us/step - loss: 0.0726 - acc: 0.9702 - val_loss: 0.1921 - val_acc: 0.9352\n",
      "\n",
      "Epoch 00003: val_acc did not improve from 0.93639\n",
      "Epoch 4/20\n",
      "60597/60597 [==============================] - 10s 167us/step - loss: 0.0712 - acc: 0.9705 - val_loss: 0.2011 - val_acc: 0.9324\n",
      "\n",
      "Epoch 00004: val_acc did not improve from 0.93639\n",
      "H2 {'val_loss': [0.18951732999740395, 0.20162446291518032, 0.19208046071175625, 0.2011387875289691], 'val_acc': [0.9363867312000874, 0.9318222488251113, 0.9352289099348453, 0.9324011576740522], 'loss': [0.07707579885868494, 0.07338871980783082, 0.07260247332650088, 0.07117588201144494], 'acc': [0.9683270624671999, 0.9697839934613395, 0.9702248457953673, 0.9705360348528344]}\n",
      "stopped_epoch2 1\n",
      "4\n",
      "0.9318222488251113\n",
      "Train on 60597 samples, validate on 6416 samples\n",
      "Epoch 1/20\n",
      "60597/60597 [==============================] - 11s 184us/step - loss: 0.0694 - acc: 0.9712 - val_loss: 0.2018 - val_acc: 0.9354\n",
      "\n",
      "Epoch 00001: val_acc improved from -inf to 0.93541, saving model to /mnt/seals/models/92/model_round_3.h5\n",
      "Epoch 2/20\n",
      "60597/60597 [==============================] - 10s 169us/step - loss: 0.0690 - acc: 0.9710 - val_loss: 0.2013 - val_acc: 0.9353\n",
      "\n",
      "Epoch 00002: val_acc did not improve from 0.93541\n",
      "Epoch 3/20\n",
      "60597/60597 [==============================] - 10s 169us/step - loss: 0.0686 - acc: 0.9712 - val_loss: 0.2009 - val_acc: 0.9351\n",
      "\n",
      "Epoch 00003: val_acc did not improve from 0.93541\n",
      "Epoch 4/20\n",
      "60597/60597 [==============================] - 10s 169us/step - loss: 0.0685 - acc: 0.9714 - val_loss: 0.2017 - val_acc: 0.9344\n",
      "\n",
      "Epoch 00004: val_acc did not improve from 0.93541\n",
      "H3 {'val_loss': [0.20181155725012992, 0.20131887774217752, 0.20088995688425335, 0.2017235791036613], 'val_acc': [0.9354070373009565, 0.9352957097966772, 0.9350730506261983, 0.9344273432531857], 'loss': [0.06938003630423752, 0.06900945912277466, 0.06857623282838368, 0.06854143344571745], 'acc': [0.9712079216802955, 0.971012249035924, 0.9712220674853814, 0.9714413127747771]}\n",
      "stopped_epoch3 1\n",
      "4\n",
      "0.9352957097966772\n",
      "best fit round 1 0.9355851610997074\n",
      "3139/3139 [==============================] - 0s 121us/step\n"
     ]
    },
    {
     "name": "stderr",
     "output_type": "stream",
     "text": [
      "2019-01-20 13:33:33,071 [MainThread  ] [INFO ]  {'fit_stopped_epoch3': 1, 'sequence_model': nan, 'num_features': 512, 'data_total_rows_valid': 6416, 'batch_size': 32, 'fit_dt_test_end': '2019-01-20 13:33:31', 'path_model': '/mnt/seals/models/92/', 'fit_train_loss': 0.09687187441008999, 'data_total_rows_train': 60597, 'fit_dt_test_start': '2019-01-20 13:33:30', 'architecture': 'image_mlp_frozen', 'layer_3_size': 512, 'fit_dt_test_duration_seconds': '0', 'fit_dt_train_end': '2019-01-20 13:33:29', 'sequence_model_layers': nan, 'layer_2_size': 0, 'model_weights_path': None, 'fit_dt_train_start': '2019-01-20 13:30:28', 'fit_stopped_epoch1': 6, 'sequence_length': 1.0, 'model_param_count': 133127, 'fit_val_acc': 0.9355851610997074, 'layer_1_size': 256, 'fit_best_round': 1, 'frame_size': (224, 224), 'fit_dt_train_duration_seconds': '181', 'fit_train_acc': 0.9608302292728262, 'convolution_kernel_size': 3, 'fit_stopped_epoch2': 1, 'model_id': 92, 'fit_val_loss': 0.18832418547381188, 'pretrained_model_name': 'vgg16', 'pooling': 'max', 'data_total_rows_test': 3139, 'verbose': True, 'fit_num_epochs': 11, 'fit_test_acc': 0.6782414781777637, 'dropout': 0.2}\n",
      "2019-01-20 13:33:33,073 [MainThread  ] [INFO ]  model 92 test acc: 0.6782414781777637\n",
      "2019-01-20 13:33:33,414 [MainThread  ] [INFO ]  Begin experiment for model_id=100 on GPU:4 \n",
      "2019-01-20 13:33:33,418 [MainThread  ] [INFO ]  Loading data\n"
     ]
    },
    {
     "name": "stdout",
     "output_type": "stream",
     "text": [
      "100   XXXXXXXXXXXXXXXXXXXXXXXXXXXXXXXXXXXXXXXXXXXXXXXXXXXXXXXXXXXX\n",
      "{'layer_2_size': 256, 'sequence_length': 1.0, 'layer_1_size': 128, 'sequence_model': nan, 'model_id': 100, 'pretrained_model_name': 'vgg16', 'architecture': 'image_MLP_frozen', 'layer_3_size': 512, 'sequence_model_layers': nan, 'pooling': 'max', 'WORKER': 4, 'dropout': 0.2}\n"
     ]
    },
    {
     "name": "stderr",
     "output_type": "stream",
     "text": [
      "2019-01-20 13:33:34,514 [MainThread  ] [INFO ]  Features already cached: /mnt/seals/cache/features/vgg16/max/\n",
      "2019-01-20 13:33:34,515 [MainThread  ] [INFO ]  Loading features data into memory [may take a few minutes]\n"
     ]
    },
    {
     "name": "stdout",
     "output_type": "stream",
     "text": [
      "Done initializing data with #samples: train=60597, valid=6416, test=3139\n",
      "Train on 60597 samples, validate on 6416 samples\n",
      "Epoch 1/20\n",
      "60597/60597 [==============================] - 15s 248us/step - loss: 0.1854 - acc: 0.9329 - val_loss: 0.1933 - val_acc: 0.9221\n",
      "\n",
      "Epoch 00001: val_acc improved from -inf to 0.92211, saving model to /mnt/seals/models/100/model_round_1.h5\n",
      "Epoch 2/20\n",
      "60597/60597 [==============================] - 14s 230us/step - loss: 0.1297 - acc: 0.9486 - val_loss: 0.1910 - val_acc: 0.9212\n",
      "\n",
      "Epoch 00002: val_acc did not improve from 0.92211\n",
      "Epoch 3/20\n",
      "60597/60597 [==============================] - 14s 225us/step - loss: 0.1198 - acc: 0.9532 - val_loss: 0.2212 - val_acc: 0.9151\n",
      "\n",
      "Epoch 00003: val_acc did not improve from 0.92211\n",
      "Epoch 4/20\n",
      "60597/60597 [==============================] - 14s 228us/step - loss: 0.1145 - acc: 0.9549 - val_loss: 0.1853 - val_acc: 0.9270\n",
      "\n",
      "Epoch 00004: val_acc improved from 0.92211 to 0.92701, saving model to /mnt/seals/models/100/model_round_1.h5\n",
      "Epoch 5/20\n",
      "60597/60597 [==============================] - 14s 231us/step - loss: 0.1093 - acc: 0.9571 - val_loss: 0.2158 - val_acc: 0.9218\n",
      "\n",
      "Epoch 00005: val_acc did not improve from 0.92701\n",
      "Epoch 6/20\n",
      "60597/60597 [==============================] - 14s 232us/step - loss: 0.1061 - acc: 0.9582 - val_loss: 0.1884 - val_acc: 0.9247\n",
      "\n",
      "Epoch 00006: val_acc did not improve from 0.92701\n",
      "Epoch 7/20\n",
      "60597/60597 [==============================] - 14s 229us/step - loss: 0.1039 - acc: 0.9591 - val_loss: 0.1936 - val_acc: 0.9255\n",
      "\n",
      "Epoch 00007: val_acc did not improve from 0.92701\n",
      "H1 {'val_loss': [0.19334608520801524, 0.19099618932998685, 0.22115800074508363, 0.18526682625536312, 0.2157982111051493, 0.18844827136345338, 0.19363663213657323], 'val_acc': [0.9221143814690987, 0.9211569536951117, 0.9151006599614151, 0.9270128454650727, 0.921802656014364, 0.924652673062541, 0.925454244649321], 'loss': [0.18536192739785148, 0.1296510621685241, 0.11977687745955402, 0.11453838181797246, 0.10925183206834024, 0.10607920675576672, 0.10387970970751365], 'acc': [0.9328585517950014, 0.9486136922844645, 0.9531707292486619, 0.9549364939169465, 0.9570582386127217, 0.9581921924253752, 0.9591021853868235]}\n",
      "stopped_epoch1 4\n",
      "7\n",
      "0.921802656014364\n",
      "Train on 60597 samples, validate on 6416 samples\n",
      "Epoch 1/20\n",
      "60597/60597 [==============================] - 15s 254us/step - loss: 0.0880 - acc: 0.9645 - val_loss: 0.2017 - val_acc: 0.9299\n",
      "\n",
      "Epoch 00001: val_acc improved from -inf to 0.92993, saving model to /mnt/seals/models/100/model_round_2.h5\n",
      "Epoch 2/20\n",
      "60597/60597 [==============================] - 14s 230us/step - loss: 0.0843 - acc: 0.9659 - val_loss: 0.2088 - val_acc: 0.9285\n",
      "\n",
      "Epoch 00002: val_acc did not improve from 0.92993\n",
      "Epoch 3/20\n",
      "60597/60597 [==============================] - 14s 231us/step - loss: 0.0826 - acc: 0.9665 - val_loss: 0.2043 - val_acc: 0.9296\n",
      "\n",
      "Epoch 00003: val_acc did not improve from 0.92993\n",
      "Epoch 4/20\n",
      "60597/60597 [==============================] - 14s 230us/step - loss: 0.0813 - acc: 0.9669 - val_loss: 0.2077 - val_acc: 0.9286\n",
      "\n",
      "Epoch 00004: val_acc did not improve from 0.92993\n",
      "H2 {'val_loss': [0.20167164950448083, 0.20877988773985695, 0.20432043086709525, 0.20770002842098104], 'val_acc': [0.9299296588077213, 0.9285491783720002, 0.9296179357312266, 0.9285937132978083], 'loss': [0.088038331263935, 0.08425568861533891, 0.08258803946264826, 0.0813418185520625], 'acc': [0.9644867029955637, 0.9659200598171116, 0.9665471552309349, 0.9668701298776227]}\n",
      "stopped_epoch2 1\n",
      "4\n",
      "0.9285491783720002\n",
      "Train on 60597 samples, validate on 6416 samples\n",
      "Epoch 1/20\n",
      "60597/60597 [==============================] - 15s 252us/step - loss: 0.0791 - acc: 0.9675 - val_loss: 0.2117 - val_acc: 0.9281\n",
      "\n",
      "Epoch 00001: val_acc improved from -inf to 0.92815, saving model to /mnt/seals/models/100/model_round_3.h5\n",
      "Epoch 2/20\n",
      "60597/60597 [==============================] - 14s 227us/step - loss: 0.0787 - acc: 0.9676 - val_loss: 0.2150 - val_acc: 0.9275\n",
      "\n",
      "Epoch 00002: val_acc did not improve from 0.92815\n",
      "Epoch 3/20\n",
      "60597/60597 [==============================] - 14s 230us/step - loss: 0.0787 - acc: 0.9677 - val_loss: 0.2159 - val_acc: 0.9276\n",
      "\n",
      "Epoch 00003: val_acc did not improve from 0.92815\n",
      "Epoch 4/20\n",
      "60597/60597 [==============================] - 14s 227us/step - loss: 0.0790 - acc: 0.9675 - val_loss: 0.2149 - val_acc: 0.9272\n",
      "\n",
      "Epoch 00004: val_acc did not improve from 0.92815\n",
      "H3 {'val_loss': [0.21173862759906456, 0.2149984435621937, 0.21589376645492497, 0.2149177098512055], 'val_acc': [0.9281483961459704, 0.9275472201314056, 0.9276140183581973, 0.9271909656964633], 'loss': [0.07907528016007234, 0.07867522929817572, 0.07874367566855825, 0.07896704273700285], 'acc': [0.9674595044767046, 0.9676386743254269, 0.967662249331148, 0.9674595047688408]}\n",
      "stopped_epoch3 1\n",
      "4\n",
      "0.9275472201314056\n",
      "best fit round 2 0.9285491783720002\n",
      "3139/3139 [==============================] - 1s 163us/step\n"
     ]
    },
    {
     "name": "stderr",
     "output_type": "stream",
     "text": [
      "2019-01-20 13:37:20,987 [MainThread  ] [INFO ]  {'fit_stopped_epoch3': 1, 'sequence_model': nan, 'num_features': 512, 'data_total_rows_valid': 6416, 'batch_size': 32, 'fit_dt_test_end': '2019-01-20 13:37:19', 'path_model': '/mnt/seals/models/100/', 'fit_train_loss': 0.08425568861533891, 'data_total_rows_train': 60597, 'fit_dt_test_start': '2019-01-20 13:37:18', 'architecture': 'image_mlp_frozen', 'layer_3_size': 512, 'fit_dt_test_duration_seconds': '0', 'fit_dt_train_end': '2019-01-20 13:37:17', 'sequence_model_layers': nan, 'layer_2_size': 256, 'model_weights_path': None, 'fit_dt_train_start': '2019-01-20 13:33:35', 'fit_stopped_epoch1': 4, 'sequence_length': 1.0, 'model_param_count': 233863, 'fit_val_acc': 0.9285491783720002, 'layer_1_size': 128, 'fit_best_round': 2, 'frame_size': (224, 224), 'fit_dt_train_duration_seconds': '222', 'fit_train_acc': 0.9659200598171116, 'convolution_kernel_size': 3, 'fit_stopped_epoch2': 1, 'model_id': 100, 'fit_val_loss': 0.20877988773985695, 'pretrained_model_name': 'vgg16', 'pooling': 'max', 'data_total_rows_test': 3139, 'verbose': True, 'fit_num_epochs': 9, 'fit_test_acc': 0.6584899649569926, 'dropout': 0.2}\n",
      "2019-01-20 13:37:20,989 [MainThread  ] [INFO ]  model 100 test acc: 0.6584899649569926\n",
      "2019-01-20 13:37:21,360 [MainThread  ] [INFO ]  Begin experiment for model_id=108 on GPU:4 \n",
      "2019-01-20 13:37:21,362 [MainThread  ] [INFO ]  Loading data\n"
     ]
    },
    {
     "name": "stdout",
     "output_type": "stream",
     "text": [
      "108   XXXXXXXXXXXXXXXXXXXXXXXXXXXXXXXXXXXXXXXXXXXXXXXXXXXXXXXXXXXX\n",
      "{'layer_2_size': 0, 'sequence_length': 1.0, 'layer_1_size': 128, 'sequence_model': nan, 'model_id': 108, 'pretrained_model_name': 'vgg16', 'architecture': 'image_MLP_frozen', 'layer_3_size': 512, 'sequence_model_layers': nan, 'pooling': 'max', 'WORKER': 4, 'dropout': 0.2}\n"
     ]
    },
    {
     "name": "stderr",
     "output_type": "stream",
     "text": [
      "2019-01-20 13:37:22,457 [MainThread  ] [INFO ]  Features already cached: /mnt/seals/cache/features/vgg16/max/\n",
      "2019-01-20 13:37:22,458 [MainThread  ] [INFO ]  Loading features data into memory [may take a few minutes]\n"
     ]
    },
    {
     "name": "stdout",
     "output_type": "stream",
     "text": [
      "Done initializing data with #samples: train=60597, valid=6416, test=3139\n",
      "Train on 60597 samples, validate on 6416 samples\n",
      "Epoch 1/20\n",
      "60597/60597 [==============================] - 12s 196us/step - loss: 0.3289 - acc: 0.9244 - val_loss: 0.2310 - val_acc: 0.9090\n",
      "\n",
      "Epoch 00001: val_acc improved from -inf to 0.90902, saving model to /mnt/seals/models/108/model_round_1.h5\n",
      "Epoch 2/20\n",
      "60597/60597 [==============================] - 10s 173us/step - loss: 0.1311 - acc: 0.9478 - val_loss: 0.1987 - val_acc: 0.9266\n",
      "\n",
      "Epoch 00002: val_acc improved from 0.90902 to 0.92657, saving model to /mnt/seals/models/108/model_round_1.h5\n",
      "Epoch 3/20\n",
      "60597/60597 [==============================] - 10s 172us/step - loss: 0.1209 - acc: 0.9516 - val_loss: 0.1848 - val_acc: 0.9352\n",
      "\n",
      "Epoch 00003: val_acc improved from 0.92657 to 0.93521, saving model to /mnt/seals/models/108/model_round_1.h5\n",
      "Epoch 4/20\n",
      "60597/60597 [==============================] - 10s 173us/step - loss: 0.1140 - acc: 0.9541 - val_loss: 0.1860 - val_acc: 0.9356\n",
      "\n",
      "Epoch 00004: val_acc improved from 0.93521 to 0.93563, saving model to /mnt/seals/models/108/model_round_1.h5\n",
      "Epoch 5/20\n",
      "60597/60597 [==============================] - 10s 173us/step - loss: 0.1092 - acc: 0.9558 - val_loss: 0.1823 - val_acc: 0.9316\n",
      "\n",
      "Epoch 00005: val_acc did not improve from 0.93563\n",
      "Epoch 6/20\n",
      "60597/60597 [==============================] - 10s 173us/step - loss: 0.1049 - acc: 0.9577 - val_loss: 0.1808 - val_acc: 0.9310\n",
      "\n",
      "Epoch 00006: val_acc did not improve from 0.93563\n",
      "Epoch 7/20\n",
      "60597/60597 [==============================] - 11s 173us/step - loss: 0.1022 - acc: 0.9589 - val_loss: 0.2122 - val_acc: 0.9216\n",
      "\n",
      "Epoch 00007: val_acc did not improve from 0.93563\n",
      "H1 {'val_loss': [0.23098417789561493, 0.19868669370909284, 0.1847843375066272, 0.18600851572362562, 0.1823405770589586, 0.18079411296029935, 0.2122360783399192], 'val_acc': [0.9090221035212948, 0.9265675280159549, 0.9352066466338617, 0.9356296933499952, 0.9315995914383125, 0.9309761506363639, 0.9215799983302851], 'loss': [0.3288667258104204, 0.13112266202427847, 0.12094320569529889, 0.11398271960922146, 0.10920076891894245, 0.10493571131564265, 0.10216290433226788], 'acc': [0.9244352209510384, 0.9477579211038668, 0.9516312852982616, 0.9540524326468591, 0.9557993362472696, 0.9577301233765402, 0.958927730707445]}\n",
      "stopped_epoch1 4\n",
      "7\n",
      "0.9315995914383125\n",
      "Train on 60597 samples, validate on 6416 samples\n",
      "Epoch 1/20\n",
      "60597/60597 [==============================] - 12s 197us/step - loss: 0.0891 - acc: 0.9636 - val_loss: 0.1853 - val_acc: 0.9345\n",
      "\n",
      "Epoch 00001: val_acc improved from -inf to 0.93447, saving model to /mnt/seals/models/108/model_round_2.h5\n",
      "Epoch 2/20\n",
      "60597/60597 [==============================] - 10s 173us/step - loss: 0.0864 - acc: 0.9647 - val_loss: 0.1943 - val_acc: 0.9298\n",
      "\n",
      "Epoch 00002: val_acc did not improve from 0.93447\n",
      "Epoch 3/20\n",
      "60597/60597 [==============================] - 10s 173us/step - loss: 0.0850 - acc: 0.9651 - val_loss: 0.1854 - val_acc: 0.9349\n",
      "\n",
      "Epoch 00003: val_acc improved from 0.93447 to 0.93485, saving model to /mnt/seals/models/108/model_round_2.h5\n",
      "Epoch 4/20\n",
      "60597/60597 [==============================] - 11s 174us/step - loss: 0.0846 - acc: 0.9654 - val_loss: 0.1875 - val_acc: 0.9377\n",
      "\n",
      "Epoch 00004: val_acc improved from 0.93485 to 0.93772, saving model to /mnt/seals/models/108/model_round_2.h5\n",
      "Epoch 5/20\n",
      "60597/60597 [==============================] - 11s 175us/step - loss: 0.0838 - acc: 0.9657 - val_loss: 0.1930 - val_acc: 0.9342\n",
      "\n",
      "Epoch 00005: val_acc did not improve from 0.93772\n",
      "Epoch 6/20\n",
      "60597/60597 [==============================] - 11s 175us/step - loss: 0.0833 - acc: 0.9658 - val_loss: 0.1977 - val_acc: 0.9325\n",
      "\n",
      "Epoch 00006: val_acc did not improve from 0.93772\n",
      "Epoch 7/20\n",
      "60597/60597 [==============================] - 11s 176us/step - loss: 0.0824 - acc: 0.9662 - val_loss: 0.1954 - val_acc: 0.9325\n",
      "\n",
      "Epoch 00007: val_acc did not improve from 0.93772\n",
      "H2 {'val_loss': [0.1853235236129856, 0.19432019644841886, 0.18539238696978277, 0.18748971715829615, 0.1929945110382879, 0.19773698533116432, 0.1953741832638619], 'val_acc': [0.9344718708956331, 0.9298183277360816, 0.9348503905638792, 0.93772267195352, 0.9341601512378588, 0.9324902202423077, 0.9324902223232678], 'loss': [0.08906759604346169, 0.0863862920619563, 0.08502837353725136, 0.08462097355406605, 0.08382380015373855, 0.0833484418158433, 0.08243965235277613], 'acc': [0.9635554925668361, 0.964698878026397, 0.9651185111560658, 0.9654179146056234, 0.9657385338699727, 0.9657715376710758, 0.9661581667163579]}\n",
      "stopped_epoch2 4\n",
      "7\n",
      "0.9341601512378588\n",
      "Train on 60597 samples, validate on 6416 samples\n",
      "Epoch 1/20\n",
      "60597/60597 [==============================] - 12s 200us/step - loss: 0.0808 - acc: 0.9668 - val_loss: 0.1929 - val_acc: 0.9351\n",
      "\n",
      "Epoch 00001: val_acc improved from -inf to 0.93514, saving model to /mnt/seals/models/108/model_round_3.h5\n",
      "Epoch 2/20\n",
      "60597/60597 [==============================] - 10s 173us/step - loss: 0.0800 - acc: 0.9669 - val_loss: 0.1947 - val_acc: 0.9348\n",
      "\n",
      "Epoch 00002: val_acc did not improve from 0.93514\n",
      "Epoch 3/20\n",
      "60597/60597 [==============================] - 11s 176us/step - loss: 0.0803 - acc: 0.9670 - val_loss: 0.1931 - val_acc: 0.9354\n",
      "\n",
      "Epoch 00003: val_acc improved from 0.93514 to 0.93543, saving model to /mnt/seals/models/108/model_round_3.h5\n",
      "Epoch 4/20\n",
      "60597/60597 [==============================] - 11s 175us/step - loss: 0.0799 - acc: 0.9668 - val_loss: 0.1958 - val_acc: 0.9351\n",
      "\n",
      "Epoch 00004: val_acc did not improve from 0.93543\n",
      "Epoch 5/20\n",
      "60597/60597 [==============================] - 11s 174us/step - loss: 0.0807 - acc: 0.9666 - val_loss: 0.1944 - val_acc: 0.9352\n",
      "\n",
      "Epoch 00005: val_acc did not improve from 0.93543\n",
      "Epoch 6/20\n",
      "60597/60597 [==============================] - 11s 174us/step - loss: 0.0798 - acc: 0.9674 - val_loss: 0.1952 - val_acc: 0.9342\n",
      "\n",
      "Epoch 00006: val_acc did not improve from 0.93543\n",
      "H3 {'val_loss': [0.19294148958531995, 0.19465980379658746, 0.19307174680387587, 0.1957745174888958, 0.1943783787197603, 0.1951852322479436], 'val_acc': [0.9351398458801897, 0.9347613282929037, 0.93542929777778, 0.9350953122921418, 0.9352066412828213, 0.9342269482755304], 'loss': [0.08077245714543099, 0.0799699004277896, 0.08030586811870531, 0.0798987588675718, 0.08071743592504074, 0.07981863309063786], 'acc': [0.9667522561837949, 0.966947928594064, 0.9669573578537165, 0.9668441976226454, 0.9665707287464661, 0.9673746348230005]}\n",
      "stopped_epoch3 3\n",
      "6\n",
      "0.9350953122921418\n",
      "best fit round 3 0.9350953122921418\n",
      "3139/3139 [==============================] - 1s 208us/step\n"
     ]
    },
    {
     "name": "stderr",
     "output_type": "stream",
     "text": [
      "2019-01-20 13:41:12,258 [MainThread  ] [INFO ]  {'fit_stopped_epoch3': 3, 'sequence_model': nan, 'num_features': 512, 'data_total_rows_valid': 6416, 'batch_size': 32, 'fit_dt_test_end': '2019-01-20 13:41:10', 'path_model': '/mnt/seals/models/108/', 'fit_train_loss': 0.0798987588675718, 'data_total_rows_train': 60597, 'fit_dt_test_start': '2019-01-20 13:41:09', 'architecture': 'image_mlp_frozen', 'layer_3_size': 512, 'fit_dt_test_duration_seconds': '0', 'fit_dt_train_end': '2019-01-20 13:41:08', 'sequence_model_layers': nan, 'layer_2_size': 0, 'model_weights_path': None, 'fit_dt_train_start': '2019-01-20 13:37:22', 'fit_stopped_epoch1': 4, 'sequence_length': 1.0, 'model_param_count': 66567, 'fit_val_acc': 0.9350953122921418, 'layer_1_size': 128, 'fit_best_round': 3, 'frame_size': (224, 224), 'fit_dt_train_duration_seconds': '225', 'fit_train_acc': 0.9668441976226454, 'convolution_kernel_size': 3, 'fit_stopped_epoch2': 4, 'model_id': 108, 'fit_val_loss': 0.1957745174888958, 'pretrained_model_name': 'vgg16', 'pooling': 'max', 'data_total_rows_test': 3139, 'verbose': True, 'fit_num_epochs': 14, 'fit_test_acc': 0.672188595093979, 'dropout': 0.2}\n",
      "2019-01-20 13:41:12,260 [MainThread  ] [INFO ]  model 108 test acc: 0.672188595093979\n",
      "2019-01-20 13:41:12,731 [MainThread  ] [INFO ]  Begin experiment for model_id=116 on GPU:4 \n",
      "2019-01-20 13:41:12,733 [MainThread  ] [INFO ]  Loading data\n"
     ]
    },
    {
     "name": "stdout",
     "output_type": "stream",
     "text": [
      "116   XXXXXXXXXXXXXXXXXXXXXXXXXXXXXXXXXXXXXXXXXXXXXXXXXXXXXXXXXXXX\n",
      "{'layer_2_size': 256, 'sequence_length': 1.0, 'layer_1_size': 0, 'sequence_model': nan, 'model_id': 116, 'pretrained_model_name': 'vgg16', 'architecture': 'image_MLP_frozen', 'layer_3_size': 512, 'sequence_model_layers': nan, 'pooling': 'max', 'WORKER': 4, 'dropout': 0.2}\n"
     ]
    },
    {
     "name": "stderr",
     "output_type": "stream",
     "text": [
      "2019-01-20 13:41:13,837 [MainThread  ] [INFO ]  Features already cached: /mnt/seals/cache/features/vgg16/max/\n",
      "2019-01-20 13:41:13,839 [MainThread  ] [INFO ]  Loading features data into memory [may take a few minutes]\n"
     ]
    },
    {
     "name": "stdout",
     "output_type": "stream",
     "text": [
      "Done initializing data with #samples: train=60597, valid=6416, test=3139\n",
      "Train on 60597 samples, validate on 6416 samples\n",
      "Epoch 1/20\n",
      "60597/60597 [==============================] - 10s 169us/step - loss: 0.4815 - acc: 0.9308 - val_loss: 0.5808 - val_acc: 0.9238\n",
      "\n",
      "Epoch 00001: val_acc improved from -inf to 0.92383, saving model to /mnt/seals/models/116/model_round_1.h5\n",
      "Epoch 2/20\n",
      "60597/60597 [==============================] - 9s 144us/step - loss: 0.3168 - acc: 0.9453 - val_loss: 0.5424 - val_acc: 0.9386\n",
      "\n",
      "Epoch 00002: val_acc improved from 0.92383 to 0.93857, saving model to /mnt/seals/models/116/model_round_1.h5\n",
      "Epoch 3/20\n",
      "60597/60597 [==============================] - 9s 145us/step - loss: 0.2822 - acc: 0.9480 - val_loss: 0.5059 - val_acc: 0.9386\n",
      "\n",
      "Epoch 00003: val_acc improved from 0.93857 to 0.93861, saving model to /mnt/seals/models/116/model_round_1.h5\n",
      "Epoch 4/20\n",
      "60597/60597 [==============================] - 9s 145us/step - loss: 0.2694 - acc: 0.9492 - val_loss: 0.8064 - val_acc: 0.8932\n",
      "\n",
      "Epoch 00004: val_acc did not improve from 0.93861\n",
      "Epoch 5/20\n",
      "60597/60597 [==============================] - 9s 146us/step - loss: 0.2598 - acc: 0.9507 - val_loss: 0.5780 - val_acc: 0.9217\n",
      "\n",
      "Epoch 00005: val_acc did not improve from 0.93861\n",
      "Epoch 6/20\n",
      "60597/60597 [==============================] - 9s 144us/step - loss: 0.2567 - acc: 0.9509 - val_loss: 0.7524 - val_acc: 0.8994\n",
      "\n",
      "Epoch 00006: val_acc did not improve from 0.93861\n",
      "H1 {'val_loss': [0.580790388353745, 0.5423537879959306, 0.5058714138004845, 0.806413970088721, 0.5780092564381268, 0.7523650411061218], 'val_acc': [0.9238288459040578, 0.938568776979708, 0.9386133089327158, 0.8932356798738018, 0.9217358625440526, 0.8993587673750899], 'loss': [0.48154828774743536, 0.3168432629873676, 0.2821898744680021, 0.2694445936309939, 0.2597540953429012, 0.2567383779837833], 'acc': [0.9307981017954069, 0.9453462036444409, 0.9480384638012936, 0.9492195701070718, 0.9507118627250235, 0.950872172958684]}\n",
      "stopped_epoch1 3\n",
      "6\n",
      "0.8932356798738018\n",
      "Train on 60597 samples, validate on 6416 samples\n",
      "Epoch 1/20\n",
      "60597/60597 [==============================] - 10s 172us/step - loss: 0.1975 - acc: 0.9592 - val_loss: 0.5131 - val_acc: 0.9208\n",
      "\n",
      "Epoch 00001: val_acc improved from -inf to 0.92078, saving model to /mnt/seals/models/116/model_round_2.h5\n",
      "Epoch 2/20\n",
      "60597/60597 [==============================] - 9s 146us/step - loss: 0.1858 - acc: 0.9599 - val_loss: 0.4845 - val_acc: 0.9244\n",
      "\n",
      "Epoch 00002: val_acc improved from 0.92078 to 0.92439, saving model to /mnt/seals/models/116/model_round_2.h5\n",
      "Epoch 3/20\n",
      "60597/60597 [==============================] - 9s 146us/step - loss: 0.1802 - acc: 0.9600 - val_loss: 0.4685 - val_acc: 0.9229\n",
      "\n",
      "Epoch 00003: val_acc did not improve from 0.92439\n",
      "Epoch 4/20\n",
      "60597/60597 [==============================] - 9s 146us/step - loss: 0.1757 - acc: 0.9602 - val_loss: 0.4366 - val_acc: 0.9345\n",
      "\n",
      "Epoch 00004: val_acc improved from 0.92439 to 0.93452, saving model to /mnt/seals/models/116/model_round_2.h5\n",
      "Epoch 5/20\n",
      "60597/60597 [==============================] - 9s 146us/step - loss: 0.1724 - acc: 0.9602 - val_loss: 0.4401 - val_acc: 0.9262\n",
      "\n",
      "Epoch 00005: val_acc did not improve from 0.93452\n",
      "Epoch 6/20\n",
      "60597/60597 [==============================] - 9s 146us/step - loss: 0.1695 - acc: 0.9602 - val_loss: 0.4091 - val_acc: 0.9328\n",
      "\n",
      "Epoch 00006: val_acc did not improve from 0.93452\n",
      "Epoch 7/20\n",
      "60597/60597 [==============================] - 9s 145us/step - loss: 0.1671 - acc: 0.9601 - val_loss: 0.4257 - val_acc: 0.9242\n",
      "\n",
      "Epoch 00007: val_acc did not improve from 0.93452\n",
      "H2 {'val_loss': [0.5131283858024569, 0.4845436982383157, 0.46848753659505205, 0.4366158502283239, 0.44011474257692734, 0.4090561378849415, 0.4257401156603844], 'val_acc': [0.9207784317972654, 0.9243854861009745, 0.9228714136708704, 0.9345164093888014, 0.9261667481681652, 0.9327796807610186, 0.9242296272382474], 'loss': [0.19751257536531416, 0.18581490318305044, 0.18018307428709265, 0.17570944746169115, 0.17235464267034936, 0.16947084964541378, 0.16714248350500727], 'acc': [0.9591611248344384, 0.9599320236858756, 0.9599933198978203, 0.9601937052937887, 0.960181918173066, 0.9602479290290994, 0.9601465564282682]}\n",
      "stopped_epoch2 4\n",
      "7\n",
      "0.9261667481681652\n",
      "Train on 60597 samples, validate on 6416 samples\n",
      "Epoch 1/20\n",
      "60597/60597 [==============================] - 10s 173us/step - loss: 0.1598 - acc: 0.9616 - val_loss: 0.4181 - val_acc: 0.9269\n",
      "\n",
      "Epoch 00001: val_acc improved from -inf to 0.92686, saving model to /mnt/seals/models/116/model_round_3.h5\n",
      "Epoch 2/20\n",
      "60597/60597 [==============================] - 9s 145us/step - loss: 0.1591 - acc: 0.9618 - val_loss: 0.4141 - val_acc: 0.9272\n",
      "\n",
      "Epoch 00002: val_acc improved from 0.92686 to 0.92717, saving model to /mnt/seals/models/116/model_round_3.h5\n",
      "Epoch 3/20\n",
      "60597/60597 [==============================] - 9s 145us/step - loss: 0.1587 - acc: 0.9619 - val_loss: 0.4124 - val_acc: 0.9292\n",
      "\n",
      "Epoch 00003: val_acc improved from 0.92717 to 0.92922, saving model to /mnt/seals/models/116/model_round_3.h5\n",
      "Epoch 4/20\n",
      "60597/60597 [==============================] - 9s 144us/step - loss: 0.1585 - acc: 0.9617 - val_loss: 0.4102 - val_acc: 0.9280\n",
      "\n",
      "Epoch 00004: val_acc did not improve from 0.92922\n",
      "Epoch 5/20\n",
      "60597/60597 [==============================] - 9s 145us/step - loss: 0.1582 - acc: 0.9620 - val_loss: 0.4085 - val_acc: 0.9277\n",
      "\n",
      "Epoch 00005: val_acc did not improve from 0.92922\n",
      "Epoch 6/20\n",
      "60597/60597 [==============================] - 9s 145us/step - loss: 0.1578 - acc: 0.9620 - val_loss: 0.4091 - val_acc: 0.9266\n",
      "\n",
      "Epoch 00006: val_acc did not improve from 0.92922\n",
      "H3 {'val_loss': [0.4181489825174398, 0.41412578002918987, 0.41237344178475643, 0.41020760129663414, 0.4085337469108087, 0.40914120460091685], 'val_acc': [0.9268569857105056, 0.92716870700332, 0.9292171581130373, 0.9280370714658513, 0.9277253513621571, 0.9266120620499227], 'loss': [0.15982392810082588, 0.15910808038116062, 0.15874307565745782, 0.15846515114338153, 0.1581755617951695, 0.15780004517407314], 'acc': [0.961605845069048, 0.9618392375051923, 0.9618769565877725, 0.9617425789533575, 0.9619948311698124, 0.9619901160939128]}\n",
      "stopped_epoch3 3\n",
      "6\n",
      "0.9280370714658513\n",
      "best fit round 3 0.9280370714658513\n",
      "3139/3139 [==============================] - 1s 225us/step\n"
     ]
    },
    {
     "name": "stderr",
     "output_type": "stream",
     "text": [
      "2019-01-20 13:44:20,710 [MainThread  ] [INFO ]  {'fit_stopped_epoch3': 3, 'sequence_model': nan, 'num_features': 512, 'data_total_rows_valid': 6416, 'batch_size': 32, 'fit_dt_test_end': '2019-01-20 13:44:18', 'path_model': '/mnt/seals/models/116/', 'fit_train_loss': 0.15846515114338153, 'data_total_rows_train': 60597, 'fit_dt_test_start': '2019-01-20 13:44:18', 'architecture': 'image_mlp_frozen', 'layer_3_size': 512, 'fit_dt_test_duration_seconds': '0', 'fit_dt_train_end': '2019-01-20 13:44:16', 'sequence_model_layers': nan, 'layer_2_size': 256, 'model_weights_path': None, 'fit_dt_train_start': '2019-01-20 13:41:14', 'fit_stopped_epoch1': 3, 'sequence_length': 1.0, 'model_param_count': 0, 'fit_val_acc': 0.9280370714658513, 'layer_1_size': 0, 'fit_best_round': 3, 'frame_size': (224, 224), 'fit_dt_train_duration_seconds': '182', 'fit_train_acc': 0.9617425789533575, 'convolution_kernel_size': 3, 'fit_stopped_epoch2': 4, 'model_id': 116, 'fit_val_loss': 0.41020760129663414, 'pretrained_model_name': 'vgg16', 'pooling': 'max', 'data_total_rows_test': 3139, 'verbose': True, 'fit_num_epochs': 13, 'fit_test_acc': 0.627906976744186, 'dropout': 0.2}\n",
      "2019-01-20 13:44:20,711 [MainThread  ] [INFO ]  model 116 test acc: 0.627906976744186\n",
      "2019-01-20 13:44:21,207 [MainThread  ] [INFO ]  Begin experiment for model_id=124 on GPU:4 \n",
      "2019-01-20 13:44:21,209 [MainThread  ] [INFO ]  Loading data\n"
     ]
    },
    {
     "name": "stdout",
     "output_type": "stream",
     "text": [
      "124   XXXXXXXXXXXXXXXXXXXXXXXXXXXXXXXXXXXXXXXXXXXXXXXXXXXXXXXXXXXX\n",
      "{'layer_2_size': 0, 'sequence_length': 1.0, 'layer_1_size': 0, 'sequence_model': nan, 'model_id': 124, 'pretrained_model_name': 'vgg16', 'architecture': 'image_MLP_frozen', 'layer_3_size': 512, 'sequence_model_layers': nan, 'pooling': 'max', 'WORKER': 4, 'dropout': 0.2}\n"
     ]
    },
    {
     "name": "stderr",
     "output_type": "stream",
     "text": [
      "2019-01-20 13:44:22,306 [MainThread  ] [INFO ]  Features already cached: /mnt/seals/cache/features/vgg16/max/\n",
      "2019-01-20 13:44:22,308 [MainThread  ] [INFO ]  Loading features data into memory [may take a few minutes]\n"
     ]
    },
    {
     "name": "stdout",
     "output_type": "stream",
     "text": [
      "Done initializing data with #samples: train=60597, valid=6416, test=3139\n",
      "Train on 60597 samples, validate on 6416 samples\n",
      "Epoch 1/20\n",
      "60597/60597 [==============================] - 10s 173us/step - loss: 0.4985 - acc: 0.9298 - val_loss: 0.7912 - val_acc: 0.9036\n",
      "\n",
      "Epoch 00001: val_acc improved from -inf to 0.90361, saving model to /mnt/seals/models/124/model_round_1.h5\n",
      "Epoch 2/20\n",
      "60597/60597 [==============================] - 9s 147us/step - loss: 0.3212 - acc: 0.9455 - val_loss: 0.6938 - val_acc: 0.9096\n",
      "\n",
      "Epoch 00002: val_acc improved from 0.90361 to 0.90962, saving model to /mnt/seals/models/124/model_round_1.h5\n",
      "Epoch 3/20\n",
      "60597/60597 [==============================] - 9s 148us/step - loss: 0.2905 - acc: 0.9480 - val_loss: 0.8145 - val_acc: 0.8972\n",
      "\n",
      "Epoch 00003: val_acc did not improve from 0.90962\n",
      "Epoch 4/20\n",
      "60597/60597 [==============================] - 9s 146us/step - loss: 0.2645 - acc: 0.9505 - val_loss: 0.5996 - val_acc: 0.9180\n",
      "\n",
      "Epoch 00004: val_acc improved from 0.90962 to 0.91802, saving model to /mnt/seals/models/124/model_round_1.h5\n",
      "Epoch 5/20\n",
      "60597/60597 [==============================] - 9s 149us/step - loss: 0.2639 - acc: 0.9501 - val_loss: 0.5486 - val_acc: 0.9181\n",
      "\n",
      "Epoch 00005: val_acc improved from 0.91802 to 0.91808, saving model to /mnt/seals/models/124/model_round_1.h5\n",
      "Epoch 6/20\n",
      "60597/60597 [==============================] - 9s 147us/step - loss: 0.2576 - acc: 0.9510 - val_loss: 0.6353 - val_acc: 0.9099\n",
      "\n",
      "Epoch 00006: val_acc did not improve from 0.91808\n",
      "Epoch 7/20\n",
      "60597/60597 [==============================] - 9s 146us/step - loss: 0.2567 - acc: 0.9513 - val_loss: 0.7090 - val_acc: 0.9043\n",
      "\n",
      "Epoch 00007: val_acc did not improve from 0.91808\n",
      "Epoch 8/20\n",
      "60597/60597 [==============================] - 9s 147us/step - loss: 0.2553 - acc: 0.9516 - val_loss: 0.5887 - val_acc: 0.9300\n",
      "\n",
      "Epoch 00008: val_acc improved from 0.91808 to 0.92997, saving model to /mnt/seals/models/124/model_round_1.h5\n",
      "Epoch 9/20\n",
      "60597/60597 [==============================] - 9s 145us/step - loss: 0.2526 - acc: 0.9516 - val_loss: 0.6850 - val_acc: 0.9040\n",
      "\n",
      "Epoch 00009: val_acc did not improve from 0.92997\n",
      "Epoch 10/20\n",
      "60597/60597 [==============================] - 9s 146us/step - loss: 0.2507 - acc: 0.9520 - val_loss: 0.6588 - val_acc: 0.9153\n",
      "\n",
      "Epoch 00010: val_acc did not improve from 0.92997\n",
      "Epoch 11/20\n",
      "60597/60597 [==============================] - 9s 146us/step - loss: 0.2599 - acc: 0.9512 - val_loss: 0.6274 - val_acc: 0.9149\n",
      "\n",
      "Epoch 00011: val_acc did not improve from 0.92997\n",
      "H1 {'val_loss': [0.791183353362238, 0.6938140000637035, 0.8144744659897097, 0.5996423846765646, 0.5486218721937954, 0.6352525003384474, 0.7089828200025154, 0.5887236006539361, 0.6850050687046717, 0.6588222487757628, 0.6273724384735945], 'val_acc': [0.9036115257817313, 0.90962328384642, 0.8971544536866451, 0.9180174798442241, 0.9180842762873357, 0.9099350052878744, 0.9042794971989278, 0.929974191058009, 0.9040123096428012, 0.9152787928272067, 0.9149448060038083], 'loss': [0.49846429412061255, 0.3211669349066662, 0.2904530900478892, 0.26454047902006794, 0.2638720517226614, 0.25757615186995414, 0.2566749355469958, 0.25526694601033845, 0.25260162073674686, 0.2507285983472527, 0.2599153693796202], 'acc': [0.9297914523418318, 0.9455442342167689, 0.9480478946632691, 0.9505421238277864, 0.9500564795007665, 0.951006550232109, 0.9513248122068735, 0.9515841359242077, 0.9516147842475609, 0.9520037699607775, 0.951211652206954]}\n",
      "stopped_epoch1 8\n",
      "11\n",
      "0.9040123096428012\n",
      "Train on 60597 samples, validate on 6416 samples\n",
      "Epoch 1/20\n",
      "60597/60597 [==============================] - 11s 176us/step - loss: 0.1977 - acc: 0.9599 - val_loss: 0.5145 - val_acc: 0.9216\n",
      "\n",
      "Epoch 00001: val_acc improved from -inf to 0.92165, saving model to /mnt/seals/models/124/model_round_2.h5\n",
      "Epoch 2/20\n",
      "60597/60597 [==============================] - 9s 146us/step - loss: 0.1874 - acc: 0.9606 - val_loss: 0.5117 - val_acc: 0.9172\n",
      "\n",
      "Epoch 00002: val_acc did not improve from 0.92165\n",
      "Epoch 3/20\n",
      "60597/60597 [==============================] - 9s 146us/step - loss: 0.1808 - acc: 0.9608 - val_loss: 0.4752 - val_acc: 0.9269\n",
      "\n",
      "Epoch 00003: val_acc improved from 0.92165 to 0.92686, saving model to /mnt/seals/models/124/model_round_2.h5\n",
      "Epoch 4/20\n",
      "60597/60597 [==============================] - 9s 146us/step - loss: 0.1765 - acc: 0.9610 - val_loss: 0.4673 - val_acc: 0.9261\n",
      "\n",
      "Epoch 00004: val_acc did not improve from 0.92686\n",
      "Epoch 5/20\n",
      "60597/60597 [==============================] - 9s 146us/step - loss: 0.1739 - acc: 0.9608 - val_loss: 0.4936 - val_acc: 0.9152\n",
      "\n",
      "Epoch 00005: val_acc did not improve from 0.92686\n",
      "Epoch 6/20\n",
      "60597/60597 [==============================] - 9s 146us/step - loss: 0.1712 - acc: 0.9610 - val_loss: 0.4738 - val_acc: 0.9204\n",
      "\n",
      "Epoch 00006: val_acc did not improve from 0.92686\n",
      "H2 {'val_loss': [0.5145393018413363, 0.5117211909662756, 0.4752281743131968, 0.46728752345366964, 0.4935937852336284, 0.4738261231832076], 'val_acc': [0.9216467952193167, 0.9172159091492841, 0.9268569836295454, 0.9261444795161411, 0.9152119913303347, 0.9204221779568832], 'loss': [0.19771577472911137, 0.18741259939991578, 0.18077298088464386, 0.1765444693778574, 0.17394509931849, 0.17119963431390994], 'acc': [0.9598612998264375, 0.9605991954905527, 0.9608066547500644, 0.9610211869839236, 0.9608467325691398, 0.9610141140194123]}\n",
      "stopped_epoch2 3\n",
      "6\n",
      "0.9261444795161411\n",
      "Train on 60597 samples, validate on 6416 samples\n",
      "Epoch 1/20\n",
      "60597/60597 [==============================] - 11s 178us/step - loss: 0.1643 - acc: 0.9624 - val_loss: 0.4726 - val_acc: 0.9189\n",
      "\n",
      "Epoch 00001: val_acc improved from -inf to 0.91893, saving model to /mnt/seals/models/124/model_round_3.h5\n",
      "Epoch 2/20\n",
      "60597/60597 [==============================] - 9s 147us/step - loss: 0.1635 - acc: 0.9624 - val_loss: 0.4713 - val_acc: 0.9191\n",
      "\n",
      "Epoch 00002: val_acc improved from 0.91893 to 0.91913, saving model to /mnt/seals/models/124/model_round_3.h5\n",
      "Epoch 3/20\n",
      "60597/60597 [==============================] - 9s 147us/step - loss: 0.1632 - acc: 0.9624 - val_loss: 0.4789 - val_acc: 0.9169\n",
      "\n",
      "Epoch 00003: val_acc did not improve from 0.91913\n",
      "Epoch 4/20\n",
      "60597/60597 [==============================] - 9s 147us/step - loss: 0.1628 - acc: 0.9623 - val_loss: 0.4728 - val_acc: 0.9172\n",
      "\n",
      "Epoch 00004: val_acc did not improve from 0.91913\n",
      "Epoch 5/20\n",
      "60597/60597 [==============================] - 9s 146us/step - loss: 0.1626 - acc: 0.9624 - val_loss: 0.4771 - val_acc: 0.9167\n",
      "\n",
      "Epoch 00005: val_acc did not improve from 0.91913\n",
      "H3 {'val_loss': [0.47255590584064067, 0.4712661884892314, 0.4789469876045598, 0.47284415542633457, 0.4771332997930912], 'val_acc': [0.918930371206003, 0.9191307629135779, 0.9169041865187095, 0.9172159066224038, 0.9167260607876385], 'loss': [0.16434868711144024, 0.1635311530288801, 0.1631763419057254, 0.1628317263144639, 0.1626161580576204], 'acc': [0.9624121084056585, 0.962423895675892, 0.9623767462664277, 0.9623083788880358, 0.9623885338317483]}\n",
      "stopped_epoch3 2\n",
      "5\n",
      "0.9169041865187095\n",
      "best fit round 2 0.9261444795161411\n",
      "3139/3139 [==============================] - 1s 252us/step\n"
     ]
    },
    {
     "name": "stderr",
     "output_type": "stream",
     "text": [
      "2019-01-20 13:47:59,694 [MainThread  ] [INFO ]  {'fit_stopped_epoch3': 2, 'sequence_model': nan, 'num_features': 512, 'data_total_rows_valid': 6416, 'batch_size': 32, 'fit_dt_test_end': '2019-01-20 13:47:57', 'path_model': '/mnt/seals/models/124/', 'fit_train_loss': 0.1765444693778574, 'data_total_rows_train': 60597, 'fit_dt_test_start': '2019-01-20 13:47:57', 'architecture': 'image_mlp_frozen', 'layer_3_size': 512, 'fit_dt_test_duration_seconds': '0', 'fit_dt_train_end': '2019-01-20 13:47:55', 'sequence_model_layers': nan, 'layer_2_size': 0, 'model_weights_path': None, 'fit_dt_train_start': '2019-01-20 13:44:22', 'fit_stopped_epoch1': 8, 'sequence_length': 1.0, 'model_param_count': 0, 'fit_val_acc': 0.9261444795161411, 'layer_1_size': 0, 'fit_best_round': 2, 'frame_size': (224, 224), 'fit_dt_train_duration_seconds': '212', 'fit_train_acc': 0.9610211869839236, 'convolution_kernel_size': 3, 'fit_stopped_epoch2': 3, 'model_id': 124, 'fit_val_loss': 0.46728752345366964, 'pretrained_model_name': 'vgg16', 'pooling': 'max', 'data_total_rows_test': 3139, 'verbose': True, 'fit_num_epochs': 16, 'fit_test_acc': 0.6186683657215674, 'dropout': 0.2}\n",
      "2019-01-20 13:47:59,695 [MainThread  ] [INFO ]  model 124 test acc: 0.6186683657215674\n",
      "2019-01-20 13:48:00,240 [MainThread  ] [INFO ]  Begin experiment for model_id=132 on GPU:4 \n",
      "2019-01-20 13:48:00,243 [MainThread  ] [INFO ]  Loading data\n"
     ]
    },
    {
     "name": "stdout",
     "output_type": "stream",
     "text": [
      "132   XXXXXXXXXXXXXXXXXXXXXXXXXXXXXXXXXXXXXXXXXXXXXXXXXXXXXXXXXXXX\n",
      "{'layer_2_size': 256, 'sequence_length': 1.0, 'layer_1_size': 512, 'sequence_model': nan, 'model_id': 132, 'pretrained_model_name': 'resnet50', 'architecture': 'image_MLP_frozen', 'layer_3_size': 512, 'sequence_model_layers': nan, 'pooling': 'max', 'WORKER': 4, 'dropout': 0.2}\n"
     ]
    },
    {
     "name": "stderr",
     "output_type": "stream",
     "text": [
      "2019-01-20 13:48:01,342 [MainThread  ] [INFO ]  Features already cached: /mnt/seals/cache/features/resnet50/max/\n",
      "2019-01-20 13:48:01,343 [MainThread  ] [INFO ]  Loading features data into memory [may take a few minutes]\n"
     ]
    },
    {
     "name": "stdout",
     "output_type": "stream",
     "text": [
      "Done initializing data with #samples: train=60597, valid=6416, test=3139\n",
      "Train on 60597 samples, validate on 6416 samples\n",
      "Epoch 1/20\n",
      "60597/60597 [==============================] - 19s 311us/step - loss: 0.1643 - acc: 0.9386 - val_loss: 0.1897 - val_acc: 0.9177\n",
      "\n",
      "Epoch 00001: val_acc improved from -inf to 0.91773, saving model to /mnt/seals/models/132/model_round_1.h5\n",
      "Epoch 2/20\n",
      "60597/60597 [==============================] - 17s 275us/step - loss: 0.1199 - acc: 0.9526 - val_loss: 0.1667 - val_acc: 0.9300\n",
      "\n",
      "Epoch 00002: val_acc improved from 0.91773 to 0.92997, saving model to /mnt/seals/models/132/model_round_1.h5\n",
      "Epoch 3/20\n",
      "60597/60597 [==============================] - 16s 271us/step - loss: 0.1118 - acc: 0.9557 - val_loss: 0.1616 - val_acc: 0.9359\n",
      "\n",
      "Epoch 00003: val_acc improved from 0.92997 to 0.93587, saving model to /mnt/seals/models/132/model_round_1.h5\n",
      "Epoch 4/20\n",
      "60597/60597 [==============================] - 16s 272us/step - loss: 0.1065 - acc: 0.9579 - val_loss: 0.1406 - val_acc: 0.9423\n",
      "\n",
      "Epoch 00004: val_acc improved from 0.93587 to 0.94233, saving model to /mnt/seals/models/132/model_round_1.h5\n",
      "Epoch 5/20\n",
      "60597/60597 [==============================] - 17s 274us/step - loss: 0.1023 - acc: 0.9592 - val_loss: 0.1375 - val_acc: 0.9428\n",
      "\n",
      "Epoch 00005: val_acc improved from 0.94233 to 0.94282, saving model to /mnt/seals/models/132/model_round_1.h5\n",
      "Epoch 6/20\n",
      "60597/60597 [==============================] - 17s 275us/step - loss: 0.0995 - acc: 0.9608 - val_loss: 0.1512 - val_acc: 0.9428\n",
      "\n",
      "Epoch 00006: val_acc did not improve from 0.94282\n",
      "Epoch 7/20\n",
      "60597/60597 [==============================] - 17s 275us/step - loss: 0.0975 - acc: 0.9614 - val_loss: 0.1404 - val_acc: 0.9428\n",
      "\n",
      "Epoch 00007: val_acc did not improve from 0.94282\n",
      "Epoch 8/20\n",
      "60597/60597 [==============================] - 17s 273us/step - loss: 0.0939 - acc: 0.9627 - val_loss: 0.1585 - val_acc: 0.9380\n",
      "\n",
      "Epoch 00008: val_acc did not improve from 0.94282\n",
      "H1 {'val_loss': [0.1896907712455997, 0.16668828270233182, 0.16155721046532182, 0.14058232308363083, 0.13749263173624168, 0.15116269141435623, 0.1404097244570826, 0.15848628414836607], 'val_acc': [0.9177280282439139, 0.929974190612089, 0.9358746208752182, 0.942331688065184, 0.9428215380618697, 0.9428215341972294, 0.9428215368727496, 0.9379898624824466], 'loss': [0.16431119450587872, 0.11990984854381337, 0.11177878295269485, 0.10645595495619431, 0.10230449126494173, 0.0995080566197648, 0.09746967841620366, 0.09389497362053752], 'acc': [0.9386438451639616, 0.9525624951623892, 0.955723896893892, 0.9578833611975024, 0.959241278533867, 0.9607854380716512, 0.9614243185838669, 0.9626950072811754]}\n",
      "stopped_epoch1 5\n",
      "8\n",
      "0.9428215341972294\n",
      "Train on 60597 samples, validate on 6416 samples\n",
      "Epoch 1/20\n",
      "60597/60597 [==============================] - 19s 316us/step - loss: 0.0782 - acc: 0.9683 - val_loss: 0.1473 - val_acc: 0.9445\n",
      "\n",
      "Epoch 00001: val_acc improved from -inf to 0.94454, saving model to /mnt/seals/models/132/model_round_2.h5\n",
      "Epoch 2/20\n",
      "60597/60597 [==============================] - 17s 272us/step - loss: 0.0738 - acc: 0.9700 - val_loss: 0.1615 - val_acc: 0.9448\n",
      "\n",
      "Epoch 00002: val_acc improved from 0.94454 to 0.94476, saving model to /mnt/seals/models/132/model_round_2.h5\n",
      "Epoch 3/20\n",
      "60597/60597 [==============================] - 16s 271us/step - loss: 0.0725 - acc: 0.9702 - val_loss: 0.1588 - val_acc: 0.9437\n",
      "\n",
      "Epoch 00003: val_acc did not improve from 0.94476\n",
      "Epoch 4/20\n",
      "60597/60597 [==============================] - 17s 273us/step - loss: 0.0705 - acc: 0.9712 - val_loss: 0.1573 - val_acc: 0.9436\n",
      "\n",
      "Epoch 00004: val_acc did not improve from 0.94476\n",
      "Epoch 5/20\n",
      "60597/60597 [==============================] - 17s 274us/step - loss: 0.0695 - acc: 0.9712 - val_loss: 0.1651 - val_acc: 0.9409\n",
      "\n",
      "Epoch 00005: val_acc did not improve from 0.94476\n",
      "H2 {'val_loss': [0.14727007042142815, 0.16149743161445246, 0.15884476283244658, 0.1573290431365705, 0.1650590691111629], 'val_acc': [0.9445360024968288, 0.9447586566135473, 0.9437121679063449, 0.9436008383211055, 0.9408844171319519], 'loss': [0.07824995564644645, 0.0738134252684131, 0.07246092232357172, 0.070538806394602, 0.06946433873879924], 'acc': [0.9683412074175168, 0.9700456759545139, 0.9701635505532755, 0.9712362121140534, 0.971203206522755]}\n",
      "stopped_epoch2 2\n",
      "5\n",
      "0.9437121679063449\n",
      "Train on 60597 samples, validate on 6416 samples\n",
      "Epoch 1/20\n",
      "60597/60597 [==============================] - 19s 315us/step - loss: 0.0667 - acc: 0.9722 - val_loss: 0.1644 - val_acc: 0.9415\n",
      "\n",
      "Epoch 00001: val_acc improved from -inf to 0.94153, saving model to /mnt/seals/models/132/model_round_3.h5\n",
      "Epoch 2/20\n",
      "60597/60597 [==============================] - 17s 278us/step - loss: 0.0665 - acc: 0.9725 - val_loss: 0.1646 - val_acc: 0.9427\n",
      "\n",
      "Epoch 00002: val_acc improved from 0.94153 to 0.94273, saving model to /mnt/seals/models/132/model_round_3.h5\n",
      "Epoch 3/20\n",
      "60597/60597 [==============================] - 17s 275us/step - loss: 0.0660 - acc: 0.9725 - val_loss: 0.1641 - val_acc: 0.9429\n",
      "\n",
      "Epoch 00003: val_acc improved from 0.94273 to 0.94287, saving model to /mnt/seals/models/132/model_round_3.h5\n",
      "Epoch 4/20\n",
      "60597/60597 [==============================] - 17s 277us/step - loss: 0.0661 - acc: 0.9726 - val_loss: 0.1641 - val_acc: 0.9424\n",
      "\n",
      "Epoch 00004: val_acc did not improve from 0.94287\n",
      "Epoch 5/20\n",
      "60597/60597 [==============================] - 17s 278us/step - loss: 0.0656 - acc: 0.9731 - val_loss: 0.1643 - val_acc: 0.9428\n",
      "\n",
      "Epoch 00005: val_acc did not improve from 0.94287\n",
      "Epoch 6/20\n",
      "60597/60597 [==============================] - 17s 278us/step - loss: 0.0657 - acc: 0.9728 - val_loss: 0.1642 - val_acc: 0.9418\n",
      "\n",
      "Epoch 00006: val_acc did not improve from 0.94287\n",
      "H3 {'val_loss': [0.16438234955109562, 0.16457045148881594, 0.16407025653748145, 0.1640708280211672, 0.16427973742385457, 0.16421539059600926], 'val_acc': [0.9415301253968046, 0.9427324777232144, 0.9428660717985576, 0.9424430194341037, 0.9428215383591497, 0.9417750466791471], 'loss': [0.06674333393849421, 0.06650121366887002, 0.0659507674880641, 0.0660607312458962, 0.06563708390976936, 0.0657421118741073], 'acc': [0.9722169293126511, 0.9725469773940222, 0.9725399071069346, 0.9726059159052274, 0.9731198497000867, 0.9727520801656023]}\n",
      "stopped_epoch3 3\n",
      "6\n",
      "0.9424430194341037\n",
      "best fit round 2 0.9437121679063449\n",
      "3139/3139 [==============================] - 1s 354us/step\n"
     ]
    },
    {
     "name": "stderr",
     "output_type": "stream",
     "text": [
      "2019-01-20 13:53:48,477 [MainThread  ] [INFO ]  {'fit_stopped_epoch3': 3, 'sequence_model': nan, 'num_features': 2048, 'data_total_rows_valid': 6416, 'batch_size': 32, 'fit_dt_test_end': '2019-01-20 13:53:46', 'path_model': '/mnt/seals/models/132/', 'fit_train_loss': 0.07246092232357172, 'data_total_rows_train': 60597, 'fit_dt_test_start': '2019-01-20 13:53:45', 'architecture': 'image_mlp_frozen', 'layer_3_size': 512, 'fit_dt_test_duration_seconds': '1', 'fit_dt_train_end': '2019-01-20 13:53:43', 'sequence_model_layers': nan, 'layer_2_size': 256, 'model_weights_path': None, 'fit_dt_train_start': '2019-01-20 13:48:02', 'fit_stopped_epoch1': 5, 'sequence_length': 1.0, 'model_param_count': 1315591, 'fit_val_acc': 0.9437121679063449, 'layer_1_size': 512, 'fit_best_round': 2, 'frame_size': (224, 224), 'fit_dt_train_duration_seconds': '341', 'fit_train_acc': 0.9701635505532755, 'convolution_kernel_size': 3, 'fit_stopped_epoch2': 2, 'model_id': 132, 'fit_val_loss': 0.15884476283244658, 'pretrained_model_name': 'resnet50', 'pooling': 'max', 'data_total_rows_test': 3139, 'verbose': True, 'fit_num_epochs': 13, 'fit_test_acc': 0.6715514495062122, 'dropout': 0.2}\n",
      "2019-01-20 13:53:48,479 [MainThread  ] [INFO ]  model 132 test acc: 0.6715514495062122\n",
      "2019-01-20 13:53:49,087 [MainThread  ] [INFO ]  Begin experiment for model_id=140 on GPU:4 \n",
      "2019-01-20 13:53:49,089 [MainThread  ] [INFO ]  Loading data\n"
     ]
    },
    {
     "name": "stdout",
     "output_type": "stream",
     "text": [
      "140   XXXXXXXXXXXXXXXXXXXXXXXXXXXXXXXXXXXXXXXXXXXXXXXXXXXXXXXXXXXX\n",
      "{'layer_2_size': 0, 'sequence_length': 1.0, 'layer_1_size': 512, 'sequence_model': nan, 'model_id': 140, 'pretrained_model_name': 'resnet50', 'architecture': 'image_MLP_frozen', 'layer_3_size': 512, 'sequence_model_layers': nan, 'pooling': 'max', 'WORKER': 4, 'dropout': 0.2}\n"
     ]
    },
    {
     "name": "stderr",
     "output_type": "stream",
     "text": [
      "2019-01-20 13:53:50,186 [MainThread  ] [INFO ]  Features already cached: /mnt/seals/cache/features/resnet50/max/\n",
      "2019-01-20 13:53:50,187 [MainThread  ] [INFO ]  Loading features data into memory [may take a few minutes]\n"
     ]
    },
    {
     "name": "stdout",
     "output_type": "stream",
     "text": [
      "Done initializing data with #samples: train=60597, valid=6416, test=3139\n"
     ]
    }
   ],
   "source": [
    "###################\n",
    "### Run experiments\n",
    "###################\n",
    "\n",
    "for row in experiments.values:\n",
    "    \n",
    "    # get experiment params from dataframe row\n",
    "    experiment = dict(zip(experiments.columns, row))\n",
    "    \n",
    "    # only run experiment if not already run\n",
    "    if not os.path.exists(pwd + 'models/' + str(experiment[\"model_id\"]) + '/results.json'):\n",
    "\n",
    "        # only run experiment if matches this worker id\n",
    "        if experiment['WORKER'] == WORKER_ID:\n",
    "            \n",
    "            print(str(experiment[\"model_id\"]) + \"   \" + \"X\"*60)\n",
    "            logging.info(\"Begin experiment for model_id={} on GPU:{} \".format(experiment['model_id'], os.environ[\"CUDA_VISIBLE_DEVICES\"]))\n",
    "            print(experiment)\n",
    "\n",
    "            architecture = Architecture(model_id = experiment['model_id'], \n",
    "                                        architecture = experiment['architecture'], \n",
    "                                        sequence_length = experiment['sequence_length'], \n",
    "                                        pretrained_model_name = experiment['pretrained_model_name'],\n",
    "                                        pooling = experiment['pooling'],\n",
    "                                        sequence_model = experiment['sequence_model'],\n",
    "                                        sequence_model_layers = experiment['sequence_model_layers'],\n",
    "                                        layer_1_size = experiment['layer_1_size'],\n",
    "                                        layer_2_size = experiment['layer_2_size'],\n",
    "                                        layer_3_size = experiment['layer_3_size'],\n",
    "                                        dropout = experiment['dropout'],\n",
    "                                        verbose=True)\n",
    "\n",
    "            architecture.train_model()\n",
    "            \n",
    "            gc.collect()"
   ]
  },
  {
   "cell_type": "code",
   "execution_count": null,
   "metadata": {},
   "outputs": [],
   "source": []
  },
  {
   "cell_type": "code",
   "execution_count": null,
   "metadata": {},
   "outputs": [],
   "source": []
  }
 ],
 "metadata": {
  "kernelspec": {
   "display_name": "Python 3",
   "language": "python",
   "name": "python3"
  },
  "language_info": {
   "codemirror_mode": {
    "name": "ipython",
    "version": 3
   },
   "file_extension": ".py",
   "mimetype": "text/x-python",
   "name": "python",
   "nbconvert_exporter": "python",
   "pygments_lexer": "ipython3",
   "version": "3.5.3"
  }
 },
 "nbformat": 4,
 "nbformat_minor": 2
}
