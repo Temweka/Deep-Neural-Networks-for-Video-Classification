{
 "cells": [
  {
   "cell_type": "markdown",
   "metadata": {},
   "source": [
    "# TODO:\n",
    "- [ ] refactor frame creation\n",
    "- [ ] save labels and label map in vid folder\n",
    "- [ ] alert if vid with same name already exists\n",
    "- [ ]  fix logging"
   ]
  },
  {
   "cell_type": "markdown",
   "metadata": {},
   "source": [
    "# Setup"
   ]
  },
  {
   "cell_type": "markdown",
   "metadata": {},
   "source": [
    "## imports"
   ]
  },
  {
   "cell_type": "code",
   "execution_count": 1,
   "metadata": {
    "ExecuteTime": {
     "end_time": "2018-12-17T10:16:09.856618Z",
     "start_time": "2018-12-17T10:16:09.191487Z"
    }
   },
   "outputs": [],
   "source": [
    "import os\n",
    "import sys\n",
    "import time\n",
    "import json\n",
    "from shutil import copy\n",
    "from sklearn.utils import shuffle\n",
    "import datetime as dt"
   ]
  },
  {
   "cell_type": "code",
   "execution_count": 2,
   "metadata": {
    "ExecuteTime": {
     "end_time": "2018-12-17T10:16:11.324747Z",
     "start_time": "2018-12-17T10:16:09.859289Z"
    }
   },
   "outputs": [
    {
     "name": "stderr",
     "output_type": "stream",
     "text": [
      "Using TensorFlow backend.\n"
     ]
    }
   ],
   "source": [
    "from keras.models import Sequential, load_model\n",
    "from keras.layers import Dense, Flatten, Dropout, ZeroPadding3D\n",
    "from keras.layers.recurrent import LSTM\n",
    "from keras.layers.wrappers import TimeDistributed\n",
    "from keras.layers.convolutional import (Conv2D, MaxPooling3D, Conv3D, MaxPooling2D)\n",
    "from keras.optimizers import Adam, RMSprop\n",
    "from keras.callbacks import EarlyStopping, ModelCheckpoint, CSVLogger\n",
    "from keras.utils import to_categorical\n",
    "from keras.preprocessing.image import img_to_array"
   ]
  },
  {
   "cell_type": "code",
   "execution_count": 3,
   "metadata": {
    "ExecuteTime": {
     "end_time": "2018-12-17T10:16:11.366244Z",
     "start_time": "2018-12-17T10:16:11.327676Z"
    }
   },
   "outputs": [],
   "source": [
    "import cv2"
   ]
  },
  {
   "cell_type": "code",
   "execution_count": 4,
   "metadata": {
    "ExecuteTime": {
     "end_time": "2018-12-17T10:16:11.376186Z",
     "start_time": "2018-12-17T10:16:11.369092Z"
    }
   },
   "outputs": [],
   "source": [
    "from contextlib import redirect_stdout"
   ]
  },
  {
   "cell_type": "code",
   "execution_count": 5,
   "metadata": {
    "ExecuteTime": {
     "end_time": "2018-12-17T10:16:11.545724Z",
     "start_time": "2018-12-17T10:16:11.379133Z"
    }
   },
   "outputs": [],
   "source": [
    "# setup matplotlib to display plots in the notebook\n",
    "# %matplotlib inline\n",
    "\n",
    "# third party imports\n",
    "import pandas as pd\n",
    "import numpy as np\n",
    "import matplotlib.pyplot as plt\n",
    "import seaborn as sns\n",
    "\n",
    "# setup display options\n",
    "pd.options.display.max_rows = 200\n",
    "pd.options.display.max_colwidth = 400\n",
    "pd.options.display.float_format = '{:,.5g}'.format\n",
    "np.set_printoptions(precision=5, suppress=False)\n",
    "\n",
    "# setup seaborn to use matplotlib defaults & styles\n",
    "sns.set()\n",
    "sns.set(font_scale=1.2)\n",
    "sns.set_style(\"whitegrid\", {'axes.grid' : False})"
   ]
  },
  {
   "cell_type": "markdown",
   "metadata": {},
   "source": [
    "## paths"
   ]
  },
  {
   "cell_type": "code",
   "execution_count": 6,
   "metadata": {
    "ExecuteTime": {
     "end_time": "2018-12-17T10:16:11.555306Z",
     "start_time": "2018-12-17T10:16:11.548508Z"
    }
   },
   "outputs": [
    {
     "data": {
      "text/plain": [
       "'/mnt/seals/'"
      ]
     },
     "execution_count": 6,
     "metadata": {},
     "output_type": "execute_result"
    }
   ],
   "source": [
    "pwd = os.path.dirname(os.getcwd()) + '/'\n",
    "pwd"
   ]
  },
  {
   "cell_type": "code",
   "execution_count": 7,
   "metadata": {
    "ExecuteTime": {
     "end_time": "2018-12-17T10:16:11.561545Z",
     "start_time": "2018-12-17T10:16:11.558499Z"
    }
   },
   "outputs": [],
   "source": [
    "path_cache = pwd + 'cache/'\n",
    "path_models = pwd + 'models/'"
   ]
  },
  {
   "cell_type": "code",
   "execution_count": 8,
   "metadata": {
    "ExecuteTime": {
     "end_time": "2018-12-17T10:16:11.567848Z",
     "start_time": "2018-12-17T10:16:11.564619Z"
    }
   },
   "outputs": [],
   "source": [
    "# for constructing vids in cache REFACTOR\n",
    "path_data = pwd + 'data/images/'"
   ]
  },
  {
   "cell_type": "code",
   "execution_count": 9,
   "metadata": {
    "ExecuteTime": {
     "end_time": "2018-12-17T10:16:11.574816Z",
     "start_time": "2018-12-17T10:16:11.571087Z"
    }
   },
   "outputs": [],
   "source": [
    "# folder where we'll store each vid grouped into folders\n",
    "path_vids = path_cache + 'vids/'"
   ]
  },
  {
   "cell_type": "markdown",
   "metadata": {},
   "source": [
    "## setup logging"
   ]
  },
  {
   "cell_type": "code",
   "execution_count": 10,
   "metadata": {
    "ExecuteTime": {
     "end_time": "2018-12-17T10:16:11.582555Z",
     "start_time": "2018-12-17T10:16:11.577857Z"
    }
   },
   "outputs": [],
   "source": [
    "import logging\n",
    "\n",
    "logging.basicConfig(\n",
    "    level=logging.INFO,\n",
    "    format=\"%(asctime)s [%(threadName)-12.12s] [%(levelname)-5.5s]  %(message)s\",\n",
    "    handlers=[\n",
    "        logging.FileHandler(\"{0}/{1}.log\".format(pwd, \"logs\")),\n",
    "        logging.StreamHandler()\n",
    "    ])\n",
    "\n",
    "logger = logging.getLogger()"
   ]
  },
  {
   "cell_type": "markdown",
   "metadata": {},
   "source": [
    "# helper functions"
   ]
  },
  {
   "cell_type": "code",
   "execution_count": 11,
   "metadata": {
    "ExecuteTime": {
     "end_time": "2018-12-17T10:16:11.589357Z",
     "start_time": "2018-12-17T10:16:11.585767Z"
    }
   },
   "outputs": [],
   "source": [
    "def plot_pic(imgpath):\n",
    "    plt.imshow(plt.imread(imgpath))\n",
    "    plt.show()"
   ]
  },
  {
   "cell_type": "markdown",
   "metadata": {},
   "source": [
    "# Convert data back into sequence for video classification"
   ]
  },
  {
   "cell_type": "markdown",
   "metadata": {},
   "source": [
    "## read list of paths across train/val/test and seal / no seal folders"
   ]
  },
  {
   "cell_type": "code",
   "execution_count": 12,
   "metadata": {
    "ExecuteTime": {
     "end_time": "2018-12-17T10:16:11.596643Z",
     "start_time": "2018-12-17T10:16:11.592156Z"
    }
   },
   "outputs": [
    {
     "data": {
      "text/plain": [
       "'/mnt/seals/data/images/'"
      ]
     },
     "execution_count": 12,
     "metadata": {},
     "output_type": "execute_result"
    }
   ],
   "source": [
    "path_data"
   ]
  },
  {
   "cell_type": "code",
   "execution_count": 13,
   "metadata": {
    "ExecuteTime": {
     "end_time": "2018-12-17T10:16:11.683602Z",
     "start_time": "2018-12-17T10:16:11.599226Z"
    }
   },
   "outputs": [],
   "source": [
    "paths_jpgs = []\n",
    "for folder, subs, files in os.walk(path_data):        \n",
    "    for filename in files:\n",
    "        if filename[-4:] == '.jpg' or  filename[-4:] == 'jpeg':\n",
    "            paths_jpgs.append(os.path.abspath(os.path.join(folder, filename)))"
   ]
  },
  {
   "cell_type": "code",
   "execution_count": 14,
   "metadata": {
    "ExecuteTime": {
     "end_time": "2018-12-17T10:16:11.930978Z",
     "start_time": "2018-12-17T10:16:11.686135Z"
    }
   },
   "outputs": [],
   "source": [
    "# create dataframe from paths\n",
    "dfp = pd.DataFrame(paths_jpgs)\n",
    "dfp.columns = ['path']\n",
    "dfp['label'] = dfp['path'].str.split(\"/\").str.get(-2)\n",
    "dfp['filename'] = dfp['path'].str.split(\"/\").str.get(-1)\n",
    "dfp.sort_values(\"filename\", inplace=True)\n",
    "dfp.reset_index(inplace=True,drop=True)\n",
    "dfp['vid'] = dfp['filename'].str.split(\"-\").str.get(0) + '-' + dfp['filename'].str.split(\"-\").str.get(1)\n",
    "dfp['seal'] = pd.get_dummies(dfp['label'])['seal']\n",
    "dfp.to_csv(path_vids + \"df.csv\")"
   ]
  },
  {
   "cell_type": "code",
   "execution_count": 15,
   "metadata": {
    "ExecuteTime": {
     "end_time": "2018-12-17T10:16:11.938777Z",
     "start_time": "2018-12-17T10:16:11.934077Z"
    }
   },
   "outputs": [],
   "source": [
    "vids = list(dfp['vid'].unique())"
   ]
  },
  {
   "cell_type": "markdown",
   "metadata": {},
   "source": [
    "# Create train/test split"
   ]
  },
  {
   "cell_type": "markdown",
   "metadata": {},
   "source": [
    "## functions to load precomputed sequence data for list of vids"
   ]
  },
  {
   "cell_type": "code",
   "execution_count": 16,
   "metadata": {
    "ExecuteTime": {
     "end_time": "2018-12-17T10:16:11.949533Z",
     "start_time": "2018-12-17T10:16:11.941608Z"
    }
   },
   "outputs": [],
   "source": [
    "def get_sequence_data_for_vids(list_of_vid_names, sequence_length, pretrained_model_name, pooling):\n",
    "    \"\"\"\n",
    "    Load precomputed sequence features data of given length together with targets [returns data later to train/eval models: x, y]\n",
    "    for list of vid names and concatenate into one long array\n",
    "    \n",
    "    Args:\n",
    "        list_of_vid_names: name of vid (should already have frames in folder in `/cache/vids/*vid_name*/frames/`)\n",
    "        sequence_length: length of sequence to fetch precomputed features for\n",
    "        pretrained_model_name: name of pretrained model whose features should be loaded (assuming these were already precomputed)\n",
    "        pooling: pooling method used with pretrained model\n",
    "    \n",
    "    Returns:\n",
    "        sequence_features_array_for_all_vids, sequence_targets_array_for_all_vids\n",
    "    \n",
    "    \"\"\"\n",
    "    \n",
    "    # create clips of length NUM_FRAMES\n",
    "    x = []\n",
    "    y = []\n",
    "    \n",
    "    for v, vid_name in enumerate(list_of_vid_names):\n",
    "        \n",
    "        path_sequences_features = path_vids + vid_name + '/sequences/features_sequence_' + str(sequence_length) + '_' + pretrained_model_name + '_' + pooling + 'pooling.npy'\n",
    "        path_sequences_targets = path_vids + vid_name + '/sequences/targets_sequence_' + str(sequence_length) + '.npy'\n",
    "\n",
    "        # load precomputed features\n",
    "        features = np.load(path_sequences_features)\n",
    "        targets = np.load(path_sequences_targets)\n",
    "        \n",
    "        x.extend(features)\n",
    "        y.extend(targets)\n",
    "\n",
    "    return np.array(x), np.array(y)"
   ]
  },
  {
   "cell_type": "markdown",
   "metadata": {},
   "source": [
    "## generate train / test split"
   ]
  },
  {
   "cell_type": "markdown",
   "metadata": {},
   "source": [
    "> todo: write functions to make this quicker"
   ]
  },
  {
   "cell_type": "markdown",
   "metadata": {},
   "source": [
    "> todo: cross-validation"
   ]
  },
  {
   "cell_type": "markdown",
   "metadata": {},
   "source": [
    "> todo: experiments with config files and json results with function to aggregate to dataframe"
   ]
  },
  {
   "cell_type": "code",
   "execution_count": 17,
   "metadata": {
    "ExecuteTime": {
     "end_time": "2018-12-17T10:16:11.956158Z",
     "start_time": "2018-12-17T10:16:11.952979Z"
    }
   },
   "outputs": [],
   "source": [
    "np.random.seed(1337)"
   ]
  },
  {
   "cell_type": "code",
   "execution_count": 18,
   "metadata": {
    "ExecuteTime": {
     "end_time": "2018-12-17T10:16:11.962317Z",
     "start_time": "2018-12-17T10:16:11.958890Z"
    }
   },
   "outputs": [],
   "source": [
    "ids = list(range(0,len(vids)))\n",
    "np.random.shuffle(ids)"
   ]
  },
  {
   "cell_type": "code",
   "execution_count": 19,
   "metadata": {
    "ExecuteTime": {
     "end_time": "2018-12-17T10:16:11.971674Z",
     "start_time": "2018-12-17T10:16:11.965755Z"
    }
   },
   "outputs": [
    {
     "data": {
      "text/plain": [
       "'[16, 0, 13, 41, 5, 12, 44, 29, 21, 33, 31, 10, 7, 37, 32, 4, 3, 15, 17, 14, 19, 30, 11, 36, 35, 2, 38, 22, 34, 27, 1, 24, 45, 43, 6, 9, 8, 20, 18, 26, 42, 25, 39, 40, 28, 23]'"
      ]
     },
     "execution_count": 19,
     "metadata": {},
     "output_type": "execute_result"
    }
   ],
   "source": [
    "str(ids)"
   ]
  },
  {
   "cell_type": "code",
   "execution_count": 20,
   "metadata": {
    "ExecuteTime": {
     "end_time": "2018-12-17T10:16:11.978636Z",
     "start_time": "2018-12-17T10:16:11.974553Z"
    }
   },
   "outputs": [],
   "source": [
    "vids_train = [vids[c] for c in ids[0:40]]\n",
    "vids_valid = [vids[c] for c in ids[40:44]]\n",
    "vids_test = [vids[c] for c in ids[44:]]"
   ]
  },
  {
   "cell_type": "code",
   "execution_count": 21,
   "metadata": {
    "ExecuteTime": {
     "end_time": "2018-12-17T10:16:11.985896Z",
     "start_time": "2018-12-17T10:16:11.981321Z"
    }
   },
   "outputs": [
    {
     "data": {
      "text/plain": [
       "['s6-1247', 's32-3110', 's45-6301', 's46-8087']"
      ]
     },
     "execution_count": 21,
     "metadata": {},
     "output_type": "execute_result"
    }
   ],
   "source": [
    "vids_valid"
   ]
  },
  {
   "cell_type": "code",
   "execution_count": 22,
   "metadata": {
    "ExecuteTime": {
     "end_time": "2018-12-17T10:16:11.993816Z",
     "start_time": "2018-12-17T10:16:11.988741Z"
    }
   },
   "outputs": [
    {
     "data": {
      "text/plain": [
       "['s35-3664', 's30-516']"
      ]
     },
     "execution_count": 22,
     "metadata": {},
     "output_type": "execute_result"
    }
   ],
   "source": [
    "vids_test"
   ]
  },
  {
   "cell_type": "markdown",
   "metadata": {},
   "source": [
    "# Fit models"
   ]
  },
  {
   "cell_type": "code",
   "execution_count": 42,
   "metadata": {
    "ExecuteTime": {
     "end_time": "2018-12-17T11:42:39.173045Z",
     "start_time": "2018-12-17T11:42:39.147939Z"
    }
   },
   "outputs": [],
   "source": [
    "def fit_model(model_id, architecture, layer_1_sizefactor, layer_2_sizefactor, layer_3_sizefactor, dropout, sequence_length, pretrained_model_name, pooling):\n",
    "\n",
    "    ###########################\n",
    "    ### create folder for model \n",
    "    ###########################\n",
    "\n",
    "    path_model = path_models + str(model_id) + '/'\n",
    "    if not os.path.exists(path_model):\n",
    "        os.makedirs(path_model)\n",
    "\n",
    "    ###########################\n",
    "    ### create train/test split\n",
    "    ###########################\n",
    "\n",
    "    x_train, y_train = get_sequence_data_for_vids(vids_train, sequence_length, pretrained_model_name, pooling)\n",
    "    x_valid, y_valid = get_sequence_data_for_vids(vids_valid, sequence_length, pretrained_model_name, pooling)\n",
    "    x_test, y_test = get_sequence_data_for_vids(vids_test, sequence_length, pretrained_model_name, pooling)\n",
    "\n",
    "    # shuffle test and train batches\n",
    "    x_train, y_train = shuffle(x_train, y_train)\n",
    "    x_valid, y_valid = shuffle(x_valid, y_valid)\n",
    "\n",
    "    # CREATE CLASS BALANCE\n",
    "#     y_train = pd.DataFrame(y_train)\n",
    "#     keeps = list(y_train[y_train[0]==1].head(int(len(y_train[y_train[0]==1].index)/2)).index)\n",
    "#     keeps2 = list(y_train[y_train[0] == 0].index)\n",
    "#     keeps.extend(keeps2)\n",
    "#     #\n",
    "#     y_train = y_train.iloc[keeps]\n",
    "#     y_train = y_train.values\n",
    "#     x_train = x_train[keeps,:,:]\n",
    "\n",
    "    NUM_CLASSES = y_train.shape[1]\n",
    "    NUM_FEATURES = x_train.shape[2]\n",
    "    SEQ_LENGTH = x_train.shape[1]\n",
    "    \n",
    "#     # reshape sequence length 1 into image features if not a sequence\n",
    "#     if sequence_length == 1:\n",
    "#         x_train = np.squeeze(x_train, axis=1)\n",
    "#         x_valid = np.squeeze(x_valid, axis=1)\n",
    "#         x_test = np.squeeze(x_test, axis=1)\n",
    "\n",
    "\n",
    "\n",
    "    ##############################\n",
    "    ### keep track of model params\n",
    "    ##############################\n",
    "\n",
    "    # create dict with model parameters\n",
    "    results = {}\n",
    "\n",
    "    results['id'] = str(model_id)\n",
    "\n",
    "    NUM_EPOCHS = 50\n",
    "    BATCH_SIZE = 32\n",
    "    results['fit_batch_size'] = BATCH_SIZE\n",
    "    \n",
    "    results['fit_num_classes'] = NUM_CLASSES\n",
    "    results['model_num_features'] = NUM_FEATURES\n",
    "    results['model_sequence_length'] = SEQ_LENGTH\n",
    "    \n",
    "    results['pretrained_model_name'] = pretrained_model_name\n",
    "    results['pretrained_model_pooling'] = pooling\n",
    "\n",
    "    results['shape_y_train'] = str(y_train.shape)\n",
    "    results['shape_x_train'] = str(x_train.shape)\n",
    "    results['shape_x_valid'] = str(x_valid.shape)\n",
    "    results['shape_x_test'] = str(x_test.shape)\n",
    "\n",
    "    results['model_architecture'] = architecture\n",
    "    results['model_layer_1_sizefactor'] = layer_1_sizefactor\n",
    "    results['model_layer_2_sizefactor'] = layer_2_sizefactor\n",
    "    results['model_layer_3_sizefactor'] = layer_3_sizefactor\n",
    "    results['model_dropout'] = dropout\n",
    "\n",
    "    ################\n",
    "    ### define model\n",
    "    ################\n",
    "\n",
    "    if architecture == \"LSTM\":\n",
    "        # https://github.com/sagarvegad/Video-Classification-CNN-and-LSTM-/blob/master/train_CNN_RNN.py\n",
    "        model = Sequential()\n",
    "\n",
    "        # layer 1 (LSTM layer)\n",
    "        model.add(LSTM(NUM_FEATURES//layer_1_sizefactor, return_sequences=False, dropout=dropout, input_shape=(SEQ_LENGTH, NUM_FEATURES)))\n",
    "\n",
    "        # layer 2 (dense)\n",
    "        if layer_2_sizefactor > 0:\n",
    "            model.add(Dropout(dropout))\n",
    "            model.add(Dense(NUM_FEATURES//layer_2_sizefactor, activation='relu'))\n",
    "\n",
    "        # layer 3 (dense)\n",
    "        if layer_2_sizefactor > 0 and layer_3_sizefactor > 0:\n",
    "            model.add(Dropout(dropout))\n",
    "            model.add(Dense(NUM_FEATURES//layer_3_sizefactor, activation='relu'))\n",
    "\n",
    "        # final layer\n",
    "        model.add(Dropout(dropout))\n",
    "        model.add(Dense(NUM_CLASSES, activation='softmax'))\n",
    "\n",
    "        # define optimizer and compile model\n",
    "        opt = Adam()\n",
    "        model.compile(optimizer=opt, loss='categorical_crossentropy', metrics=['accuracy'])\n",
    "\n",
    "    if architecture == 'MLP':\n",
    "        model = Sequential()\n",
    "        model.add(Flatten(input_shape=(SEQ_LENGTH, NUM_FEATURES)))\n",
    "        model.add(Dense(NUM_FEATURES//2, activation='relu'))\n",
    "\n",
    "        if layer_2_sizefactor > 0:\n",
    "            model.add(Dense(NUM_FEATURES//layer_2_sizefactor, activation='relu'))\n",
    "            model.add(Dropout(dropout))\n",
    "\n",
    "        if layer_2_sizefactor > 0 and layer_3_sizefactor > 0:\n",
    "            model.add(Dense(NUM_FEATURES//layer_3_sizefactor, activation='relu'))\n",
    "            model.add(Dropout(dropout))\n",
    "\n",
    "        # final layer\n",
    "        model.add(Dropout(dropout))\n",
    "        model.add(Dense(NUM_CLASSES, activation='softmax'))\n",
    "\n",
    "        # define optimizer and compile model\n",
    "        opt = Adam()\n",
    "        model.compile(optimizer=opt, loss='binary_crossentropy', metrics=['accuracy'])\n",
    "\n",
    "    # save model summary to file\n",
    "    with open(path_model + 'model_summary.txt', 'w') as f:\n",
    "        with redirect_stdout(f):\n",
    "            model.summary()\n",
    "\n",
    "    # track number of params in model\n",
    "    results['param_count'] = model.count_params()\n",
    "\n",
    "    #############\n",
    "    ### fit model\n",
    "    #############\n",
    "\n",
    "    # setup training callbacks\n",
    "    stopper_patience = 10\n",
    "    results['fit_stopper_patience'] = stopper_patience\n",
    "    callback_stopper = EarlyStopping(monitor='val_acc', patience=stopper_patience, verbose=0)\n",
    "    callback_csvlogger = CSVLogger(path_model + 'training.log')\n",
    "    callback_checkpointer = ModelCheckpoint(path_model +  'model.h5', monitor='val_acc', \n",
    "                                 save_best_only=True, verbose=0)\n",
    "    \n",
    "    # start time training\n",
    "    start = dt.datetime.now()\n",
    "    results['fit_train_dt_start'] = start.strftime(\"%Y-%m-%d %H:%M:%S\")\n",
    "\n",
    "    history = model.fit(x_train, y_train, \n",
    "              validation_data=(x_valid,y_valid),\n",
    "              batch_size=BATCH_SIZE,\n",
    "              epochs=NUM_EPOCHS,\n",
    "              callbacks=[callback_stopper, callback_checkpointer, callback_csvlogger],\n",
    "              shuffle=True,\n",
    "              verbose=0)\n",
    "    \n",
    "    # end time training\n",
    "    end = dt.datetime.now()    \n",
    "    results['fit_train_dt_end']  = end.strftime(\"%Y-%m-%d %H:%M:%S\")\n",
    "    results['fit_train_dt_duration']  = str((end - start).total_seconds()).split(\".\")[0]\n",
    "\n",
    "    # get number of epochs actually trained (might have early stopped)\n",
    "    epochs_trained = 0\n",
    "    epochs_trained = callback_stopper.stopped_epoch - stopper_patience\n",
    "\n",
    "    results['fit_stopped_early'] = True\n",
    "    if epochs_trained == 0 and len(history.history) > stopper_patience:\n",
    "        results['fit_stopped_early'] = False\n",
    "        epochs_trained = NUM_EPOCHS - 1 \n",
    "\n",
    "    results['fit_num_epochs'] = epochs_trained\n",
    "    results['fit_val_acc'] = history.history['val_acc'][epochs_trained]\n",
    "    results['fit_train_acc'] = history.history['acc'][epochs_trained]\n",
    "    results['fit_val_loss'] = history.history['val_loss'][epochs_trained]\n",
    "    results['fit_train_loss'] = history.history['loss'][epochs_trained]\n",
    "    \n",
    "\n",
    "    #######################\n",
    "    ### predict on test set\n",
    "    #######################\n",
    "    \n",
    "    \n",
    "    # start time inference\n",
    "    start = dt.datetime.now()\n",
    "    results['fit_test_dt_start'] = start.strftime(\"%Y-%m-%d %H:%M:%S\")\n",
    "\n",
    "    # calculate predictions on test set\n",
    "    predictions = model.predict(x_test)\n",
    "    \n",
    "    # end time training\n",
    "    end = dt.datetime.now()    \n",
    "    results['fit_test_dt_end']  = end.strftime(\"%Y-%m-%d %H:%M:%S\")\n",
    "    results['fit_test_dt_duration']  = str((end - start).total_seconds()).split(\".\")[0]\n",
    "\n",
    "    # calculate test error \n",
    "    pdf = pd.DataFrame(predictions)\n",
    "    pdf.columns = ['noseal','seal']\n",
    "\n",
    "    # get filenames for predictions\n",
    "    filenames = []\n",
    "    for vid_name in vids_test:\n",
    "        filenames_vid = list(dfp[dfp['vid'] == vid_name]['path'])\n",
    "        filenames.extend(filenames_vid[sequence_length-1:])\n",
    "    pdf['filename'] = filenames\n",
    "    truth = pd.DataFrame(y_test)\n",
    "    truth.columns = ['truth_noseal','truth_seal']\n",
    "    truth = truth[['truth_seal']]\n",
    "    pdf['prediction'] = pdf['seal'].apply(lambda x: round(x))\n",
    "    pdf = pd.concat([pdf, truth], axis=1)\n",
    "    pdf['error'] = (pdf['prediction'] != pdf['truth_seal']).astype(int)\n",
    "\n",
    "    test_acc = 1 - pdf['error'].mean()\n",
    "\n",
    "    pdf.to_csv(path_model + 'test_predictions.csv')\n",
    "\n",
    "    results['fit_test_acc'] = 1 - pdf['error'].mean()\n",
    "    logger.info(\"model {} test acc: {}\".format(model_id, test_acc))\n",
    "\n",
    "    ###################################\n",
    "    ### save experiment results to file\n",
    "    ###################################\n",
    "    # log results\n",
    "    logger.info(json.dumps(results))\n",
    "    \n",
    "    with open(path_model + 'params.json', 'w') as f:\n",
    "        json.dump(results, f)"
   ]
  },
  {
   "cell_type": "code",
   "execution_count": 43,
   "metadata": {
    "ExecuteTime": {
     "end_time": "2018-12-17T11:42:43.247428Z",
     "start_time": "2018-12-17T11:42:43.243891Z"
    }
   },
   "outputs": [],
   "source": [
    "# pretrained_model_names = [\"inception_resnet_v2\", \"inception_v3\", \"mobilenetv2_1.00_224\", \"resnet50\", \"vgg16\", \"xception\"]\n",
    "# poolings = ['avg','max']\n",
    "# sequence_lengths = [1, 3, 5, 10, 15, 20, 40]\n",
    "\n",
    "# architectures = ['LSTM', \"MLP\"]\n",
    "# layer_1_sizefactors = [1,2,4,8]\n",
    "# layer_2_sizefactors = [0,1,2,4,8]\n",
    "# layer_3_sizefactors = [0,1,2,4,8]\n",
    "# dropouts = [0, 0.1, 0.2,0.3,0.4,0.5]"
   ]
  },
  {
   "cell_type": "code",
   "execution_count": 44,
   "metadata": {
    "ExecuteTime": {
     "end_time": "2018-12-17T11:42:43.255417Z",
     "start_time": "2018-12-17T11:42:43.250832Z"
    }
   },
   "outputs": [],
   "source": [
    "pretrained_model_names = [\"inception_resnet_v2\"]\n",
    "poolings = ['avg']\n",
    "sequence_lengths = [1, 3]\n",
    "\n",
    "architectures = [\"MLP\", \"LSTM\"]\n",
    "layer_1_sizefactors = [1,2,4,8]\n",
    "layer_2_sizefactors = [0,2,4,8]\n",
    "layer_3_sizefactors = [0,2,4,8]\n",
    "dropouts = [0.2, 0.5]"
   ]
  },
  {
   "cell_type": "code",
   "execution_count": 45,
   "metadata": {
    "ExecuteTime": {
     "end_time": "2018-12-17T11:42:45.266385Z",
     "start_time": "2018-12-17T11:42:45.260007Z"
    }
   },
   "outputs": [
    {
     "data": {
      "text/plain": [
       "512"
      ]
     },
     "execution_count": 45,
     "metadata": {},
     "output_type": "execute_result"
    }
   ],
   "source": [
    "experiment_count_total = 0\n",
    "for pretrained_model_name in pretrained_model_names:\n",
    "    for pooling in poolings:\n",
    "        for sequence_length in sequence_lengths:\n",
    "            for architecture in architectures:\n",
    "                for layer_1_sizefactor in layer_1_sizefactors:\n",
    "                    for layer_2_sizefactor in layer_2_sizefactors:\n",
    "                        for layer_3_sizefactor in layer_3_sizefactors:\n",
    "                            for dropout in dropouts:\n",
    "                                experiment_count_total+=1\n",
    "experiment_count_total"
   ]
  },
  {
   "cell_type": "code",
   "execution_count": null,
   "metadata": {
    "ExecuteTime": {
     "start_time": "2018-12-17T11:42:46.813Z"
    }
   },
   "outputs": [
    {
     "name": "stderr",
     "output_type": "stream",
     "text": [
      "2018-12-17 11:42:49,111 [MainThread  ] [INFO ]  begin experiment 341/512 - model_id: 341, architecture: LSTM, layer_1_sizefactor: 4, layer_2_sizefactor: 4, layer_3_sizefactor: 4, dropout: 0.2, sequence_length: 3, pretrained_model_name: inception_resnet_v2, pooling: avg, \n",
      "2018-12-17 11:45:51,103 [MainThread  ] [INFO ]  model 341 test acc: 0.8461538461538461\n",
      "2018-12-17 11:45:51,105 [MainThread  ] [INFO ]  {\"fit_val_acc\": 0.9308996088657105, \"fit_test_dt_duration\": \"1\", \"fit_test_acc\": 0.8461538461538461, \"fit_num_classes\": 2, \"shape_x_valid\": \"(2301, 3, 1536)\", \"fit_stopper_patience\": 10, \"fit_train_dt_duration\": \"179\", \"fit_val_loss\": 0.24571322989380914, \"fit_train_dt_end\": \"2018-12-17 11:45:49\", \"shape_y_train\": \"(9766, 2)\", \"fit_test_dt_start\": \"2018-12-17 11:45:49\", \"model_dropout\": 0.2, \"model_layer_1_sizefactor\": 4, \"fit_train_dt_start\": \"2018-12-17 11:42:50\", \"fit_batch_size\": 32, \"fit_train_acc\": 0.9023141511365964, \"shape_x_test\": \"(299, 3, 1536)\", \"model_layer_3_sizefactor\": 4, \"model_layer_2_sizefactor\": 4, \"model_num_features\": 1536, \"model_architecture\": \"LSTM\", \"shape_x_train\": \"(9766, 3, 1536)\", \"fit_test_dt_end\": \"2018-12-17 11:45:51\", \"param_count\": 3247106, \"pretrained_model_pooling\": \"avg\", \"fit_stopped_early\": true, \"id\": \"341\", \"model_sequence_length\": 3, \"fit_train_loss\": 0.25955707156931906, \"pretrained_model_name\": \"inception_resnet_v2\", \"fit_num_epochs\": 16}\n",
      "2018-12-17 11:45:51,114 [MainThread  ] [INFO ]  begin experiment 342/512 - model_id: 342, architecture: LSTM, layer_1_sizefactor: 4, layer_2_sizefactor: 4, layer_3_sizefactor: 4, dropout: 0.5, sequence_length: 3, pretrained_model_name: inception_resnet_v2, pooling: avg, \n",
      "2018-12-17 11:48:19,659 [MainThread  ] [INFO ]  model 342 test acc: 0.882943143812709\n",
      "2018-12-17 11:48:19,660 [MainThread  ] [INFO ]  {\"fit_val_acc\": 0.9165580185896829, \"fit_test_dt_duration\": \"1\", \"fit_test_acc\": 0.882943143812709, \"fit_num_classes\": 2, \"shape_x_valid\": \"(2301, 3, 1536)\", \"fit_stopper_patience\": 10, \"fit_train_dt_duration\": \"145\", \"fit_val_loss\": 0.3693337963358934, \"fit_train_dt_end\": \"2018-12-17 11:48:17\", \"shape_y_train\": \"(9766, 2)\", \"fit_test_dt_start\": \"2018-12-17 11:48:17\", \"model_dropout\": 0.5, \"model_layer_1_sizefactor\": 4, \"fit_train_dt_start\": \"2018-12-17 11:45:52\", \"fit_batch_size\": 32, \"fit_train_acc\": 0.844869957005858, \"shape_x_test\": \"(299, 3, 1536)\", \"model_layer_3_sizefactor\": 4, \"model_layer_2_sizefactor\": 4, \"model_num_features\": 1536, \"model_architecture\": \"LSTM\", \"shape_x_train\": \"(9766, 3, 1536)\", \"fit_test_dt_end\": \"2018-12-17 11:48:19\", \"param_count\": 3247106, \"pretrained_model_pooling\": \"avg\", \"fit_stopped_early\": true, \"id\": \"342\", \"model_sequence_length\": 3, \"fit_train_loss\": 0.3696810873028882, \"pretrained_model_name\": \"inception_resnet_v2\", \"fit_num_epochs\": 10}\n",
      "2018-12-17 11:48:19,668 [MainThread  ] [INFO ]  begin experiment 343/512 - model_id: 343, architecture: LSTM, layer_1_sizefactor: 4, layer_2_sizefactor: 4, layer_3_sizefactor: 8, dropout: 0.2, sequence_length: 3, pretrained_model_name: inception_resnet_v2, pooling: avg, \n",
      "2018-12-17 11:51:22,694 [MainThread  ] [INFO ]  model 343 test acc: 0.8795986622073578\n",
      "2018-12-17 11:51:22,695 [MainThread  ] [INFO ]  {\"fit_val_acc\": 0.9374185139746419, \"fit_test_dt_duration\": \"1\", \"fit_test_acc\": 0.8795986622073578, \"fit_num_classes\": 2, \"shape_x_valid\": \"(2301, 3, 1536)\", \"fit_stopper_patience\": 10, \"fit_train_dt_duration\": \"180\", \"fit_val_loss\": 0.2185756089712215, \"fit_train_dt_end\": \"2018-12-17 11:51:20\", \"shape_y_train\": \"(9766, 2)\", \"fit_test_dt_start\": \"2018-12-17 11:51:20\", \"model_dropout\": 0.2, \"model_layer_1_sizefactor\": 4, \"fit_train_dt_start\": \"2018-12-17 11:48:20\", \"fit_batch_size\": 32, \"fit_train_acc\": 0.8921769404054885, \"shape_x_test\": \"(299, 3, 1536)\", \"model_layer_3_sizefactor\": 8, \"model_layer_2_sizefactor\": 4, \"model_num_features\": 1536, \"model_architecture\": \"LSTM\", \"shape_x_train\": \"(9766, 3, 1536)\", \"fit_test_dt_end\": \"2018-12-17 11:51:22\", \"param_count\": 3172802, \"pretrained_model_pooling\": \"avg\", \"fit_stopped_early\": true, \"id\": \"343\", \"model_sequence_length\": 3, \"fit_train_loss\": 0.2744239697108107, \"pretrained_model_name\": \"inception_resnet_v2\", \"fit_num_epochs\": 15}\n",
      "2018-12-17 11:51:22,704 [MainThread  ] [INFO ]  begin experiment 344/512 - model_id: 344, architecture: LSTM, layer_1_sizefactor: 4, layer_2_sizefactor: 4, layer_3_sizefactor: 8, dropout: 0.5, sequence_length: 3, pretrained_model_name: inception_resnet_v2, pooling: avg, \n",
      "2018-12-17 11:53:20,696 [MainThread  ] [INFO ]  model 344 test acc: 0.802675585284281\n",
      "2018-12-17 11:53:20,697 [MainThread  ] [INFO ]  {\"fit_val_acc\": 0.8939591484813781, \"fit_test_dt_duration\": \"1\", \"fit_test_acc\": 0.802675585284281, \"fit_num_classes\": 2, \"shape_x_valid\": \"(2301, 3, 1536)\", \"fit_stopper_patience\": 10, \"fit_train_dt_duration\": \"115\", \"fit_val_loss\": 0.3600860335084989, \"fit_train_dt_end\": \"2018-12-17 11:53:18\", \"shape_y_train\": \"(9766, 2)\", \"fit_test_dt_start\": \"2018-12-17 11:53:18\", \"model_dropout\": 0.5, \"model_layer_1_sizefactor\": 4, \"fit_train_dt_start\": \"2018-12-17 11:51:23\", \"fit_batch_size\": 32, \"fit_train_acc\": 0.820704484947778, \"shape_x_test\": \"(299, 3, 1536)\", \"model_layer_3_sizefactor\": 8, \"model_layer_2_sizefactor\": 4, \"model_num_features\": 1536, \"model_architecture\": \"LSTM\", \"shape_x_train\": \"(9766, 3, 1536)\", \"fit_test_dt_end\": \"2018-12-17 11:53:20\", \"param_count\": 3172802, \"pretrained_model_pooling\": \"avg\", \"fit_stopped_early\": true, \"id\": \"344\", \"model_sequence_length\": 3, \"fit_train_loss\": 0.40490860794866373, \"pretrained_model_name\": \"inception_resnet_v2\", \"fit_num_epochs\": 5}\n",
      "2018-12-17 11:53:20,707 [MainThread  ] [INFO ]  begin experiment 345/512 - model_id: 345, architecture: LSTM, layer_1_sizefactor: 4, layer_2_sizefactor: 8, layer_3_sizefactor: 0, dropout: 0.2, sequence_length: 3, pretrained_model_name: inception_resnet_v2, pooling: avg, \n",
      "2018-12-17 11:56:14,818 [MainThread  ] [INFO ]  model 345 test acc: 0.9464882943143813\n",
      "2018-12-17 11:56:14,819 [MainThread  ] [INFO ]  {\"fit_val_acc\": 0.9339417647351809, \"fit_test_dt_duration\": \"2\", \"fit_test_acc\": 0.9464882943143813, \"fit_num_classes\": 2, \"shape_x_valid\": \"(2301, 3, 1536)\", \"fit_stopper_patience\": 10, \"fit_train_dt_duration\": \"171\", \"fit_val_loss\": 0.24117528928564405, \"fit_train_dt_end\": \"2018-12-17 11:56:12\", \"shape_y_train\": \"(9766, 2)\", \"fit_test_dt_start\": \"2018-12-17 11:56:12\", \"model_dropout\": 0.2, \"model_layer_1_sizefactor\": 4, \"fit_train_dt_start\": \"2018-12-17 11:53:21\", \"fit_batch_size\": 32, \"fit_train_acc\": 0.8966823673848854, \"shape_x_test\": \"(299, 3, 1536)\", \"model_layer_3_sizefactor\": 0, \"model_layer_2_sizefactor\": 8, \"model_num_features\": 1536, \"model_architecture\": \"LSTM\", \"shape_x_train\": \"(9766, 3, 1536)\", \"fit_test_dt_end\": \"2018-12-17 11:56:14\", \"param_count\": 3024962, \"pretrained_model_pooling\": \"avg\", \"fit_stopped_early\": true, \"id\": \"345\", \"model_sequence_length\": 3, \"fit_train_loss\": 0.26146306349878157, \"pretrained_model_name\": \"inception_resnet_v2\", \"fit_num_epochs\": 15}\n",
      "2018-12-17 11:56:14,827 [MainThread  ] [INFO ]  begin experiment 346/512 - model_id: 346, architecture: LSTM, layer_1_sizefactor: 4, layer_2_sizefactor: 8, layer_3_sizefactor: 0, dropout: 0.5, sequence_length: 3, pretrained_model_name: inception_resnet_v2, pooling: avg, \n",
      "2018-12-17 11:59:24,383 [MainThread  ] [INFO ]  model 346 test acc: 0.8160535117056856\n",
      "2018-12-17 11:59:24,385 [MainThread  ] [INFO ]  {\"fit_val_acc\": 0.9213385485090001, \"fit_test_dt_duration\": \"1\", \"fit_test_acc\": 0.8160535117056856, \"fit_num_classes\": 2, \"shape_x_valid\": \"(2301, 3, 1536)\", \"fit_stopper_patience\": 10, \"fit_train_dt_duration\": \"186\", \"fit_val_loss\": 0.3083845167536157, \"fit_train_dt_end\": \"2018-12-17 11:59:22\", \"shape_y_train\": \"(9766, 2)\", \"fit_test_dt_start\": \"2018-12-17 11:59:22\", \"model_dropout\": 0.5, \"model_layer_1_sizefactor\": 4, \"fit_train_dt_start\": \"2018-12-17 11:56:15\", \"fit_batch_size\": 32, \"fit_train_acc\": 0.8708785582633627, \"shape_x_test\": \"(299, 3, 1536)\", \"model_layer_3_sizefactor\": 0, \"model_layer_2_sizefactor\": 8, \"model_num_features\": 1536, \"model_architecture\": \"LSTM\", \"shape_x_train\": \"(9766, 3, 1536)\", \"fit_test_dt_end\": \"2018-12-17 11:59:24\", \"param_count\": 3024962, \"pretrained_model_pooling\": \"avg\", \"fit_stopped_early\": true, \"id\": \"346\", \"model_sequence_length\": 3, \"fit_train_loss\": 0.32621213436254876, \"pretrained_model_name\": \"inception_resnet_v2\", \"fit_num_epochs\": 17}\n"
     ]
    },
    {
     "name": "stderr",
     "output_type": "stream",
     "text": [
      "2018-12-17 11:59:24,392 [MainThread  ] [INFO ]  begin experiment 347/512 - model_id: 347, architecture: LSTM, layer_1_sizefactor: 4, layer_2_sizefactor: 8, layer_3_sizefactor: 2, dropout: 0.2, sequence_length: 3, pretrained_model_name: inception_resnet_v2, pooling: avg, \n",
      "2018-12-17 12:01:23,426 [MainThread  ] [INFO ]  model 347 test acc: 0.939799331103679\n",
      "2018-12-17 12:01:23,427 [MainThread  ] [INFO ]  {\"fit_val_acc\": 0.9252498914033939, \"fit_test_dt_duration\": \"1\", \"fit_test_acc\": 0.939799331103679, \"fit_num_classes\": 2, \"shape_x_valid\": \"(2301, 3, 1536)\", \"fit_stopper_patience\": 10, \"fit_train_dt_duration\": \"116\", \"fit_val_loss\": 0.32739054184020056, \"fit_train_dt_end\": \"2018-12-17 12:01:21\", \"shape_y_train\": \"(9766, 2)\", \"fit_test_dt_start\": \"2018-12-17 12:01:21\", \"model_dropout\": 0.2, \"model_layer_1_sizefactor\": 4, \"fit_train_dt_start\": \"2018-12-17 11:59:25\", \"fit_batch_size\": 32, \"fit_train_acc\": 0.868011468359615, \"shape_x_test\": \"(299, 3, 1536)\", \"model_layer_3_sizefactor\": 2, \"model_layer_2_sizefactor\": 8, \"model_num_features\": 1536, \"model_architecture\": \"LSTM\", \"shape_x_train\": \"(9766, 3, 1536)\", \"fit_test_dt_end\": \"2018-12-17 12:01:23\", \"param_count\": 3174338, \"pretrained_model_pooling\": \"avg\", \"fit_stopped_early\": true, \"id\": \"347\", \"model_sequence_length\": 3, \"fit_train_loss\": 0.3227971923624715, \"pretrained_model_name\": \"inception_resnet_v2\", \"fit_num_epochs\": 5}\n",
      "2018-12-17 12:01:23,435 [MainThread  ] [INFO ]  begin experiment 348/512 - model_id: 348, architecture: LSTM, layer_1_sizefactor: 4, layer_2_sizefactor: 8, layer_3_sizefactor: 2, dropout: 0.5, sequence_length: 3, pretrained_model_name: inception_resnet_v2, pooling: avg, \n",
      "2018-12-17 12:04:41,641 [MainThread  ] [INFO ]  model 348 test acc: 0.8528428093645485\n",
      "2018-12-17 12:04:41,642 [MainThread  ] [INFO ]  {\"fit_val_acc\": 0.9196001738892696, \"fit_test_dt_duration\": \"2\", \"fit_test_acc\": 0.8528428093645485, \"fit_num_classes\": 2, \"shape_x_valid\": \"(2301, 3, 1536)\", \"fit_stopper_patience\": 10, \"fit_train_dt_duration\": \"195\", \"fit_val_loss\": 0.38604279106619666, \"fit_train_dt_end\": \"2018-12-17 12:04:39\", \"shape_y_train\": \"(9766, 2)\", \"fit_test_dt_start\": \"2018-12-17 12:04:39\", \"model_dropout\": 0.5, \"model_layer_1_sizefactor\": 4, \"fit_train_dt_start\": \"2018-12-17 12:01:24\", \"fit_batch_size\": 32, \"fit_train_acc\": 0.8583862379562555, \"shape_x_test\": \"(299, 3, 1536)\", \"model_layer_3_sizefactor\": 2, \"model_layer_2_sizefactor\": 8, \"model_num_features\": 1536, \"model_architecture\": \"LSTM\", \"shape_x_train\": \"(9766, 3, 1536)\", \"fit_test_dt_end\": \"2018-12-17 12:04:41\", \"param_count\": 3174338, \"pretrained_model_pooling\": \"avg\", \"fit_stopped_early\": true, \"id\": \"348\", \"model_sequence_length\": 3, \"fit_train_loss\": 0.34835360492933437, \"pretrained_model_name\": \"inception_resnet_v2\", \"fit_num_epochs\": 17}\n",
      "2018-12-17 12:04:41,651 [MainThread  ] [INFO ]  begin experiment 349/512 - model_id: 349, architecture: LSTM, layer_1_sizefactor: 4, layer_2_sizefactor: 8, layer_3_sizefactor: 4, dropout: 0.2, sequence_length: 3, pretrained_model_name: inception_resnet_v2, pooling: avg, \n",
      "2018-12-17 12:06:41,692 [MainThread  ] [INFO ]  model 349 test acc: 0.8929765886287625\n",
      "2018-12-17 12:06:41,693 [MainThread  ] [INFO ]  {\"fit_val_acc\": 0.9239461101536541, \"fit_test_dt_duration\": \"2\", \"fit_test_acc\": 0.8929765886287625, \"fit_num_classes\": 2, \"shape_x_valid\": \"(2301, 3, 1536)\", \"fit_stopper_patience\": 10, \"fit_train_dt_duration\": \"116\", \"fit_val_loss\": 0.33347105388017595, \"fit_train_dt_end\": \"2018-12-17 12:06:39\", \"shape_y_train\": \"(9766, 2)\", \"fit_test_dt_start\": \"2018-12-17 12:06:39\", \"model_dropout\": 0.2, \"model_layer_1_sizefactor\": 4, \"fit_train_dt_start\": \"2018-12-17 12:04:42\", \"fit_batch_size\": 32, \"fit_train_acc\": 0.8687282408233453, \"shape_x_test\": \"(299, 3, 1536)\", \"model_layer_3_sizefactor\": 4, \"model_layer_2_sizefactor\": 8, \"model_num_features\": 1536, \"model_architecture\": \"LSTM\", \"shape_x_train\": \"(9766, 3, 1536)\", \"fit_test_dt_end\": \"2018-12-17 12:06:41\", \"param_count\": 3099458, \"pretrained_model_pooling\": \"avg\", \"fit_stopped_early\": true, \"id\": \"349\", \"model_sequence_length\": 3, \"fit_train_loss\": 0.31661359252632826, \"pretrained_model_name\": \"inception_resnet_v2\", \"fit_num_epochs\": 5}\n",
      "2018-12-17 12:06:41,701 [MainThread  ] [INFO ]  begin experiment 350/512 - model_id: 350, architecture: LSTM, layer_1_sizefactor: 4, layer_2_sizefactor: 8, layer_3_sizefactor: 4, dropout: 0.5, sequence_length: 3, pretrained_model_name: inception_resnet_v2, pooling: avg, \n",
      "2018-12-17 12:09:35,137 [MainThread  ] [INFO ]  model 350 test acc: 0.8093645484949833\n",
      "2018-12-17 12:09:35,138 [MainThread  ] [INFO ]  {\"fit_val_acc\": 0.9213385485090001, \"fit_test_dt_duration\": \"2\", \"fit_test_acc\": 0.8093645484949833, \"fit_num_classes\": 2, \"shape_x_valid\": \"(2301, 3, 1536)\", \"fit_stopper_patience\": 10, \"fit_train_dt_duration\": \"170\", \"fit_val_loss\": 0.36789248251023887, \"fit_train_dt_end\": \"2018-12-17 12:09:33\", \"shape_y_train\": \"(9766, 2)\", \"fit_test_dt_start\": \"2018-12-17 12:09:33\", \"model_dropout\": 0.5, \"model_layer_1_sizefactor\": 4, \"fit_train_dt_start\": \"2018-12-17 12:06:42\", \"fit_batch_size\": 32, \"fit_train_acc\": 0.8453819373213999, \"shape_x_test\": \"(299, 3, 1536)\", \"model_layer_3_sizefactor\": 4, \"model_layer_2_sizefactor\": 8, \"model_num_features\": 1536, \"model_architecture\": \"LSTM\", \"shape_x_train\": \"(9766, 3, 1536)\", \"fit_test_dt_end\": \"2018-12-17 12:09:35\", \"param_count\": 3099458, \"pretrained_model_pooling\": \"avg\", \"fit_stopped_early\": true, \"id\": \"350\", \"model_sequence_length\": 3, \"fit_train_loss\": 0.3682468996724461, \"pretrained_model_name\": \"inception_resnet_v2\", \"fit_num_epochs\": 13}\n",
      "2018-12-17 12:09:35,147 [MainThread  ] [INFO ]  begin experiment 351/512 - model_id: 351, architecture: LSTM, layer_1_sizefactor: 4, layer_2_sizefactor: 8, layer_3_sizefactor: 8, dropout: 0.2, sequence_length: 3, pretrained_model_name: inception_resnet_v2, pooling: avg, \n",
      "2018-12-17 12:13:04,839 [MainThread  ] [INFO ]  model 351 test acc: 0.8929765886287625\n",
      "2018-12-17 12:13:04,840 [MainThread  ] [INFO ]  {\"fit_val_acc\": 0.9408952629809688, \"fit_test_dt_duration\": \"2\", \"fit_test_acc\": 0.8929765886287625, \"fit_num_classes\": 2, \"shape_x_valid\": \"(2301, 3, 1536)\", \"fit_stopper_patience\": 10, \"fit_train_dt_duration\": \"206\", \"fit_val_loss\": 0.23412513871495488, \"fit_train_dt_end\": \"2018-12-17 12:13:02\", \"shape_y_train\": \"(9766, 2)\", \"fit_test_dt_start\": \"2018-12-17 12:13:02\", \"model_dropout\": 0.2, \"model_layer_1_sizefactor\": 4, \"fit_train_dt_start\": \"2018-12-17 12:09:36\", \"fit_batch_size\": 32, \"fit_train_acc\": 0.9030309236125332, \"shape_x_test\": \"(299, 3, 1536)\", \"model_layer_3_sizefactor\": 8, \"model_layer_2_sizefactor\": 8, \"model_num_features\": 1536, \"model_architecture\": \"LSTM\", \"shape_x_train\": \"(9766, 3, 1536)\", \"fit_test_dt_end\": \"2018-12-17 12:13:04\", \"param_count\": 3062018, \"pretrained_model_pooling\": \"avg\", \"fit_stopped_early\": true, \"id\": \"351\", \"model_sequence_length\": 3, \"fit_train_loss\": 0.2555780510234828, \"pretrained_model_name\": \"inception_resnet_v2\", \"fit_num_epochs\": 18}\n",
      "2018-12-17 12:13:04,850 [MainThread  ] [INFO ]  begin experiment 352/512 - model_id: 352, architecture: LSTM, layer_1_sizefactor: 4, layer_2_sizefactor: 8, layer_3_sizefactor: 8, dropout: 0.5, sequence_length: 3, pretrained_model_name: inception_resnet_v2, pooling: avg, \n",
      "2018-12-17 12:15:14,576 [MainThread  ] [INFO ]  model 352 test acc: 0.8127090301003345\n",
      "2018-12-17 12:15:14,577 [MainThread  ] [INFO ]  {\"fit_val_acc\": 0.9030856150018294, \"fit_test_dt_duration\": \"2\", \"fit_test_acc\": 0.8127090301003345, \"fit_num_classes\": 2, \"shape_x_valid\": \"(2301, 3, 1536)\", \"fit_stopper_patience\": 10, \"fit_train_dt_duration\": \"126\", \"fit_val_loss\": 0.37895342379950897, \"fit_train_dt_end\": \"2018-12-17 12:15:12\", \"shape_y_train\": \"(9766, 2)\", \"fit_test_dt_start\": \"2018-12-17 12:15:12\", \"model_dropout\": 0.5, \"model_layer_1_sizefactor\": 4, \"fit_train_dt_start\": \"2018-12-17 12:13:05\", \"fit_batch_size\": 32, \"fit_train_acc\": 0.8194757321318862, \"shape_x_test\": \"(299, 3, 1536)\", \"model_layer_3_sizefactor\": 8, \"model_layer_2_sizefactor\": 8, \"model_num_features\": 1536, \"model_architecture\": \"LSTM\", \"shape_x_train\": \"(9766, 3, 1536)\", \"fit_test_dt_end\": \"2018-12-17 12:15:14\", \"param_count\": 3062018, \"pretrained_model_pooling\": \"avg\", \"fit_stopped_early\": true, \"id\": \"352\", \"model_sequence_length\": 3, \"fit_train_loss\": 0.403573046117783, \"pretrained_model_name\": \"inception_resnet_v2\", \"fit_num_epochs\": 6}\n"
     ]
    },
    {
     "name": "stderr",
     "output_type": "stream",
     "text": [
      "2018-12-17 12:15:14,587 [MainThread  ] [INFO ]  begin experiment 353/512 - model_id: 353, architecture: LSTM, layer_1_sizefactor: 8, layer_2_sizefactor: 0, layer_3_sizefactor: 0, dropout: 0.2, sequence_length: 3, pretrained_model_name: inception_resnet_v2, pooling: avg, \n",
      "2018-12-17 12:17:07,762 [MainThread  ] [INFO ]  model 353 test acc: 0.9096989966555185\n",
      "2018-12-17 12:17:07,764 [MainThread  ] [INFO ]  {\"fit_val_acc\": 0.9282920469879223, \"fit_test_dt_duration\": \"2\", \"fit_test_acc\": 0.9096989966555185, \"fit_num_classes\": 2, \"shape_x_valid\": \"(2301, 3, 1536)\", \"fit_stopper_patience\": 10, \"fit_train_dt_duration\": \"110\", \"fit_val_loss\": 0.2667575466119948, \"fit_train_dt_end\": \"2018-12-17 12:17:05\", \"shape_y_train\": \"(9766, 2)\", \"fit_test_dt_start\": \"2018-12-17 12:17:05\", \"model_dropout\": 0.2, \"model_layer_1_sizefactor\": 8, \"fit_train_dt_start\": \"2018-12-17 12:15:15\", \"fit_batch_size\": 32, \"fit_train_acc\": 0.8894122465819383, \"shape_x_test\": \"(299, 3, 1536)\", \"model_layer_3_sizefactor\": 0, \"model_layer_2_sizefactor\": 0, \"model_num_features\": 1536, \"model_architecture\": \"LSTM\", \"shape_x_train\": \"(9766, 3, 1536)\", \"fit_test_dt_end\": \"2018-12-17 12:17:07\", \"param_count\": 1328258, \"pretrained_model_pooling\": \"avg\", \"fit_stopped_early\": true, \"id\": \"353\", \"model_sequence_length\": 3, \"fit_train_loss\": 0.28067358905922896, \"pretrained_model_name\": \"inception_resnet_v2\", \"fit_num_epochs\": 7}\n",
      "2018-12-17 12:17:07,772 [MainThread  ] [INFO ]  begin experiment 354/512 - model_id: 354, architecture: LSTM, layer_1_sizefactor: 8, layer_2_sizefactor: 0, layer_3_sizefactor: 0, dropout: 0.5, sequence_length: 3, pretrained_model_name: inception_resnet_v2, pooling: avg, \n",
      "2018-12-17 12:20:25,866 [MainThread  ] [INFO ]  model 354 test acc: 0.842809364548495\n",
      "2018-12-17 12:20:25,867 [MainThread  ] [INFO ]  {\"fit_val_acc\": 0.9191655802343369, \"fit_test_dt_duration\": \"2\", \"fit_test_acc\": 0.842809364548495, \"fit_num_classes\": 2, \"shape_x_valid\": \"(2301, 3, 1536)\", \"fit_stopper_patience\": 10, \"fit_train_dt_duration\": \"194\", \"fit_val_loss\": 0.26082819478763597, \"fit_train_dt_end\": \"2018-12-17 12:20:23\", \"shape_y_train\": \"(9766, 2)\", \"fit_test_dt_start\": \"2018-12-17 12:20:23\", \"model_dropout\": 0.5, \"model_layer_1_sizefactor\": 8, \"fit_train_dt_start\": \"2018-12-17 12:17:08\", \"fit_batch_size\": 32, \"fit_train_acc\": 0.8758959655949211, \"shape_x_test\": \"(299, 3, 1536)\", \"model_layer_3_sizefactor\": 0, \"model_layer_2_sizefactor\": 0, \"model_num_features\": 1536, \"model_architecture\": \"LSTM\", \"shape_x_train\": \"(9766, 3, 1536)\", \"fit_test_dt_end\": \"2018-12-17 12:20:25\", \"param_count\": 1328258, \"pretrained_model_pooling\": \"avg\", \"fit_stopped_early\": true, \"id\": \"354\", \"model_sequence_length\": 3, \"fit_train_loss\": 0.3044704045332127, \"pretrained_model_name\": \"inception_resnet_v2\", \"fit_num_epochs\": 23}\n",
      "2018-12-17 12:20:25,875 [MainThread  ] [INFO ]  begin experiment 355/512 - model_id: 355, architecture: LSTM, layer_1_sizefactor: 8, layer_2_sizefactor: 0, layer_3_sizefactor: 2, dropout: 0.2, sequence_length: 3, pretrained_model_name: inception_resnet_v2, pooling: avg, \n",
      "2018-12-17 12:22:30,184 [MainThread  ] [INFO ]  model 355 test acc: 0.842809364548495\n",
      "2018-12-17 12:22:30,185 [MainThread  ] [INFO ]  {\"fit_val_acc\": 0.9278574533329897, \"fit_test_dt_duration\": \"2\", \"fit_test_acc\": 0.842809364548495, \"fit_num_classes\": 2, \"shape_x_valid\": \"(2301, 3, 1536)\", \"fit_stopper_patience\": 10, \"fit_train_dt_duration\": \"121\", \"fit_val_loss\": 0.25206734841670847, \"fit_train_dt_end\": \"2018-12-17 12:22:27\", \"shape_y_train\": \"(9766, 2)\", \"fit_test_dt_start\": \"2018-12-17 12:22:27\", \"model_dropout\": 0.2, \"model_layer_1_sizefactor\": 8, \"fit_train_dt_start\": \"2018-12-17 12:20:26\", \"fit_batch_size\": 32, \"fit_train_acc\": 0.8860331763260291, \"shape_x_test\": \"(299, 3, 1536)\", \"model_layer_3_sizefactor\": 2, \"model_layer_2_sizefactor\": 0, \"model_num_features\": 1536, \"model_architecture\": \"LSTM\", \"shape_x_train\": \"(9766, 3, 1536)\", \"fit_test_dt_end\": \"2018-12-17 12:22:30\", \"param_count\": 1328258, \"pretrained_model_pooling\": \"avg\", \"fit_stopped_early\": true, \"id\": \"355\", \"model_sequence_length\": 3, \"fit_train_loss\": 0.2886443964888296, \"pretrained_model_name\": \"inception_resnet_v2\", \"fit_num_epochs\": 9}\n",
      "2018-12-17 12:22:30,193 [MainThread  ] [INFO ]  begin experiment 356/512 - model_id: 356, architecture: LSTM, layer_1_sizefactor: 8, layer_2_sizefactor: 0, layer_3_sizefactor: 2, dropout: 0.5, sequence_length: 3, pretrained_model_name: inception_resnet_v2, pooling: avg, \n",
      "2018-12-17 12:24:44,576 [MainThread  ] [INFO ]  model 356 test acc: 0.8494983277591973\n",
      "2018-12-17 12:24:44,577 [MainThread  ] [INFO ]  {\"fit_val_acc\": 0.9130812687803382, \"fit_test_dt_duration\": \"2\", \"fit_test_acc\": 0.8494983277591973, \"fit_num_classes\": 2, \"shape_x_valid\": \"(2301, 3, 1536)\", \"fit_stopper_patience\": 10, \"fit_train_dt_duration\": \"130\", \"fit_val_loss\": 0.285728878848763, \"fit_train_dt_end\": \"2018-12-17 12:24:41\", \"shape_y_train\": \"(9766, 2)\", \"fit_test_dt_start\": \"2018-12-17 12:24:41\", \"model_dropout\": 0.5, \"model_layer_1_sizefactor\": 8, \"fit_train_dt_start\": \"2018-12-17 12:22:31\", \"fit_batch_size\": 32, \"fit_train_acc\": 0.8579766536842915, \"shape_x_test\": \"(299, 3, 1536)\", \"model_layer_3_sizefactor\": 2, \"model_layer_2_sizefactor\": 0, \"model_num_features\": 1536, \"model_architecture\": \"LSTM\", \"shape_x_train\": \"(9766, 3, 1536)\", \"fit_test_dt_end\": \"2018-12-17 12:24:44\", \"param_count\": 1328258, \"pretrained_model_pooling\": \"avg\", \"fit_stopped_early\": true, \"id\": \"356\", \"model_sequence_length\": 3, \"fit_train_loss\": 0.3370131437538736, \"pretrained_model_name\": \"inception_resnet_v2\", \"fit_num_epochs\": 11}\n",
      "2018-12-17 12:24:44,586 [MainThread  ] [INFO ]  begin experiment 357/512 - model_id: 357, architecture: LSTM, layer_1_sizefactor: 8, layer_2_sizefactor: 0, layer_3_sizefactor: 4, dropout: 0.2, sequence_length: 3, pretrained_model_name: inception_resnet_v2, pooling: avg, \n",
      "2018-12-17 12:26:27,813 [MainThread  ] [INFO ]  model 357 test acc: 0.8762541806020067\n",
      "2018-12-17 12:26:27,815 [MainThread  ] [INFO ]  {\"fit_val_acc\": 0.920034767311068, \"fit_test_dt_duration\": \"2\", \"fit_test_acc\": 0.8762541806020067, \"fit_num_classes\": 2, \"shape_x_valid\": \"(2301, 3, 1536)\", \"fit_stopper_patience\": 10, \"fit_train_dt_duration\": \"99\", \"fit_val_loss\": 0.24632550218425486, \"fit_train_dt_end\": \"2018-12-17 12:26:25\", \"shape_y_train\": \"(9766, 2)\", \"fit_test_dt_start\": \"2018-12-17 12:26:25\", \"model_dropout\": 0.2, \"model_layer_1_sizefactor\": 8, \"fit_train_dt_start\": \"2018-12-17 12:24:45\", \"fit_batch_size\": 32, \"fit_train_acc\": 0.8787630554986688, \"shape_x_test\": \"(299, 3, 1536)\", \"model_layer_3_sizefactor\": 4, \"model_layer_2_sizefactor\": 0, \"model_num_features\": 1536, \"model_architecture\": \"LSTM\", \"shape_x_train\": \"(9766, 3, 1536)\", \"fit_test_dt_end\": \"2018-12-17 12:26:27\", \"param_count\": 1328258, \"pretrained_model_pooling\": \"avg\", \"fit_stopped_early\": true, \"id\": \"357\", \"model_sequence_length\": 3, \"fit_train_loss\": 0.30584643765774366, \"pretrained_model_name\": \"inception_resnet_v2\", \"fit_num_epochs\": 5}\n",
      "2018-12-17 12:26:27,825 [MainThread  ] [INFO ]  begin experiment 358/512 - model_id: 358, architecture: LSTM, layer_1_sizefactor: 8, layer_2_sizefactor: 0, layer_3_sizefactor: 4, dropout: 0.5, sequence_length: 3, pretrained_model_name: inception_resnet_v2, pooling: avg, \n",
      "2018-12-17 12:28:20,466 [MainThread  ] [INFO ]  model 358 test acc: 0.8896321070234113\n",
      "2018-12-17 12:28:20,467 [MainThread  ] [INFO ]  {\"fit_val_acc\": 0.9017818340370314, \"fit_test_dt_duration\": \"2\", \"fit_test_acc\": 0.8896321070234113, \"fit_num_classes\": 2, \"shape_x_valid\": \"(2301, 3, 1536)\", \"fit_stopper_patience\": 10, \"fit_train_dt_duration\": \"109\", \"fit_val_loss\": 0.34715708403782136, \"fit_train_dt_end\": \"2018-12-17 12:28:17\", \"shape_y_train\": \"(9766, 2)\", \"fit_test_dt_start\": \"2018-12-17 12:28:17\", \"model_dropout\": 0.5, \"model_layer_1_sizefactor\": 8, \"fit_train_dt_start\": \"2018-12-17 12:26:28\", \"fit_batch_size\": 32, \"fit_train_acc\": 0.8399549457178774, \"shape_x_test\": \"(299, 3, 1536)\", \"model_layer_3_sizefactor\": 4, \"model_layer_2_sizefactor\": 0, \"model_num_features\": 1536, \"model_architecture\": \"LSTM\", \"shape_x_train\": \"(9766, 3, 1536)\", \"fit_test_dt_end\": \"2018-12-17 12:28:20\", \"param_count\": 1328258, \"pretrained_model_pooling\": \"avg\", \"fit_stopped_early\": true, \"id\": \"358\", \"model_sequence_length\": 3, \"fit_train_loss\": 0.36661730456762376, \"pretrained_model_name\": \"inception_resnet_v2\", \"fit_num_epochs\": 7}\n"
     ]
    },
    {
     "name": "stderr",
     "output_type": "stream",
     "text": [
      "2018-12-17 12:28:20,475 [MainThread  ] [INFO ]  begin experiment 359/512 - model_id: 359, architecture: LSTM, layer_1_sizefactor: 8, layer_2_sizefactor: 0, layer_3_sizefactor: 8, dropout: 0.2, sequence_length: 3, pretrained_model_name: inception_resnet_v2, pooling: avg, \n",
      "2018-12-17 12:30:13,696 [MainThread  ] [INFO ]  model 359 test acc: 0.862876254180602\n",
      "2018-12-17 12:30:13,697 [MainThread  ] [INFO ]  {\"fit_val_acc\": 0.9282920467029805, \"fit_test_dt_duration\": \"2\", \"fit_test_acc\": 0.862876254180602, \"fit_num_classes\": 2, \"shape_x_valid\": \"(2301, 3, 1536)\", \"fit_stopper_patience\": 10, \"fit_train_dt_duration\": \"109\", \"fit_val_loss\": 0.23127041289543182, \"fit_train_dt_end\": \"2018-12-17 12:30:10\", \"shape_y_train\": \"(9766, 2)\", \"fit_test_dt_start\": \"2018-12-17 12:30:10\", \"model_dropout\": 0.2, \"model_layer_1_sizefactor\": 8, \"fit_train_dt_start\": \"2018-12-17 12:28:21\", \"fit_batch_size\": 32, \"fit_train_acc\": 0.8838828588982183, \"shape_x_test\": \"(299, 3, 1536)\", \"model_layer_3_sizefactor\": 8, \"model_layer_2_sizefactor\": 0, \"model_num_features\": 1536, \"model_architecture\": \"LSTM\", \"shape_x_train\": \"(9766, 3, 1536)\", \"fit_test_dt_end\": \"2018-12-17 12:30:13\", \"param_count\": 1328258, \"pretrained_model_pooling\": \"avg\", \"fit_stopped_early\": true, \"id\": \"359\", \"model_sequence_length\": 3, \"fit_train_loss\": 0.29201086767791434, \"pretrained_model_name\": \"inception_resnet_v2\", \"fit_num_epochs\": 7}\n",
      "2018-12-17 12:30:13,707 [MainThread  ] [INFO ]  begin experiment 360/512 - model_id: 360, architecture: LSTM, layer_1_sizefactor: 8, layer_2_sizefactor: 0, layer_3_sizefactor: 8, dropout: 0.5, sequence_length: 3, pretrained_model_name: inception_resnet_v2, pooling: avg, \n",
      "2018-12-17 12:32:34,675 [MainThread  ] [INFO ]  model 360 test acc: 0.8695652173913043\n",
      "2018-12-17 12:32:34,676 [MainThread  ] [INFO ]  {\"fit_val_acc\": 0.9178617989845972, \"fit_test_dt_duration\": \"2\", \"fit_test_acc\": 0.8695652173913043, \"fit_num_classes\": 2, \"shape_x_valid\": \"(2301, 3, 1536)\", \"fit_stopper_patience\": 10, \"fit_train_dt_duration\": \"137\", \"fit_val_loss\": 0.28913477012666605, \"fit_train_dt_end\": \"2018-12-17 12:32:31\", \"shape_y_train\": \"(9766, 2)\", \"fit_test_dt_start\": \"2018-12-17 12:32:31\", \"model_dropout\": 0.5, \"model_layer_1_sizefactor\": 8, \"fit_train_dt_start\": \"2018-12-17 12:30:14\", \"fit_batch_size\": 32, \"fit_train_acc\": 0.8595125947163629, \"shape_x_test\": \"(299, 3, 1536)\", \"model_layer_3_sizefactor\": 8, \"model_layer_2_sizefactor\": 0, \"model_num_features\": 1536, \"model_architecture\": \"LSTM\", \"shape_x_train\": \"(9766, 3, 1536)\", \"fit_test_dt_end\": \"2018-12-17 12:32:34\", \"param_count\": 1328258, \"pretrained_model_pooling\": \"avg\", \"fit_stopped_early\": true, \"id\": \"360\", \"model_sequence_length\": 3, \"fit_train_loss\": 0.3352657640942193, \"pretrained_model_name\": \"inception_resnet_v2\", \"fit_num_epochs\": 12}\n",
      "2018-12-17 12:32:34,685 [MainThread  ] [INFO ]  begin experiment 361/512 - model_id: 361, architecture: LSTM, layer_1_sizefactor: 8, layer_2_sizefactor: 2, layer_3_sizefactor: 0, dropout: 0.2, sequence_length: 3, pretrained_model_name: inception_resnet_v2, pooling: avg, \n",
      "2018-12-17 12:35:25,496 [MainThread  ] [INFO ]  model 361 test acc: 0.8896321070234113\n",
      "2018-12-17 12:35:25,498 [MainThread  ] [INFO ]  {\"fit_val_acc\": 0.9330725769072395, \"fit_test_dt_duration\": \"2\", \"fit_test_acc\": 0.8896321070234113, \"fit_num_classes\": 2, \"shape_x_valid\": \"(2301, 3, 1536)\", \"fit_stopper_patience\": 10, \"fit_train_dt_duration\": \"167\", \"fit_val_loss\": 0.22451462083112048, \"fit_train_dt_end\": \"2018-12-17 12:35:22\", \"shape_y_train\": \"(9766, 2)\", \"fit_test_dt_start\": \"2018-12-17 12:35:22\", \"model_dropout\": 0.2, \"model_layer_1_sizefactor\": 8, \"fit_train_dt_start\": \"2018-12-17 12:32:35\", \"fit_batch_size\": 32, \"fit_train_acc\": 0.900880606172516, \"shape_x_test\": \"(299, 3, 1536)\", \"model_layer_3_sizefactor\": 0, \"model_layer_2_sizefactor\": 2, \"model_num_features\": 1536, \"model_architecture\": \"LSTM\", \"shape_x_train\": \"(9766, 3, 1536)\", \"fit_test_dt_end\": \"2018-12-17 12:35:25\", \"param_count\": 1477634, \"pretrained_model_pooling\": \"avg\", \"fit_stopped_early\": true, \"id\": \"361\", \"model_sequence_length\": 3, \"fit_train_loss\": 0.2555440677962732, \"pretrained_model_name\": \"inception_resnet_v2\", \"fit_num_epochs\": 16}\n",
      "2018-12-17 12:35:25,506 [MainThread  ] [INFO ]  begin experiment 362/512 - model_id: 362, architecture: LSTM, layer_1_sizefactor: 8, layer_2_sizefactor: 2, layer_3_sizefactor: 0, dropout: 0.5, sequence_length: 3, pretrained_model_name: inception_resnet_v2, pooling: avg, \n",
      "2018-12-17 12:37:03,500 [MainThread  ] [INFO ]  model 362 test acc: 0.7892976588628763\n",
      "2018-12-17 12:37:03,502 [MainThread  ] [INFO ]  {\"fit_val_acc\": 0.8961321163415805, \"fit_test_dt_duration\": \"2\", \"fit_test_acc\": 0.7892976588628763, \"fit_num_classes\": 2, \"shape_x_valid\": \"(2301, 3, 1536)\", \"fit_stopper_patience\": 10, \"fit_train_dt_duration\": \"94\", \"fit_val_loss\": 0.3425787188912516, \"fit_train_dt_end\": \"2018-12-17 12:37:00\", \"shape_y_train\": \"(9766, 2)\", \"fit_test_dt_start\": \"2018-12-17 12:37:00\", \"model_dropout\": 0.5, \"model_layer_1_sizefactor\": 8, \"fit_train_dt_start\": \"2018-12-17 12:35:26\", \"fit_batch_size\": 32, \"fit_train_acc\": 0.8125127994962923, \"shape_x_test\": \"(299, 3, 1536)\", \"model_layer_3_sizefactor\": 0, \"model_layer_2_sizefactor\": 2, \"model_num_features\": 1536, \"model_architecture\": \"LSTM\", \"shape_x_train\": \"(9766, 3, 1536)\", \"fit_test_dt_end\": \"2018-12-17 12:37:03\", \"param_count\": 1477634, \"pretrained_model_pooling\": \"avg\", \"fit_stopped_early\": true, \"id\": \"362\", \"model_sequence_length\": 3, \"fit_train_loss\": 0.4109828389499023, \"pretrained_model_name\": \"inception_resnet_v2\", \"fit_num_epochs\": 3}\n",
      "2018-12-17 12:37:03,511 [MainThread  ] [INFO ]  begin experiment 363/512 - model_id: 363, architecture: LSTM, layer_1_sizefactor: 8, layer_2_sizefactor: 2, layer_3_sizefactor: 2, dropout: 0.2, sequence_length: 3, pretrained_model_name: inception_resnet_v2, pooling: avg, \n",
      "2018-12-17 12:39:03,358 [MainThread  ] [INFO ]  model 363 test acc: 0.8494983277591973\n",
      "2018-12-17 12:39:03,359 [MainThread  ] [INFO ]  {\"fit_val_acc\": 0.9235115164987215, \"fit_test_dt_duration\": \"3\", \"fit_test_acc\": 0.8494983277591973, \"fit_num_classes\": 2, \"shape_x_valid\": \"(2301, 3, 1536)\", \"fit_stopper_patience\": 10, \"fit_train_dt_duration\": \"114\", \"fit_val_loss\": 0.2633185083324212, \"fit_train_dt_end\": \"2018-12-17 12:39:00\", \"shape_y_train\": \"(9766, 2)\", \"fit_test_dt_start\": \"2018-12-17 12:39:00\", \"model_dropout\": 0.2, \"model_layer_1_sizefactor\": 8, \"fit_train_dt_start\": \"2018-12-17 12:37:05\", \"fit_batch_size\": 32, \"fit_train_acc\": 0.8647347941839033, \"shape_x_test\": \"(299, 3, 1536)\", \"model_layer_3_sizefactor\": 2, \"model_layer_2_sizefactor\": 2, \"model_num_features\": 1536, \"model_architecture\": \"LSTM\", \"shape_x_train\": \"(9766, 3, 1536)\", \"fit_test_dt_end\": \"2018-12-17 12:39:03\", \"param_count\": 2068226, \"pretrained_model_pooling\": \"avg\", \"fit_stopped_early\": true, \"id\": \"363\", \"model_sequence_length\": 3, \"fit_train_loss\": 0.32462777809825266, \"pretrained_model_name\": \"inception_resnet_v2\", \"fit_num_epochs\": 5}\n",
      "2018-12-17 12:39:03,368 [MainThread  ] [INFO ]  begin experiment 364/512 - model_id: 364, architecture: LSTM, layer_1_sizefactor: 8, layer_2_sizefactor: 2, layer_3_sizefactor: 2, dropout: 0.5, sequence_length: 3, pretrained_model_name: inception_resnet_v2, pooling: avg, \n",
      "2018-12-17 12:42:26,336 [MainThread  ] [INFO ]  model 364 test acc: 0.8260869565217391\n",
      "2018-12-17 12:42:26,338 [MainThread  ] [INFO ]  {\"fit_val_acc\": 0.9278574533329897, \"fit_test_dt_duration\": \"2\", \"fit_test_acc\": 0.8260869565217391, \"fit_num_classes\": 2, \"shape_x_valid\": \"(2301, 3, 1536)\", \"fit_stopper_patience\": 10, \"fit_train_dt_duration\": \"199\", \"fit_val_loss\": 0.33713232170545965, \"fit_train_dt_end\": \"2018-12-17 12:42:23\", \"shape_y_train\": \"(9766, 2)\", \"fit_test_dt_start\": \"2018-12-17 12:42:23\", \"model_dropout\": 0.5, \"model_layer_1_sizefactor\": 8, \"fit_train_dt_start\": \"2018-12-17 12:39:04\", \"fit_batch_size\": 32, \"fit_train_acc\": 0.8532664345689126, \"shape_x_test\": \"(299, 3, 1536)\", \"model_layer_3_sizefactor\": 2, \"model_layer_2_sizefactor\": 2, \"model_num_features\": 1536, \"model_architecture\": \"LSTM\", \"shape_x_train\": \"(9766, 3, 1536)\", \"fit_test_dt_end\": \"2018-12-17 12:42:26\", \"param_count\": 2068226, \"pretrained_model_pooling\": \"avg\", \"fit_stopped_early\": true, \"id\": \"364\", \"model_sequence_length\": 3, \"fit_train_loss\": 0.34907540055527786, \"pretrained_model_name\": \"inception_resnet_v2\", \"fit_num_epochs\": 19}\n"
     ]
    },
    {
     "name": "stderr",
     "output_type": "stream",
     "text": [
      "2018-12-17 12:42:26,346 [MainThread  ] [INFO ]  begin experiment 365/512 - model_id: 365, architecture: LSTM, layer_1_sizefactor: 8, layer_2_sizefactor: 2, layer_3_sizefactor: 4, dropout: 0.2, sequence_length: 3, pretrained_model_name: inception_resnet_v2, pooling: avg, \n",
      "2018-12-17 12:46:16,560 [MainThread  ] [INFO ]  model 365 test acc: 0.8695652173913043\n",
      "2018-12-17 12:46:16,561 [MainThread  ] [INFO ]  {\"fit_val_acc\": 0.9378531071114986, \"fit_test_dt_duration\": \"3\", \"fit_test_acc\": 0.8695652173913043, \"fit_num_classes\": 2, \"shape_x_valid\": \"(2301, 3, 1536)\", \"fit_stopper_patience\": 10, \"fit_train_dt_duration\": \"226\", \"fit_val_loss\": 0.20424605651181038, \"fit_train_dt_end\": \"2018-12-17 12:46:13\", \"shape_y_train\": \"(9766, 2)\", \"fit_test_dt_start\": \"2018-12-17 12:46:13\", \"model_dropout\": 0.2, \"model_layer_1_sizefactor\": 8, \"fit_train_dt_start\": \"2018-12-17 12:42:27\", \"fit_batch_size\": 32, \"fit_train_acc\": 0.9047716567683801, \"shape_x_test\": \"(299, 3, 1536)\", \"model_layer_3_sizefactor\": 4, \"model_layer_2_sizefactor\": 2, \"model_num_features\": 1536, \"model_architecture\": \"LSTM\", \"shape_x_train\": \"(9766, 3, 1536)\", \"fit_test_dt_end\": \"2018-12-17 12:46:16\", \"param_count\": 1772162, \"pretrained_model_pooling\": \"avg\", \"fit_stopped_early\": true, \"id\": \"365\", \"model_sequence_length\": 3, \"fit_train_loss\": 0.25455748856131744, \"pretrained_model_name\": \"inception_resnet_v2\", \"fit_num_epochs\": 24}\n",
      "2018-12-17 12:46:16,570 [MainThread  ] [INFO ]  begin experiment 366/512 - model_id: 366, architecture: LSTM, layer_1_sizefactor: 8, layer_2_sizefactor: 2, layer_3_sizefactor: 4, dropout: 0.5, sequence_length: 3, pretrained_model_name: inception_resnet_v2, pooling: avg, \n",
      "2018-12-17 12:48:07,724 [MainThread  ] [INFO ]  model 366 test acc: 0.8294314381270903\n",
      "2018-12-17 12:48:07,726 [MainThread  ] [INFO ]  {\"fit_val_acc\": 0.8991742721074356, \"fit_test_dt_duration\": \"3\", \"fit_test_acc\": 0.8294314381270903, \"fit_num_classes\": 2, \"shape_x_valid\": \"(2301, 3, 1536)\", \"fit_stopper_patience\": 10, \"fit_train_dt_duration\": \"107\", \"fit_val_loss\": 0.34652762464055387, \"fit_train_dt_end\": \"2018-12-17 12:48:04\", \"shape_y_train\": \"(9766, 2)\", \"fit_test_dt_start\": \"2018-12-17 12:48:04\", \"model_dropout\": 0.5, \"model_layer_1_sizefactor\": 8, \"fit_train_dt_start\": \"2018-12-17 12:46:17\", \"fit_batch_size\": 32, \"fit_train_acc\": 0.8084169567888593, \"shape_x_test\": \"(299, 3, 1536)\", \"model_layer_3_sizefactor\": 4, \"model_layer_2_sizefactor\": 2, \"model_num_features\": 1536, \"model_architecture\": \"LSTM\", \"shape_x_train\": \"(9766, 3, 1536)\", \"fit_test_dt_end\": \"2018-12-17 12:48:07\", \"param_count\": 1772162, \"pretrained_model_pooling\": \"avg\", \"fit_stopped_early\": true, \"id\": \"366\", \"model_sequence_length\": 3, \"fit_train_loss\": 0.4169601084706043, \"pretrained_model_name\": \"inception_resnet_v2\", \"fit_num_epochs\": 4}\n",
      "2018-12-17 12:48:07,734 [MainThread  ] [INFO ]  begin experiment 367/512 - model_id: 367, architecture: LSTM, layer_1_sizefactor: 8, layer_2_sizefactor: 2, layer_3_sizefactor: 8, dropout: 0.2, sequence_length: 3, pretrained_model_name: inception_resnet_v2, pooling: avg, \n",
      "2018-12-17 12:51:47,622 [MainThread  ] [INFO ]  model 367 test acc: 0.8327759197324415\n",
      "2018-12-17 12:51:47,623 [MainThread  ] [INFO ]  {\"fit_val_acc\": 0.9369839203197093, \"fit_test_dt_duration\": \"3\", \"fit_test_acc\": 0.8327759197324415, \"fit_num_classes\": 2, \"shape_x_valid\": \"(2301, 3, 1536)\", \"fit_stopper_patience\": 10, \"fit_train_dt_duration\": \"215\", \"fit_val_loss\": 0.2156433050837635, \"fit_train_dt_end\": \"2018-12-17 12:51:44\", \"shape_y_train\": \"(9766, 2)\", \"fit_test_dt_start\": \"2018-12-17 12:51:44\", \"model_dropout\": 0.2, \"model_layer_1_sizefactor\": 8, \"fit_train_dt_start\": \"2018-12-17 12:48:08\", \"fit_batch_size\": 32, \"fit_train_acc\": 0.9063075977882449, \"shape_x_test\": \"(299, 3, 1536)\", \"model_layer_3_sizefactor\": 8, \"model_layer_2_sizefactor\": 2, \"model_num_features\": 1536, \"model_architecture\": \"LSTM\", \"shape_x_train\": \"(9766, 3, 1536)\", \"fit_test_dt_end\": \"2018-12-17 12:51:47\", \"param_count\": 1624130, \"pretrained_model_pooling\": \"avg\", \"fit_stopped_early\": true, \"id\": \"367\", \"model_sequence_length\": 3, \"fit_train_loss\": 0.24706301221880736, \"pretrained_model_name\": \"inception_resnet_v2\", \"fit_num_epochs\": 22}\n",
      "2018-12-17 12:51:47,632 [MainThread  ] [INFO ]  begin experiment 368/512 - model_id: 368, architecture: LSTM, layer_1_sizefactor: 8, layer_2_sizefactor: 2, layer_3_sizefactor: 8, dropout: 0.5, sequence_length: 3, pretrained_model_name: inception_resnet_v2, pooling: avg, \n",
      "2018-12-17 12:55:33,417 [MainThread  ] [INFO ]  model 368 test acc: 0.8260869565217391\n",
      "2018-12-17 12:55:33,418 [MainThread  ] [INFO ]  {\"fit_val_acc\": 0.9261190787132592, \"fit_test_dt_duration\": \"3\", \"fit_test_acc\": 0.8260869565217391, \"fit_num_classes\": 2, \"shape_x_valid\": \"(2301, 3, 1536)\", \"fit_stopper_patience\": 10, \"fit_train_dt_duration\": \"221\", \"fit_val_loss\": 0.3146435592626292, \"fit_train_dt_end\": \"2018-12-17 12:55:30\", \"shape_y_train\": \"(9766, 2)\", \"fit_test_dt_start\": \"2018-12-17 12:55:30\", \"model_dropout\": 0.5, \"model_layer_1_sizefactor\": 8, \"fit_train_dt_start\": \"2018-12-17 12:51:48\", \"fit_batch_size\": 32, \"fit_train_acc\": 0.8679090722794175, \"shape_x_test\": \"(299, 3, 1536)\", \"model_layer_3_sizefactor\": 8, \"model_layer_2_sizefactor\": 2, \"model_num_features\": 1536, \"model_architecture\": \"LSTM\", \"shape_x_train\": \"(9766, 3, 1536)\", \"fit_test_dt_end\": \"2018-12-17 12:55:33\", \"param_count\": 1624130, \"pretrained_model_pooling\": \"avg\", \"fit_stopped_early\": true, \"id\": \"368\", \"model_sequence_length\": 3, \"fit_train_loss\": 0.33075992542408833, \"pretrained_model_name\": \"inception_resnet_v2\", \"fit_num_epochs\": 23}\n",
      "2018-12-17 12:55:33,426 [MainThread  ] [INFO ]  begin experiment 369/512 - model_id: 369, architecture: LSTM, layer_1_sizefactor: 8, layer_2_sizefactor: 4, layer_3_sizefactor: 0, dropout: 0.2, sequence_length: 3, pretrained_model_name: inception_resnet_v2, pooling: avg, \n",
      "2018-12-17 12:57:55,297 [MainThread  ] [INFO ]  model 369 test acc: 0.7926421404682275\n",
      "2018-12-17 12:57:55,298 [MainThread  ] [INFO ]  {\"fit_val_acc\": 0.9291612342977876, \"fit_test_dt_duration\": \"3\", \"fit_test_acc\": 0.7926421404682275, \"fit_num_classes\": 2, \"shape_x_valid\": \"(2301, 3, 1536)\", \"fit_stopper_patience\": 10, \"fit_train_dt_duration\": \"137\", \"fit_val_loss\": 0.24254924781630216, \"fit_train_dt_end\": \"2018-12-17 12:57:52\", \"shape_y_train\": \"(9766, 2)\", \"fit_test_dt_start\": \"2018-12-17 12:57:52\", \"model_dropout\": 0.2, \"model_layer_1_sizefactor\": 8, \"fit_train_dt_start\": \"2018-12-17 12:55:34\", \"fit_batch_size\": 32, \"fit_train_acc\": 0.8847020274421462, \"shape_x_test\": \"(299, 3, 1536)\", \"model_layer_3_sizefactor\": 0, \"model_layer_2_sizefactor\": 4, \"model_num_features\": 1536, \"model_architecture\": \"LSTM\", \"shape_x_train\": \"(9766, 3, 1536)\", \"fit_test_dt_end\": \"2018-12-17 12:57:55\", \"param_count\": 1402754, \"pretrained_model_pooling\": \"avg\", \"fit_stopped_early\": true, \"id\": \"369\", \"model_sequence_length\": 3, \"fit_train_loss\": 0.2913777001542364, \"pretrained_model_name\": \"inception_resnet_v2\", \"fit_num_epochs\": 10}\n",
      "2018-12-17 12:57:55,308 [MainThread  ] [INFO ]  begin experiment 370/512 - model_id: 370, architecture: LSTM, layer_1_sizefactor: 8, layer_2_sizefactor: 4, layer_3_sizefactor: 0, dropout: 0.5, sequence_length: 3, pretrained_model_name: inception_resnet_v2, pooling: avg, \n",
      "2018-12-17 13:01:15,952 [MainThread  ] [INFO ]  model 370 test acc: 0.7324414715719063\n",
      "2018-12-17 13:01:15,953 [MainThread  ] [INFO ]  {\"fit_val_acc\": 0.923946110438596, \"fit_test_dt_duration\": \"3\", \"fit_test_acc\": 0.7324414715719063, \"fit_num_classes\": 2, \"shape_x_valid\": \"(2301, 3, 1536)\", \"fit_stopper_patience\": 10, \"fit_train_dt_duration\": \"196\", \"fit_val_loss\": 0.30246583640135044, \"fit_train_dt_end\": \"2018-12-17 13:01:12\", \"shape_y_train\": \"(9766, 2)\", \"fit_test_dt_start\": \"2018-12-17 13:01:12\", \"model_dropout\": 0.5, \"model_layer_1_sizefactor\": 8, \"fit_train_dt_start\": \"2018-12-17 12:57:56\", \"fit_batch_size\": 32, \"fit_train_acc\": 0.8676018840754445, \"shape_x_test\": \"(299, 3, 1536)\", \"model_layer_3_sizefactor\": 0, \"model_layer_2_sizefactor\": 4, \"model_num_features\": 1536, \"model_architecture\": \"LSTM\", \"shape_x_train\": \"(9766, 3, 1536)\", \"fit_test_dt_end\": \"2018-12-17 13:01:15\", \"param_count\": 1402754, \"pretrained_model_pooling\": \"avg\", \"fit_stopped_early\": true, \"id\": \"370\", \"model_sequence_length\": 3, \"fit_train_loss\": 0.32617860607087257, \"pretrained_model_name\": \"inception_resnet_v2\", \"fit_num_epochs\": 20}\n"
     ]
    },
    {
     "name": "stderr",
     "output_type": "stream",
     "text": [
      "2018-12-17 13:01:15,962 [MainThread  ] [INFO ]  begin experiment 371/512 - model_id: 371, architecture: LSTM, layer_1_sizefactor: 8, layer_2_sizefactor: 4, layer_3_sizefactor: 2, dropout: 0.2, sequence_length: 3, pretrained_model_name: inception_resnet_v2, pooling: avg, \n",
      "2018-12-17 13:04:59,837 [MainThread  ] [INFO ]  model 371 test acc: 0.8193979933110368\n",
      "2018-12-17 13:04:59,838 [MainThread  ] [INFO ]  {\"fit_val_acc\": 0.936114733009844, \"fit_test_dt_duration\": \"3\", \"fit_test_acc\": 0.8193979933110368, \"fit_num_classes\": 2, \"shape_x_valid\": \"(2301, 3, 1536)\", \"fit_stopper_patience\": 10, \"fit_train_dt_duration\": \"219\", \"fit_val_loss\": 0.21787163125644918, \"fit_train_dt_end\": \"2018-12-17 13:04:56\", \"shape_y_train\": \"(9766, 2)\", \"fit_test_dt_start\": \"2018-12-17 13:04:56\", \"model_dropout\": 0.2, \"model_layer_1_sizefactor\": 8, \"fit_train_dt_start\": \"2018-12-17 13:01:16\", \"fit_batch_size\": 32, \"fit_train_acc\": 0.9071267663321728, \"shape_x_test\": \"(299, 3, 1536)\", \"model_layer_3_sizefactor\": 2, \"model_layer_2_sizefactor\": 4, \"model_num_features\": 1536, \"model_architecture\": \"LSTM\", \"shape_x_train\": \"(9766, 3, 1536)\", \"fit_test_dt_end\": \"2018-12-17 13:04:59\", \"param_count\": 1699202, \"pretrained_model_pooling\": \"avg\", \"fit_stopped_early\": true, \"id\": \"371\", \"model_sequence_length\": 3, \"fit_train_loss\": 0.24347281736897172, \"pretrained_model_name\": \"inception_resnet_v2\", \"fit_num_epochs\": 22}\n",
      "2018-12-17 13:04:59,848 [MainThread  ] [INFO ]  begin experiment 372/512 - model_id: 372, architecture: LSTM, layer_1_sizefactor: 8, layer_2_sizefactor: 4, layer_3_sizefactor: 2, dropout: 0.5, sequence_length: 3, pretrained_model_name: inception_resnet_v2, pooling: avg, \n",
      "2018-12-17 13:07:29,452 [MainThread  ] [INFO ]  model 372 test acc: 0.8260869565217391\n",
      "2018-12-17 13:07:29,453 [MainThread  ] [INFO ]  {\"fit_val_acc\": 0.9143850499782703, \"fit_test_dt_duration\": \"3\", \"fit_test_acc\": 0.8260869565217391, \"fit_num_classes\": 2, \"shape_x_valid\": \"(2301, 3, 1536)\", \"fit_stopper_patience\": 10, \"fit_train_dt_duration\": \"145\", \"fit_val_loss\": 0.4057339730987027, \"fit_train_dt_end\": \"2018-12-17 13:07:26\", \"shape_y_train\": \"(9766, 2)\", \"fit_test_dt_start\": \"2018-12-17 13:07:26\", \"model_dropout\": 0.5, \"model_layer_1_sizefactor\": 8, \"fit_train_dt_start\": \"2018-12-17 13:05:00\", \"fit_batch_size\": 32, \"fit_train_acc\": 0.8328896170387057, \"shape_x_test\": \"(299, 3, 1536)\", \"model_layer_3_sizefactor\": 2, \"model_layer_2_sizefactor\": 4, \"model_num_features\": 1536, \"model_architecture\": \"LSTM\", \"shape_x_train\": \"(9766, 3, 1536)\", \"fit_test_dt_end\": \"2018-12-17 13:07:29\", \"param_count\": 1699202, \"pretrained_model_pooling\": \"avg\", \"fit_stopped_early\": true, \"id\": \"372\", \"model_sequence_length\": 3, \"fit_train_loss\": 0.3874698168850448, \"pretrained_model_name\": \"inception_resnet_v2\", \"fit_num_epochs\": 10}\n",
      "2018-12-17 13:07:29,463 [MainThread  ] [INFO ]  begin experiment 373/512 - model_id: 373, architecture: LSTM, layer_1_sizefactor: 8, layer_2_sizefactor: 4, layer_3_sizefactor: 4, dropout: 0.2, sequence_length: 3, pretrained_model_name: inception_resnet_v2, pooling: avg, \n",
      "2018-12-17 13:09:29,922 [MainThread  ] [INFO ]  model 373 test acc: 0.8862876254180602\n",
      "2018-12-17 13:09:29,924 [MainThread  ] [INFO ]  {\"fit_val_acc\": 0.9148196439181447, \"fit_test_dt_duration\": \"3\", \"fit_test_acc\": 0.8862876254180602, \"fit_num_classes\": 2, \"shape_x_valid\": \"(2301, 3, 1536)\", \"fit_stopper_patience\": 10, \"fit_train_dt_duration\": \"116\", \"fit_val_loss\": 0.2588218607717574, \"fit_train_dt_end\": \"2018-12-17 13:09:26\", \"shape_y_train\": \"(9766, 2)\", \"fit_test_dt_start\": \"2018-12-17 13:09:26\", \"model_dropout\": 0.2, \"model_layer_1_sizefactor\": 8, \"fit_train_dt_start\": \"2018-12-17 13:07:30\", \"fit_batch_size\": 32, \"fit_train_acc\": 0.8693426172312912, \"shape_x_test\": \"(299, 3, 1536)\", \"model_layer_3_sizefactor\": 4, \"model_layer_2_sizefactor\": 4, \"model_num_features\": 1536, \"model_architecture\": \"LSTM\", \"shape_x_train\": \"(9766, 3, 1536)\", \"fit_test_dt_end\": \"2018-12-17 13:09:29\", \"param_count\": 1550594, \"pretrained_model_pooling\": \"avg\", \"fit_stopped_early\": true, \"id\": \"373\", \"model_sequence_length\": 3, \"fit_train_loss\": 0.3218387463665048, \"pretrained_model_name\": \"inception_resnet_v2\", \"fit_num_epochs\": 5}\n",
      "2018-12-17 13:09:29,933 [MainThread  ] [INFO ]  begin experiment 374/512 - model_id: 374, architecture: LSTM, layer_1_sizefactor: 8, layer_2_sizefactor: 4, layer_3_sizefactor: 4, dropout: 0.5, sequence_length: 3, pretrained_model_name: inception_resnet_v2, pooling: avg, \n",
      "2018-12-17 13:14:58,518 [MainThread  ] [INFO ]  model 374 test acc: 0.842809364548495\n",
      "2018-12-17 13:14:58,519 [MainThread  ] [INFO ]  {\"fit_val_acc\": 0.8935245545933113, \"fit_test_dt_duration\": \"3\", \"fit_test_acc\": 0.842809364548495, \"fit_num_classes\": 2, \"shape_x_valid\": \"(2301, 3, 1536)\", \"fit_stopper_patience\": 10, \"fit_train_dt_duration\": \"324\", \"fit_val_loss\": 0.3599664835321649, \"fit_train_dt_end\": \"2018-12-17 13:14:55\", \"shape_y_train\": \"(9766, 2)\", \"fit_test_dt_start\": \"2018-12-17 13:14:55\", \"model_dropout\": 0.5, \"model_layer_1_sizefactor\": 8, \"fit_train_dt_start\": \"2018-12-17 13:09:30\", \"fit_batch_size\": 32, \"fit_train_acc\": 0.8771247184108131, \"shape_x_test\": \"(299, 3, 1536)\", \"model_layer_3_sizefactor\": 4, \"model_layer_2_sizefactor\": 4, \"model_num_features\": 1536, \"model_architecture\": \"LSTM\", \"shape_x_train\": \"(9766, 3, 1536)\", \"fit_test_dt_end\": \"2018-12-17 13:14:58\", \"param_count\": 1550594, \"pretrained_model_pooling\": \"avg\", \"fit_stopped_early\": true, \"id\": \"374\", \"model_sequence_length\": 3, \"fit_train_loss\": 0.3120684820350726, \"pretrained_model_name\": \"inception_resnet_v2\", \"fit_num_epochs\": -10}\n",
      "2018-12-17 13:14:58,528 [MainThread  ] [INFO ]  begin experiment 375/512 - model_id: 375, architecture: LSTM, layer_1_sizefactor: 8, layer_2_sizefactor: 4, layer_3_sizefactor: 8, dropout: 0.2, sequence_length: 3, pretrained_model_name: inception_resnet_v2, pooling: avg, \n",
      "2018-12-17 13:17:14,339 [MainThread  ] [INFO ]  model 375 test acc: 0.8729096989966555\n",
      "2018-12-17 13:17:14,340 [MainThread  ] [INFO ]  {\"fit_val_acc\": 0.9274228596262495, \"fit_test_dt_duration\": \"3\", \"fit_test_acc\": 0.8729096989966555, \"fit_num_classes\": 2, \"shape_x_valid\": \"(2301, 3, 1536)\", \"fit_stopper_patience\": 10, \"fit_train_dt_duration\": \"131\", \"fit_val_loss\": 0.23283144499764966, \"fit_train_dt_end\": \"2018-12-17 13:17:10\", \"shape_y_train\": \"(9766, 2)\", \"fit_test_dt_start\": \"2018-12-17 13:17:10\", \"model_dropout\": 0.2, \"model_layer_1_sizefactor\": 8, \"fit_train_dt_start\": \"2018-12-17 13:14:59\", \"fit_batch_size\": 32, \"fit_train_acc\": 0.8721073110792545, \"shape_x_test\": \"(299, 3, 1536)\", \"model_layer_3_sizefactor\": 8, \"model_layer_2_sizefactor\": 4, \"model_num_features\": 1536, \"model_architecture\": \"LSTM\", \"shape_x_train\": \"(9766, 3, 1536)\", \"fit_test_dt_end\": \"2018-12-17 13:17:14\", \"param_count\": 1476290, \"pretrained_model_pooling\": \"avg\", \"fit_stopped_early\": true, \"id\": \"375\", \"model_sequence_length\": 3, \"fit_train_loss\": 0.3124256641292167, \"pretrained_model_name\": \"inception_resnet_v2\", \"fit_num_epochs\": 7}\n",
      "2018-12-17 13:17:14,349 [MainThread  ] [INFO ]  begin experiment 376/512 - model_id: 376, architecture: LSTM, layer_1_sizefactor: 8, layer_2_sizefactor: 4, layer_3_sizefactor: 8, dropout: 0.5, sequence_length: 3, pretrained_model_name: inception_resnet_v2, pooling: avg, \n",
      "2018-12-17 13:19:47,134 [MainThread  ] [INFO ]  model 376 test acc: 0.8461538461538461\n",
      "2018-12-17 13:19:47,135 [MainThread  ] [INFO ]  {\"fit_val_acc\": 0.9191655800012027, \"fit_test_dt_duration\": \"3\", \"fit_test_acc\": 0.8461538461538461, \"fit_num_classes\": 2, \"shape_x_valid\": \"(2301, 3, 1536)\", \"fit_stopper_patience\": 10, \"fit_train_dt_duration\": \"148\", \"fit_val_loss\": 0.3325839431609138, \"fit_train_dt_end\": \"2018-12-17 13:19:43\", \"shape_y_train\": \"(9766, 2)\", \"fit_test_dt_start\": \"2018-12-17 13:19:43\", \"model_dropout\": 0.5, \"model_layer_1_sizefactor\": 8, \"fit_train_dt_start\": \"2018-12-17 13:17:15\", \"fit_batch_size\": 32, \"fit_train_acc\": 0.8356543108744624, \"shape_x_test\": \"(299, 3, 1536)\", \"model_layer_3_sizefactor\": 8, \"model_layer_2_sizefactor\": 4, \"model_num_features\": 1536, \"model_architecture\": \"LSTM\", \"shape_x_train\": \"(9766, 3, 1536)\", \"fit_test_dt_end\": \"2018-12-17 13:19:47\", \"param_count\": 1476290, \"pretrained_model_pooling\": \"avg\", \"fit_stopped_early\": true, \"id\": \"376\", \"model_sequence_length\": 3, \"fit_train_loss\": 0.3806105595301, \"pretrained_model_name\": \"inception_resnet_v2\", \"fit_num_epochs\": 10}\n"
     ]
    },
    {
     "name": "stderr",
     "output_type": "stream",
     "text": [
      "2018-12-17 13:19:47,143 [MainThread  ] [INFO ]  begin experiment 377/512 - model_id: 377, architecture: LSTM, layer_1_sizefactor: 8, layer_2_sizefactor: 8, layer_3_sizefactor: 0, dropout: 0.2, sequence_length: 3, pretrained_model_name: inception_resnet_v2, pooling: avg, \n",
      "2018-12-17 13:22:03,831 [MainThread  ] [INFO ]  model 377 test acc: 0.8662207357859532\n",
      "2018-12-17 13:22:03,833 [MainThread  ] [INFO ]  {\"fit_val_acc\": 0.9191655804674711, \"fit_test_dt_duration\": \"4\", \"fit_test_acc\": 0.8662207357859532, \"fit_num_classes\": 2, \"shape_x_valid\": \"(2301, 3, 1536)\", \"fit_stopper_patience\": 10, \"fit_train_dt_duration\": \"131\", \"fit_val_loss\": 0.26363917402939296, \"fit_train_dt_end\": \"2018-12-17 13:21:59\", \"shape_y_train\": \"(9766, 2)\", \"fit_test_dt_start\": \"2018-12-17 13:21:59\", \"model_dropout\": 0.2, \"model_layer_1_sizefactor\": 8, \"fit_train_dt_start\": \"2018-12-17 13:19:47\", \"fit_batch_size\": 32, \"fit_train_acc\": 0.8855211959738676, \"shape_x_test\": \"(299, 3, 1536)\", \"model_layer_3_sizefactor\": 0, \"model_layer_2_sizefactor\": 8, \"model_num_features\": 1536, \"model_architecture\": \"LSTM\", \"shape_x_train\": \"(9766, 3, 1536)\", \"fit_test_dt_end\": \"2018-12-17 13:22:03\", \"param_count\": 1365314, \"pretrained_model_pooling\": \"avg\", \"fit_stopped_early\": true, \"id\": \"377\", \"model_sequence_length\": 3, \"fit_train_loss\": 0.2896170217880284, \"pretrained_model_name\": \"inception_resnet_v2\", \"fit_num_epochs\": 8}\n",
      "2018-12-17 13:22:03,841 [MainThread  ] [INFO ]  begin experiment 378/512 - model_id: 378, architecture: LSTM, layer_1_sizefactor: 8, layer_2_sizefactor: 8, layer_3_sizefactor: 0, dropout: 0.5, sequence_length: 3, pretrained_model_name: inception_resnet_v2, pooling: avg, \n",
      "2018-12-17 13:29:10,778 [MainThread  ] [INFO ]  model 379 test acc: 0.959866220735786\n",
      "2018-12-17 13:29:10,779 [MainThread  ] [INFO ]  {\"fit_val_acc\": 0.9395914823011128, \"fit_test_dt_duration\": \"4\", \"fit_test_acc\": 0.959866220735786, \"fit_num_classes\": 2, \"shape_x_valid\": \"(2301, 3, 1536)\", \"fit_stopper_patience\": 10, \"fit_train_dt_duration\": \"286\", \"fit_val_loss\": 0.20671504118141015, \"fit_train_dt_end\": \"2018-12-17 13:29:06\", \"shape_y_train\": \"(9766, 2)\", \"fit_test_dt_start\": \"2018-12-17 13:29:06\", \"model_dropout\": 0.2, \"model_layer_1_sizefactor\": 8, \"fit_train_dt_start\": \"2018-12-17 13:24:19\", \"fit_batch_size\": 32, \"fit_train_acc\": 0.9165472045873438, \"shape_x_test\": \"(299, 3, 1536)\", \"model_layer_3_sizefactor\": 2, \"model_layer_2_sizefactor\": 8, \"model_num_features\": 1536, \"model_architecture\": \"LSTM\", \"shape_x_train\": \"(9766, 3, 1536)\", \"fit_test_dt_end\": \"2018-12-17 13:29:10\", \"param_count\": 1514690, \"pretrained_model_pooling\": \"avg\", \"fit_stopped_early\": true, \"id\": \"379\", \"model_sequence_length\": 3, \"fit_train_loss\": 0.22458344155370566, \"pretrained_model_name\": \"inception_resnet_v2\", \"fit_num_epochs\": 32}\n",
      "2018-12-17 13:29:10,787 [MainThread  ] [INFO ]  begin experiment 380/512 - model_id: 380, architecture: LSTM, layer_1_sizefactor: 8, layer_2_sizefactor: 8, layer_3_sizefactor: 2, dropout: 0.5, sequence_length: 3, pretrained_model_name: inception_resnet_v2, pooling: avg, \n"
     ]
    }
   ],
   "source": [
    "model_id = 1\n",
    "experiment_count = 1\n",
    "\n",
    "for pretrained_model_name in pretrained_model_names:\n",
    "    for pooling in poolings:\n",
    "        for sequence_length in sequence_lengths:\n",
    "            for architecture in architectures:\n",
    "                for layer_1_sizefactor in layer_1_sizefactors:\n",
    "                    for layer_2_sizefactor in layer_2_sizefactors:\n",
    "                        for layer_3_sizefactor in layer_3_sizefactors:\n",
    "                            for dropout in dropouts:\n",
    "                                \n",
    "                                # skip LSTM experiement if not a sequence\n",
    "                                if sequence_length == 1 and architecture == \"LSTM\":\n",
    "                                    continue\n",
    "                                \n",
    "                                # log experiment\n",
    "                                param_names = [\"model_id\", \"architecture\", \"layer_1_sizefactor\", \"layer_2_sizefactor\", \"layer_3_sizefactor\", \"dropout\", \"sequence_length\", \"pretrained_model_name\", \"pooling\"]\n",
    "                                param_values = [str(x) for x in [model_id, architecture, layer_1_sizefactor, layer_2_sizefactor, layer_3_sizefactor, dropout, sequence_length, pretrained_model_name, pooling]]\n",
    "                                experiment_description = \"\"\n",
    "                                for c, p in enumerate(param_names):\n",
    "                                    experiment_description += p + ': ' + param_values[c] + ', '\n",
    "\n",
    "                                # only run experiment if results not already computed\n",
    "                                if not os.path.exists(path_models + str(model_id) + '/params.json'):\n",
    "                                    # run experiment\n",
    "                                    logging.info(\"begin experiment {}/{} - {}\".format(experiment_count, experiment_count_total, experiment_description))\n",
    "                                    fit_model(model_id, architecture, layer_1_sizefactor, layer_2_sizefactor, layer_3_sizefactor, dropout, sequence_length, pretrained_model_name, pooling)\n",
    "                                \n",
    "                                experiment_count += 1\n",
    "                                model_id+=1"
   ]
  },
  {
   "cell_type": "markdown",
   "metadata": {},
   "source": [
    "# Examine results"
   ]
  },
  {
   "cell_type": "code",
   "execution_count": 33,
   "metadata": {
    "ExecuteTime": {
     "end_time": "2018-12-17T11:35:54.848835Z",
     "start_time": "2018-12-17T11:35:54.464100Z"
    }
   },
   "outputs": [],
   "source": [
    "results = []\n",
    "for folder, subs, files in os.walk(path_models):        \n",
    "    for filename in files:\n",
    "        if filename == 'params.json':\n",
    "            with open(os.path.abspath(os.path.join(folder, filename))) as f:\n",
    "                data = json.load(f)\n",
    "            results.append(data)\n",
    "\n",
    "results = pd.DataFrame(results)\n",
    "\n",
    "results.sort_values(\"fit_test_acc\", inplace=True, ascending=False)"
   ]
  },
  {
   "cell_type": "code",
   "execution_count": 39,
   "metadata": {
    "ExecuteTime": {
     "end_time": "2018-12-17T11:37:24.422382Z",
     "start_time": "2018-12-17T11:37:24.418027Z"
    }
   },
   "outputs": [],
   "source": [
    "results.sort_values(\"fit_val_acc\", inplace=True, ascending=False)"
   ]
  },
  {
   "cell_type": "code",
   "execution_count": 40,
   "metadata": {
    "ExecuteTime": {
     "end_time": "2018-12-17T11:37:29.291744Z",
     "start_time": "2018-12-17T11:37:29.247569Z"
    }
   },
   "outputs": [
    {
     "data": {
      "text/html": [
       "<div>\n",
       "<style scoped>\n",
       "    .dataframe tbody tr th:only-of-type {\n",
       "        vertical-align: middle;\n",
       "    }\n",
       "\n",
       "    .dataframe tbody tr th {\n",
       "        vertical-align: top;\n",
       "    }\n",
       "\n",
       "    .dataframe thead th {\n",
       "        text-align: right;\n",
       "    }\n",
       "</style>\n",
       "<table border=\"1\" class=\"dataframe\">\n",
       "  <thead>\n",
       "    <tr style=\"text-align: right;\">\n",
       "      <th></th>\n",
       "      <th>131</th>\n",
       "      <th>283</th>\n",
       "      <th>41</th>\n",
       "      <th>100</th>\n",
       "      <th>271</th>\n",
       "      <th>320</th>\n",
       "      <th>301</th>\n",
       "      <th>307</th>\n",
       "      <th>264</th>\n",
       "      <th>166</th>\n",
       "      <th>143</th>\n",
       "      <th>299</th>\n",
       "      <th>13</th>\n",
       "      <th>227</th>\n",
       "      <th>142</th>\n",
       "      <th>104</th>\n",
       "      <th>65</th>\n",
       "      <th>25</th>\n",
       "      <th>226</th>\n",
       "      <th>171</th>\n",
       "    </tr>\n",
       "  </thead>\n",
       "  <tbody>\n",
       "    <tr>\n",
       "      <th>dt_duration_seconds</th>\n",
       "      <td>155</td>\n",
       "      <td>829</td>\n",
       "      <td>734</td>\n",
       "      <td>794</td>\n",
       "      <td>423</td>\n",
       "      <td>278</td>\n",
       "      <td>126</td>\n",
       "      <td>121</td>\n",
       "      <td>96</td>\n",
       "      <td>542</td>\n",
       "      <td>702</td>\n",
       "      <td>152</td>\n",
       "      <td>123</td>\n",
       "      <td>286</td>\n",
       "      <td>108</td>\n",
       "      <td>119</td>\n",
       "      <td>96</td>\n",
       "      <td>127</td>\n",
       "      <td>103</td>\n",
       "      <td>554</td>\n",
       "    </tr>\n",
       "    <tr>\n",
       "      <th>dt_end</th>\n",
       "      <td>2018-12-16 19:15:04</td>\n",
       "      <td>2018-12-16 22:20:45</td>\n",
       "      <td>2018-12-16 23:24:46</td>\n",
       "      <td>2018-12-16 21:03:18</td>\n",
       "      <td>2018-12-17 09:56:39</td>\n",
       "      <td>2018-12-17 09:24:11</td>\n",
       "      <td>2018-12-16 17:37:25</td>\n",
       "      <td>2018-12-16 17:22:01</td>\n",
       "      <td>2018-12-16 17:25:50</td>\n",
       "      <td>2018-12-16 22:37:01</td>\n",
       "      <td>2018-12-16 20:21:01</td>\n",
       "      <td>2018-12-17 10:45:58</td>\n",
       "      <td>2018-12-16 18:22:20</td>\n",
       "      <td>2018-12-17 00:30:27</td>\n",
       "      <td>2018-12-16 16:43:26</td>\n",
       "      <td>2018-12-16 18:25:56</td>\n",
       "      <td>2018-12-16 16:53:40</td>\n",
       "      <td>2018-12-16 18:36:05</td>\n",
       "      <td>2018-12-16 17:01:21</td>\n",
       "      <td>2018-12-17 00:14:33</td>\n",
       "    </tr>\n",
       "    <tr>\n",
       "      <th>dt_start</th>\n",
       "      <td>2018-12-16 19:12:29</td>\n",
       "      <td>2018-12-16 22:06:55</td>\n",
       "      <td>2018-12-16 23:12:32</td>\n",
       "      <td>2018-12-16 20:50:04</td>\n",
       "      <td>2018-12-17 09:49:36</td>\n",
       "      <td>2018-12-17 09:19:33</td>\n",
       "      <td>2018-12-16 17:35:18</td>\n",
       "      <td>2018-12-16 17:19:59</td>\n",
       "      <td>2018-12-16 17:24:14</td>\n",
       "      <td>2018-12-16 22:27:59</td>\n",
       "      <td>2018-12-16 20:09:18</td>\n",
       "      <td>2018-12-17 10:43:26</td>\n",
       "      <td>2018-12-16 18:20:17</td>\n",
       "      <td>2018-12-17 00:25:40</td>\n",
       "      <td>2018-12-16 16:41:38</td>\n",
       "      <td>2018-12-16 18:23:57</td>\n",
       "      <td>2018-12-16 16:52:04</td>\n",
       "      <td>2018-12-16 18:33:57</td>\n",
       "      <td>2018-12-16 16:59:37</td>\n",
       "      <td>2018-12-17 00:05:18</td>\n",
       "    </tr>\n",
       "    <tr>\n",
       "      <th>fit_batch_size</th>\n",
       "      <td>32</td>\n",
       "      <td>32</td>\n",
       "      <td>32</td>\n",
       "      <td>32</td>\n",
       "      <td>32</td>\n",
       "      <td>32</td>\n",
       "      <td>32</td>\n",
       "      <td>32</td>\n",
       "      <td>32</td>\n",
       "      <td>32</td>\n",
       "      <td>32</td>\n",
       "      <td>32</td>\n",
       "      <td>32</td>\n",
       "      <td>32</td>\n",
       "      <td>32</td>\n",
       "      <td>32</td>\n",
       "      <td>32</td>\n",
       "      <td>32</td>\n",
       "      <td>32</td>\n",
       "      <td>32</td>\n",
       "    </tr>\n",
       "    <tr>\n",
       "      <th>fit_num_classes</th>\n",
       "      <td>2</td>\n",
       "      <td>2</td>\n",
       "      <td>2</td>\n",
       "      <td>2</td>\n",
       "      <td>2</td>\n",
       "      <td>2</td>\n",
       "      <td>2</td>\n",
       "      <td>2</td>\n",
       "      <td>2</td>\n",
       "      <td>2</td>\n",
       "      <td>2</td>\n",
       "      <td>2</td>\n",
       "      <td>2</td>\n",
       "      <td>2</td>\n",
       "      <td>2</td>\n",
       "      <td>2</td>\n",
       "      <td>2</td>\n",
       "      <td>2</td>\n",
       "      <td>2</td>\n",
       "      <td>2</td>\n",
       "    </tr>\n",
       "    <tr>\n",
       "      <th>fit_num_epochs</th>\n",
       "      <td>14</td>\n",
       "      <td>35</td>\n",
       "      <td>28</td>\n",
       "      <td>35</td>\n",
       "      <td>36</td>\n",
       "      <td>20</td>\n",
       "      <td>16</td>\n",
       "      <td>13</td>\n",
       "      <td>10</td>\n",
       "      <td>18</td>\n",
       "      <td>30</td>\n",
       "      <td>16</td>\n",
       "      <td>12</td>\n",
       "      <td>16</td>\n",
       "      <td>15</td>\n",
       "      <td>10</td>\n",
       "      <td>12</td>\n",
       "      <td>12</td>\n",
       "      <td>12</td>\n",
       "      <td>17</td>\n",
       "    </tr>\n",
       "    <tr>\n",
       "      <th>fit_stopped_early</th>\n",
       "      <td>True</td>\n",
       "      <td>True</td>\n",
       "      <td>True</td>\n",
       "      <td>True</td>\n",
       "      <td>True</td>\n",
       "      <td>True</td>\n",
       "      <td>True</td>\n",
       "      <td>True</td>\n",
       "      <td>True</td>\n",
       "      <td>True</td>\n",
       "      <td>True</td>\n",
       "      <td>True</td>\n",
       "      <td>True</td>\n",
       "      <td>True</td>\n",
       "      <td>True</td>\n",
       "      <td>True</td>\n",
       "      <td>True</td>\n",
       "      <td>True</td>\n",
       "      <td>True</td>\n",
       "      <td>True</td>\n",
       "    </tr>\n",
       "    <tr>\n",
       "      <th>fit_stopper_patience</th>\n",
       "      <td>5</td>\n",
       "      <td>10</td>\n",
       "      <td>10</td>\n",
       "      <td>10</td>\n",
       "      <td>10</td>\n",
       "      <td>10</td>\n",
       "      <td>5</td>\n",
       "      <td>5</td>\n",
       "      <td>5</td>\n",
       "      <td>10</td>\n",
       "      <td>10</td>\n",
       "      <td>10</td>\n",
       "      <td>5</td>\n",
       "      <td>10</td>\n",
       "      <td>5</td>\n",
       "      <td>5</td>\n",
       "      <td>5</td>\n",
       "      <td>5</td>\n",
       "      <td>5</td>\n",
       "      <td>10</td>\n",
       "    </tr>\n",
       "    <tr>\n",
       "      <th>fit_test_acc</th>\n",
       "      <td>0.82274</td>\n",
       "      <td>0.92308</td>\n",
       "      <td>0.86288</td>\n",
       "      <td>0.87291</td>\n",
       "      <td>0.88294</td>\n",
       "      <td>0.87625</td>\n",
       "      <td>0.92977</td>\n",
       "      <td>0.92977</td>\n",
       "      <td>0.9097</td>\n",
       "      <td>0.81271</td>\n",
       "      <td>0.91973</td>\n",
       "      <td>0.86957</td>\n",
       "      <td>0.84615</td>\n",
       "      <td>0.8194</td>\n",
       "      <td>0.94314</td>\n",
       "      <td>0.71906</td>\n",
       "      <td>0.94649</td>\n",
       "      <td>0.75585</td>\n",
       "      <td>0.90635</td>\n",
       "      <td>0.8495</td>\n",
       "    </tr>\n",
       "    <tr>\n",
       "      <th>fit_train_acc</th>\n",
       "      <td>0.92075</td>\n",
       "      <td>0.92054</td>\n",
       "      <td>0.9103</td>\n",
       "      <td>0.91808</td>\n",
       "      <td>0.9146</td>\n",
       "      <td>0.90877</td>\n",
       "      <td>0.92965</td>\n",
       "      <td>0.91378</td>\n",
       "      <td>0.91327</td>\n",
       "      <td>0.89832</td>\n",
       "      <td>0.92228</td>\n",
       "      <td>0.90375</td>\n",
       "      <td>0.91634</td>\n",
       "      <td>0.89914</td>\n",
       "      <td>0.91644</td>\n",
       "      <td>0.90528</td>\n",
       "      <td>0.91839</td>\n",
       "      <td>0.92402</td>\n",
       "      <td>0.90723</td>\n",
       "      <td>0.90334</td>\n",
       "    </tr>\n",
       "    <tr>\n",
       "      <th>fit_train_loss</th>\n",
       "      <td>0.21412</td>\n",
       "      <td>0.21287</td>\n",
       "      <td>0.23878</td>\n",
       "      <td>0.21444</td>\n",
       "      <td>0.22405</td>\n",
       "      <td>0.24227</td>\n",
       "      <td>0.19381</td>\n",
       "      <td>0.2358</td>\n",
       "      <td>0.23583</td>\n",
       "      <td>0.26552</td>\n",
       "      <td>0.21071</td>\n",
       "      <td>0.24198</td>\n",
       "      <td>0.23024</td>\n",
       "      <td>0.26021</td>\n",
       "      <td>0.21707</td>\n",
       "      <td>0.25178</td>\n",
       "      <td>0.22077</td>\n",
       "      <td>0.20715</td>\n",
       "      <td>0.24289</td>\n",
       "      <td>0.25433</td>\n",
       "    </tr>\n",
       "    <tr>\n",
       "      <th>fit_val_acc</th>\n",
       "      <td>0.94524</td>\n",
       "      <td>0.94481</td>\n",
       "      <td>0.94307</td>\n",
       "      <td>0.94133</td>\n",
       "      <td>0.94133</td>\n",
       "      <td>0.9409</td>\n",
       "      <td>0.9409</td>\n",
       "      <td>0.94046</td>\n",
       "      <td>0.94003</td>\n",
       "      <td>0.93959</td>\n",
       "      <td>0.93916</td>\n",
       "      <td>0.93872</td>\n",
       "      <td>0.93829</td>\n",
       "      <td>0.93785</td>\n",
       "      <td>0.93785</td>\n",
       "      <td>0.93698</td>\n",
       "      <td>0.93698</td>\n",
       "      <td>0.93655</td>\n",
       "      <td>0.93611</td>\n",
       "      <td>0.93568</td>\n",
       "    </tr>\n",
       "    <tr>\n",
       "      <th>fit_val_loss</th>\n",
       "      <td>0.19217</td>\n",
       "      <td>0.21216</td>\n",
       "      <td>0.22584</td>\n",
       "      <td>0.18752</td>\n",
       "      <td>0.19348</td>\n",
       "      <td>0.21281</td>\n",
       "      <td>0.18859</td>\n",
       "      <td>0.254</td>\n",
       "      <td>0.21658</td>\n",
       "      <td>0.22235</td>\n",
       "      <td>0.1884</td>\n",
       "      <td>0.20838</td>\n",
       "      <td>0.23265</td>\n",
       "      <td>0.21845</td>\n",
       "      <td>0.22046</td>\n",
       "      <td>0.27825</td>\n",
       "      <td>0.22628</td>\n",
       "      <td>0.21692</td>\n",
       "      <td>0.24828</td>\n",
       "      <td>0.24394</td>\n",
       "    </tr>\n",
       "    <tr>\n",
       "      <th>id</th>\n",
       "      <td>245</td>\n",
       "      <td>273</td>\n",
       "      <td>281</td>\n",
       "      <td>263</td>\n",
       "      <td>309</td>\n",
       "      <td>301</td>\n",
       "      <td>185</td>\n",
       "      <td>175</td>\n",
       "      <td>177</td>\n",
       "      <td>275</td>\n",
       "      <td>257</td>\n",
       "      <td>321</td>\n",
       "      <td>213</td>\n",
       "      <td>289</td>\n",
       "      <td>145</td>\n",
       "      <td>215</td>\n",
       "      <td>153</td>\n",
       "      <td>221</td>\n",
       "      <td>159</td>\n",
       "      <td>287</td>\n",
       "    </tr>\n",
       "    <tr>\n",
       "      <th>model_architecture</th>\n",
       "      <td>MLP</td>\n",
       "      <td>LSTM</td>\n",
       "      <td>LSTM</td>\n",
       "      <td>LSTM</td>\n",
       "      <td>LSTM</td>\n",
       "      <td>LSTM</td>\n",
       "      <td>MLP</td>\n",
       "      <td>MLP</td>\n",
       "      <td>MLP</td>\n",
       "      <td>LSTM</td>\n",
       "      <td>LSTM</td>\n",
       "      <td>LSTM</td>\n",
       "      <td>MLP</td>\n",
       "      <td>LSTM</td>\n",
       "      <td>MLP</td>\n",
       "      <td>MLP</td>\n",
       "      <td>MLP</td>\n",
       "      <td>MLP</td>\n",
       "      <td>MLP</td>\n",
       "      <td>LSTM</td>\n",
       "    </tr>\n",
       "    <tr>\n",
       "      <th>model_dropout</th>\n",
       "      <td>0.2</td>\n",
       "      <td>0.2</td>\n",
       "      <td>0.2</td>\n",
       "      <td>0.2</td>\n",
       "      <td>0.2</td>\n",
       "      <td>0.2</td>\n",
       "      <td>0.2</td>\n",
       "      <td>0.2</td>\n",
       "      <td>0.2</td>\n",
       "      <td>0.2</td>\n",
       "      <td>0.2</td>\n",
       "      <td>0.2</td>\n",
       "      <td>0.2</td>\n",
       "      <td>0.2</td>\n",
       "      <td>0.2</td>\n",
       "      <td>0.2</td>\n",
       "      <td>0.2</td>\n",
       "      <td>0.2</td>\n",
       "      <td>0.2</td>\n",
       "      <td>0.2</td>\n",
       "    </tr>\n",
       "    <tr>\n",
       "      <th>model_layer_1_sizefactor</th>\n",
       "      <td>8</td>\n",
       "      <td>1</td>\n",
       "      <td>1</td>\n",
       "      <td>1</td>\n",
       "      <td>2</td>\n",
       "      <td>2</td>\n",
       "      <td>2</td>\n",
       "      <td>2</td>\n",
       "      <td>2</td>\n",
       "      <td>1</td>\n",
       "      <td>1</td>\n",
       "      <td>4</td>\n",
       "      <td>4</td>\n",
       "      <td>2</td>\n",
       "      <td>1</td>\n",
       "      <td>4</td>\n",
       "      <td>1</td>\n",
       "      <td>4</td>\n",
       "      <td>1</td>\n",
       "      <td>1</td>\n",
       "    </tr>\n",
       "    <tr>\n",
       "      <th>model_layer_2_sizefactor</th>\n",
       "      <td>4</td>\n",
       "      <td>4</td>\n",
       "      <td>8</td>\n",
       "      <td>0</td>\n",
       "      <td>4</td>\n",
       "      <td>2</td>\n",
       "      <td>8</td>\n",
       "      <td>2</td>\n",
       "      <td>4</td>\n",
       "      <td>4</td>\n",
       "      <td>0</td>\n",
       "      <td>0</td>\n",
       "      <td>4</td>\n",
       "      <td>0</td>\n",
       "      <td>4</td>\n",
       "      <td>4</td>\n",
       "      <td>8</td>\n",
       "      <td>8</td>\n",
       "      <td>8</td>\n",
       "      <td>8</td>\n",
       "    </tr>\n",
       "    <tr>\n",
       "      <th>model_layer_3_sizefactor</th>\n",
       "      <td>4</td>\n",
       "      <td>0</td>\n",
       "      <td>0</td>\n",
       "      <td>8</td>\n",
       "      <td>4</td>\n",
       "      <td>4</td>\n",
       "      <td>0</td>\n",
       "      <td>8</td>\n",
       "      <td>0</td>\n",
       "      <td>2</td>\n",
       "      <td>0</td>\n",
       "      <td>0</td>\n",
       "      <td>4</td>\n",
       "      <td>0</td>\n",
       "      <td>0</td>\n",
       "      <td>8</td>\n",
       "      <td>0</td>\n",
       "      <td>4</td>\n",
       "      <td>8</td>\n",
       "      <td>8</td>\n",
       "    </tr>\n",
       "    <tr>\n",
       "      <th>model_num_features</th>\n",
       "      <td>1536</td>\n",
       "      <td>1536</td>\n",
       "      <td>1536</td>\n",
       "      <td>1536</td>\n",
       "      <td>1536</td>\n",
       "      <td>1536</td>\n",
       "      <td>1536</td>\n",
       "      <td>1536</td>\n",
       "      <td>1536</td>\n",
       "      <td>1536</td>\n",
       "      <td>1536</td>\n",
       "      <td>1536</td>\n",
       "      <td>1536</td>\n",
       "      <td>1536</td>\n",
       "      <td>1536</td>\n",
       "      <td>1536</td>\n",
       "      <td>1536</td>\n",
       "      <td>1536</td>\n",
       "      <td>1536</td>\n",
       "      <td>1536</td>\n",
       "    </tr>\n",
       "    <tr>\n",
       "      <th>model_sequence_length</th>\n",
       "      <td>3</td>\n",
       "      <td>3</td>\n",
       "      <td>3</td>\n",
       "      <td>3</td>\n",
       "      <td>3</td>\n",
       "      <td>3</td>\n",
       "      <td>3</td>\n",
       "      <td>3</td>\n",
       "      <td>3</td>\n",
       "      <td>3</td>\n",
       "      <td>3</td>\n",
       "      <td>3</td>\n",
       "      <td>3</td>\n",
       "      <td>3</td>\n",
       "      <td>3</td>\n",
       "      <td>3</td>\n",
       "      <td>3</td>\n",
       "      <td>3</td>\n",
       "      <td>3</td>\n",
       "      <td>3</td>\n",
       "    </tr>\n",
       "    <tr>\n",
       "      <th>param_count</th>\n",
       "      <td>3983618</td>\n",
       "      <td>19471490</td>\n",
       "      <td>19176002</td>\n",
       "      <td>18883586</td>\n",
       "      <td>7524866</td>\n",
       "      <td>7967618</td>\n",
       "      <td>3687746</td>\n",
       "      <td>4278338</td>\n",
       "      <td>3835778</td>\n",
       "      <td>19767938</td>\n",
       "      <td>18883586</td>\n",
       "      <td>2951426</td>\n",
       "      <td>3983618</td>\n",
       "      <td>7082498</td>\n",
       "      <td>3835778</td>\n",
       "      <td>3909314</td>\n",
       "      <td>3687746</td>\n",
       "      <td>3762242</td>\n",
       "      <td>3724802</td>\n",
       "      <td>19213058</td>\n",
       "    </tr>\n",
       "    <tr>\n",
       "      <th>pretrained_model_name</th>\n",
       "      <td>inception_resnet_v2</td>\n",
       "      <td>inception_resnet_v2</td>\n",
       "      <td>inception_resnet_v2</td>\n",
       "      <td>inception_resnet_v2</td>\n",
       "      <td>inception_resnet_v2</td>\n",
       "      <td>inception_resnet_v2</td>\n",
       "      <td>inception_resnet_v2</td>\n",
       "      <td>inception_resnet_v2</td>\n",
       "      <td>inception_resnet_v2</td>\n",
       "      <td>inception_resnet_v2</td>\n",
       "      <td>inception_resnet_v2</td>\n",
       "      <td>inception_resnet_v2</td>\n",
       "      <td>inception_resnet_v2</td>\n",
       "      <td>inception_resnet_v2</td>\n",
       "      <td>inception_resnet_v2</td>\n",
       "      <td>inception_resnet_v2</td>\n",
       "      <td>inception_resnet_v2</td>\n",
       "      <td>inception_resnet_v2</td>\n",
       "      <td>inception_resnet_v2</td>\n",
       "      <td>inception_resnet_v2</td>\n",
       "    </tr>\n",
       "    <tr>\n",
       "      <th>pretrained_model_pooling</th>\n",
       "      <td>avg</td>\n",
       "      <td>avg</td>\n",
       "      <td>avg</td>\n",
       "      <td>avg</td>\n",
       "      <td>avg</td>\n",
       "      <td>avg</td>\n",
       "      <td>avg</td>\n",
       "      <td>avg</td>\n",
       "      <td>avg</td>\n",
       "      <td>avg</td>\n",
       "      <td>avg</td>\n",
       "      <td>avg</td>\n",
       "      <td>avg</td>\n",
       "      <td>avg</td>\n",
       "      <td>avg</td>\n",
       "      <td>avg</td>\n",
       "      <td>avg</td>\n",
       "      <td>avg</td>\n",
       "      <td>avg</td>\n",
       "      <td>avg</td>\n",
       "    </tr>\n",
       "    <tr>\n",
       "      <th>shape_x_test</th>\n",
       "      <td>(299, 3, 1536)</td>\n",
       "      <td>(299, 3, 1536)</td>\n",
       "      <td>(299, 3, 1536)</td>\n",
       "      <td>(299, 3, 1536)</td>\n",
       "      <td>(299, 3, 1536)</td>\n",
       "      <td>(299, 3, 1536)</td>\n",
       "      <td>(299, 3, 1536)</td>\n",
       "      <td>(299, 3, 1536)</td>\n",
       "      <td>(299, 3, 1536)</td>\n",
       "      <td>(299, 3, 1536)</td>\n",
       "      <td>(299, 3, 1536)</td>\n",
       "      <td>(299, 3, 1536)</td>\n",
       "      <td>(299, 3, 1536)</td>\n",
       "      <td>(299, 3, 1536)</td>\n",
       "      <td>(299, 3, 1536)</td>\n",
       "      <td>(299, 3, 1536)</td>\n",
       "      <td>(299, 3, 1536)</td>\n",
       "      <td>(299, 3, 1536)</td>\n",
       "      <td>(299, 3, 1536)</td>\n",
       "      <td>(299, 3, 1536)</td>\n",
       "    </tr>\n",
       "    <tr>\n",
       "      <th>shape_y_train</th>\n",
       "      <td>(9766, 2)</td>\n",
       "      <td>(9766, 2)</td>\n",
       "      <td>(9766, 2)</td>\n",
       "      <td>(9766, 2)</td>\n",
       "      <td>(9766, 2)</td>\n",
       "      <td>(9766, 2)</td>\n",
       "      <td>(9766, 2)</td>\n",
       "      <td>(9766, 2)</td>\n",
       "      <td>(9766, 2)</td>\n",
       "      <td>(9766, 2)</td>\n",
       "      <td>(9766, 2)</td>\n",
       "      <td>(9766, 2)</td>\n",
       "      <td>(9766, 2)</td>\n",
       "      <td>(9766, 2)</td>\n",
       "      <td>(9766, 2)</td>\n",
       "      <td>(9766, 2)</td>\n",
       "      <td>(9766, 2)</td>\n",
       "      <td>(9766, 2)</td>\n",
       "      <td>(9766, 2)</td>\n",
       "      <td>(9766, 2)</td>\n",
       "    </tr>\n",
       "  </tbody>\n",
       "</table>\n",
       "</div>"
      ],
      "text/plain": [
       "                                          131                  283  \\\n",
       "dt_duration_seconds                       155                  829   \n",
       "dt_end                    2018-12-16 19:15:04  2018-12-16 22:20:45   \n",
       "dt_start                  2018-12-16 19:12:29  2018-12-16 22:06:55   \n",
       "fit_batch_size                             32                   32   \n",
       "fit_num_classes                             2                    2   \n",
       "fit_num_epochs                             14                   35   \n",
       "fit_stopped_early                        True                 True   \n",
       "fit_stopper_patience                        5                   10   \n",
       "fit_test_acc                          0.82274              0.92308   \n",
       "fit_train_acc                         0.92075              0.92054   \n",
       "fit_train_loss                        0.21412              0.21287   \n",
       "fit_val_acc                           0.94524              0.94481   \n",
       "fit_val_loss                          0.19217              0.21216   \n",
       "id                                        245                  273   \n",
       "model_architecture                        MLP                 LSTM   \n",
       "model_dropout                             0.2                  0.2   \n",
       "model_layer_1_sizefactor                    8                    1   \n",
       "model_layer_2_sizefactor                    4                    4   \n",
       "model_layer_3_sizefactor                    4                    0   \n",
       "model_num_features                       1536                 1536   \n",
       "model_sequence_length                       3                    3   \n",
       "param_count                           3983618             19471490   \n",
       "pretrained_model_name     inception_resnet_v2  inception_resnet_v2   \n",
       "pretrained_model_pooling                  avg                  avg   \n",
       "shape_x_test                   (299, 3, 1536)       (299, 3, 1536)   \n",
       "shape_y_train                       (9766, 2)            (9766, 2)   \n",
       "\n",
       "                                          41                   100  \\\n",
       "dt_duration_seconds                       734                  794   \n",
       "dt_end                    2018-12-16 23:24:46  2018-12-16 21:03:18   \n",
       "dt_start                  2018-12-16 23:12:32  2018-12-16 20:50:04   \n",
       "fit_batch_size                             32                   32   \n",
       "fit_num_classes                             2                    2   \n",
       "fit_num_epochs                             28                   35   \n",
       "fit_stopped_early                        True                 True   \n",
       "fit_stopper_patience                       10                   10   \n",
       "fit_test_acc                          0.86288              0.87291   \n",
       "fit_train_acc                          0.9103              0.91808   \n",
       "fit_train_loss                        0.23878              0.21444   \n",
       "fit_val_acc                           0.94307              0.94133   \n",
       "fit_val_loss                          0.22584              0.18752   \n",
       "id                                        281                  263   \n",
       "model_architecture                       LSTM                 LSTM   \n",
       "model_dropout                             0.2                  0.2   \n",
       "model_layer_1_sizefactor                    1                    1   \n",
       "model_layer_2_sizefactor                    8                    0   \n",
       "model_layer_3_sizefactor                    0                    8   \n",
       "model_num_features                       1536                 1536   \n",
       "model_sequence_length                       3                    3   \n",
       "param_count                          19176002             18883586   \n",
       "pretrained_model_name     inception_resnet_v2  inception_resnet_v2   \n",
       "pretrained_model_pooling                  avg                  avg   \n",
       "shape_x_test                   (299, 3, 1536)       (299, 3, 1536)   \n",
       "shape_y_train                       (9766, 2)            (9766, 2)   \n",
       "\n",
       "                                          271                  320  \\\n",
       "dt_duration_seconds                       423                  278   \n",
       "dt_end                    2018-12-17 09:56:39  2018-12-17 09:24:11   \n",
       "dt_start                  2018-12-17 09:49:36  2018-12-17 09:19:33   \n",
       "fit_batch_size                             32                   32   \n",
       "fit_num_classes                             2                    2   \n",
       "fit_num_epochs                             36                   20   \n",
       "fit_stopped_early                        True                 True   \n",
       "fit_stopper_patience                       10                   10   \n",
       "fit_test_acc                          0.88294              0.87625   \n",
       "fit_train_acc                          0.9146              0.90877   \n",
       "fit_train_loss                        0.22405              0.24227   \n",
       "fit_val_acc                           0.94133               0.9409   \n",
       "fit_val_loss                          0.19348              0.21281   \n",
       "id                                        309                  301   \n",
       "model_architecture                       LSTM                 LSTM   \n",
       "model_dropout                             0.2                  0.2   \n",
       "model_layer_1_sizefactor                    2                    2   \n",
       "model_layer_2_sizefactor                    4                    2   \n",
       "model_layer_3_sizefactor                    4                    4   \n",
       "model_num_features                       1536                 1536   \n",
       "model_sequence_length                       3                    3   \n",
       "param_count                           7524866              7967618   \n",
       "pretrained_model_name     inception_resnet_v2  inception_resnet_v2   \n",
       "pretrained_model_pooling                  avg                  avg   \n",
       "shape_x_test                   (299, 3, 1536)       (299, 3, 1536)   \n",
       "shape_y_train                       (9766, 2)            (9766, 2)   \n",
       "\n",
       "                                          301                  307  \\\n",
       "dt_duration_seconds                       126                  121   \n",
       "dt_end                    2018-12-16 17:37:25  2018-12-16 17:22:01   \n",
       "dt_start                  2018-12-16 17:35:18  2018-12-16 17:19:59   \n",
       "fit_batch_size                             32                   32   \n",
       "fit_num_classes                             2                    2   \n",
       "fit_num_epochs                             16                   13   \n",
       "fit_stopped_early                        True                 True   \n",
       "fit_stopper_patience                        5                    5   \n",
       "fit_test_acc                          0.92977              0.92977   \n",
       "fit_train_acc                         0.92965              0.91378   \n",
       "fit_train_loss                        0.19381               0.2358   \n",
       "fit_val_acc                            0.9409              0.94046   \n",
       "fit_val_loss                          0.18859                0.254   \n",
       "id                                        185                  175   \n",
       "model_architecture                        MLP                  MLP   \n",
       "model_dropout                             0.2                  0.2   \n",
       "model_layer_1_sizefactor                    2                    2   \n",
       "model_layer_2_sizefactor                    8                    2   \n",
       "model_layer_3_sizefactor                    0                    8   \n",
       "model_num_features                       1536                 1536   \n",
       "model_sequence_length                       3                    3   \n",
       "param_count                           3687746              4278338   \n",
       "pretrained_model_name     inception_resnet_v2  inception_resnet_v2   \n",
       "pretrained_model_pooling                  avg                  avg   \n",
       "shape_x_test                   (299, 3, 1536)       (299, 3, 1536)   \n",
       "shape_y_train                       (9766, 2)            (9766, 2)   \n",
       "\n",
       "                                          264                  166  \\\n",
       "dt_duration_seconds                        96                  542   \n",
       "dt_end                    2018-12-16 17:25:50  2018-12-16 22:37:01   \n",
       "dt_start                  2018-12-16 17:24:14  2018-12-16 22:27:59   \n",
       "fit_batch_size                             32                   32   \n",
       "fit_num_classes                             2                    2   \n",
       "fit_num_epochs                             10                   18   \n",
       "fit_stopped_early                        True                 True   \n",
       "fit_stopper_patience                        5                   10   \n",
       "fit_test_acc                           0.9097              0.81271   \n",
       "fit_train_acc                         0.91327              0.89832   \n",
       "fit_train_loss                        0.23583              0.26552   \n",
       "fit_val_acc                           0.94003              0.93959   \n",
       "fit_val_loss                          0.21658              0.22235   \n",
       "id                                        177                  275   \n",
       "model_architecture                        MLP                 LSTM   \n",
       "model_dropout                             0.2                  0.2   \n",
       "model_layer_1_sizefactor                    2                    1   \n",
       "model_layer_2_sizefactor                    4                    4   \n",
       "model_layer_3_sizefactor                    0                    2   \n",
       "model_num_features                       1536                 1536   \n",
       "model_sequence_length                       3                    3   \n",
       "param_count                           3835778             19767938   \n",
       "pretrained_model_name     inception_resnet_v2  inception_resnet_v2   \n",
       "pretrained_model_pooling                  avg                  avg   \n",
       "shape_x_test                   (299, 3, 1536)       (299, 3, 1536)   \n",
       "shape_y_train                       (9766, 2)            (9766, 2)   \n",
       "\n",
       "                                          143                  299  \\\n",
       "dt_duration_seconds                       702                  152   \n",
       "dt_end                    2018-12-16 20:21:01  2018-12-17 10:45:58   \n",
       "dt_start                  2018-12-16 20:09:18  2018-12-17 10:43:26   \n",
       "fit_batch_size                             32                   32   \n",
       "fit_num_classes                             2                    2   \n",
       "fit_num_epochs                             30                   16   \n",
       "fit_stopped_early                        True                 True   \n",
       "fit_stopper_patience                       10                   10   \n",
       "fit_test_acc                          0.91973              0.86957   \n",
       "fit_train_acc                         0.92228              0.90375   \n",
       "fit_train_loss                        0.21071              0.24198   \n",
       "fit_val_acc                           0.93916              0.93872   \n",
       "fit_val_loss                           0.1884              0.20838   \n",
       "id                                        257                  321   \n",
       "model_architecture                       LSTM                 LSTM   \n",
       "model_dropout                             0.2                  0.2   \n",
       "model_layer_1_sizefactor                    1                    4   \n",
       "model_layer_2_sizefactor                    0                    0   \n",
       "model_layer_3_sizefactor                    0                    0   \n",
       "model_num_features                       1536                 1536   \n",
       "model_sequence_length                       3                    3   \n",
       "param_count                          18883586              2951426   \n",
       "pretrained_model_name     inception_resnet_v2  inception_resnet_v2   \n",
       "pretrained_model_pooling                  avg                  avg   \n",
       "shape_x_test                   (299, 3, 1536)       (299, 3, 1536)   \n",
       "shape_y_train                       (9766, 2)            (9766, 2)   \n",
       "\n",
       "                                          13                   227  \\\n",
       "dt_duration_seconds                       123                  286   \n",
       "dt_end                    2018-12-16 18:22:20  2018-12-17 00:30:27   \n",
       "dt_start                  2018-12-16 18:20:17  2018-12-17 00:25:40   \n",
       "fit_batch_size                             32                   32   \n",
       "fit_num_classes                             2                    2   \n",
       "fit_num_epochs                             12                   16   \n",
       "fit_stopped_early                        True                 True   \n",
       "fit_stopper_patience                        5                   10   \n",
       "fit_test_acc                          0.84615               0.8194   \n",
       "fit_train_acc                         0.91634              0.89914   \n",
       "fit_train_loss                        0.23024              0.26021   \n",
       "fit_val_acc                           0.93829              0.93785   \n",
       "fit_val_loss                          0.23265              0.21845   \n",
       "id                                        213                  289   \n",
       "model_architecture                        MLP                 LSTM   \n",
       "model_dropout                             0.2                  0.2   \n",
       "model_layer_1_sizefactor                    4                    2   \n",
       "model_layer_2_sizefactor                    4                    0   \n",
       "model_layer_3_sizefactor                    4                    0   \n",
       "model_num_features                       1536                 1536   \n",
       "model_sequence_length                       3                    3   \n",
       "param_count                           3983618              7082498   \n",
       "pretrained_model_name     inception_resnet_v2  inception_resnet_v2   \n",
       "pretrained_model_pooling                  avg                  avg   \n",
       "shape_x_test                   (299, 3, 1536)       (299, 3, 1536)   \n",
       "shape_y_train                       (9766, 2)            (9766, 2)   \n",
       "\n",
       "                                          142                  104  \\\n",
       "dt_duration_seconds                       108                  119   \n",
       "dt_end                    2018-12-16 16:43:26  2018-12-16 18:25:56   \n",
       "dt_start                  2018-12-16 16:41:38  2018-12-16 18:23:57   \n",
       "fit_batch_size                             32                   32   \n",
       "fit_num_classes                             2                    2   \n",
       "fit_num_epochs                             15                   10   \n",
       "fit_stopped_early                        True                 True   \n",
       "fit_stopper_patience                        5                    5   \n",
       "fit_test_acc                          0.94314              0.71906   \n",
       "fit_train_acc                         0.91644              0.90528   \n",
       "fit_train_loss                        0.21707              0.25178   \n",
       "fit_val_acc                           0.93785              0.93698   \n",
       "fit_val_loss                          0.22046              0.27825   \n",
       "id                                        145                  215   \n",
       "model_architecture                        MLP                  MLP   \n",
       "model_dropout                             0.2                  0.2   \n",
       "model_layer_1_sizefactor                    1                    4   \n",
       "model_layer_2_sizefactor                    4                    4   \n",
       "model_layer_3_sizefactor                    0                    8   \n",
       "model_num_features                       1536                 1536   \n",
       "model_sequence_length                       3                    3   \n",
       "param_count                           3835778              3909314   \n",
       "pretrained_model_name     inception_resnet_v2  inception_resnet_v2   \n",
       "pretrained_model_pooling                  avg                  avg   \n",
       "shape_x_test                   (299, 3, 1536)       (299, 3, 1536)   \n",
       "shape_y_train                       (9766, 2)            (9766, 2)   \n",
       "\n",
       "                                          65                   25   \\\n",
       "dt_duration_seconds                        96                  127   \n",
       "dt_end                    2018-12-16 16:53:40  2018-12-16 18:36:05   \n",
       "dt_start                  2018-12-16 16:52:04  2018-12-16 18:33:57   \n",
       "fit_batch_size                             32                   32   \n",
       "fit_num_classes                             2                    2   \n",
       "fit_num_epochs                             12                   12   \n",
       "fit_stopped_early                        True                 True   \n",
       "fit_stopper_patience                        5                    5   \n",
       "fit_test_acc                          0.94649              0.75585   \n",
       "fit_train_acc                         0.91839              0.92402   \n",
       "fit_train_loss                        0.22077              0.20715   \n",
       "fit_val_acc                           0.93698              0.93655   \n",
       "fit_val_loss                          0.22628              0.21692   \n",
       "id                                        153                  221   \n",
       "model_architecture                        MLP                  MLP   \n",
       "model_dropout                             0.2                  0.2   \n",
       "model_layer_1_sizefactor                    1                    4   \n",
       "model_layer_2_sizefactor                    8                    8   \n",
       "model_layer_3_sizefactor                    0                    4   \n",
       "model_num_features                       1536                 1536   \n",
       "model_sequence_length                       3                    3   \n",
       "param_count                           3687746              3762242   \n",
       "pretrained_model_name     inception_resnet_v2  inception_resnet_v2   \n",
       "pretrained_model_pooling                  avg                  avg   \n",
       "shape_x_test                   (299, 3, 1536)       (299, 3, 1536)   \n",
       "shape_y_train                       (9766, 2)            (9766, 2)   \n",
       "\n",
       "                                          226                  171  \n",
       "dt_duration_seconds                       103                  554  \n",
       "dt_end                    2018-12-16 17:01:21  2018-12-17 00:14:33  \n",
       "dt_start                  2018-12-16 16:59:37  2018-12-17 00:05:18  \n",
       "fit_batch_size                             32                   32  \n",
       "fit_num_classes                             2                    2  \n",
       "fit_num_epochs                             12                   17  \n",
       "fit_stopped_early                        True                 True  \n",
       "fit_stopper_patience                        5                   10  \n",
       "fit_test_acc                          0.90635               0.8495  \n",
       "fit_train_acc                         0.90723              0.90334  \n",
       "fit_train_loss                        0.24289              0.25433  \n",
       "fit_val_acc                           0.93611              0.93568  \n",
       "fit_val_loss                          0.24828              0.24394  \n",
       "id                                        159                  287  \n",
       "model_architecture                        MLP                 LSTM  \n",
       "model_dropout                             0.2                  0.2  \n",
       "model_layer_1_sizefactor                    1                    1  \n",
       "model_layer_2_sizefactor                    8                    8  \n",
       "model_layer_3_sizefactor                    8                    8  \n",
       "model_num_features                       1536                 1536  \n",
       "model_sequence_length                       3                    3  \n",
       "param_count                           3724802             19213058  \n",
       "pretrained_model_name     inception_resnet_v2  inception_resnet_v2  \n",
       "pretrained_model_pooling                  avg                  avg  \n",
       "shape_x_test                   (299, 3, 1536)       (299, 3, 1536)  \n",
       "shape_y_train                       (9766, 2)            (9766, 2)  "
      ]
     },
     "execution_count": 40,
     "metadata": {},
     "output_type": "execute_result"
    }
   ],
   "source": [
    "results.head(20).T"
   ]
  },
  {
   "cell_type": "code",
   "execution_count": null,
   "metadata": {
    "ExecuteTime": {
     "end_time": "2018-12-17T11:35:16.971477Z",
     "start_time": "2018-12-17T10:16:08.305Z"
    }
   },
   "outputs": [],
   "source": [
    "results.to_csv(pwd+'results.csv')"
   ]
  },
  {
   "cell_type": "markdown",
   "metadata": {},
   "source": [
    "# Analyze results of balanced vs unbalanced fits"
   ]
  },
  {
   "cell_type": "code",
   "execution_count": null,
   "metadata": {
    "ExecuteTime": {
     "end_time": "2018-12-17T11:35:16.972918Z",
     "start_time": "2018-12-17T10:16:08.307Z"
    }
   },
   "outputs": [],
   "source": [
    "# results2 = pd.read_csv(pwd + 'results/results1.csv', index_col=0)\n",
    "\n",
    "# results['type'] = 'unbalanced'\n",
    "# results2['type'] = 'balanced'\n",
    "\n",
    "# results = pd.concat([results,results2],axis=0)\n",
    "\n",
    "# results.head().T"
   ]
  }
 ],
 "metadata": {
  "anaconda-cloud": {},
  "kernelspec": {
   "display_name": "Python 3",
   "language": "python",
   "name": "python3"
  },
  "language_info": {
   "codemirror_mode": {
    "name": "ipython",
    "version": 3
   },
   "file_extension": ".py",
   "mimetype": "text/x-python",
   "name": "python",
   "nbconvert_exporter": "python",
   "pygments_lexer": "ipython3",
   "version": "3.5.3"
  },
  "nav_menu": {},
  "nbpresent": {
   "slides": {
    "28b43202-5690-4169-9aca-6b9dabfeb3ec": {
     "id": "28b43202-5690-4169-9aca-6b9dabfeb3ec",
     "prev": null,
     "regions": {
      "3bba644a-cf4d-4a49-9fbd-e2554428cf9f": {
       "attrs": {
        "height": 0.8,
        "width": 0.8,
        "x": 0.1,
        "y": 0.1
       },
       "content": {
        "cell": "f3d3a388-7e2a-4151-9b50-c20498fceacc",
        "part": "whole"
       },
       "id": "3bba644a-cf4d-4a49-9fbd-e2554428cf9f"
      }
     }
    },
    "8104def2-4b68-44a0-8f1b-b03bf3b2a079": {
     "id": "8104def2-4b68-44a0-8f1b-b03bf3b2a079",
     "prev": "28b43202-5690-4169-9aca-6b9dabfeb3ec",
     "regions": {
      "7dded777-1ddf-4100-99ae-25cf1c15b575": {
       "attrs": {
        "height": 0.8,
        "width": 0.8,
        "x": 0.1,
        "y": 0.1
       },
       "content": {
        "cell": "fe47bd48-3414-4657-92e7-8b8d6cb0df00",
        "part": "whole"
       },
       "id": "7dded777-1ddf-4100-99ae-25cf1c15b575"
      }
     }
    }
   },
   "themes": {}
  },
  "toc": {
   "nav_menu": {
    "height": "148px",
    "width": "254px"
   },
   "navigate_menu": true,
   "number_sections": true,
   "sideBar": true,
   "threshold": 6,
   "toc_cell": false,
   "toc_section_display": "block",
   "toc_window_display": false
  }
 },
 "nbformat": 4,
 "nbformat_minor": 1
}
