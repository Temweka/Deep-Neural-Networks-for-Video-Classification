{
 "cells": [
  {
   "cell_type": "code",
   "execution_count": 1,
   "metadata": {
    "ExecuteTime": {
     "end_time": "2019-01-23T12:45:47.178558Z",
     "start_time": "2019-01-23T12:45:47.175172Z"
    }
   },
   "outputs": [],
   "source": [
    "WORKER_COUNT = 8"
   ]
  },
  {
   "cell_type": "code",
   "execution_count": 2,
   "metadata": {
    "ExecuteTime": {
     "end_time": "2019-01-23T12:45:47.736741Z",
     "start_time": "2019-01-23T12:45:47.733902Z"
    }
   },
   "outputs": [],
   "source": [
    "# Sync models\n",
    "# gsutil -m rsync -r /mnt/seals/models/ gs://thesis-penguins/models/ \n",
    "# aws s3 sync /mnt/seals/models s3://thesisvids/penguins/models/"
   ]
  },
  {
   "cell_type": "code",
   "execution_count": 3,
   "metadata": {
    "ExecuteTime": {
     "end_time": "2019-01-23T12:45:47.743155Z",
     "start_time": "2019-01-23T12:45:47.739733Z"
    }
   },
   "outputs": [],
   "source": [
    "# whether to log each feature and sequence status\n",
    "verbose = True"
   ]
  },
  {
   "cell_type": "code",
   "execution_count": 4,
   "metadata": {
    "ExecuteTime": {
     "end_time": "2019-01-23T12:45:48.829146Z",
     "start_time": "2019-01-23T12:45:48.321947Z"
    }
   },
   "outputs": [],
   "source": [
    "import gc\n",
    "import os\n",
    "import pandas as pd\n",
    "pd.options.display.max_rows = 5000\n",
    "import numpy as np\n",
    "import json\n",
    "import datetime\n",
    "import matplotlib.pyplot as plt\n",
    "import itertools\n",
    "import sys\n",
    "sys.path.append('..')"
   ]
  },
  {
   "cell_type": "code",
   "execution_count": 5,
   "metadata": {
    "ExecuteTime": {
     "end_time": "2019-01-23T12:45:48.834847Z",
     "start_time": "2019-01-23T12:45:48.831662Z"
    }
   },
   "outputs": [],
   "source": [
    "# setup paths\n",
    "pwd = os.getcwd().replace(\"notebooks\",\"\")\n",
    "path_cache = pwd + 'cache/'\n",
    "path_data = pwd + 'data/'"
   ]
  },
  {
   "cell_type": "code",
   "execution_count": 6,
   "metadata": {
    "ExecuteTime": {
     "end_time": "2019-01-23T12:45:49.101959Z",
     "start_time": "2019-01-23T12:45:49.095451Z"
    }
   },
   "outputs": [],
   "source": [
    "# setup logging\n",
    "# any explicit log messages or uncaught errors to stdout and file /logs.log\n",
    "import logging\n",
    "logging.basicConfig(\n",
    "    level=logging.INFO,\n",
    "    format=\"%(asctime)s [%(threadName)-12.12s] [%(levelname)-5.5s]  %(message)s\",\n",
    "    handlers=[\n",
    "        logging.FileHandler(\"{0}/{1}.log\".format(pwd, \"logs\")),\n",
    "        logging.StreamHandler()\n",
    "    ])\n",
    "# init logger\n",
    "logger = logging.getLogger()\n",
    "# make logger aware of any uncaught exceptions\n",
    "def handle_exception(exc_type, exc_value, exc_traceback):\n",
    "    if issubclass(exc_type, KeyboardInterrupt):\n",
    "        sys.__excepthook__(exc_type, exc_value, exc_traceback)\n",
    "        return\n",
    "\n",
    "    logger.error(\"Uncaught exception\", exc_info=(exc_type, exc_value, exc_traceback))\n",
    "sys.excepthook = handle_exception"
   ]
  },
  {
   "cell_type": "code",
   "execution_count": 7,
   "metadata": {
    "ExecuteTime": {
     "end_time": "2019-01-23T12:45:50.541159Z",
     "start_time": "2019-01-23T12:45:49.104571Z"
    }
   },
   "outputs": [
    {
     "name": "stderr",
     "output_type": "stream",
     "text": [
      "Using TensorFlow backend.\n",
      "Using TensorFlow backend.\n"
     ]
    }
   ],
   "source": [
    "from deepvideoclassification.pretrained_CNNs import pretrained_model_names, pretrained_model_names_bucketed"
   ]
  },
  {
   "cell_type": "markdown",
   "metadata": {},
   "source": [
    "# Create list of experiments to be run"
   ]
  },
  {
   "cell_type": "markdown",
   "metadata": {},
   "source": [
    "* batch 1 = run frozen image MLP, LRCNNs and concat models on 1 of each pretrained_model_name in buckets (bucketed on feature sizes and limited to max sequence_length of 10)\n",
    "\n",
    "* batch 2 = for best configurations from batch 1, run other pretrained models in buckets and run longer sequence lengths, maybe try different convolution kernel sizes\n",
    "\n",
    "* batch 3 = run trainable MLP and LRCNN on best performing frozen variants\n",
    "\n",
    "* batch 4 = run trainable but initializing with best CNN weights\n",
    "\n",
    "* batch 5 = run C3D models\n",
    "\n",
    "* batch 6 = analyze effect of dropout and pooling with best model"
   ]
  },
  {
   "cell_type": "markdown",
   "metadata": {
    "heading_collapsed": true
   },
   "source": [
    "# Batch 1"
   ]
  },
  {
   "cell_type": "code",
   "execution_count": null,
   "metadata": {
    "ExecuteTime": {
     "end_time": "2019-01-21T15:56:43.877275Z",
     "start_time": "2019-01-21T15:56:43.873616Z"
    },
    "hidden": true
   },
   "outputs": [],
   "source": [
    "experiment_batch_name = 'experiment_batch_1'"
   ]
  },
  {
   "cell_type": "code",
   "execution_count": null,
   "metadata": {
    "ExecuteTime": {
     "end_time": "2019-01-21T15:39:03.960050Z",
     "start_time": "2019-01-21T15:39:03.957037Z"
    },
    "hidden": true
   },
   "outputs": [],
   "source": [
    "# init model id - need to make sure we pick up where we leave off don't overwrite it between batches\n",
    "model_id_start = 0"
   ]
  },
  {
   "cell_type": "code",
   "execution_count": null,
   "metadata": {
    "ExecuteTime": {
     "end_time": "2019-01-21T15:39:04.123577Z",
     "start_time": "2019-01-21T15:39:04.120281Z"
    },
    "hidden": true
   },
   "outputs": [],
   "source": [
    "# init list of experiments\n",
    "experiments = []"
   ]
  },
  {
   "cell_type": "code",
   "execution_count": null,
   "metadata": {
    "ExecuteTime": {
     "end_time": "2019-01-21T15:39:04.277111Z",
     "start_time": "2019-01-21T15:39:04.272931Z"
    },
    "hidden": true
   },
   "outputs": [],
   "source": [
    "pooling = 'max'\n",
    "layer_sizes = [512, 256, 128, 0]\n",
    "dropouts = [0.2]\n",
    "sequence_lengths = [3,5,10]\n",
    "sequence_models = [\"LSTM\", \"SimpleRNN\", \"GRU\", \"Convolution1D\"]\n",
    "sequence_model_layer_counts = [1,2]"
   ]
  },
  {
   "cell_type": "code",
   "execution_count": null,
   "metadata": {
    "ExecuteTime": {
     "end_time": "2019-01-21T15:39:04.793370Z",
     "start_time": "2019-01-21T15:39:04.787530Z"
    },
    "hidden": true
   },
   "outputs": [],
   "source": [
    "####################\n",
    "### image_MLP_frozen \n",
    "####################\n",
    "\n",
    "for pretrained_model_name in pretrained_model_names_bucketed:\n",
    "    for layer_1_size in layer_sizes:\n",
    "        for layer_2_size in layer_sizes:\n",
    "            for layer_3_size in layer_sizes:\n",
    "                for dropout in dropouts:\n",
    "\n",
    "                    # build experiment parameters\n",
    "                    experiment = {}\n",
    "                    \n",
    "                    experiment['architecture'] = 'image_MLP_frozen'\n",
    "                    experiment['sequence_length'] = 1\n",
    "                    experiment['pretrained_model_name'] = pretrained_model_name\n",
    "                    experiment['layer_1_size'] = layer_1_size\n",
    "                    experiment['layer_2_size'] = layer_2_size\n",
    "                    experiment['layer_3_size'] = layer_3_size\n",
    "                    experiment['dropout'] = dropout\n",
    "                    experiment['pooling'] = 'max' # outperforms avg across all parameters\n",
    "                    \n",
    "                    # add to list of experiments\n",
    "                    experiments.append(experiment)"
   ]
  },
  {
   "cell_type": "code",
   "execution_count": null,
   "metadata": {
    "ExecuteTime": {
     "end_time": "2019-01-21T15:39:05.377534Z",
     "start_time": "2019-01-21T15:39:05.371586Z"
    },
    "hidden": true
   },
   "outputs": [],
   "source": [
    "####################\n",
    "### video_MLP_concat\n",
    "####################\n",
    "\n",
    "for sequence_length in sequence_lengths:\n",
    "    for pretrained_model_name in pretrained_model_names_bucketed:\n",
    "        for layer_1_size in layer_sizes:\n",
    "            for layer_2_size in layer_sizes:\n",
    "                for layer_3_size in layer_sizes:\n",
    "                    for dropout in dropouts:\n",
    "\n",
    "                        # build experiment parameters\n",
    "                        experiment = {}\n",
    "\n",
    "                        experiment['architecture'] = 'video_MLP_concat'\n",
    "                        experiment['pretrained_model_name'] = pretrained_model_name\n",
    "                        experiment['layer_1_size'] = layer_1_size\n",
    "                        experiment['layer_2_size'] = layer_2_size\n",
    "                        experiment['layer_3_size'] = layer_3_size\n",
    "                        experiment['dropout'] = dropout\n",
    "                        experiment['pooling'] = 'max' # outperforms avg across all parameters\n",
    "                        experiment['sequence_length'] = sequence_length\n",
    "\n",
    "                        # add to list of experiments\n",
    "                        experiments.append(experiment)"
   ]
  },
  {
   "cell_type": "code",
   "execution_count": null,
   "metadata": {
    "ExecuteTime": {
     "end_time": "2019-01-21T15:39:05.700591Z",
     "start_time": "2019-01-21T15:39:05.684593Z"
    },
    "hidden": true
   },
   "outputs": [],
   "source": [
    "######################\n",
    "### video_LRCNN_frozen\n",
    "######################\n",
    "\n",
    "for sequence_length in sequence_lengths:\n",
    "    for pretrained_model_name in pretrained_model_names_bucketed:\n",
    "        for layer_1_size in layer_sizes:\n",
    "            for layer_2_size in layer_sizes:\n",
    "                for layer_3_size in layer_sizes:\n",
    "                    for dropout in dropouts:\n",
    "                        for sequence_model in sequence_models:\n",
    "                            for sequence_model_layers in sequence_model_layer_counts:\n",
    "\n",
    "                                # build experiment parameters\n",
    "                                experiment = {}\n",
    "\n",
    "                                experiment['architecture'] = 'video_LRCNN_frozen'\n",
    "                                experiment['pretrained_model_name'] = pretrained_model_name\n",
    "                                experiment['layer_1_size'] = layer_1_size\n",
    "                                experiment['layer_2_size'] = layer_2_size\n",
    "                                experiment['layer_3_size'] = layer_3_size\n",
    "                                experiment['dropout'] = dropout\n",
    "                                experiment['pooling'] = 'max' # outperforms avg across all parameters\n",
    "                                experiment['sequence_model'] = sequence_model\n",
    "                                experiment['sequence_model_layers'] = sequence_model_layers\n",
    "                                experiment['sequence_length'] = sequence_length\n",
    "\n",
    "                                # add to list of experiments\n",
    "                                experiments.append(experiment)"
   ]
  },
  {
   "cell_type": "code",
   "execution_count": null,
   "metadata": {
    "ExecuteTime": {
     "end_time": "2019-01-21T15:39:06.499582Z",
     "start_time": "2019-01-21T15:39:06.471039Z"
    },
    "hidden": true
   },
   "outputs": [],
   "source": [
    "########################\n",
    "### convert to dataframe\n",
    "########################\n",
    "\n",
    "experiments = pd.DataFrame(experiments)\n",
    "\n",
    "### create model id column for this experiment batch\n",
    "model_id_list = list(range(0,len(experiments)))\n",
    "experiments['model_id'] = model_id_list\n",
    "\n",
    "# assign to workers\n",
    "experiments['WORKER'] = experiments['model_id'].apply(lambda x: x % WORKER_COUNT)"
   ]
  },
  {
   "cell_type": "code",
   "execution_count": null,
   "metadata": {
    "ExecuteTime": {
     "end_time": "2019-01-21T15:39:07.059741Z",
     "start_time": "2019-01-21T15:39:07.053022Z"
    },
    "hidden": true
   },
   "outputs": [],
   "source": [
    "experiments.shape"
   ]
  },
  {
   "cell_type": "code",
   "execution_count": null,
   "metadata": {
    "ExecuteTime": {
     "end_time": "2019-01-21T15:39:09.296388Z",
     "start_time": "2019-01-21T15:39:09.279746Z"
    },
    "hidden": true
   },
   "outputs": [],
   "source": [
    "############################################\n",
    "### remove invalid experiment configurations\n",
    "############################################\n",
    "\n",
    "# Just won't run experiments for those model_ids - not an error that model ids not congituous count from 0!\n",
    "\n",
    "# delete video experiments with 0 neurons in a layer with nonzero neurons in later layers\n",
    "experiments = experiments[~((experiments['layer_1_size'] == 0) & (experiments['layer_2_size'] > 0))]\n",
    "experiments = experiments[~((experiments['layer_1_size'] == 0) & (experiments['layer_3_size'] > 0))]\n",
    "experiments = experiments[~((experiments['layer_2_size'] == 0) & (experiments['layer_3_size'] > 0))]\n",
    "\n",
    "# delete video experiments where convolution_kernel_size > sequence_length (convolution_kernel_size defaults to 3 and not set in this batch)\n",
    "experiments = experiments[~((experiments['sequence_model'] == 'Convolution1D') & (experiments['sequence_length']<=3))]"
   ]
  },
  {
   "cell_type": "code",
   "execution_count": null,
   "metadata": {
    "ExecuteTime": {
     "end_time": "2019-01-21T15:40:39.755684Z",
     "start_time": "2019-01-21T15:40:39.748309Z"
    },
    "hidden": true
   },
   "outputs": [],
   "source": [
    "# delete LRCNN_frozen experiments with layer_1_size == 0\n",
    "experiments = experiments[~((experiments['architecture'] == 'video_LRCNN_frozen') & (experiments['layer_1_size']==0))]"
   ]
  },
  {
   "cell_type": "code",
   "execution_count": null,
   "metadata": {
    "ExecuteTime": {
     "end_time": "2019-01-21T15:40:41.913560Z",
     "start_time": "2019-01-21T15:40:41.874417Z"
    },
    "hidden": true
   },
   "outputs": [],
   "source": [
    "##################################\n",
    "### output experiment batch to CSV\n",
    "##################################\n",
    "print(experiment_batch_name)\n",
    "experiments.to_csv(pwd + \"experiments/\" + experiment_batch_name + '.csv', index=False)"
   ]
  },
  {
   "cell_type": "code",
   "execution_count": null,
   "metadata": {
    "ExecuteTime": {
     "end_time": "2019-01-21T15:40:42.561035Z",
     "start_time": "2019-01-21T15:40:42.541721Z"
    },
    "hidden": true
   },
   "outputs": [],
   "source": [
    "print(experiments.shape)\n",
    "experiments.tail().T"
   ]
  },
  {
   "cell_type": "code",
   "execution_count": null,
   "metadata": {
    "ExecuteTime": {
     "end_time": "2019-01-21T15:40:45.398609Z",
     "start_time": "2019-01-21T15:40:44.575461Z"
    },
    "hidden": true
   },
   "outputs": [],
   "source": [
    "# # upload to s3\n",
    "# response = os.system(\"aws s3 cp \" + pwd + \"experiments/\" + experiment_batch_name + '.csv s3://thesisvids/penguins/' + experiment_batch_name + '.csv')\n",
    "# if response == 0:\n",
    "#     print(\"upload success\")\n",
    "# else:\n",
    "#     print(\"upload error\")"
   ]
  },
  {
   "cell_type": "code",
   "execution_count": null,
   "metadata": {
    "ExecuteTime": {
     "end_time": "2019-01-23T10:00:53.458037Z",
     "start_time": "2019-01-23T10:00:50.902899Z"
    },
    "hidden": true
   },
   "outputs": [],
   "source": [
    "# # upload to GCP\n",
    "response = os.system(\"gsutil cp \" + pwd + \"experiments/\" + experiment_batch_name + '.csv gs://thesis-penguins/' + experiment_batch_name + '.csv')\n",
    "if response == 0:\n",
    "    print(\"upload success\")\n",
    "else:\n",
    "    print(\"upload error\")"
   ]
  },
  {
   "cell_type": "markdown",
   "metadata": {
    "heading_collapsed": true
   },
   "source": [
    "# Batch 2"
   ]
  },
  {
   "cell_type": "code",
   "execution_count": null,
   "metadata": {
    "ExecuteTime": {
     "end_time": "2019-01-20T16:57:35.710487Z",
     "start_time": "2019-01-20T16:57:35.706908Z"
    },
    "hidden": true
   },
   "outputs": [],
   "source": [
    "# run other pretrained models for best configurations from batch 1\n",
    "# and run longer sequence lengths"
   ]
  },
  {
   "cell_type": "code",
   "execution_count": null,
   "metadata": {
    "ExecuteTime": {
     "end_time": "2019-01-20T16:58:56.239178Z",
     "start_time": "2019-01-20T16:58:56.235173Z"
    },
    "hidden": true
   },
   "outputs": [],
   "source": [
    "experiment_batch_name = 'experiment_batch_2'"
   ]
  },
  {
   "cell_type": "code",
   "execution_count": null,
   "metadata": {
    "ExecuteTime": {
     "end_time": "2019-01-20T16:58:56.471873Z",
     "start_time": "2019-01-20T16:58:56.452184Z"
    },
    "hidden": true
   },
   "outputs": [],
   "source": [
    "# init model id - need to make sure we pick up where we leave off don't overwrite it between batches\n",
    "model_id_start = pd.read_csv(pwd + \"experiments/experiment_batch_1.csv\")['model_id'].max() + 1"
   ]
  },
  {
   "cell_type": "code",
   "execution_count": null,
   "metadata": {
    "ExecuteTime": {
     "end_time": "2019-01-20T16:58:57.387780Z",
     "start_time": "2019-01-20T16:58:57.383611Z"
    },
    "hidden": true
   },
   "outputs": [],
   "source": [
    "# init list of experiments\n",
    "experiments = []"
   ]
  },
  {
   "cell_type": "code",
   "execution_count": null,
   "metadata": {
    "hidden": true
   },
   "outputs": [],
   "source": [
    "# TODO"
   ]
  },
  {
   "cell_type": "code",
   "execution_count": null,
   "metadata": {
    "hidden": true
   },
   "outputs": [],
   "source": []
  },
  {
   "cell_type": "code",
   "execution_count": null,
   "metadata": {
    "ExecuteTime": {
     "end_time": "2019-01-20T16:58:59.675371Z",
     "start_time": "2019-01-20T16:58:59.666792Z"
    },
    "hidden": true
   },
   "outputs": [],
   "source": [
    "########################\n",
    "### convert to dataframe\n",
    "########################\n",
    "\n",
    "experiments = pd.DataFrame(experiments)\n",
    "\n",
    "### create model id column for this experiment batch\n",
    "model_id_list = list(range(0,len(experiments)))\n",
    "experiments['model_id'] = model_id_list\n",
    "\n",
    "# assign to workers\n",
    "experiments['WORKER'] = experiments['model_id'].apply(lambda x: x % WORKER_COUNT)"
   ]
  },
  {
   "cell_type": "code",
   "execution_count": null,
   "metadata": {
    "hidden": true
   },
   "outputs": [],
   "source": [
    "##################################\n",
    "### output experiment batch to CSV\n",
    "##################################\n",
    "print(experiment_batch_name)\n",
    "experiments.to_csv(pwd + \"experiments/\" + experiment_batch_name + '.csv', index=False)"
   ]
  },
  {
   "cell_type": "markdown",
   "metadata": {
    "heading_collapsed": true
   },
   "source": [
    "# Batch 3"
   ]
  },
  {
   "cell_type": "code",
   "execution_count": null,
   "metadata": {
    "hidden": true
   },
   "outputs": [],
   "source": [
    "# run trainable MLP and LRCNN on best performing frozen variants"
   ]
  },
  {
   "cell_type": "code",
   "execution_count": null,
   "metadata": {
    "hidden": true
   },
   "outputs": [],
   "source": [
    "#######################\n",
    "### image_MLP_trainable\n",
    "#######################\n",
    "\n",
    "architecture = 'video_LRCNN_trainable'"
   ]
  },
  {
   "cell_type": "code",
   "execution_count": null,
   "metadata": {
    "hidden": true
   },
   "outputs": [],
   "source": [
    "#########################\n",
    "### video_LRCNN_trainable\n",
    "#########################\n",
    "\n",
    "architecture = 'video_LRCNN_trainable'"
   ]
  },
  {
   "cell_type": "markdown",
   "metadata": {
    "heading_collapsed": true
   },
   "source": [
    "# Batch 4"
   ]
  },
  {
   "cell_type": "code",
   "execution_count": null,
   "metadata": {
    "hidden": true
   },
   "outputs": [],
   "source": [
    "# run trainable but initializing with best CNN weights"
   ]
  },
  {
   "cell_type": "markdown",
   "metadata": {
    "heading_collapsed": true
   },
   "source": [
    "# Batch 5"
   ]
  },
  {
   "cell_type": "markdown",
   "metadata": {
    "heading_collapsed": true
   },
   "source": [
    "# Analyze results"
   ]
  },
  {
   "cell_type": "markdown",
   "metadata": {
    "hidden": true
   },
   "source": [
    "## load results.json for all models into dataframe"
   ]
  },
  {
   "cell_type": "code",
   "execution_count": null,
   "metadata": {
    "ExecuteTime": {
     "end_time": "2019-01-23T09:49:28.433361Z",
     "start_time": "2019-01-23T09:49:27.943157Z"
    },
    "hidden": true
   },
   "outputs": [],
   "source": [
    "path_models = pwd + 'models/'\n",
    "\n",
    "results = []\n",
    "\n",
    "for folder, subs, files in os.walk(path_models):\n",
    "    for filename in files:\n",
    "        if 'results.json' in filename:\n",
    "            with open(os.path.abspath(os.path.join(folder, filename))) as f:\n",
    "                data = json.load(f)\n",
    "            results.append(data)\n",
    "\n",
    "results = pd.DataFrame(results)        \n",
    "results.sort_values(\"fit_val_acc\", inplace=True, ascending=False)"
   ]
  },
  {
   "cell_type": "code",
   "execution_count": null,
   "metadata": {
    "ExecuteTime": {
     "end_time": "2019-01-23T09:49:28.506613Z",
     "start_time": "2019-01-23T09:49:28.470742Z"
    },
    "hidden": true
   },
   "outputs": [],
   "source": [
    "results.head(10).T"
   ]
  },
  {
   "cell_type": "code",
   "execution_count": null,
   "metadata": {
    "ExecuteTime": {
     "end_time": "2019-01-22T14:07:53.673979Z",
     "start_time": "2019-01-22T14:07:53.670276Z"
    },
    "hidden": true
   },
   "outputs": [],
   "source": [
    "# results[results['model_id'].isin([362, 550, 162, 133, 3115, 3125])].T"
   ]
  },
  {
   "cell_type": "code",
   "execution_count": null,
   "metadata": {
    "ExecuteTime": {
     "end_time": "2019-01-23T09:01:24.060679Z",
     "start_time": "2019-01-23T09:01:24.036787Z"
    },
    "hidden": true
   },
   "outputs": [],
   "source": [
    "results[results['architecture'] == 'video_mlp_concat'].head(5).T"
   ]
  },
  {
   "cell_type": "code",
   "execution_count": null,
   "metadata": {
    "ExecuteTime": {
     "end_time": "2019-01-23T09:01:24.289882Z",
     "start_time": "2019-01-23T09:01:24.266336Z"
    },
    "hidden": true
   },
   "outputs": [],
   "source": [
    "results[results['architecture'] == 'image_mlp_frozen'].head(5).T"
   ]
  },
  {
   "cell_type": "code",
   "execution_count": null,
   "metadata": {
    "ExecuteTime": {
     "end_time": "2019-01-23T09:01:24.456804Z",
     "start_time": "2019-01-23T09:01:24.431477Z"
    },
    "hidden": true
   },
   "outputs": [],
   "source": [
    "results[results['architecture'] == 'video_lrcnn_frozen'].head(5).T"
   ]
  },
  {
   "cell_type": "markdown",
   "metadata": {
    "hidden": true
   },
   "source": [
    "## analyze best combinations"
   ]
  },
  {
   "cell_type": "code",
   "execution_count": null,
   "metadata": {
    "ExecuteTime": {
     "end_time": "2019-01-23T09:04:24.294986Z",
     "start_time": "2019-01-23T09:04:24.088357Z"
    },
    "hidden": true
   },
   "outputs": [],
   "source": [
    "results.groupby(\"sequence_model\").agg('max')['fit_val_acc']"
   ]
  },
  {
   "cell_type": "code",
   "execution_count": null,
   "metadata": {
    "ExecuteTime": {
     "end_time": "2019-01-23T09:04:25.342022Z",
     "start_time": "2019-01-23T09:04:25.139045Z"
    },
    "hidden": true
   },
   "outputs": [],
   "source": [
    "results.groupby(\"sequence_length\").agg('max')['fit_val_acc']"
   ]
  },
  {
   "cell_type": "code",
   "execution_count": null,
   "metadata": {
    "ExecuteTime": {
     "end_time": "2019-01-23T09:05:18.563340Z",
     "start_time": "2019-01-23T09:05:18.426570Z"
    },
    "hidden": true
   },
   "outputs": [],
   "source": [
    "results.groupby([\"sequence_model\",\"sequence_length\"]).agg(\"max\")['fit_val_acc'].unstack()"
   ]
  },
  {
   "cell_type": "code",
   "execution_count": null,
   "metadata": {
    "ExecuteTime": {
     "end_time": "2019-01-23T09:07:40.291209Z",
     "start_time": "2019-01-23T09:07:40.068714Z"
    },
    "hidden": true
   },
   "outputs": [],
   "source": [
    "results.sort_values(\"fit_val_acc\").head(30).plot(x='model_param_count',y='fit_val_acc', kind='scatter')"
   ]
  },
  {
   "cell_type": "markdown",
   "metadata": {
    "heading_collapsed": true
   },
   "source": [
    "# re-allocate experiments to workers"
   ]
  },
  {
   "cell_type": "markdown",
   "metadata": {
    "hidden": true
   },
   "source": [
    "## Merge done status onto experiments"
   ]
  },
  {
   "cell_type": "code",
   "execution_count": null,
   "metadata": {
    "ExecuteTime": {
     "end_time": "2019-01-23T09:50:42.063662Z",
     "start_time": "2019-01-23T09:50:42.060141Z"
    },
    "hidden": true
   },
   "outputs": [],
   "source": [
    "experiment_batch_name = 'experiment_batch_1'"
   ]
  },
  {
   "cell_type": "code",
   "execution_count": null,
   "metadata": {
    "ExecuteTime": {
     "end_time": "2019-01-23T09:50:45.668379Z",
     "start_time": "2019-01-23T09:50:45.654412Z"
    },
    "hidden": true
   },
   "outputs": [],
   "source": [
    "# load list of experiments\n",
    "experiments = pd.read_csv(pwd + \"experiments/\" + experiment_batch_name + '.csv')"
   ]
  },
  {
   "cell_type": "code",
   "execution_count": null,
   "metadata": {
    "ExecuteTime": {
     "end_time": "2019-01-23T09:50:45.683456Z",
     "start_time": "2019-01-23T09:50:45.670710Z"
    },
    "hidden": true
   },
   "outputs": [],
   "source": [
    "experiments = pd.merge(experiments, results[['model_id','fit_val_acc']], left_on='model_id', right_on='model_id', how='left')\n",
    "experiments['done'] = (experiments['fit_val_acc']>0).astype(int)\n",
    "del experiments['fit_val_acc']"
   ]
  },
  {
   "cell_type": "code",
   "execution_count": null,
   "metadata": {
    "ExecuteTime": {
     "end_time": "2019-01-23T09:50:45.702958Z",
     "start_time": "2019-01-23T09:50:45.685821Z"
    },
    "hidden": true
   },
   "outputs": [],
   "source": [
    "experiments.head()"
   ]
  },
  {
   "cell_type": "code",
   "execution_count": null,
   "metadata": {
    "ExecuteTime": {
     "end_time": "2019-01-23T09:50:45.712673Z",
     "start_time": "2019-01-23T09:50:45.705904Z"
    },
    "hidden": true
   },
   "outputs": [],
   "source": [
    "print(\"{}/{} experiments done\".format(experiments[experiments['done'] == 1].shape[0], len(experiments)))"
   ]
  },
  {
   "cell_type": "markdown",
   "metadata": {
    "hidden": true
   },
   "source": [
    "## re-assign workers on the experiments that are not complete"
   ]
  },
  {
   "cell_type": "code",
   "execution_count": null,
   "metadata": {
    "ExecuteTime": {
     "end_time": "2019-01-23T09:57:13.914350Z",
     "start_time": "2019-01-23T09:57:13.864097Z"
    },
    "hidden": true
   },
   "outputs": [],
   "source": [
    "todo_idx = 0\n",
    "\n",
    "def assign_not_done_to_worker(row):\n",
    "    global todo_idx\n",
    "    if row['done'] == 0:\n",
    "        todo_idx+=1\n",
    "        return todo_idx % WORKER_COUNT\n",
    "    else:\n",
    "        return 0\n",
    "\n",
    "experiments['WORKER'] = experiments.apply(assign_not_done_to_worker, axis=1)"
   ]
  },
  {
   "cell_type": "code",
   "execution_count": null,
   "metadata": {
    "ExecuteTime": {
     "end_time": "2019-01-23T09:58:34.717493Z",
     "start_time": "2019-01-23T09:58:34.663565Z"
    },
    "hidden": true
   },
   "outputs": [],
   "source": [
    "experiments.tail(100)"
   ]
  },
  {
   "cell_type": "code",
   "execution_count": null,
   "metadata": {
    "ExecuteTime": {
     "end_time": "2019-01-23T09:59:55.834340Z",
     "start_time": "2019-01-23T09:59:55.829980Z"
    },
    "hidden": true
   },
   "outputs": [],
   "source": [
    "### delete done column before outputting to CSV\n",
    "del experiments['done']"
   ]
  },
  {
   "cell_type": "code",
   "execution_count": null,
   "metadata": {
    "ExecuteTime": {
     "end_time": "2019-01-23T09:59:57.378916Z",
     "start_time": "2019-01-23T09:59:57.341702Z"
    },
    "hidden": true
   },
   "outputs": [],
   "source": [
    "##################################\n",
    "### output experiment batch to CSV\n",
    "##################################\n",
    "print(experiment_batch_name)\n",
    "experiments.to_csv(pwd + \"experiments/\" + experiment_batch_name + '.csv', index=False)"
   ]
  },
  {
   "cell_type": "markdown",
   "metadata": {},
   "source": [
    "# Debug experiment worker"
   ]
  },
  {
   "cell_type": "code",
   "execution_count": 8,
   "metadata": {
    "ExecuteTime": {
     "end_time": "2019-01-23T12:45:52.588975Z",
     "start_time": "2019-01-23T12:45:51.942491Z"
    }
   },
   "outputs": [],
   "source": [
    "from deepvideoclassification.architectures import Architecture"
   ]
  },
  {
   "cell_type": "code",
   "execution_count": 9,
   "metadata": {
    "ExecuteTime": {
     "end_time": "2019-01-23T12:45:52.596020Z",
     "start_time": "2019-01-23T12:45:52.592122Z"
    }
   },
   "outputs": [],
   "source": [
    "WORKER_ID = 0\n",
    "GPU_ID = 7\n",
    "experiment_batch_name = 'experiment_batch_1'\n",
    "\n",
    "os.environ[\"CUDA_DEVICE_ORDER\"]=\"PCI_BUS_ID\"\n",
    "os.environ[\"CUDA_VISIBLE_DEVICES\"]=str(WORKER_ID)"
   ]
  },
  {
   "cell_type": "code",
   "execution_count": 10,
   "metadata": {
    "ExecuteTime": {
     "end_time": "2019-01-23T12:45:52.605514Z",
     "start_time": "2019-01-23T12:45:52.598817Z"
    }
   },
   "outputs": [
    {
     "name": "stderr",
     "output_type": "stream",
     "text": [
      "2019-01-23 12:45:52,601 [MainThread  ] [INFO ]  Start worker 0 (GPU=7) processing experiment_batch_1\n",
      "2019-01-23 12:45:52,601 [MainThread  ] [INFO ]  Start worker 0 (GPU=7) processing experiment_batch_1\n"
     ]
    }
   ],
   "source": [
    "# setup logging\n",
    "# separate log file for each worker\n",
    "import logging\n",
    "logging.basicConfig(\n",
    "    level=logging.INFO,\n",
    "    format='%(asctime)s, [%(levelname)-8s] [%(filename)s:%(lineno)d] %(message)s',\n",
    "    handlers=[\n",
    "        logging.FileHandler(\"{0}/{1}.log\".format(pwd, \"logs_\" + str(WORKER_ID))),\n",
    "        logging.StreamHandler()\n",
    "    ])\n",
    "# init logger - will pass this to our architecture\n",
    "logger = logging.getLogger()\n",
    "\n",
    "logger.info(\"Start worker {} (GPU={}) processing {}\".format(WORKER_ID, GPU_ID, experiment_batch_name))"
   ]
  },
  {
   "cell_type": "code",
   "execution_count": 11,
   "metadata": {
    "ExecuteTime": {
     "end_time": "2019-01-23T12:45:52.624276Z",
     "start_time": "2019-01-23T12:45:52.608303Z"
    }
   },
   "outputs": [],
   "source": [
    "# load list of experiments\n",
    "experiments = pd.read_csv(pwd + \"experiments/\" + experiment_batch_name + '.csv')"
   ]
  },
  {
   "cell_type": "code",
   "execution_count": 12,
   "metadata": {
    "ExecuteTime": {
     "end_time": "2019-01-23T12:45:52.762707Z",
     "start_time": "2019-01-23T12:45:52.738636Z"
    }
   },
   "outputs": [
    {
     "data": {
      "text/html": [
       "<div>\n",
       "<style scoped>\n",
       "    .dataframe tbody tr th:only-of-type {\n",
       "        vertical-align: middle;\n",
       "    }\n",
       "\n",
       "    .dataframe tbody tr th {\n",
       "        vertical-align: top;\n",
       "    }\n",
       "\n",
       "    .dataframe thead th {\n",
       "        text-align: right;\n",
       "    }\n",
       "</style>\n",
       "<table border=\"1\" class=\"dataframe\">\n",
       "  <thead>\n",
       "    <tr style=\"text-align: right;\">\n",
       "      <th></th>\n",
       "      <th>architecture</th>\n",
       "      <th>dropout</th>\n",
       "      <th>layer_1_size</th>\n",
       "      <th>layer_2_size</th>\n",
       "      <th>layer_3_size</th>\n",
       "      <th>pooling</th>\n",
       "      <th>pretrained_model_name</th>\n",
       "      <th>sequence_length</th>\n",
       "      <th>sequence_model</th>\n",
       "      <th>sequence_model_layers</th>\n",
       "      <th>model_id</th>\n",
       "      <th>WORKER</th>\n",
       "    </tr>\n",
       "  </thead>\n",
       "  <tbody>\n",
       "    <tr>\n",
       "      <th>1317</th>\n",
       "      <td>video_LRCNN_frozen</td>\n",
       "      <td>0.2</td>\n",
       "      <td>256</td>\n",
       "      <td>512</td>\n",
       "      <td>0</td>\n",
       "      <td>max</td>\n",
       "      <td>inception_resnet_v2</td>\n",
       "      <td>5</td>\n",
       "      <td>Convolution1D</td>\n",
       "      <td>2.0</td>\n",
       "      <td>2463</td>\n",
       "      <td>0</td>\n",
       "    </tr>\n",
       "    <tr>\n",
       "      <th>1349</th>\n",
       "      <td>video_LRCNN_frozen</td>\n",
       "      <td>0.2</td>\n",
       "      <td>256</td>\n",
       "      <td>256</td>\n",
       "      <td>0</td>\n",
       "      <td>max</td>\n",
       "      <td>inception_resnet_v2</td>\n",
       "      <td>5</td>\n",
       "      <td>Convolution1D</td>\n",
       "      <td>2.0</td>\n",
       "      <td>2495</td>\n",
       "      <td>0</td>\n",
       "    </tr>\n",
       "  </tbody>\n",
       "</table>\n",
       "</div>"
      ],
      "text/plain": [
       "            architecture  dropout  layer_1_size  layer_2_size  layer_3_size  \\\n",
       "1317  video_LRCNN_frozen      0.2           256           512             0   \n",
       "1349  video_LRCNN_frozen      0.2           256           256             0   \n",
       "\n",
       "     pooling pretrained_model_name  sequence_length sequence_model  \\\n",
       "1317     max   inception_resnet_v2                5  Convolution1D   \n",
       "1349     max   inception_resnet_v2                5  Convolution1D   \n",
       "\n",
       "      sequence_model_layers  model_id  WORKER  \n",
       "1317                    2.0      2463       0  \n",
       "1349                    2.0      2495       0  "
      ]
     },
     "execution_count": 12,
     "metadata": {},
     "output_type": "execute_result"
    },
    {
     "data": {
      "text/html": [
       "<div>\n",
       "<style scoped>\n",
       "    .dataframe tbody tr th:only-of-type {\n",
       "        vertical-align: middle;\n",
       "    }\n",
       "\n",
       "    .dataframe tbody tr th {\n",
       "        vertical-align: top;\n",
       "    }\n",
       "\n",
       "    .dataframe thead th {\n",
       "        text-align: right;\n",
       "    }\n",
       "</style>\n",
       "<table border=\"1\" class=\"dataframe\">\n",
       "  <thead>\n",
       "    <tr style=\"text-align: right;\">\n",
       "      <th></th>\n",
       "      <th>architecture</th>\n",
       "      <th>dropout</th>\n",
       "      <th>layer_1_size</th>\n",
       "      <th>layer_2_size</th>\n",
       "      <th>layer_3_size</th>\n",
       "      <th>pooling</th>\n",
       "      <th>pretrained_model_name</th>\n",
       "      <th>sequence_length</th>\n",
       "      <th>sequence_model</th>\n",
       "      <th>sequence_model_layers</th>\n",
       "      <th>model_id</th>\n",
       "      <th>WORKER</th>\n",
       "    </tr>\n",
       "  </thead>\n",
       "  <tbody>\n",
       "    <tr>\n",
       "      <th>1317</th>\n",
       "      <td>video_LRCNN_frozen</td>\n",
       "      <td>0.2</td>\n",
       "      <td>256</td>\n",
       "      <td>512</td>\n",
       "      <td>0</td>\n",
       "      <td>max</td>\n",
       "      <td>inception_resnet_v2</td>\n",
       "      <td>5</td>\n",
       "      <td>Convolution1D</td>\n",
       "      <td>2.0</td>\n",
       "      <td>2463</td>\n",
       "      <td>0</td>\n",
       "    </tr>\n",
       "    <tr>\n",
       "      <th>1349</th>\n",
       "      <td>video_LRCNN_frozen</td>\n",
       "      <td>0.2</td>\n",
       "      <td>256</td>\n",
       "      <td>256</td>\n",
       "      <td>0</td>\n",
       "      <td>max</td>\n",
       "      <td>inception_resnet_v2</td>\n",
       "      <td>5</td>\n",
       "      <td>Convolution1D</td>\n",
       "      <td>2.0</td>\n",
       "      <td>2495</td>\n",
       "      <td>0</td>\n",
       "    </tr>\n",
       "  </tbody>\n",
       "</table>\n",
       "</div>"
      ],
      "text/plain": [
       "            architecture  dropout  layer_1_size  layer_2_size  layer_3_size  \\\n",
       "1317  video_LRCNN_frozen      0.2           256           512             0   \n",
       "1349  video_LRCNN_frozen      0.2           256           256             0   \n",
       "\n",
       "     pooling pretrained_model_name  sequence_length sequence_model  \\\n",
       "1317     max   inception_resnet_v2                5  Convolution1D   \n",
       "1349     max   inception_resnet_v2                5  Convolution1D   \n",
       "\n",
       "      sequence_model_layers  model_id  WORKER  \n",
       "1317                    2.0      2463       0  \n",
       "1349                    2.0      2495       0  "
      ]
     },
     "execution_count": 12,
     "metadata": {},
     "output_type": "execute_result"
    }
   ],
   "source": [
    "experiments[experiments['model_id'].isin([2495, 2463])]"
   ]
  },
  {
   "cell_type": "code",
   "execution_count": 13,
   "metadata": {
    "ExecuteTime": {
     "end_time": "2019-01-23T12:45:52.962461Z",
     "start_time": "2019-01-23T12:45:52.956667Z"
    }
   },
   "outputs": [],
   "source": [
    "# for row in experiments.values:\n",
    "debug_model_id = 5243\n",
    "\n",
    "row = list(experiments[experiments['model_id'] == debug_model_id].values[0])\n",
    "\n",
    "# get experiment params from dataframe row\n",
    "experiment = dict(zip(experiments.columns, row))"
   ]
  },
  {
   "cell_type": "code",
   "execution_count": 14,
   "metadata": {
    "ExecuteTime": {
     "end_time": "2019-01-23T12:45:53.756106Z",
     "start_time": "2019-01-23T12:45:53.749719Z"
    }
   },
   "outputs": [
    {
     "data": {
      "text/plain": [
       "{'WORKER': 6,\n",
       " 'architecture': 'video_LRCNN_frozen',\n",
       " 'dropout': 0.2,\n",
       " 'layer_1_size': 128,\n",
       " 'layer_2_size': 0,\n",
       " 'layer_3_size': 0,\n",
       " 'model_id': 5243,\n",
       " 'pooling': 'max',\n",
       " 'pretrained_model_name': 'resnet50',\n",
       " 'sequence_length': 10,\n",
       " 'sequence_model': 'SimpleRNN',\n",
       " 'sequence_model_layers': 2.0}"
      ]
     },
     "execution_count": 14,
     "metadata": {},
     "output_type": "execute_result"
    },
    {
     "data": {
      "text/plain": [
       "{'WORKER': 6,\n",
       " 'architecture': 'video_LRCNN_frozen',\n",
       " 'dropout': 0.2,\n",
       " 'layer_1_size': 128,\n",
       " 'layer_2_size': 0,\n",
       " 'layer_3_size': 0,\n",
       " 'model_id': 5243,\n",
       " 'pooling': 'max',\n",
       " 'pretrained_model_name': 'resnet50',\n",
       " 'sequence_length': 10,\n",
       " 'sequence_model': 'SimpleRNN',\n",
       " 'sequence_model_layers': 2.0}"
      ]
     },
     "execution_count": 14,
     "metadata": {},
     "output_type": "execute_result"
    }
   ],
   "source": [
    "experiment"
   ]
  },
  {
   "cell_type": "code",
   "execution_count": 15,
   "metadata": {
    "ExecuteTime": {
     "end_time": "2019-01-23T12:45:53.972441Z",
     "start_time": "2019-01-23T12:45:53.960676Z"
    }
   },
   "outputs": [
    {
     "data": {
      "text/html": [
       "<div>\n",
       "<style scoped>\n",
       "    .dataframe tbody tr th:only-of-type {\n",
       "        vertical-align: middle;\n",
       "    }\n",
       "\n",
       "    .dataframe tbody tr th {\n",
       "        vertical-align: top;\n",
       "    }\n",
       "\n",
       "    .dataframe thead th {\n",
       "        text-align: right;\n",
       "    }\n",
       "</style>\n",
       "<table border=\"1\" class=\"dataframe\">\n",
       "  <thead>\n",
       "    <tr style=\"text-align: right;\">\n",
       "      <th></th>\n",
       "      <th>3049</th>\n",
       "    </tr>\n",
       "  </thead>\n",
       "  <tbody>\n",
       "    <tr>\n",
       "      <th>architecture</th>\n",
       "      <td>video_LRCNN_frozen</td>\n",
       "    </tr>\n",
       "    <tr>\n",
       "      <th>dropout</th>\n",
       "      <td>0.2</td>\n",
       "    </tr>\n",
       "    <tr>\n",
       "      <th>layer_1_size</th>\n",
       "      <td>128</td>\n",
       "    </tr>\n",
       "    <tr>\n",
       "      <th>layer_2_size</th>\n",
       "      <td>0</td>\n",
       "    </tr>\n",
       "    <tr>\n",
       "      <th>layer_3_size</th>\n",
       "      <td>0</td>\n",
       "    </tr>\n",
       "    <tr>\n",
       "      <th>pooling</th>\n",
       "      <td>max</td>\n",
       "    </tr>\n",
       "    <tr>\n",
       "      <th>pretrained_model_name</th>\n",
       "      <td>resnet50</td>\n",
       "    </tr>\n",
       "    <tr>\n",
       "      <th>sequence_length</th>\n",
       "      <td>10</td>\n",
       "    </tr>\n",
       "    <tr>\n",
       "      <th>sequence_model</th>\n",
       "      <td>SimpleRNN</td>\n",
       "    </tr>\n",
       "    <tr>\n",
       "      <th>sequence_model_layers</th>\n",
       "      <td>2</td>\n",
       "    </tr>\n",
       "    <tr>\n",
       "      <th>model_id</th>\n",
       "      <td>5243</td>\n",
       "    </tr>\n",
       "    <tr>\n",
       "      <th>WORKER</th>\n",
       "      <td>6</td>\n",
       "    </tr>\n",
       "  </tbody>\n",
       "</table>\n",
       "</div>"
      ],
      "text/plain": [
       "                                     3049\n",
       "architecture           video_LRCNN_frozen\n",
       "dropout                               0.2\n",
       "layer_1_size                          128\n",
       "layer_2_size                            0\n",
       "layer_3_size                            0\n",
       "pooling                               max\n",
       "pretrained_model_name            resnet50\n",
       "sequence_length                        10\n",
       "sequence_model                  SimpleRNN\n",
       "sequence_model_layers                   2\n",
       "model_id                             5243\n",
       "WORKER                                  6"
      ]
     },
     "execution_count": 15,
     "metadata": {},
     "output_type": "execute_result"
    },
    {
     "data": {
      "text/html": [
       "<div>\n",
       "<style scoped>\n",
       "    .dataframe tbody tr th:only-of-type {\n",
       "        vertical-align: middle;\n",
       "    }\n",
       "\n",
       "    .dataframe tbody tr th {\n",
       "        vertical-align: top;\n",
       "    }\n",
       "\n",
       "    .dataframe thead th {\n",
       "        text-align: right;\n",
       "    }\n",
       "</style>\n",
       "<table border=\"1\" class=\"dataframe\">\n",
       "  <thead>\n",
       "    <tr style=\"text-align: right;\">\n",
       "      <th></th>\n",
       "      <th>3049</th>\n",
       "    </tr>\n",
       "  </thead>\n",
       "  <tbody>\n",
       "    <tr>\n",
       "      <th>architecture</th>\n",
       "      <td>video_LRCNN_frozen</td>\n",
       "    </tr>\n",
       "    <tr>\n",
       "      <th>dropout</th>\n",
       "      <td>0.2</td>\n",
       "    </tr>\n",
       "    <tr>\n",
       "      <th>layer_1_size</th>\n",
       "      <td>128</td>\n",
       "    </tr>\n",
       "    <tr>\n",
       "      <th>layer_2_size</th>\n",
       "      <td>0</td>\n",
       "    </tr>\n",
       "    <tr>\n",
       "      <th>layer_3_size</th>\n",
       "      <td>0</td>\n",
       "    </tr>\n",
       "    <tr>\n",
       "      <th>pooling</th>\n",
       "      <td>max</td>\n",
       "    </tr>\n",
       "    <tr>\n",
       "      <th>pretrained_model_name</th>\n",
       "      <td>resnet50</td>\n",
       "    </tr>\n",
       "    <tr>\n",
       "      <th>sequence_length</th>\n",
       "      <td>10</td>\n",
       "    </tr>\n",
       "    <tr>\n",
       "      <th>sequence_model</th>\n",
       "      <td>SimpleRNN</td>\n",
       "    </tr>\n",
       "    <tr>\n",
       "      <th>sequence_model_layers</th>\n",
       "      <td>2</td>\n",
       "    </tr>\n",
       "    <tr>\n",
       "      <th>model_id</th>\n",
       "      <td>5243</td>\n",
       "    </tr>\n",
       "    <tr>\n",
       "      <th>WORKER</th>\n",
       "      <td>6</td>\n",
       "    </tr>\n",
       "  </tbody>\n",
       "</table>\n",
       "</div>"
      ],
      "text/plain": [
       "                                     3049\n",
       "architecture           video_LRCNN_frozen\n",
       "dropout                               0.2\n",
       "layer_1_size                          128\n",
       "layer_2_size                            0\n",
       "layer_3_size                            0\n",
       "pooling                               max\n",
       "pretrained_model_name            resnet50\n",
       "sequence_length                        10\n",
       "sequence_model                  SimpleRNN\n",
       "sequence_model_layers                   2\n",
       "model_id                             5243\n",
       "WORKER                                  6"
      ]
     },
     "execution_count": 15,
     "metadata": {},
     "output_type": "execute_result"
    }
   ],
   "source": [
    "experiments[experiments['model_id'] == debug_model_id].T"
   ]
  },
  {
   "cell_type": "code",
   "execution_count": 16,
   "metadata": {
    "ExecuteTime": {
     "end_time": "2019-01-23T12:46:05.766975Z",
     "start_time": "2019-01-23T12:45:54.875846Z"
    }
   },
   "outputs": [
    {
     "name": "stderr",
     "output_type": "stream",
     "text": [
      "2019-01-23 12:45:54,879 [MainThread  ] [INFO ]  Begin experiment for model_id=5243 on GPU:0 \n",
      "2019-01-23 12:45:54,881 [MainThread  ] [INFO ]  Loading data\n",
      "2019-01-23 12:45:54,879 [MainThread  ] [INFO ]  Begin experiment for model_id=5243 on GPU:0 \n",
      "2019-01-23 12:45:54,881 [MainThread  ] [INFO ]  Loading data\n"
     ]
    },
    {
     "name": "stdout",
     "output_type": "stream",
     "text": [
      "5243   XXXXXXXXXXXXXXXXXXXXXXXXXXXXXXXXXXXXXXXXXXXXXXXXXXXXXXXXXXXX\n",
      "{'pretrained_model_name': 'resnet50', 'sequence_model_layers': 2.0, 'layer_2_size': 0, 'WORKER': 6, 'sequence_model': 'SimpleRNN', 'sequence_length': 10, 'dropout': 0.2, 'model_id': 5243, 'architecture': 'video_LRCNN_frozen', 'layer_1_size': 128, 'pooling': 'max', 'layer_3_size': 0}\n",
      "5243   XXXXXXXXXXXXXXXXXXXXXXXXXXXXXXXXXXXXXXXXXXXXXXXXXXXXXXXXXXXX\n",
      "{'pretrained_model_name': 'resnet50', 'sequence_model_layers': 2.0, 'layer_2_size': 0, 'WORKER': 6, 'sequence_model': 'SimpleRNN', 'sequence_length': 10, 'dropout': 0.2, 'model_id': 5243, 'architecture': 'video_LRCNN_frozen', 'layer_1_size': 128, 'pooling': 'max', 'layer_3_size': 0}\n"
     ]
    },
    {
     "name": "stderr",
     "output_type": "stream",
     "text": [
      "2019-01-23 12:45:55,849 [MainThread  ] [INFO ]  Features already cached: /mnt/seals/cache/features/resnet50/max/\n",
      "2019-01-23 12:45:55,850 [MainThread  ] [INFO ]  Loading features sequence data into memory [may take a few minutes]\n",
      "2019-01-23 12:45:55,849 [MainThread  ] [INFO ]  Features already cached: /mnt/seals/cache/features/resnet50/max/\n",
      "2019-01-23 12:45:55,850 [MainThread  ] [INFO ]  Loading features sequence data into memory [may take a few minutes]\n"
     ]
    },
    {
     "name": "stdout",
     "output_type": "stream",
     "text": [
      "Done initializing data with #samples: train=60399, valid=6398, test=3130\n",
      "Done initializing data with #samples: train=60399, valid=6398, test=3130\n"
     ]
    }
   ],
   "source": [
    "print(str(experiment[\"model_id\"]) + \"   \" + \"X\"*60)\n",
    "logging.info(\"Begin experiment for model_id={} on GPU:{} \".format(experiment['model_id'], os.environ[\"CUDA_VISIBLE_DEVICES\"]))\n",
    "print(experiment)\n",
    "\n",
    "architecture = Architecture(model_id = experiment['model_id'], \n",
    "                            architecture = experiment['architecture'], \n",
    "                            sequence_length = experiment['sequence_length'], \n",
    "                            pretrained_model_name = experiment['pretrained_model_name'],\n",
    "                            pooling = experiment['pooling'],\n",
    "                            sequence_model = experiment['sequence_model'],\n",
    "                            sequence_model_layers = experiment['sequence_model_layers'],\n",
    "                            layer_1_size = experiment['layer_1_size'],\n",
    "                            layer_2_size = experiment['layer_2_size'],\n",
    "                            layer_3_size = experiment['layer_3_size'],\n",
    "                            dropout = experiment['dropout'],\n",
    "                            verbose=True)"
   ]
  },
  {
   "cell_type": "code",
   "execution_count": 17,
   "metadata": {
    "ExecuteTime": {
     "end_time": "2019-01-23T12:48:08.158517Z",
     "start_time": "2019-01-23T12:46:05.769970Z"
    },
    "scrolled": false
   },
   "outputs": [
    {
     "name": "stdout",
     "output_type": "stream",
     "text": [
      "Train on 60399 samples, validate on 6398 samples\n",
      "Epoch 1/1\n",
      "Train on 60399 samples, validate on 6398 samples\n",
      "Epoch 1/1\n",
      "60399/60399 [==============================] - 48s 791us/step - loss: 0.1756 - acc: 0.9278 - val_loss: 0.1952 - val_acc: 0.9123\n",
      "60399/60399 [==============================] - 48s 791us/step - loss: 0.1756 - acc: 0.9278 - val_loss: 0.1952 - val_acc: 0.9123\n",
      "\n",
      "Epoch 00001: val_acc improved from -inf to 0.91234, saving model to /mnt/seals/models/5243/model_round_1.h5\n",
      "H1 {'acc': [0.92784177456852], 'val_acc': [0.9123386935578096], 'val_loss': [0.195202600037392], 'loss': [0.17556339674761648]}\n",
      "stopped_epoch1 0\n",
      "1\n",
      "0.9123386935578096\n",
      "\n",
      "Epoch 00001: val_acc improved from -inf to 0.91234, saving model to /mnt/seals/models/5243/model_round_1.h5\n",
      "H1 {'acc': [0.92784177456852], 'val_acc': [0.9123386935578096], 'val_loss': [0.195202600037392], 'loss': [0.17556339674761648]}\n",
      "stopped_epoch1 0\n",
      "1\n",
      "0.9123386935578096\n",
      "Train on 60399 samples, validate on 6398 samples\n",
      "Epoch 1/1\n",
      "Train on 60399 samples, validate on 6398 samples\n",
      "Epoch 1/1\n",
      "60399/60399 [==============================] - 33s 549us/step - loss: 0.1475 - acc: 0.9401 - val_loss: 0.1882 - val_acc: 0.9115\n",
      "60399/60399 [==============================] - 33s 549us/step - loss: 0.1475 - acc: 0.9401 - val_loss: 0.1882 - val_acc: 0.9115\n",
      "\n",
      "Epoch 00001: val_acc improved from -inf to 0.91151, saving model to /mnt/seals/models/5243/model_round_2.h5\n",
      "H2 {'acc': [0.9400983633696081], 'val_acc': [0.9115125459967348], 'val_loss': [0.1881785286743591], 'loss': [0.14746618541282766]}\n",
      "stopped_epoch2 0\n",
      "1\n",
      "0.9115125459967348\n",
      "\n",
      "Epoch 00001: val_acc improved from -inf to 0.91151, saving model to /mnt/seals/models/5243/model_round_2.h5\n",
      "H2 {'acc': [0.9400983633696081], 'val_acc': [0.9115125459967348], 'val_loss': [0.1881785286743591], 'loss': [0.14746618541282766]}\n",
      "stopped_epoch2 0\n",
      "1\n",
      "0.9115125459967348\n",
      "Train on 60399 samples, validate on 6398 samples\n",
      "Epoch 1/1\n",
      "Train on 60399 samples, validate on 6398 samples\n",
      "Epoch 1/1\n",
      "60399/60399 [==============================] - 33s 549us/step - loss: 0.1395 - acc: 0.9434 - val_loss: 0.1865 - val_acc: 0.9132\n",
      "60399/60399 [==============================] - 33s 549us/step - loss: 0.1395 - acc: 0.9434 - val_loss: 0.1865 - val_acc: 0.9132\n",
      "\n",
      "Epoch 00001: val_acc improved from -inf to 0.91319, saving model to /mnt/seals/models/5243/model_round_3.h5\n",
      "H3 {'acc': [0.9433718327210892], 'val_acc': [0.9131871765760676], 'val_loss': [0.18654302512064097], 'loss': [0.13948042428104288]}\n",
      "stopped_epoch3 0\n",
      "1\n",
      "0.9131871765760676\n",
      "best fit round 3 0.9131871765760676\n",
      "_________________________________________________________________\n",
      "Layer (type)                 Output Shape              Param #   \n",
      "=================================================================\n",
      "simple_rnn_1 (SimpleRNN)     (None, 128)               278656    \n",
      "_________________________________________________________________\n",
      "dropout_1 (Dropout)          (None, 128)               0         \n",
      "_________________________________________________________________\n",
      "dense_1 (Dense)              (None, 7)                 903       \n",
      "=================================================================\n",
      "Total params: 279,559\n",
      "Trainable params: 279,559\n",
      "Non-trainable params: 0\n",
      "_________________________________________________________________\n",
      "\n",
      "Epoch 00001: val_acc improved from -inf to 0.91319, saving model to /mnt/seals/models/5243/model_round_3.h5\n",
      "H3 {'acc': [0.9433718327210892], 'val_acc': [0.9131871765760676], 'val_loss': [0.18654302512064097], 'loss': [0.13948042428104288]}\n",
      "stopped_epoch3 0\n",
      "1\n",
      "0.9131871765760676\n",
      "best fit round 3 0.9131871765760676\n",
      "_________________________________________________________________\n",
      "Layer (type)                 Output Shape              Param #   \n",
      "=================================================================\n",
      "simple_rnn_1 (SimpleRNN)     (None, 128)               278656    \n",
      "_________________________________________________________________\n",
      "dropout_1 (Dropout)          (None, 128)               0         \n",
      "_________________________________________________________________\n",
      "dense_1 (Dense)              (None, 7)                 903       \n",
      "=================================================================\n",
      "Total params: 279,559\n",
      "Trainable params: 279,559\n",
      "Non-trainable params: 0\n",
      "_________________________________________________________________\n",
      "3130/3130 [==============================] - 1s 316us/step\n",
      "3130/3130 [==============================] - 1s 316us/step\n"
     ]
    },
    {
     "name": "stderr",
     "output_type": "stream",
     "text": [
      "2019-01-23 12:48:06,960 [MainThread  ] [INFO ]  {\n",
      "    \"architecture\": \"video_lrcnn_frozen\",\n",
      "    \"batch_size\": 32,\n",
      "    \"convolution_kernel_size\": 3,\n",
      "    \"data_total_rows_test\": 3130,\n",
      "    \"data_total_rows_train\": 60399,\n",
      "    \"data_total_rows_valid\": 6398,\n",
      "    \"dropout\": 0.2,\n",
      "    \"fit_best_round\": 3,\n",
      "    \"fit_dt_test_duration_seconds\": \"0\",\n",
      "    \"fit_dt_test_end\": \"2019-01-23 12:48:05\",\n",
      "    \"fit_dt_test_start\": \"2019-01-23 12:48:04\",\n",
      "    \"fit_dt_train_duration_seconds\": \"118\",\n",
      "    \"fit_dt_train_end\": \"2019-01-23 12:48:04\",\n",
      "    \"fit_dt_train_start\": \"2019-01-23 12:46:05\",\n",
      "    \"fit_num_epochs\": 3,\n",
      "    \"fit_stopped_epoch1\": 0,\n",
      "    \"fit_stopped_epoch2\": 0,\n",
      "    \"fit_stopped_epoch3\": 0,\n",
      "    \"fit_test_acc\": 0.5990415335463259,\n",
      "    \"fit_train_acc\": 0.9433718327210892,\n",
      "    \"fit_train_loss\": 0.13948042428104288,\n",
      "    \"fit_val_acc\": 0.9131871765760676,\n",
      "    \"fit_val_loss\": 0.18654302512064097,\n",
      "    \"frame_size\": [\n",
      "        224,\n",
      "        224\n",
      "    ],\n",
      "    \"layer_1_size\": 128,\n",
      "    \"layer_2_size\": 0,\n",
      "    \"layer_3_size\": 0,\n",
      "    \"model_id\": 5243,\n",
      "    \"model_param_count\": 279559,\n",
      "    \"model_weights_path\": null,\n",
      "    \"num_features\": 2048,\n",
      "    \"path_model\": \"/mnt/seals/models/5243/\",\n",
      "    \"pooling\": \"max\",\n",
      "    \"pretrained_model_name\": \"resnet50\",\n",
      "    \"sequence_length\": 10,\n",
      "    \"sequence_model\": \"SimpleRNN\",\n",
      "    \"sequence_model_layers\": 2.0,\n",
      "    \"verbose\": true\n",
      "}\n",
      "2019-01-23 12:48:06,961 [MainThread  ] [INFO ]  model 5243 test acc: 0.5990415335463259\n"
     ]
    },
    {
     "name": "stdout",
     "output_type": "stream",
     "text": [
      "{'model_param_count': 279559, 'data_total_rows_valid': 6398, 'fit_dt_test_start': '2019-01-23 12:48:04', 'layer_2_size': 0, 'fit_train_acc': 0.9433718327210892, 'frame_size': (224, 224), 'fit_stopped_epoch2': 0, 'dropout': 0.2, 'model_id': 5243, 'path_model': '/mnt/seals/models/5243/', 'layer_1_size': 128, 'fit_stopped_epoch1': 0, 'fit_best_round': 3, 'sequence_model_layers': 2.0, 'fit_num_epochs': 3, 'fit_stopped_epoch3': 0, 'verbose': True, 'fit_dt_test_end': '2019-01-23 12:48:05', 'pretrained_model_name': 'resnet50', 'fit_dt_test_duration_seconds': '0', 'sequence_model': 'SimpleRNN', 'batch_size': 32, 'data_total_rows_train': 60399, 'architecture': 'video_lrcnn_frozen', 'data_total_rows_test': 3130, 'num_features': 2048, 'fit_dt_train_end': '2019-01-23 12:48:04', 'fit_val_acc': 0.9131871765760676, 'fit_test_acc': 0.5990415335463259, 'sequence_length': 10, 'pooling': 'max', 'fit_dt_train_duration_seconds': '118', 'fit_dt_train_start': '2019-01-23 12:46:05', 'layer_3_size': 0, 'model_weights_path': None, 'fit_val_loss': 0.18654302512064097, 'convolution_kernel_size': 3, 'fit_train_loss': 0.13948042428104288}\n",
      "gsutil -m rsync -r /mnt/seals/models/5243/ gs://thesis-penguins/models/5243/ -r\n"
     ]
    },
    {
     "name": "stderr",
     "output_type": "stream",
     "text": [
      "2019-01-23 12:48:06,960 [MainThread  ] [INFO ]  {\n",
      "    \"architecture\": \"video_lrcnn_frozen\",\n",
      "    \"batch_size\": 32,\n",
      "    \"convolution_kernel_size\": 3,\n",
      "    \"data_total_rows_test\": 3130,\n",
      "    \"data_total_rows_train\": 60399,\n",
      "    \"data_total_rows_valid\": 6398,\n",
      "    \"dropout\": 0.2,\n",
      "    \"fit_best_round\": 3,\n",
      "    \"fit_dt_test_duration_seconds\": \"0\",\n",
      "    \"fit_dt_test_end\": \"2019-01-23 12:48:05\",\n",
      "    \"fit_dt_test_start\": \"2019-01-23 12:48:04\",\n",
      "    \"fit_dt_train_duration_seconds\": \"118\",\n",
      "    \"fit_dt_train_end\": \"2019-01-23 12:48:04\",\n",
      "    \"fit_dt_train_start\": \"2019-01-23 12:46:05\",\n",
      "    \"fit_num_epochs\": 3,\n",
      "    \"fit_stopped_epoch1\": 0,\n",
      "    \"fit_stopped_epoch2\": 0,\n",
      "    \"fit_stopped_epoch3\": 0,\n",
      "    \"fit_test_acc\": 0.5990415335463259,\n",
      "    \"fit_train_acc\": 0.9433718327210892,\n",
      "    \"fit_train_loss\": 0.13948042428104288,\n",
      "    \"fit_val_acc\": 0.9131871765760676,\n",
      "    \"fit_val_loss\": 0.18654302512064097,\n",
      "    \"frame_size\": [\n",
      "        224,\n",
      "        224\n",
      "    ],\n",
      "    \"layer_1_size\": 128,\n",
      "    \"layer_2_size\": 0,\n",
      "    \"layer_3_size\": 0,\n",
      "    \"model_id\": 5243,\n",
      "    \"model_param_count\": 279559,\n",
      "    \"model_weights_path\": null,\n",
      "    \"num_features\": 2048,\n",
      "    \"path_model\": \"/mnt/seals/models/5243/\",\n",
      "    \"pooling\": \"max\",\n",
      "    \"pretrained_model_name\": \"resnet50\",\n",
      "    \"sequence_length\": 10,\n",
      "    \"sequence_model\": \"SimpleRNN\",\n",
      "    \"sequence_model_layers\": 2.0,\n",
      "    \"verbose\": true\n",
      "}\n",
      "2019-01-23 12:48:06,961 [MainThread  ] [INFO ]  model 5243 test acc: 0.5990415335463259\n"
     ]
    },
    {
     "name": "stdout",
     "output_type": "stream",
     "text": [
      "{'model_param_count': 279559, 'data_total_rows_valid': 6398, 'fit_dt_test_start': '2019-01-23 12:48:04', 'layer_2_size': 0, 'fit_train_acc': 0.9433718327210892, 'frame_size': (224, 224), 'fit_stopped_epoch2': 0, 'dropout': 0.2, 'model_id': 5243, 'path_model': '/mnt/seals/models/5243/', 'layer_1_size': 128, 'fit_stopped_epoch1': 0, 'fit_best_round': 3, 'sequence_model_layers': 2.0, 'fit_num_epochs': 3, 'fit_stopped_epoch3': 0, 'verbose': True, 'fit_dt_test_end': '2019-01-23 12:48:05', 'pretrained_model_name': 'resnet50', 'fit_dt_test_duration_seconds': '0', 'sequence_model': 'SimpleRNN', 'batch_size': 32, 'data_total_rows_train': 60399, 'architecture': 'video_lrcnn_frozen', 'data_total_rows_test': 3130, 'num_features': 2048, 'fit_dt_train_end': '2019-01-23 12:48:04', 'fit_val_acc': 0.9131871765760676, 'fit_test_acc': 0.5990415335463259, 'sequence_length': 10, 'pooling': 'max', 'fit_dt_train_duration_seconds': '118', 'fit_dt_train_start': '2019-01-23 12:46:05', 'layer_3_size': 0, 'model_weights_path': None, 'fit_val_loss': 0.18654302512064097, 'convolution_kernel_size': 3, 'fit_train_loss': 0.13948042428104288}\n",
      "gsutil -m rsync -r /mnt/seals/models/5243/ gs://thesis-penguins/models/5243/ -r\n",
      "XX\n",
      "upload error\n"
     ]
    },
    {
     "data": {
      "text/plain": [
       "<Figure size 576x576 with 0 Axes>"
      ]
     },
     "metadata": {},
     "output_type": "display_data"
    },
    {
     "data": {
      "text/plain": [
       "<Figure size 576x576 with 0 Axes>"
      ]
     },
     "metadata": {},
     "output_type": "display_data"
    },
    {
     "name": "stdout",
     "output_type": "stream",
     "text": [
      "XX\n",
      "upload error\n"
     ]
    },
    {
     "data": {
      "text/plain": [
       "<Figure size 576x576 with 0 Axes>"
      ]
     },
     "metadata": {},
     "output_type": "display_data"
    },
    {
     "data": {
      "text/plain": [
       "<Figure size 576x576 with 0 Axes>"
      ]
     },
     "metadata": {},
     "output_type": "display_data"
    }
   ],
   "source": [
    "architecture.train_model(epochs=1)"
   ]
  },
  {
   "cell_type": "code",
   "execution_count": null,
   "metadata": {},
   "outputs": [],
   "source": []
  },
  {
   "cell_type": "code",
   "execution_count": null,
   "metadata": {},
   "outputs": [],
   "source": []
  },
  {
   "cell_type": "code",
   "execution_count": null,
   "metadata": {},
   "outputs": [],
   "source": []
  },
  {
   "cell_type": "code",
   "execution_count": null,
   "metadata": {},
   "outputs": [],
   "source": []
  }
 ],
 "metadata": {
  "kernelspec": {
   "display_name": "Python 3",
   "language": "python",
   "name": "python3"
  },
  "language_info": {
   "codemirror_mode": {
    "name": "ipython",
    "version": 3
   },
   "file_extension": ".py",
   "mimetype": "text/x-python",
   "name": "python",
   "nbconvert_exporter": "python",
   "pygments_lexer": "ipython3",
   "version": "3.5.3"
  }
 },
 "nbformat": 4,
 "nbformat_minor": 2
}
