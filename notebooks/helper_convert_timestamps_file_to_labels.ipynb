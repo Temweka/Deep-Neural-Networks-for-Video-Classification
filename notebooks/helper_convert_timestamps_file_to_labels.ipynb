{
 "cells": [
  {
   "cell_type": "markdown",
   "metadata": {},
   "source": [
    "# Instructions"
   ]
  },
  {
   "cell_type": "markdown",
   "metadata": {},
   "source": [
    "This notebook can be used to convert a labels file in the format `(video_name, timestamp_start, timestamp_end, label)` into the required `(video_name, video_frame_filename, label)` format. \n",
    "\n",
    "The actual labels file format required also contains a `split` column allocating videos to train/test/validation splits but you can use the notebook `notebooks/helper_add_train_valid_test_splits_to_labels.ipynb` to add splits once your labels file is in the `(video_name, video_frame_filename, label)` format.\n",
    "\n",
    "Note, the resulting label file from this notebook will depend on the Frames Per Second (FPS) that you extracted the video frames at.\n",
    "\n",
    "Note: you may have to adjust leading zero count (search for `{:06d}` in this notebook) depending on how frames were exported and length of video so they match the frame files..."
   ]
  },
  {
   "cell_type": "markdown",
   "metadata": {},
   "source": [
    "# Setup"
   ]
  },
  {
   "cell_type": "code",
   "execution_count": 1,
   "metadata": {
    "ExecuteTime": {
     "end_time": "2019-01-13T14:50:50.763553Z",
     "start_time": "2019-01-13T14:50:50.759523Z"
    }
   },
   "outputs": [],
   "source": [
    "# set desired output FPS\n",
    "FPS_OUTPUT = 2"
   ]
  },
  {
   "cell_type": "code",
   "execution_count": 5,
   "metadata": {
    "ExecuteTime": {
     "end_time": "2019-01-13T14:51:11.010472Z",
     "start_time": "2019-01-13T14:51:11.006604Z"
    }
   },
   "outputs": [],
   "source": [
    "import pandas as pd\n",
    "import numpy as np\n",
    "import cv2\n",
    "import sys\n",
    "import os\n",
    "from datetime import datetime"
   ]
  },
  {
   "cell_type": "code",
   "execution_count": 6,
   "metadata": {
    "ExecuteTime": {
     "end_time": "2019-01-13T14:51:11.181191Z",
     "start_time": "2019-01-13T14:51:11.177662Z"
    }
   },
   "outputs": [],
   "source": [
    "# setup paths\n",
    "pwd = os.getcwd().replace(\"notebooks\",\"\")\n",
    "path_data = pwd + 'data/'"
   ]
  },
  {
   "cell_type": "code",
   "execution_count": 9,
   "metadata": {
    "ExecuteTime": {
     "end_time": "2019-01-13T14:51:37.896563Z",
     "start_time": "2019-01-13T14:51:37.892971Z"
    }
   },
   "outputs": [],
   "source": [
    "path_labels_file = pwd + 'penguin_label_timestamps.csv'"
   ]
  },
  {
   "cell_type": "code",
   "execution_count": 10,
   "metadata": {
    "ExecuteTime": {
     "end_time": "2019-01-13T14:51:38.080686Z",
     "start_time": "2019-01-13T14:51:38.077598Z"
    }
   },
   "outputs": [],
   "source": [
    "if not os.path.exists(path_labels_file):\n",
    "    print(\"ERROR - cannot find input timestamps label file\")"
   ]
  },
  {
   "cell_type": "markdown",
   "metadata": {},
   "source": [
    "# Helper functions"
   ]
  },
  {
   "cell_type": "code",
   "execution_count": 11,
   "metadata": {
    "ExecuteTime": {
     "end_time": "2019-01-13T14:51:41.198817Z",
     "start_time": "2019-01-13T14:51:41.193210Z"
    }
   },
   "outputs": [],
   "source": [
    "def get_seconds(minute,second):\n",
    "    ts = datetime.now().replace(hour=0, minute=minute, second = second, microsecond = 0)\n",
    "    return int((ts - ts.replace(hour=0, minute=0, second=0, microsecond=0)).total_seconds())"
   ]
  },
  {
   "cell_type": "code",
   "execution_count": 12,
   "metadata": {
    "ExecuteTime": {
     "end_time": "2019-01-13T14:51:41.391727Z",
     "start_time": "2019-01-13T14:51:41.388329Z"
    }
   },
   "outputs": [],
   "source": [
    "def get_seconds_start(x):\n",
    "    return get_seconds(x[4],x[5])"
   ]
  },
  {
   "cell_type": "code",
   "execution_count": 13,
   "metadata": {
    "ExecuteTime": {
     "end_time": "2019-01-13T14:51:41.609973Z",
     "start_time": "2019-01-13T14:51:41.606642Z"
    }
   },
   "outputs": [],
   "source": [
    "def get_seconds_end(x):\n",
    "    return get_seconds(x[6],x[7])"
   ]
  },
  {
   "cell_type": "markdown",
   "metadata": {},
   "source": [
    "# Load labels file and save new labels file with 1 row per frame at desired FPS"
   ]
  },
  {
   "cell_type": "code",
   "execution_count": 14,
   "metadata": {
    "ExecuteTime": {
     "end_time": "2019-01-13T14:51:42.102760Z",
     "start_time": "2019-01-13T14:51:42.091160Z"
    }
   },
   "outputs": [],
   "source": [
    "df = pd.read_csv(path_labels_file)"
   ]
  },
  {
   "cell_type": "code",
   "execution_count": 15,
   "metadata": {
    "ExecuteTime": {
     "end_time": "2019-01-13T14:51:42.572808Z",
     "start_time": "2019-01-13T14:51:42.527572Z"
    }
   },
   "outputs": [],
   "source": [
    "# extract components of start and end times\n",
    "df['start_minute'] = df['time_start'].str.split(\":\").str.get(1).astype(int)\n",
    "df['start_second'] = df['time_start'].str.split(\":\").str.get(2).astype(int)\n",
    "\n",
    "df['end_minute'] = df['time_end'].str.split(\":\").str.get(1).astype(int)\n",
    "df['end_second'] = df['time_end'].str.split(\":\").str.get(2).astype(int)"
   ]
  },
  {
   "cell_type": "code",
   "execution_count": 16,
   "metadata": {
    "ExecuteTime": {
     "end_time": "2019-01-13T14:51:43.727309Z",
     "start_time": "2019-01-13T14:51:43.703692Z"
    }
   },
   "outputs": [
    {
     "data": {
      "text/html": [
       "<div>\n",
       "<style scoped>\n",
       "    .dataframe tbody tr th:only-of-type {\n",
       "        vertical-align: middle;\n",
       "    }\n",
       "\n",
       "    .dataframe tbody tr th {\n",
       "        vertical-align: top;\n",
       "    }\n",
       "\n",
       "    .dataframe thead th {\n",
       "        text-align: right;\n",
       "    }\n",
       "</style>\n",
       "<table border=\"1\" class=\"dataframe\">\n",
       "  <thead>\n",
       "    <tr style=\"text-align: right;\">\n",
       "      <th></th>\n",
       "      <th>video</th>\n",
       "      <th>time_start</th>\n",
       "      <th>time_end</th>\n",
       "      <th>label</th>\n",
       "      <th>start_minute</th>\n",
       "      <th>start_second</th>\n",
       "      <th>end_minute</th>\n",
       "      <th>end_second</th>\n",
       "    </tr>\n",
       "  </thead>\n",
       "  <tbody>\n",
       "    <tr>\n",
       "      <th>0</th>\n",
       "      <td>20160801_no9_1</td>\n",
       "      <td>00:00:00</td>\n",
       "      <td>00:06:03</td>\n",
       "      <td>search</td>\n",
       "      <td>0</td>\n",
       "      <td>0</td>\n",
       "      <td>6</td>\n",
       "      <td>3</td>\n",
       "    </tr>\n",
       "    <tr>\n",
       "      <th>1</th>\n",
       "      <td>20160801_no9_1</td>\n",
       "      <td>00:06:03</td>\n",
       "      <td>00:07:00</td>\n",
       "      <td>descent</td>\n",
       "      <td>6</td>\n",
       "      <td>3</td>\n",
       "      <td>7</td>\n",
       "      <td>0</td>\n",
       "    </tr>\n",
       "    <tr>\n",
       "      <th>2</th>\n",
       "      <td>20160801_no9_1</td>\n",
       "      <td>00:07:00</td>\n",
       "      <td>00:07:06</td>\n",
       "      <td>bottom</td>\n",
       "      <td>7</td>\n",
       "      <td>0</td>\n",
       "      <td>7</td>\n",
       "      <td>6</td>\n",
       "    </tr>\n",
       "    <tr>\n",
       "      <th>3</th>\n",
       "      <td>20160801_no9_1</td>\n",
       "      <td>00:07:06</td>\n",
       "      <td>00:07:14</td>\n",
       "      <td>ascent</td>\n",
       "      <td>7</td>\n",
       "      <td>6</td>\n",
       "      <td>7</td>\n",
       "      <td>14</td>\n",
       "    </tr>\n",
       "    <tr>\n",
       "      <th>4</th>\n",
       "      <td>20160801_no9_1</td>\n",
       "      <td>00:07:14</td>\n",
       "      <td>00:07:14</td>\n",
       "      <td>breath</td>\n",
       "      <td>7</td>\n",
       "      <td>14</td>\n",
       "      <td>7</td>\n",
       "      <td>14</td>\n",
       "    </tr>\n",
       "  </tbody>\n",
       "</table>\n",
       "</div>"
      ],
      "text/plain": [
       "            video time_start  time_end    label  start_minute  start_second  \\\n",
       "0  20160801_no9_1   00:00:00  00:06:03   search             0             0   \n",
       "1  20160801_no9_1   00:06:03  00:07:00  descent             6             3   \n",
       "2  20160801_no9_1   00:07:00  00:07:06   bottom             7             0   \n",
       "3  20160801_no9_1   00:07:06  00:07:14   ascent             7             6   \n",
       "4  20160801_no9_1   00:07:14  00:07:14   breath             7            14   \n",
       "\n",
       "   end_minute  end_second  \n",
       "0           6           3  \n",
       "1           7           0  \n",
       "2           7           6  \n",
       "3           7          14  \n",
       "4           7          14  "
      ]
     },
     "execution_count": 16,
     "metadata": {},
     "output_type": "execute_result"
    }
   ],
   "source": [
    "df.head()"
   ]
  },
  {
   "cell_type": "code",
   "execution_count": 17,
   "metadata": {
    "ExecuteTime": {
     "end_time": "2019-01-13T14:51:45.347650Z",
     "start_time": "2019-01-13T14:51:45.138338Z"
    }
   },
   "outputs": [],
   "source": [
    "df['start_elapsed'] = df.apply(get_seconds_start, axis=1)\n",
    "df['end_elapsed'] = df.apply(get_seconds_end, axis=1)"
   ]
  },
  {
   "cell_type": "code",
   "execution_count": 18,
   "metadata": {
    "ExecuteTime": {
     "end_time": "2019-01-13T14:51:45.545978Z",
     "start_time": "2019-01-13T14:51:45.539129Z"
    }
   },
   "outputs": [],
   "source": [
    "del df['time_start']\n",
    "del df['time_end']\n",
    "del df['start_minute']\n",
    "del df['start_second']\n",
    "del df['end_minute']\n",
    "del df['end_second']"
   ]
  },
  {
   "cell_type": "code",
   "execution_count": 19,
   "metadata": {
    "ExecuteTime": {
     "end_time": "2019-01-13T14:51:46.339263Z",
     "start_time": "2019-01-13T14:51:46.328028Z"
    }
   },
   "outputs": [
    {
     "data": {
      "text/html": [
       "<div>\n",
       "<style scoped>\n",
       "    .dataframe tbody tr th:only-of-type {\n",
       "        vertical-align: middle;\n",
       "    }\n",
       "\n",
       "    .dataframe tbody tr th {\n",
       "        vertical-align: top;\n",
       "    }\n",
       "\n",
       "    .dataframe thead th {\n",
       "        text-align: right;\n",
       "    }\n",
       "</style>\n",
       "<table border=\"1\" class=\"dataframe\">\n",
       "  <thead>\n",
       "    <tr style=\"text-align: right;\">\n",
       "      <th></th>\n",
       "      <th>video</th>\n",
       "      <th>label</th>\n",
       "      <th>start_elapsed</th>\n",
       "      <th>end_elapsed</th>\n",
       "    </tr>\n",
       "  </thead>\n",
       "  <tbody>\n",
       "    <tr>\n",
       "      <th>0</th>\n",
       "      <td>20160801_no9_1</td>\n",
       "      <td>search</td>\n",
       "      <td>0</td>\n",
       "      <td>363</td>\n",
       "    </tr>\n",
       "    <tr>\n",
       "      <th>1</th>\n",
       "      <td>20160801_no9_1</td>\n",
       "      <td>descent</td>\n",
       "      <td>363</td>\n",
       "      <td>420</td>\n",
       "    </tr>\n",
       "    <tr>\n",
       "      <th>2</th>\n",
       "      <td>20160801_no9_1</td>\n",
       "      <td>bottom</td>\n",
       "      <td>420</td>\n",
       "      <td>426</td>\n",
       "    </tr>\n",
       "    <tr>\n",
       "      <th>3</th>\n",
       "      <td>20160801_no9_1</td>\n",
       "      <td>ascent</td>\n",
       "      <td>426</td>\n",
       "      <td>434</td>\n",
       "    </tr>\n",
       "    <tr>\n",
       "      <th>4</th>\n",
       "      <td>20160801_no9_1</td>\n",
       "      <td>breath</td>\n",
       "      <td>434</td>\n",
       "      <td>434</td>\n",
       "    </tr>\n",
       "  </tbody>\n",
       "</table>\n",
       "</div>"
      ],
      "text/plain": [
       "            video    label  start_elapsed  end_elapsed\n",
       "0  20160801_no9_1   search              0          363\n",
       "1  20160801_no9_1  descent            363          420\n",
       "2  20160801_no9_1   bottom            420          426\n",
       "3  20160801_no9_1   ascent            426          434\n",
       "4  20160801_no9_1   breath            434          434"
      ]
     },
     "execution_count": 19,
     "metadata": {},
     "output_type": "execute_result"
    }
   ],
   "source": [
    "df.head()"
   ]
  },
  {
   "cell_type": "code",
   "execution_count": 20,
   "metadata": {
    "ExecuteTime": {
     "end_time": "2019-01-13T14:51:46.933287Z",
     "start_time": "2019-01-13T14:51:46.928982Z"
    }
   },
   "outputs": [],
   "source": [
    "videos = list(df['video'].unique())"
   ]
  },
  {
   "cell_type": "code",
   "execution_count": 21,
   "metadata": {
    "ExecuteTime": {
     "end_time": "2019-01-13T14:51:49.515694Z",
     "start_time": "2019-01-13T14:51:49.316989Z"
    }
   },
   "outputs": [],
   "source": [
    "# initialize output\n",
    "out_all = []\n",
    "\n",
    "for video in videos:\n",
    "    # subset dataframe to labels for this video\n",
    "    dft = df[df['video'] == video]\n",
    "\n",
    "    out = []\n",
    "\n",
    "    for i, row in enumerate(dft.values):\n",
    "        vid = row[0]\n",
    "        label = row[1]\n",
    "        start = row[2]\n",
    "        end = row[3]\n",
    "\n",
    "        for i in range(start,end):\n",
    "            for j in range(FPS_OUTPUT):\n",
    "                out.append({\"video\":vid,\n",
    "                            \"frame\": vid + \"_{:06d}\".format(len(out)) + '.jpg',\n",
    "                            \"label\": label})\n",
    "    \n",
    "    out_all.extend(out)"
   ]
  },
  {
   "cell_type": "code",
   "execution_count": 22,
   "metadata": {
    "ExecuteTime": {
     "end_time": "2019-01-13T14:52:07.480266Z",
     "start_time": "2019-01-13T14:52:07.157707Z"
    }
   },
   "outputs": [
    {
     "name": "stdout",
     "output_type": "stream",
     "text": [
      "SAVED LABELS FILE to /data/labels.csv\n"
     ]
    }
   ],
   "source": [
    "# make dataframe and save\n",
    "df_out = pd.DataFrame(out_all)\n",
    "df_out = df_out[['video','frame','label']]\n",
    "df_out.to_csv(path_data + 'labels.csv',index=False)\n",
    "\n",
    "print(\"SAVED LABELS FILE to /data/labels.csv\")"
   ]
  },
  {
   "cell_type": "code",
   "execution_count": null,
   "metadata": {},
   "outputs": [],
   "source": []
  }
 ],
 "metadata": {
  "kernelspec": {
   "display_name": "Python 3",
   "language": "python",
   "name": "python3"
  },
  "language_info": {
   "codemirror_mode": {
    "name": "ipython",
    "version": 3
   },
   "file_extension": ".py",
   "mimetype": "text/x-python",
   "name": "python",
   "nbconvert_exporter": "python",
   "pygments_lexer": "ipython3",
   "version": "3.5.3"
  }
 },
 "nbformat": 4,
 "nbformat_minor": 2
}
