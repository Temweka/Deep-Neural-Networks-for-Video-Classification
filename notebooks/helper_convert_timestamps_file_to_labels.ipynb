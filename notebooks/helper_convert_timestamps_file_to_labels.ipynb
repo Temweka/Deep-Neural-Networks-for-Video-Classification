{
 "cells": [
  {
   "cell_type": "code",
   "execution_count": 90,
   "metadata": {
    "ExecuteTime": {
     "end_time": "2019-01-07T00:30:59.281502Z",
     "start_time": "2019-01-07T00:30:59.277866Z"
    },
    "collapsed": true
   },
   "outputs": [],
   "source": [
    "# set desired output FPS\n",
    "FPS_OUTPUT = 2"
   ]
  },
  {
   "cell_type": "code",
   "execution_count": null,
   "metadata": {
    "collapsed": true
   },
   "outputs": [],
   "source": [
    "# note may have to adjust leading zero count depending on how frames were exported and length of video so they match the frame files"
   ]
  },
  {
   "cell_type": "code",
   "execution_count": 8,
   "metadata": {
    "ExecuteTime": {
     "end_time": "2019-01-07T00:11:13.035087Z",
     "start_time": "2019-01-07T00:11:13.028676Z"
    },
    "collapsed": true
   },
   "outputs": [],
   "source": [
    "import pandas as pd\n",
    "import numpy as np\n",
    "import cv2\n",
    "import sys\n",
    "import os\n",
    "from datetime import datetime"
   ]
  },
  {
   "cell_type": "code",
   "execution_count": 3,
   "metadata": {
    "ExecuteTime": {
     "end_time": "2019-01-07T00:06:21.935667Z",
     "start_time": "2019-01-07T00:06:21.904640Z"
    },
    "collapsed": true
   },
   "outputs": [],
   "source": [
    "df = pd.read_csv('penguin_label_timestamps.csv')"
   ]
  },
  {
   "cell_type": "code",
   "execution_count": 46,
   "metadata": {
    "ExecuteTime": {
     "end_time": "2019-01-07T00:20:33.613542Z",
     "start_time": "2019-01-07T00:20:33.605664Z"
    }
   },
   "outputs": [],
   "source": [
    "def get_seconds(minute,second):\n",
    "    ts = datetime.now().replace(hour=0, minute=minute, second = second, microsecond = 0)\n",
    "    return int((ts - ts.replace(hour=0, minute=0, second=0, microsecond=0)).total_seconds())"
   ]
  },
  {
   "cell_type": "code",
   "execution_count": 36,
   "metadata": {
    "ExecuteTime": {
     "end_time": "2019-01-07T00:17:00.678714Z",
     "start_time": "2019-01-07T00:17:00.656160Z"
    },
    "collapsed": true
   },
   "outputs": [],
   "source": [
    "# extract components of start and end times\n",
    "df['start_minute'] = df['time_start'].str.split(\":\").str.get(1).astype(int)\n",
    "df['start_second'] = df['time_start'].str.split(\":\").str.get(2).astype(int)\n",
    "\n",
    "df['end_minute'] = df['time_end'].str.split(\":\").str.get(1).astype(int)\n",
    "df['end_second'] = df['time_end'].str.split(\":\").str.get(2).astype(int)"
   ]
  },
  {
   "cell_type": "code",
   "execution_count": 63,
   "metadata": {
    "ExecuteTime": {
     "end_time": "2019-01-07T00:23:34.426995Z",
     "start_time": "2019-01-07T00:23:34.421780Z"
    },
    "collapsed": true
   },
   "outputs": [],
   "source": [
    "def get_seconds_start(x):\n",
    "    return get_seconds(x[4],x[5])"
   ]
  },
  {
   "cell_type": "code",
   "execution_count": 64,
   "metadata": {
    "ExecuteTime": {
     "end_time": "2019-01-07T00:23:34.617083Z",
     "start_time": "2019-01-07T00:23:34.610656Z"
    },
    "collapsed": true
   },
   "outputs": [],
   "source": [
    "def get_seconds_end(x):\n",
    "    return get_seconds(x[6],x[7])"
   ]
  },
  {
   "cell_type": "code",
   "execution_count": 62,
   "metadata": {
    "ExecuteTime": {
     "end_time": "2019-01-07T00:23:17.311357Z",
     "start_time": "2019-01-07T00:23:17.298851Z"
    }
   },
   "outputs": [
    {
     "data": {
      "text/html": [
       "<div>\n",
       "<style scoped>\n",
       "    .dataframe tbody tr th:only-of-type {\n",
       "        vertical-align: middle;\n",
       "    }\n",
       "\n",
       "    .dataframe tbody tr th {\n",
       "        vertical-align: top;\n",
       "    }\n",
       "\n",
       "    .dataframe thead th {\n",
       "        text-align: right;\n",
       "    }\n",
       "</style>\n",
       "<table border=\"1\" class=\"dataframe\">\n",
       "  <thead>\n",
       "    <tr style=\"text-align: right;\">\n",
       "      <th></th>\n",
       "      <th>video</th>\n",
       "      <th>time_start</th>\n",
       "      <th>time_end</th>\n",
       "      <th>label</th>\n",
       "      <th>start_minute</th>\n",
       "      <th>start_second</th>\n",
       "      <th>end_minute</th>\n",
       "      <th>end_second</th>\n",
       "      <th>start_elapsed</th>\n",
       "    </tr>\n",
       "  </thead>\n",
       "  <tbody>\n",
       "    <tr>\n",
       "      <th>0</th>\n",
       "      <td>20160801_no9_1</td>\n",
       "      <td>00:00:00</td>\n",
       "      <td>00:06:03</td>\n",
       "      <td>search</td>\n",
       "      <td>0</td>\n",
       "      <td>0</td>\n",
       "      <td>6</td>\n",
       "      <td>3</td>\n",
       "      <td>6</td>\n",
       "    </tr>\n",
       "    <tr>\n",
       "      <th>1</th>\n",
       "      <td>20160801_no9_1</td>\n",
       "      <td>00:06:03</td>\n",
       "      <td>00:07:00</td>\n",
       "      <td>descent</td>\n",
       "      <td>6</td>\n",
       "      <td>3</td>\n",
       "      <td>7</td>\n",
       "      <td>0</td>\n",
       "      <td>187</td>\n",
       "    </tr>\n",
       "    <tr>\n",
       "      <th>2</th>\n",
       "      <td>20160801_no9_1</td>\n",
       "      <td>00:07:00</td>\n",
       "      <td>00:07:06</td>\n",
       "      <td>bottom</td>\n",
       "      <td>7</td>\n",
       "      <td>0</td>\n",
       "      <td>7</td>\n",
       "      <td>6</td>\n",
       "      <td>7</td>\n",
       "    </tr>\n",
       "    <tr>\n",
       "      <th>3</th>\n",
       "      <td>20160801_no9_1</td>\n",
       "      <td>00:07:06</td>\n",
       "      <td>00:07:14</td>\n",
       "      <td>ascent</td>\n",
       "      <td>7</td>\n",
       "      <td>6</td>\n",
       "      <td>7</td>\n",
       "      <td>14</td>\n",
       "      <td>367</td>\n",
       "    </tr>\n",
       "    <tr>\n",
       "      <th>4</th>\n",
       "      <td>20160801_no9_1</td>\n",
       "      <td>00:07:14</td>\n",
       "      <td>00:07:14</td>\n",
       "      <td>breath</td>\n",
       "      <td>7</td>\n",
       "      <td>14</td>\n",
       "      <td>7</td>\n",
       "      <td>14</td>\n",
       "      <td>847</td>\n",
       "    </tr>\n",
       "  </tbody>\n",
       "</table>\n",
       "</div>"
      ],
      "text/plain": [
       "            video time_start  time_end    label  start_minute  start_second  \\\n",
       "0  20160801_no9_1   00:00:00  00:06:03   search             0             0   \n",
       "1  20160801_no9_1   00:06:03  00:07:00  descent             6             3   \n",
       "2  20160801_no9_1   00:07:00  00:07:06   bottom             7             0   \n",
       "3  20160801_no9_1   00:07:06  00:07:14   ascent             7             6   \n",
       "4  20160801_no9_1   00:07:14  00:07:14   breath             7            14   \n",
       "\n",
       "   end_minute  end_second  start_elapsed  \n",
       "0           6           3              6  \n",
       "1           7           0            187  \n",
       "2           7           6              7  \n",
       "3           7          14            367  \n",
       "4           7          14            847  "
      ]
     },
     "execution_count": 62,
     "metadata": {},
     "output_type": "execute_result"
    }
   ],
   "source": [
    "df.head()"
   ]
  },
  {
   "cell_type": "code",
   "execution_count": 66,
   "metadata": {
    "ExecuteTime": {
     "end_time": "2019-01-07T00:23:37.764812Z",
     "start_time": "2019-01-07T00:23:37.646098Z"
    }
   },
   "outputs": [],
   "source": [
    "df['start_elapsed'] = df.apply(get_seconds_start, axis=1)\n",
    "df['end_elapsed'] = df.apply(get_seconds_end, axis=1)"
   ]
  },
  {
   "cell_type": "code",
   "execution_count": 73,
   "metadata": {
    "ExecuteTime": {
     "end_time": "2019-01-07T00:25:00.705479Z",
     "start_time": "2019-01-07T00:25:00.698632Z"
    }
   },
   "outputs": [],
   "source": [
    "del df['time_start']\n",
    "del df['time_end']\n",
    "del df['start_minute']\n",
    "del df['start_second']\n",
    "del df['end_minute']\n",
    "del df['end_second']"
   ]
  },
  {
   "cell_type": "code",
   "execution_count": 75,
   "metadata": {
    "ExecuteTime": {
     "end_time": "2019-01-07T00:25:11.983623Z",
     "start_time": "2019-01-07T00:25:11.973504Z"
    }
   },
   "outputs": [
    {
     "data": {
      "text/html": [
       "<div>\n",
       "<style scoped>\n",
       "    .dataframe tbody tr th:only-of-type {\n",
       "        vertical-align: middle;\n",
       "    }\n",
       "\n",
       "    .dataframe tbody tr th {\n",
       "        vertical-align: top;\n",
       "    }\n",
       "\n",
       "    .dataframe thead th {\n",
       "        text-align: right;\n",
       "    }\n",
       "</style>\n",
       "<table border=\"1\" class=\"dataframe\">\n",
       "  <thead>\n",
       "    <tr style=\"text-align: right;\">\n",
       "      <th></th>\n",
       "      <th>video</th>\n",
       "      <th>label</th>\n",
       "      <th>start_elapsed</th>\n",
       "      <th>end_elapsed</th>\n",
       "    </tr>\n",
       "  </thead>\n",
       "  <tbody>\n",
       "    <tr>\n",
       "      <th>0</th>\n",
       "      <td>20160801_no9_1</td>\n",
       "      <td>search</td>\n",
       "      <td>0</td>\n",
       "      <td>363</td>\n",
       "    </tr>\n",
       "    <tr>\n",
       "      <th>1</th>\n",
       "      <td>20160801_no9_1</td>\n",
       "      <td>descent</td>\n",
       "      <td>363</td>\n",
       "      <td>420</td>\n",
       "    </tr>\n",
       "    <tr>\n",
       "      <th>2</th>\n",
       "      <td>20160801_no9_1</td>\n",
       "      <td>bottom</td>\n",
       "      <td>420</td>\n",
       "      <td>426</td>\n",
       "    </tr>\n",
       "    <tr>\n",
       "      <th>3</th>\n",
       "      <td>20160801_no9_1</td>\n",
       "      <td>ascent</td>\n",
       "      <td>426</td>\n",
       "      <td>434</td>\n",
       "    </tr>\n",
       "    <tr>\n",
       "      <th>4</th>\n",
       "      <td>20160801_no9_1</td>\n",
       "      <td>breath</td>\n",
       "      <td>434</td>\n",
       "      <td>434</td>\n",
       "    </tr>\n",
       "  </tbody>\n",
       "</table>\n",
       "</div>"
      ],
      "text/plain": [
       "            video    label  start_elapsed  end_elapsed\n",
       "0  20160801_no9_1   search              0          363\n",
       "1  20160801_no9_1  descent            363          420\n",
       "2  20160801_no9_1   bottom            420          426\n",
       "3  20160801_no9_1   ascent            426          434\n",
       "4  20160801_no9_1   breath            434          434"
      ]
     },
     "execution_count": 75,
     "metadata": {},
     "output_type": "execute_result"
    }
   ],
   "source": [
    "df.head()"
   ]
  },
  {
   "cell_type": "code",
   "execution_count": 5,
   "metadata": {
    "ExecuteTime": {
     "end_time": "2019-01-07T00:08:13.064862Z",
     "start_time": "2019-01-07T00:08:13.054845Z"
    },
    "collapsed": true
   },
   "outputs": [],
   "source": [
    "videos = list(df['video'].unique())"
   ]
  },
  {
   "cell_type": "code",
   "execution_count": 104,
   "metadata": {
    "ExecuteTime": {
     "end_time": "2019-01-07T00:33:55.845441Z",
     "start_time": "2019-01-07T00:33:55.596349Z"
    },
    "collapsed": true
   },
   "outputs": [],
   "source": [
    "# initialize output\n",
    "out_all = []\n",
    "\n",
    "for video in videos:\n",
    "    # subset dataframe to labels for this video\n",
    "    dft = df[df['video'] == video]\n",
    "\n",
    "    out = []\n",
    "\n",
    "    for i, row in enumerate(dft.values):\n",
    "        vid = row[0]\n",
    "        label = row[1]\n",
    "        start = row[2]\n",
    "        end = row[3]\n",
    "\n",
    "        for i in range(start,end):\n",
    "            for j in range(FPS_OUTPUT):\n",
    "                out.append({\"video\":vid,\n",
    "                            \"frame\": vid + \"_{:05d}\".format(len(out) + 1) + '.jpeg',\n",
    "                            \"label\": label})\n",
    "    \n",
    "    out_all.extend(out)"
   ]
  },
  {
   "cell_type": "code",
   "execution_count": 110,
   "metadata": {
    "ExecuteTime": {
     "end_time": "2019-01-07T00:37:42.462115Z",
     "start_time": "2019-01-07T00:37:42.125448Z"
    },
    "collapsed": true
   },
   "outputs": [],
   "source": [
    "# make dataframe and save\n",
    "df_out = pd.DataFrame(out_all)\n",
    "df_out = df_out[['video','frame','label']]\n",
    "df_out.to_csv('labels.csv',index=False)"
   ]
  }
 ],
 "metadata": {
  "kernelspec": {
   "display_name": "Python 3",
   "language": "python",
   "name": "python3"
  },
  "language_info": {
   "codemirror_mode": {
    "name": "ipython",
    "version": 3
   },
   "file_extension": ".py",
   "mimetype": "text/x-python",
   "name": "python",
   "nbconvert_exporter": "python",
   "pygments_lexer": "ipython3",
   "version": "3.5.3"
  }
 },
 "nbformat": 4,
 "nbformat_minor": 2
}
