{
 "cells": [
  {
   "cell_type": "code",
   "execution_count": null,
   "metadata": {},
   "outputs": [],
   "source": [
    "import os\n",
    "import pandas as pd\n",
    "import numpy as np\n",
    "import json"
   ]
  },
  {
   "cell_type": "code",
   "execution_count": null,
   "metadata": {},
   "outputs": [],
   "source": [
    "# setup paths\n",
    "pwd = os.getcwd().replace(\"notebooks\",\"\")\n",
    "path_cache = pwd + 'cache/'\n",
    "path_data = pwd + 'data/'"
   ]
  },
  {
   "cell_type": "code",
   "execution_count": null,
   "metadata": {},
   "outputs": [],
   "source": [
    "# setup logging\n",
    "import logging\n",
    "logging.basicConfig(\n",
    "    level=logging.INFO,\n",
    "    format=\"%(asctime)s [%(threadName)-12.12s] [%(levelname)-5.5s]  %(message)s\",\n",
    "    handlers=[\n",
    "        logging.FileHandler(\"{0}/{1}.log\".format(pwd, \"logs\")),\n",
    "        logging.StreamHandler()\n",
    "    ])\n",
    "logger = logging.getLogger()"
   ]
  },
  {
   "cell_type": "code",
   "execution_count": null,
   "metadata": {},
   "outputs": [],
   "source": [
    "def add_splits_to_labels_file(vids_valid, vids_test):\n",
    "    \"\"\"\n",
    "    Helper function to add splits to your labels file \n",
    "\n",
    "    If your labels file has the columns \"video\",\"filename\",\"label\", \n",
    "    you can use this function to add train/valid/test splits by specifying\n",
    "    as lists of video names which videos should be valid and which should be test\n",
    "\n",
    "    Will overwrite labels file on disk\n",
    "\n",
    "    Sample usage\n",
    "    \"\"\"\n",
    "    # e.g. \n",
    "    # * vids_valid = ['vid_a', 'vid_b', 'vid_c']\n",
    "    # * vids_test = ['vid_y', 'vid_z']\n",
    "    # all the rest will be train\n",
    "\n",
    "    labels = pd.read_csv(path_data + 'labels.csv', usecols=['video','frame','label'])\n",
    "\n",
    "    def allocate_set(vid):\n",
    "        if vid in vids_valid:\n",
    "            return \"valid\"\n",
    "        elif vid in vids_test:\n",
    "            return \"test\"\n",
    "        else: \n",
    "            return \"train\"\n",
    "\n",
    "    # apply split\n",
    "    labels['split'] = labels['video'].apply(lambda x: allocate_set(x))\n",
    "\n",
    "    # sort \n",
    "    labels.sort_values([\"video\",\"frame\"], inplace=True)\n",
    "\n",
    "    # output as csv\n",
    "    labels.to_csv(path_data + 'labels.csv', index=False)"
   ]
  }
 ],
 "metadata": {
  "kernelspec": {
   "display_name": "Python 3",
   "language": "python",
   "name": "python3"
  },
  "language_info": {
   "codemirror_mode": {
    "name": "ipython",
    "version": 3
   },
   "file_extension": ".py",
   "mimetype": "text/x-python",
   "name": "python",
   "nbconvert_exporter": "python",
   "pygments_lexer": "ipython3",
   "version": "3.5.3"
  }
 },
 "nbformat": 4,
 "nbformat_minor": 2
}
