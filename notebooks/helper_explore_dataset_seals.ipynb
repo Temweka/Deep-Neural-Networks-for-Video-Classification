{
 "cells": [
  {
   "cell_type": "code",
   "execution_count": 1,
   "metadata": {
    "ExecuteTime": {
     "end_time": "2019-01-07T22:24:19.097844Z",
     "start_time": "2019-01-07T22:24:18.239506Z"
    }
   },
   "outputs": [],
   "source": [
    "import os\n",
    "import pandas as pd\n",
    "import numpy as np\n",
    "import json\n",
    "\n",
    "import cv2\n",
    "from time import time as timer\n",
    "import sys\n",
    "sys.path.append('..')"
   ]
  },
  {
   "cell_type": "code",
   "execution_count": 2,
   "metadata": {
    "ExecuteTime": {
     "end_time": "2019-01-07T22:24:20.044030Z",
     "start_time": "2019-01-07T22:24:20.039799Z"
    }
   },
   "outputs": [],
   "source": [
    "# setup paths\n",
    "pwd = os.getcwd().replace(\"notebooks\",\"\")\n",
    "path_cache = pwd + 'cache/'\n",
    "path_data = pwd + 'data/'"
   ]
  },
  {
   "cell_type": "code",
   "execution_count": 3,
   "metadata": {
    "ExecuteTime": {
     "end_time": "2019-01-07T22:24:21.192515Z",
     "start_time": "2019-01-07T22:24:21.186669Z"
    }
   },
   "outputs": [],
   "source": [
    "# read vid paths\n",
    "path_videos = []\n",
    "for filename in os.listdir(path_data):\n",
    "    if os.path.isdir(os.path.join(path_data, filename)):\n",
    "        path_videos.append(filename)\n",
    "\n",
    "path_videos = [path_data + v + '/' for v in path_videos if v != '.DS_Store']"
   ]
  },
  {
   "cell_type": "markdown",
   "metadata": {},
   "source": [
    "# Visualize some of the data"
   ]
  },
  {
   "cell_type": "code",
   "execution_count": 133,
   "metadata": {
    "ExecuteTime": {
     "end_time": "2019-01-07T23:04:56.622416Z",
     "start_time": "2019-01-07T23:04:56.601840Z"
    }
   },
   "outputs": [],
   "source": [
    "labels = pd.read_csv(path_data + 'labels.csv')"
   ]
  },
  {
   "cell_type": "code",
   "execution_count": 136,
   "metadata": {
    "ExecuteTime": {
     "end_time": "2019-01-07T23:05:32.899137Z",
     "start_time": "2019-01-07T23:05:32.890617Z"
    }
   },
   "outputs": [
    {
     "data": {
      "text/plain": [
       "array(['s1-218', 's43-5211', 's45-6301', 's6-1247'], dtype=object)"
      ]
     },
     "execution_count": 136,
     "metadata": {},
     "output_type": "execute_result"
    }
   ],
   "source": [
    "labels[labels['split'] == 'valid']['video'].unique()"
   ]
  },
  {
   "cell_type": "code",
   "execution_count": 15,
   "metadata": {
    "ExecuteTime": {
     "end_time": "2019-01-07T22:27:32.456814Z",
     "start_time": "2019-01-07T22:27:32.443396Z"
    }
   },
   "outputs": [],
   "source": [
    "df = labels.groupby(['video','label']).agg(len).unstack(level=-1)\n",
    "df.unstack(level=-1)\n",
    "df.columns = df.columns.droplevel()"
   ]
  },
  {
   "cell_type": "code",
   "execution_count": 21,
   "metadata": {
    "ExecuteTime": {
     "end_time": "2019-01-07T22:28:52.752141Z",
     "start_time": "2019-01-07T22:28:52.744063Z"
    }
   },
   "outputs": [],
   "source": [
    "df['count'] = df['seal'] + df['noseal']"
   ]
  },
  {
   "cell_type": "code",
   "execution_count": 22,
   "metadata": {
    "ExecuteTime": {
     "end_time": "2019-01-07T22:28:53.351361Z",
     "start_time": "2019-01-07T22:28:53.341517Z"
    }
   },
   "outputs": [
    {
     "data": {
      "text/html": [
       "<div>\n",
       "<style scoped>\n",
       "    .dataframe tbody tr th:only-of-type {\n",
       "        vertical-align: middle;\n",
       "    }\n",
       "\n",
       "    .dataframe tbody tr th {\n",
       "        vertical-align: top;\n",
       "    }\n",
       "\n",
       "    .dataframe thead th {\n",
       "        text-align: right;\n",
       "    }\n",
       "</style>\n",
       "<table border=\"1\" class=\"dataframe\">\n",
       "  <thead>\n",
       "    <tr style=\"text-align: right;\">\n",
       "      <th>label</th>\n",
       "      <th>noseal</th>\n",
       "      <th>seal</th>\n",
       "      <th>count</th>\n",
       "    </tr>\n",
       "    <tr>\n",
       "      <th>video</th>\n",
       "      <th></th>\n",
       "      <th></th>\n",
       "      <th></th>\n",
       "    </tr>\n",
       "  </thead>\n",
       "  <tbody>\n",
       "    <tr>\n",
       "      <th>s1-218</th>\n",
       "      <td>96</td>\n",
       "      <td>42</td>\n",
       "      <td>138</td>\n",
       "    </tr>\n",
       "    <tr>\n",
       "      <th>s10-6558</th>\n",
       "      <td>104</td>\n",
       "      <td>80</td>\n",
       "      <td>184</td>\n",
       "    </tr>\n",
       "    <tr>\n",
       "      <th>s11-7363</th>\n",
       "      <td>218</td>\n",
       "      <td>85</td>\n",
       "      <td>303</td>\n",
       "    </tr>\n",
       "    <tr>\n",
       "      <th>s12-3465</th>\n",
       "      <td>555</td>\n",
       "      <td>89</td>\n",
       "      <td>644</td>\n",
       "    </tr>\n",
       "    <tr>\n",
       "      <th>s13-14</th>\n",
       "      <td>67</td>\n",
       "      <td>89</td>\n",
       "      <td>156</td>\n",
       "    </tr>\n",
       "  </tbody>\n",
       "</table>\n",
       "</div>"
      ],
      "text/plain": [
       "label     noseal  seal  count\n",
       "video                        \n",
       "s1-218        96    42    138\n",
       "s10-6558     104    80    184\n",
       "s11-7363     218    85    303\n",
       "s12-3465     555    89    644\n",
       "s13-14        67    89    156"
      ]
     },
     "execution_count": 22,
     "metadata": {},
     "output_type": "execute_result"
    }
   ],
   "source": [
    "df.head()"
   ]
  },
  {
   "cell_type": "code",
   "execution_count": 23,
   "metadata": {
    "ExecuteTime": {
     "end_time": "2019-01-07T22:29:02.659891Z",
     "start_time": "2019-01-07T22:29:02.654818Z"
    }
   },
   "outputs": [],
   "source": [
    "df['seal_pct'] = df['seal'] / df['count']"
   ]
  },
  {
   "cell_type": "code",
   "execution_count": 54,
   "metadata": {
    "ExecuteTime": {
     "end_time": "2019-01-07T22:39:06.670933Z",
     "start_time": "2019-01-07T22:39:06.666413Z"
    }
   },
   "outputs": [],
   "source": [
    "df.sort_values('video', inplace=True)"
   ]
  },
  {
   "cell_type": "code",
   "execution_count": 55,
   "metadata": {
    "ExecuteTime": {
     "end_time": "2019-01-07T22:39:08.238317Z",
     "start_time": "2019-01-07T22:39:07.226464Z"
    }
   },
   "outputs": [
    {
     "data": {
      "text/plain": [
       "<matplotlib.axes._subplots.AxesSubplot at 0x7f17a3f51160>"
      ]
     },
     "execution_count": 55,
     "metadata": {},
     "output_type": "execute_result"
    },
    {
     "data": {
      "image/png": "[encoded data removed]",
      "text/plain": [
       "<Figure size 1440x720 with 1 Axes>"
      ]
     },
     "metadata": {},
     "output_type": "display_data"
    }
   ],
   "source": [
    "import matplotlib.pyplot as plt\n",
    "df['seal_pct'].plot(kind='bar', figsize = (20,10), color = 'gray')"
   ]
  },
  {
   "cell_type": "code",
   "execution_count": 42,
   "metadata": {
    "ExecuteTime": {
     "end_time": "2019-01-07T22:32:22.688522Z",
     "start_time": "2019-01-07T22:32:22.682024Z"
    }
   },
   "outputs": [
    {
     "data": {
      "text/plain": [
       "0.40753718191623906"
      ]
     },
     "execution_count": 42,
     "metadata": {},
     "output_type": "execute_result"
    }
   ],
   "source": [
    "df['seal_pct'].mean()"
   ]
  },
  {
   "cell_type": "code",
   "execution_count": 121,
   "metadata": {
    "ExecuteTime": {
     "end_time": "2019-01-07T23:01:15.432320Z",
     "start_time": "2019-01-07T23:01:15.425267Z"
    }
   },
   "outputs": [
    {
     "data": {
      "text/plain": [
       "['s1-218',\n",
       " 's10-6558',\n",
       " 's11-7363',\n",
       " 's12-3465',\n",
       " 's13-14',\n",
       " 's14-1705',\n",
       " 's15-2589',\n",
       " 's16-0',\n",
       " 's17-2973',\n",
       " 's18-630',\n",
       " 's19-672',\n",
       " 's2-1133',\n",
       " 's20-842',\n",
       " 's21-919',\n",
       " 's22-3733',\n",
       " 's23-4847',\n",
       " 's24-5851',\n",
       " 's25-5886',\n",
       " 's26-8164',\n",
       " 's27-8212',\n",
       " 's28-20',\n",
       " 's29-316',\n",
       " 's3-1993',\n",
       " 's30-516',\n",
       " 's31-784',\n",
       " 's32-3110',\n",
       " 's33-3405',\n",
       " 's34-3590',\n",
       " 's35-3664',\n",
       " 's36-3838',\n",
       " 's37-3930',\n",
       " 's38-4060',\n",
       " 's39-4336',\n",
       " 's4-6975',\n",
       " 's40-4508',\n",
       " 's41-4712',\n",
       " 's42-4950',\n",
       " 's43-5211',\n",
       " 's44-5304',\n",
       " 's45-6301',\n",
       " 's46-8087',\n",
       " 's5-1102',\n",
       " 's6-1247',\n",
       " 's7-2029',\n",
       " 's8-2244',\n",
       " 's9-5491']"
      ]
     },
     "execution_count": 121,
     "metadata": {},
     "output_type": "execute_result"
    }
   ],
   "source": [
    "list(labels['video'].unique())"
   ]
  },
  {
   "cell_type": "code",
   "execution_count": 92,
   "metadata": {
    "ExecuteTime": {
     "end_time": "2019-01-07T22:52:59.196999Z",
     "start_time": "2019-01-07T22:52:59.193136Z"
    }
   },
   "outputs": [],
   "source": [
    "# seals\n",
    "vids_valid = ['s6-1247','s6-1247','s45-6301','s1-218', 's43-5211']\n",
    "vids_test = ['s30-516', 's35-3664']"
   ]
  },
  {
   "cell_type": "code",
   "execution_count": 140,
   "metadata": {
    "ExecuteTime": {
     "end_time": "2019-01-07T23:07:00.822354Z",
     "start_time": "2019-01-07T23:07:00.819023Z"
    },
    "scrolled": false
   },
   "outputs": [],
   "source": [
    "# for vid in list(labels.sort_values('split')['video'].unique()):\n",
    "#     print(vid, vid_splits[vid])\n",
    "#     view_video_sample(vid)"
   ]
  },
  {
   "cell_type": "markdown",
   "metadata": {},
   "source": [
    "## view some frames"
   ]
  },
  {
   "cell_type": "code",
   "execution_count": null,
   "metadata": {},
   "outputs": [],
   "source": [
    "from PIL import Image"
   ]
  },
  {
   "cell_type": "code",
   "execution_count": 72,
   "metadata": {
    "ExecuteTime": {
     "end_time": "2019-01-07T22:44:09.913543Z",
     "start_time": "2019-01-07T22:44:09.907431Z"
    }
   },
   "outputs": [],
   "source": [
    "def view_video_sample(vid):\n",
    "    paths = list(labels[labels['video'] == vid]['frame'])\n",
    "    paths = [path_data + vid + '/' + p for p in paths]\n",
    "\n",
    "    # plot first\n",
    "    img = Image.open(paths[0])\n",
    "    plt.imshow(img)\n",
    "    plt.show()\n",
    "\n",
    "    # plot last\n",
    "    img = Image.open(paths[len(paths)-1])\n",
    "    plt.imshow(img)\n",
    "    plt.show()"
   ]
  },
  {
   "cell_type": "code",
   "execution_count": null,
   "metadata": {},
   "outputs": [],
   "source": []
  }
 ],
 "metadata": {
  "kernelspec": {
   "display_name": "Python 3",
   "language": "python",
   "name": "python3"
  },
  "language_info": {
   "codemirror_mode": {
    "name": "ipython",
    "version": 3
   },
   "file_extension": ".py",
   "mimetype": "text/x-python",
   "name": "python",
   "nbconvert_exporter": "python",
   "pygments_lexer": "ipython3",
   "version": "3.5.3"
  }
 },
 "nbformat": 4,
 "nbformat_minor": 2
}
