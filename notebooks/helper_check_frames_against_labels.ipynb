{
 "cells": [
  {
   "cell_type": "markdown",
   "metadata": {},
   "source": [
    "# Instructions"
   ]
  },
  {
   "cell_type": "markdown",
   "metadata": {
    "ExecuteTime": {
     "end_time": "2019-01-13T13:07:22.858091Z",
     "start_time": "2019-01-13T13:07:22.845421Z"
    }
   },
   "source": [
    "\n",
    "Check frames in `data/*vid_name*/` folders match `data/labels.csv` file.\n",
    "\n",
    "You need 1:1 mapping between frame files and rows of `labels.csv` or the rest of the code in this package won't run. \n",
    "\n",
    "A mismatch might be caused by a difference in FPS in labels vs extracted frames or an issue in frame extraction or an issue in your labels file.\n",
    "\n",
    "This notebook will do the check and help debug a mismatch between frame files and `labels.csv`\n",
    "\n",
    "Note: Your labels might be out by 1 or 2 frames due to the granularity of your labels vs FPS - the easiest solution is to delete those extra frames (manually or modify this notebook to do it using `os.remove()` to delete those extra frames)..."
   ]
  },
  {
   "cell_type": "markdown",
   "metadata": {},
   "source": [
    "# Setup"
   ]
  },
  {
   "cell_type": "code",
   "execution_count": 150,
   "metadata": {
    "ExecuteTime": {
     "end_time": "2019-01-14T14:52:53.491899Z",
     "start_time": "2019-01-14T14:52:53.486485Z"
    }
   },
   "outputs": [],
   "source": [
    "import numpy as np\n",
    "import cv2\n",
    "from time import time as timer\n",
    "import sys\n",
    "import os\n",
    "import pandas as pd\n",
    "import matplotlib.pyplot as plt\n",
    "from PIL import Image\n",
    "%matplotlib inline"
   ]
  },
  {
   "cell_type": "code",
   "execution_count": 151,
   "metadata": {
    "ExecuteTime": {
     "end_time": "2019-01-14T14:52:53.648920Z",
     "start_time": "2019-01-14T14:52:53.645273Z"
    }
   },
   "outputs": [],
   "source": [
    "# setup paths\n",
    "pwd = os.getcwd().replace(\"notebooks\",\"\")\n",
    "path_videos = pwd + 'videos/'\n",
    "path_data = pwd + 'data/'"
   ]
  },
  {
   "cell_type": "code",
   "execution_count": 152,
   "metadata": {
    "ExecuteTime": {
     "end_time": "2019-01-14T14:52:53.826974Z",
     "start_time": "2019-01-14T14:52:53.822654Z"
    }
   },
   "outputs": [],
   "source": [
    "# read frames paths\n",
    "paths_videos = os.listdir(path_data)\n",
    "paths_videos = [path_data + v + '/' for v in paths_videos if v != '.DS_Store' and v != 'labels.csv']\n",
    "paths_videos.sort()"
   ]
  },
  {
   "cell_type": "markdown",
   "metadata": {},
   "source": [
    "# Check we have a 1:1 mapping between labels and frames"
   ]
  },
  {
   "cell_type": "code",
   "execution_count": 158,
   "metadata": {
    "ExecuteTime": {
     "end_time": "2019-01-14T14:53:22.426179Z",
     "start_time": "2019-01-14T14:53:22.422089Z"
    }
   },
   "outputs": [],
   "source": [
    "if not os.path.exists(pwd + 'data/labels.csv'):\n",
    "    print(\"ERROR: labels.csv missing - please copy labels.csv to /data/labels.csv\")\n",
    "    print()\n",
    "    print(\"Sample label file below:\")    \n",
    "    print(\"\"\"video\\t\\t\\tframe \\t\\t\\t\\t label\n",
    "    20160801_no9_1\\t\\t20160801_no9_1_00001.jpeg\tsearch\n",
    "    20160801_no9_1\\t\\t20160801_no9_1_00002.jpeg\tsearch\n",
    "    ...\"\"\")\n",
    "    print()\n",
    "    print(\"Note you also need a 'split' column that assigns videos to train/valid/test splits - can use /notebooks/helper_add_train_valid_test_splits_to_labels.ipynb to add splits\")"
   ]
  },
  {
   "cell_type": "code",
   "execution_count": 159,
   "metadata": {
    "ExecuteTime": {
     "end_time": "2019-01-14T14:53:22.657443Z",
     "start_time": "2019-01-14T14:53:22.570257Z"
    }
   },
   "outputs": [],
   "source": [
    "# load labels\n",
    "labels = pd.read_csv(path_data + 'labels.csv')"
   ]
  },
  {
   "cell_type": "code",
   "execution_count": 160,
   "metadata": {
    "ExecuteTime": {
     "end_time": "2019-01-14T14:53:22.906068Z",
     "start_time": "2019-01-14T14:53:22.785367Z"
    }
   },
   "outputs": [],
   "source": [
    "labels['frame'] = labels['frame'].str.replace('.jpeg','.jpg')"
   ]
  },
  {
   "cell_type": "code",
   "execution_count": 161,
   "metadata": {
    "ExecuteTime": {
     "end_time": "2019-01-14T14:53:23.151326Z",
     "start_time": "2019-01-14T14:53:23.140375Z"
    }
   },
   "outputs": [
    {
     "data": {
      "text/html": [
       "<div>\n",
       "<style scoped>\n",
       "    .dataframe tbody tr th:only-of-type {\n",
       "        vertical-align: middle;\n",
       "    }\n",
       "\n",
       "    .dataframe tbody tr th {\n",
       "        vertical-align: top;\n",
       "    }\n",
       "\n",
       "    .dataframe thead th {\n",
       "        text-align: right;\n",
       "    }\n",
       "</style>\n",
       "<table border=\"1\" class=\"dataframe\">\n",
       "  <thead>\n",
       "    <tr style=\"text-align: right;\">\n",
       "      <th></th>\n",
       "      <th>video</th>\n",
       "      <th>frame</th>\n",
       "      <th>label</th>\n",
       "    </tr>\n",
       "  </thead>\n",
       "  <tbody>\n",
       "    <tr>\n",
       "      <th>0</th>\n",
       "      <td>20150807_no8B_1</td>\n",
       "      <td>20150807_no8B_1_000000.jpg</td>\n",
       "      <td>shallow</td>\n",
       "    </tr>\n",
       "    <tr>\n",
       "      <th>1</th>\n",
       "      <td>20150807_no8B_1</td>\n",
       "      <td>20150807_no8B_1_000001.jpg</td>\n",
       "      <td>shallow</td>\n",
       "    </tr>\n",
       "    <tr>\n",
       "      <th>2</th>\n",
       "      <td>20150807_no8B_1</td>\n",
       "      <td>20150807_no8B_1_000002.jpg</td>\n",
       "      <td>shallow</td>\n",
       "    </tr>\n",
       "    <tr>\n",
       "      <th>3</th>\n",
       "      <td>20150807_no8B_1</td>\n",
       "      <td>20150807_no8B_1_000003.jpg</td>\n",
       "      <td>shallow</td>\n",
       "    </tr>\n",
       "    <tr>\n",
       "      <th>4</th>\n",
       "      <td>20150807_no8B_1</td>\n",
       "      <td>20150807_no8B_1_000004.jpg</td>\n",
       "      <td>shallow</td>\n",
       "    </tr>\n",
       "  </tbody>\n",
       "</table>\n",
       "</div>"
      ],
      "text/plain": [
       "             video                       frame    label\n",
       "0  20150807_no8B_1  20150807_no8B_1_000000.jpg  shallow\n",
       "1  20150807_no8B_1  20150807_no8B_1_000001.jpg  shallow\n",
       "2  20150807_no8B_1  20150807_no8B_1_000002.jpg  shallow\n",
       "3  20150807_no8B_1  20150807_no8B_1_000003.jpg  shallow\n",
       "4  20150807_no8B_1  20150807_no8B_1_000004.jpg  shallow"
      ]
     },
     "execution_count": 161,
     "metadata": {},
     "output_type": "execute_result"
    }
   ],
   "source": [
    "labels.head()"
   ]
  },
  {
   "cell_type": "code",
   "execution_count": 162,
   "metadata": {
    "ExecuteTime": {
     "end_time": "2019-01-14T14:53:23.903999Z",
     "start_time": "2019-01-14T14:53:23.685848Z"
    }
   },
   "outputs": [
    {
     "name": "stdout",
     "output_type": "stream",
     "text": [
      "ERRORS: 0 VIDS WITH #LABELS != #FRAMES\n",
      "\n",
      "\n",
      "OK: 25 VIDS WITH #LABELS != #FRAMES\n",
      "20150807_no8B_1 .::. Same number of labels and frames for vid\n",
      "20150820_no8B_2 .::. Same number of labels and frames for vid\n",
      "20150820_no8B_3 .::. Same number of labels and frames for vid\n",
      "20150820_no9W_3 .::. Same number of labels and frames for vid\n",
      "20150827_no8B_1 .::. Same number of labels and frames for vid\n",
      "20150827_no8B_3 .::. Same number of labels and frames for vid\n",
      "20160801_no9_1 .::. Same number of labels and frames for vid\n",
      "20160801_no9_2 .::. Same number of labels and frames for vid\n",
      "20160802_no8_1 .::. Same number of labels and frames for vid\n",
      "20160802_no8_3 .::. Same number of labels and frames for vid\n",
      "20160812_no9_1 .::. Same number of labels and frames for vid\n",
      "20160812_no9_2 .::. Same number of labels and frames for vid\n",
      "20160812_no9_3 .::. Same number of labels and frames for vid\n",
      "20160819_no9_1 .::. Same number of labels and frames for vid\n",
      "20160819_no9_2 .::. Same number of labels and frames for vid\n",
      "20160819_no9_3 .::. Same number of labels and frames for vid\n",
      "20160819_no9_4 .::. Same number of labels and frames for vid\n",
      "20160819_no9_5 .::. Same number of labels and frames for vid\n",
      "20160930_no8_1 .::. Same number of labels and frames for vid\n",
      "20160930_no8_3 .::. Same number of labels and frames for vid\n",
      "20160930_no8_4 .::. Same number of labels and frames for vid\n",
      "20161005_no9_1 .::. Same number of labels and frames for vid\n",
      "20161005_no9_2 .::. Same number of labels and frames for vid\n",
      "20161005_no9_3 .::. Same number of labels and frames for vid\n",
      "20161005_no9_4 .::. Same number of labels and frames for vid\n"
     ]
    }
   ],
   "source": [
    "vids_error = []\n",
    "vids_ok = []\n",
    "\n",
    "# for path_video in paths_videos:    \n",
    "for path_video in paths_videos:\n",
    "\n",
    "    # get vid name from path\n",
    "    vid_name = path_video[:-1].split(\"/\")[-1]\n",
    "\n",
    "    # convert list of frame files to dataframe\n",
    "    paths_frames = os.listdir(path_video)\n",
    "    paths_frames = [f for f in paths_frames if f != '.DS_Store']\n",
    "    paths_frames = pd.DataFrame(paths_frames, columns = ['frame_file'])\n",
    "\n",
    "    # subset labels to just this vid\n",
    "    labels_vid = labels[labels['video'] == vid_name]\n",
    "\n",
    "    # collect errors so can print grouped\n",
    "    if not len(labels_vid) == len(paths_frames):\n",
    "        vids_error.append(\"{} .::. Different number of labels ({}) than frames ({}) ... DIFF: {} \".format(vid_name, len(labels_vid),len(paths_frames), len(labels_vid) - len(paths_frames)))\n",
    "    else:\n",
    "        vids_ok.append(\"{} .::. Same number of labels and frames for vid\".format(vid_name))\n",
    "\n",
    "# print errors\n",
    "print(\"ERRORS: {} VIDS WITH #LABELS != #FRAMES\".format(len(vids_error)))\n",
    "for msg in vids_error:\n",
    "    print(msg)\n",
    "\n",
    "print(\"\\n\")\n",
    "print(\"OK: {} VIDS WITH #LABELS != #FRAMES\".format(len(vids_ok)))\n",
    "for msg in vids_ok:\n",
    "    print(msg)"
   ]
  },
  {
   "cell_type": "code",
   "execution_count": 168,
   "metadata": {
    "ExecuteTime": {
     "end_time": "2019-01-14T14:54:13.594010Z",
     "start_time": "2019-01-14T14:54:13.587763Z"
    }
   },
   "outputs": [],
   "source": [
    "assert labels['video'].nunique() == len(paths_videos), \"Different number of videos in labels file than /data/\""
   ]
  },
  {
   "cell_type": "markdown",
   "metadata": {},
   "source": [
    "# Find missing frames for a video"
   ]
  },
  {
   "cell_type": "code",
   "execution_count": 134,
   "metadata": {
    "ExecuteTime": {
     "end_time": "2019-01-14T14:38:09.459416Z",
     "start_time": "2019-01-14T14:38:09.454282Z"
    }
   },
   "outputs": [],
   "source": [
    "# for path_video in paths_videos:    \n",
    "for vid_error in vids_error:\n",
    "\n",
    "    # get vid name from path\n",
    "    vid_name = vid_error.split(\" .::.\")[0]\n",
    "    print(vid_name)\n",
    "\n",
    "    # convert list of frame files to dataframe\n",
    "    paths_frames = os.listdir(path_data+vid_name)\n",
    "    paths_frames = [f for f in paths_frames if f != '.DS_Store']\n",
    "    paths_frames = pd.DataFrame(paths_frames, columns = ['frame_file'])\n",
    "    paths_frames.sort_values('frame_file', inplace=True)\n",
    "\n",
    "    # figure out which frames we're missing\n",
    "    labels_vid = labels[labels['video'] == vid_name]\n",
    "\n",
    "    labels_vid = pd.merge(labels_vid,paths_frames,left_on='frame', right_on='frame_file',how='left')\n",
    "\n",
    "    print(len(labels_vid[labels_vid['frame_file'].isnull()]))\n",
    "    \n",
    "#     print(labels_vid[labels_vid['frame_file'].isnull()])"
   ]
  },
  {
   "cell_type": "markdown",
   "metadata": {},
   "source": [
    "# Plot frames with labels for a video"
   ]
  },
  {
   "cell_type": "code",
   "execution_count": 135,
   "metadata": {
    "ExecuteTime": {
     "end_time": "2019-01-14T14:38:11.415440Z",
     "start_time": "2019-01-14T14:38:11.408514Z"
    }
   },
   "outputs": [],
   "source": [
    "def plot_frames_with_labels(vid_name, index_to_start, index_to_end):\n",
    "    \"\"\"\n",
    "    Plot frames of video with label from index_to_start to index_to_end\n",
    "    \n",
    "    :video_name: name of video (matches folder containing video's frames in /data/)\n",
    "    :index_to_start: frame to start plotting from\n",
    "    :index_to_end: frame to end on\n",
    "    \"\"\"\n",
    "\n",
    "    assert (index_to_start<index_to_end), \"ERROR: must input index_to_end > index_to_start\"\n",
    "\n",
    "    path_video = path_data + vid_name + '/'\n",
    "\n",
    "    # convert list of frame files to dataframe\n",
    "    print(path_video)\n",
    "    paths_frames = os.listdir(path_video)\n",
    "    paths_frames = [f for f in paths_frames if f != '.DS_Store']\n",
    "    paths_frames = pd.DataFrame(paths_frames, columns = ['frame_file'])\n",
    "    paths_frames.sort_values('frame_file', inplace=True)\n",
    "    \n",
    "    assert (index_to_end <= len(paths_frames)), \"ERROR: index_to_end greater than number of frames\"\n",
    "    \n",
    "    # get labels for this vid\n",
    "    labels_vid = labels[labels['video'] == vid_name]\n",
    "    \n",
    "    for i,row in enumerate(labels_vid.values):\n",
    "        if i >= index_to_start and i <= index_to_end:\n",
    "            # get dict for df row\n",
    "            rr = dict(zip(labels_vid.columns, row))\n",
    "\n",
    "            # print label with plotted image\n",
    "            print(rr['label'], '\\t\\t', rr['frame'])\n",
    "            plt.imshow(Image.open(path_data + rr['video'] + '/' + rr['frame']))\n",
    "            plt.show()"
   ]
  },
  {
   "cell_type": "markdown",
   "metadata": {},
   "source": [
    "## plot first and last 3 frames with labels for each video"
   ]
  },
  {
   "cell_type": "code",
   "execution_count": 137,
   "metadata": {
    "ExecuteTime": {
     "end_time": "2019-01-14T14:38:25.401313Z",
     "start_time": "2019-01-14T14:38:25.397222Z"
    },
    "scrolled": false
   },
   "outputs": [],
   "source": [
    "# for path_video in paths_videos:\n",
    "#     vid_name = path_video[:-1].split(\"/\")[-1]\n",
    "#     print(\"XXXXXXXXXXXXXXXXXXXXXXXXXXXXXXXXXXXXXXX\")\n",
    "#     print(vid_name)\n",
    "#     print(\"XXXX FIRST 3\")\n",
    "#     plot_frames_with_labels(vid_name,0,2)\n",
    "#     print(\"XXXX LAST 3\")\n",
    "#     plot_frames_with_labels(vid_name,98,100)"
   ]
  },
  {
   "cell_type": "markdown",
   "metadata": {},
   "source": [
    "## plot frames with labels for a single video"
   ]
  },
  {
   "cell_type": "code",
   "execution_count": 144,
   "metadata": {
    "ExecuteTime": {
     "end_time": "2019-01-14T14:52:36.960091Z",
     "start_time": "2019-01-14T14:52:36.956976Z"
    },
    "scrolled": false
   },
   "outputs": [],
   "source": [
    "# start = 450\n",
    "# end = start + 5\n",
    "# plot_frames_with_labels(\"20150827_no8B_1\",start,end)"
   ]
  },
  {
   "cell_type": "markdown",
   "metadata": {},
   "source": [
    "# Checksum frames"
   ]
  },
  {
   "cell_type": "code",
   "execution_count": 160,
   "metadata": {
    "ExecuteTime": {
     "end_time": "2019-01-14T13:24:48.830322Z",
     "start_time": "2019-01-14T13:24:48.815021Z"
    }
   },
   "outputs": [],
   "source": [
    "def checksum_frames(vid_name, frame_start=0, num_frames=3):\n",
    "    \"\"\"\n",
    "    Check the sum of pixel values for a block of framess in a video. Useful to help debug frame extraction in the case it's done remotely and may not seem correct compared to a local extraction.\n",
    "    \n",
    "    :vid_name: name of video to run checksum on\n",
    "    :frame_start: frame to start checksum on\n",
    "    :num_frames: number of frames to include in the checksum\n",
    "    \"\"\"\n",
    "    # convert list of  frame files to dataframe\n",
    "    paths_frames = os.listdir(path_data + vid_name)\n",
    "    paths_frames = [f for f in paths_frames if f != '.DS_Store']\n",
    "    paths_frames = pd.DataFrame(paths_frames, columns = ['frame_file'])\n",
    "    paths_frames.sort_values('frame_file', inplace=True)\n",
    "    paths_frames = list(paths_frames['frame_file'])\n",
    "\n",
    "    checksum = 0\n",
    "    for i in range(0,num_frames):\n",
    "        # load image and add sum of pixels to checksum\n",
    "        img = Image.open(path_data + vid_name + '/' + paths_frames[frame_start+i])\n",
    "        checksum +=np.array(img).sum()\n",
    "        \n",
    "    return checksum"
   ]
  },
  {
   "cell_type": "code",
   "execution_count": 157,
   "metadata": {
    "ExecuteTime": {
     "end_time": "2019-01-14T13:23:33.543401Z",
     "start_time": "2019-01-14T13:23:31.419427Z"
    },
    "collapsed": true
   },
   "outputs": [],
   "source": [
    "# list of video:checksum dicts \n",
    "checksums = []\n",
    "vids = []\n",
    "for video_path in paths_videos:\n",
    "    vid_name = video_path[:-1].split(\"/\")[-1]\n",
    "    checksums.append(checksum_frames(vid_name,0,3))\n",
    "    vids.append(vid_name)"
   ]
  },
  {
   "cell_type": "code",
   "execution_count": 158,
   "metadata": {
    "ExecuteTime": {
     "end_time": "2019-01-14T13:23:33.550602Z",
     "start_time": "2019-01-14T13:23:33.545758Z"
    }
   },
   "outputs": [],
   "source": [
    "# convert to dataframe\n",
    "checksums = pd.DataFrame({\"video\":vids,\"checksum\":checksums})"
   ]
  },
  {
   "cell_type": "code",
   "execution_count": 159,
   "metadata": {
    "ExecuteTime": {
     "end_time": "2019-01-14T13:23:33.560341Z",
     "start_time": "2019-01-14T13:23:33.554030Z"
    },
    "collapsed": true
   },
   "outputs": [],
   "source": [
    "checksums.to_csv(pwd + \"checksums.csv\")"
   ]
  },
  {
   "cell_type": "markdown",
   "metadata": {},
   "source": [
    "# Clean up labels"
   ]
  },
  {
   "cell_type": "markdown",
   "metadata": {
    "heading_collapsed": true
   },
   "source": [
    "## delete video from labels file"
   ]
  },
  {
   "cell_type": "code",
   "execution_count": 361,
   "metadata": {
    "ExecuteTime": {
     "end_time": "2019-01-13T21:58:28.501732Z",
     "start_time": "2019-01-13T21:58:28.313807Z"
    },
    "hidden": true
   },
   "outputs": [
    {
     "name": "stdout",
     "output_type": "stream",
     "text": [
      "(74507, 3)\n",
      "(70964, 3)\n"
     ]
    }
   ],
   "source": [
    "# # run cell to remove a video from labels and update labels.csv\n",
    "# print(labels.shape)\n",
    "# video_to_remove_from_labels = '20160929_no9_3'\n",
    "# labels = labels[labels['video'] != video_to_remove_from_labels]\n",
    "# labels.to_csv(path_data + 'labels.csv', index=False)\n",
    "# print(labels.shape)\n",
    "\n",
    "# # reload labels file\n",
    "# labels = pd.read_csv(path_data + 'labels.csv')\n",
    "# labels.head()\n",
    "# print(labels.shape)"
   ]
  },
  {
   "cell_type": "markdown",
   "metadata": {},
   "source": [
    "## delete section of video from labels file"
   ]
  },
  {
   "cell_type": "code",
   "execution_count": null,
   "metadata": {},
   "outputs": [],
   "source": [
    "# vid_name = '20160930_no8_3''\n",
    "# start_frame = 557 # will delete frames greater than this\n",
    "# print(labels.shape)\n",
    "# labels['frameid'] = labels['frame'].str.split(\".\").str.get(0).str.split(\"_\").str.get(-1).astype(int)\n",
    "# labels = labels[~((labels['video'] == vid_name) & (labels['frameid'] > start_frame))]\n",
    "# del labels['frameid']\n",
    "# labels.to_csv(path_data + 'labels.csv', index=False)\n",
    "# print(labels.shape)"
   ]
  },
  {
   "cell_type": "markdown",
   "metadata": {},
   "source": [
    "## delete frames on disk not in labels file for a video"
   ]
  },
  {
   "cell_type": "code",
   "execution_count": 77,
   "metadata": {
    "ExecuteTime": {
     "end_time": "2019-01-14T14:15:01.688292Z",
     "start_time": "2019-01-14T14:15:01.684897Z"
    }
   },
   "outputs": [],
   "source": [
    "# vid_name = '20160930_no8_1'\n",
    "\n",
    "# frames_in_labels= list(labels[labels['video'] == vid_name]['frame'].values)\n",
    "\n",
    "# paths_frames = os.listdir(path_data + vid_name)\n",
    "# paths_frames = [f for f in paths_frames if f != '.DS_Store']\n",
    "# paths_frames.sort()\n",
    "\n",
    "# for path_frame in paths_frames:\n",
    "#     if path_frame not in frames_in_labels:\n",
    "#         path_frame_full = path_data + vid_name + '/' + path_frame\n",
    "#         print(\"Deleting frame {}\".format(path_frame_full))\n",
    "#         os.remove(path_frame_full)"
   ]
  }
 ],
 "metadata": {
  "kernelspec": {
   "display_name": "Python 3",
   "language": "python",
   "name": "python3"
  },
  "language_info": {
   "codemirror_mode": {
    "name": "ipython",
    "version": 3
   },
   "file_extension": ".py",
   "mimetype": "text/x-python",
   "name": "python",
   "nbconvert_exporter": "python",
   "pygments_lexer": "ipython3",
   "version": "3.5.3"
  }
 },
 "nbformat": 4,
 "nbformat_minor": 2
}
