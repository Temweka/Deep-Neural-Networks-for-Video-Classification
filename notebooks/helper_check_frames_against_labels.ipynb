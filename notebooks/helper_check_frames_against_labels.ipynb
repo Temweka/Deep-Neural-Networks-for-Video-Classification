{
 "cells": [
  {
   "cell_type": "markdown",
   "metadata": {},
   "source": [
    "# Instructions"
   ]
  },
  {
   "cell_type": "markdown",
   "metadata": {
    "ExecuteTime": {
     "end_time": "2019-01-13T13:07:22.858091Z",
     "start_time": "2019-01-13T13:07:22.845421Z"
    }
   },
   "source": [
    "\n",
    "Check frames in `data/*vid_name*/` folders match `data/labels.csv` file.\n",
    "\n",
    "You need 1:1 mapping between frame files and rows of `labels.csv` or the rest of the code in this package won't run. \n",
    "\n",
    "A mismatch might be caused by a difference in FPS in labels vs extracted frames, an issue in frame extraction or an issue in your labels file.\n",
    "\n",
    "This notebook will do the check and help debug a mismatch between frame files and `labels.csv`\n",
    "\n",
    "Note: Your labels might be out by 1 or 2 frames due to the granularity of your labels vs FPS - the easiest solution is to delete those extra frames manually"
   ]
  },
  {
   "cell_type": "markdown",
   "metadata": {},
   "source": [
    "# Setup"
   ]
  },
  {
   "cell_type": "code",
   "execution_count": 2,
   "metadata": {
    "ExecuteTime": {
     "end_time": "2020-04-07T08:24:34.855490Z",
     "start_time": "2020-04-07T08:24:33.934721Z"
    }
   },
   "outputs": [],
   "source": [
    "import numpy as np\n",
    "import cv2\n",
    "from time import time as timer\n",
    "import sys\n",
    "import os\n",
    "import pandas as pd\n",
    "import matplotlib.pyplot as plt\n",
    "from PIL import Image\n",
    "%matplotlib inline"
   ]
  },
  {
   "cell_type": "code",
   "execution_count": 3,
   "metadata": {
    "ExecuteTime": {
     "end_time": "2020-04-07T08:24:34.860150Z",
     "start_time": "2020-04-07T08:24:34.857440Z"
    }
   },
   "outputs": [],
   "source": [
    "# setup paths\n",
    "pwd = os.getcwd().replace(\"notebooks\",\"\")\n",
    "path_videos = pwd + 'videos/'\n",
    "path_data = pwd + 'data/'"
   ]
  },
  {
   "cell_type": "code",
   "execution_count": 4,
   "metadata": {
    "ExecuteTime": {
     "end_time": "2020-04-07T08:24:34.866924Z",
     "start_time": "2020-04-07T08:24:34.862059Z"
    }
   },
   "outputs": [],
   "source": [
    "# read frames paths\n",
    "paths_videos = os.listdir(path_data)\n",
    "paths_videos = [path_data + v + '/' for v in paths_videos if v != '.DS_Store' and v != 'labels.csv']\n",
    "paths_videos.sort()"
   ]
  },
  {
   "cell_type": "markdown",
   "metadata": {},
   "source": [
    "# Check we have a 1:1 mapping between labels and frames"
   ]
  },
  {
   "cell_type": "code",
   "execution_count": 5,
   "metadata": {
    "ExecuteTime": {
     "end_time": "2020-04-07T08:24:35.786138Z",
     "start_time": "2020-04-07T08:24:35.782655Z"
    }
   },
   "outputs": [],
   "source": [
    "if not os.path.exists(pwd + 'data/labels.csv'):\n",
    "    print(\"ERROR: labels.csv missing - please copy labels.csv to /data/labels.csv\")\n",
    "    print()\n",
    "    print(\"Sample label file below:\")    \n",
    "    print(\"\"\"video\\t\\t\\tframe \\t\\t\\t\\t label\n",
    "    20160801_no9_1\\t\\t20160801_no9_1_00001.jpeg\tsearch\n",
    "    20160801_no9_1\\t\\t20160801_no9_1_00002.jpeg\tsearch\n",
    "    ...\"\"\")\n",
    "    print()\n",
    "    print(\"Note you also need a 'split' column that assigns videos to train/valid/test splits - can use /notebooks/helper_add_train_valid_test_splits_to_labels.ipynb to add splits\")"
   ]
  },
  {
   "cell_type": "code",
   "execution_count": 6,
   "metadata": {
    "ExecuteTime": {
     "end_time": "2020-04-07T08:24:44.134153Z",
     "start_time": "2020-04-07T08:24:44.091723Z"
    }
   },
   "outputs": [],
   "source": [
    "# load labels\n",
    "labels = pd.read_csv(path_data + 'labels.csv')"
   ]
  },
  {
   "cell_type": "code",
   "execution_count": 7,
   "metadata": {
    "ExecuteTime": {
     "end_time": "2020-04-07T08:24:45.035723Z",
     "start_time": "2020-04-07T08:24:45.010767Z"
    }
   },
   "outputs": [],
   "source": [
    "labels['frame'] = labels['frame'].str.replace('.jpeg','.jpg')"
   ]
  },
  {
   "cell_type": "code",
   "execution_count": 8,
   "metadata": {
    "ExecuteTime": {
     "end_time": "2020-04-07T08:24:46.305023Z",
     "start_time": "2020-04-07T08:24:46.287610Z"
    }
   },
   "outputs": [
    {
     "data": {
      "text/html": [
       "<div>\n",
       "<style scoped>\n",
       "    .dataframe tbody tr th:only-of-type {\n",
       "        vertical-align: middle;\n",
       "    }\n",
       "\n",
       "    .dataframe tbody tr th {\n",
       "        vertical-align: top;\n",
       "    }\n",
       "\n",
       "    .dataframe thead th {\n",
       "        text-align: right;\n",
       "    }\n",
       "</style>\n",
       "<table border=\"1\" class=\"dataframe\">\n",
       "  <thead>\n",
       "    <tr style=\"text-align: right;\">\n",
       "      <th></th>\n",
       "      <th>video</th>\n",
       "      <th>frame</th>\n",
       "      <th>label</th>\n",
       "      <th>split</th>\n",
       "    </tr>\n",
       "  </thead>\n",
       "  <tbody>\n",
       "    <tr>\n",
       "      <th>0</th>\n",
       "      <td>s1-218</td>\n",
       "      <td>s1-218-00001.jpg</td>\n",
       "      <td>noseal</td>\n",
       "      <td>valid</td>\n",
       "    </tr>\n",
       "    <tr>\n",
       "      <th>1</th>\n",
       "      <td>s1-218</td>\n",
       "      <td>s1-218-00002.jpg</td>\n",
       "      <td>noseal</td>\n",
       "      <td>valid</td>\n",
       "    </tr>\n",
       "    <tr>\n",
       "      <th>2</th>\n",
       "      <td>s1-218</td>\n",
       "      <td>s1-218-00003.jpg</td>\n",
       "      <td>noseal</td>\n",
       "      <td>valid</td>\n",
       "    </tr>\n",
       "    <tr>\n",
       "      <th>3</th>\n",
       "      <td>s1-218</td>\n",
       "      <td>s1-218-00004.jpg</td>\n",
       "      <td>noseal</td>\n",
       "      <td>valid</td>\n",
       "    </tr>\n",
       "    <tr>\n",
       "      <th>4</th>\n",
       "      <td>s1-218</td>\n",
       "      <td>s1-218-00005.jpg</td>\n",
       "      <td>noseal</td>\n",
       "      <td>valid</td>\n",
       "    </tr>\n",
       "  </tbody>\n",
       "</table>\n",
       "</div>"
      ],
      "text/plain": [
       "    video             frame   label  split\n",
       "0  s1-218  s1-218-00001.jpg  noseal  valid\n",
       "1  s1-218  s1-218-00002.jpg  noseal  valid\n",
       "2  s1-218  s1-218-00003.jpg  noseal  valid\n",
       "3  s1-218  s1-218-00004.jpg  noseal  valid\n",
       "4  s1-218  s1-218-00005.jpg  noseal  valid"
      ]
     },
     "execution_count": 8,
     "metadata": {},
     "output_type": "execute_result"
    }
   ],
   "source": [
    "labels.head()"
   ]
  },
  {
   "cell_type": "code",
   "execution_count": 10,
   "metadata": {
    "ExecuteTime": {
     "end_time": "2020-04-07T08:25:02.879322Z",
     "start_time": "2020-04-07T08:25:02.772023Z"
    }
   },
   "outputs": [
    {
     "name": "stdout",
     "output_type": "stream",
     "text": [
      "ERRORS: 0 VIDS WITH #LABELS != #FRAMES\n",
      "\n",
      "\n",
      "OK: 46 VIDS WITH #LABELS == #FRAMES\n",
      "s1-218 .::. Same number of labels and frames for vid\n",
      "s10-6558 .::. Same number of labels and frames for vid\n",
      "s11-7363 .::. Same number of labels and frames for vid\n",
      "s12-3465 .::. Same number of labels and frames for vid\n",
      "s13-14 .::. Same number of labels and frames for vid\n",
      "s14-1705 .::. Same number of labels and frames for vid\n",
      "s15-2589 .::. Same number of labels and frames for vid\n",
      "s16-0 .::. Same number of labels and frames for vid\n",
      "s17-2973 .::. Same number of labels and frames for vid\n",
      "s18-630 .::. Same number of labels and frames for vid\n",
      "s19-672 .::. Same number of labels and frames for vid\n",
      "s2-1133 .::. Same number of labels and frames for vid\n",
      "s20-842 .::. Same number of labels and frames for vid\n",
      "s21-919 .::. Same number of labels and frames for vid\n",
      "s22-3733 .::. Same number of labels and frames for vid\n",
      "s23-4847 .::. Same number of labels and frames for vid\n",
      "s24-5851 .::. Same number of labels and frames for vid\n",
      "s25-5886 .::. Same number of labels and frames for vid\n",
      "s26-8164 .::. Same number of labels and frames for vid\n",
      "s27-8212 .::. Same number of labels and frames for vid\n",
      "s28-20 .::. Same number of labels and frames for vid\n",
      "s29-316 .::. Same number of labels and frames for vid\n",
      "s3-1993 .::. Same number of labels and frames for vid\n",
      "s30-516 .::. Same number of labels and frames for vid\n",
      "s31-784 .::. Same number of labels and frames for vid\n",
      "s32-3110 .::. Same number of labels and frames for vid\n",
      "s33-3405 .::. Same number of labels and frames for vid\n",
      "s34-3590 .::. Same number of labels and frames for vid\n",
      "s35-3664 .::. Same number of labels and frames for vid\n",
      "s36-3838 .::. Same number of labels and frames for vid\n",
      "s37-3930 .::. Same number of labels and frames for vid\n",
      "s38-4060 .::. Same number of labels and frames for vid\n",
      "s39-4336 .::. Same number of labels and frames for vid\n",
      "s4-6975 .::. Same number of labels and frames for vid\n",
      "s40-4508 .::. Same number of labels and frames for vid\n",
      "s41-4712 .::. Same number of labels and frames for vid\n",
      "s42-4950 .::. Same number of labels and frames for vid\n",
      "s43-5211 .::. Same number of labels and frames for vid\n",
      "s44-5304 .::. Same number of labels and frames for vid\n",
      "s45-6301 .::. Same number of labels and frames for vid\n",
      "s46-8087 .::. Same number of labels and frames for vid\n",
      "s5-1102 .::. Same number of labels and frames for vid\n",
      "s6-1247 .::. Same number of labels and frames for vid\n",
      "s7-2029 .::. Same number of labels and frames for vid\n",
      "s8-2244 .::. Same number of labels and frames for vid\n",
      "s9-5491 .::. Same number of labels and frames for vid\n"
     ]
    }
   ],
   "source": [
    "vids_error = []\n",
    "vids_ok = []\n",
    "\n",
    "# for path_video in paths_videos:    \n",
    "for path_video in paths_videos:\n",
    "\n",
    "    # get vid name from path\n",
    "    vid_name = path_video[:-1].split(\"/\")[-1]\n",
    "\n",
    "    # convert list of frame files to dataframe\n",
    "    paths_frames = os.listdir(path_video)\n",
    "    paths_frames = [f for f in paths_frames if f != '.DS_Store']\n",
    "    paths_frames = pd.DataFrame(paths_frames, columns = ['frame_file'])\n",
    "\n",
    "    # subset labels to just this vid\n",
    "    labels_vid = labels[labels['video'] == vid_name]\n",
    "\n",
    "    # collect errors so can print grouped\n",
    "    if not len(labels_vid) == len(paths_frames):\n",
    "        vids_error.append(\"{} .::. Different number of labels ({}) than frames ({}) ... DIFF: {} \".format(vid_name, len(labels_vid),len(paths_frames), len(labels_vid) - len(paths_frames)))\n",
    "    else:\n",
    "        vids_ok.append(\"{} .::. Same number of labels and frames for vid\".format(vid_name))\n",
    "\n",
    "# print errors\n",
    "print(\"ERRORS: {} VIDS WITH #LABELS != #FRAMES\".format(len(vids_error)))\n",
    "for msg in vids_error:\n",
    "    print(msg)\n",
    "\n",
    "print(\"\\n\")\n",
    "print(\"OK: {} VIDS WITH #LABELS == #FRAMES\".format(len(vids_ok)))\n",
    "for msg in vids_ok:\n",
    "    print(msg)"
   ]
  },
  {
   "cell_type": "code",
   "execution_count": 11,
   "metadata": {
    "ExecuteTime": {
     "end_time": "2020-04-07T08:25:05.404004Z",
     "start_time": "2020-04-07T08:25:05.399703Z"
    }
   },
   "outputs": [],
   "source": [
    "assert labels['video'].nunique() == len(paths_videos), \"Different number of videos in labels file than /data/\""
   ]
  },
  {
   "cell_type": "markdown",
   "metadata": {},
   "source": [
    "# Find missing frames for a video"
   ]
  },
  {
   "cell_type": "markdown",
   "metadata": {},
   "source": [
    "> this function will output any frames in the dataset that do not have labels"
   ]
  },
  {
   "cell_type": "code",
   "execution_count": 12,
   "metadata": {
    "ExecuteTime": {
     "end_time": "2020-04-07T08:25:18.268669Z",
     "start_time": "2020-04-07T08:25:18.263980Z"
    }
   },
   "outputs": [],
   "source": [
    "# for path_video in paths_videos:    \n",
    "for vid_error in vids_error:\n",
    "\n",
    "    # get vid name from path\n",
    "    vid_name = vid_error.split(\" .::.\")[0]\n",
    "    print(vid_name)\n",
    "\n",
    "    # convert list of frame files to dataframe\n",
    "    paths_frames = os.listdir(path_data+vid_name)\n",
    "    paths_frames = [f for f in paths_frames if f != '.DS_Store']\n",
    "    paths_frames = pd.DataFrame(paths_frames, columns = ['frame_file'])\n",
    "    paths_frames.sort_values('frame_file', inplace=True)\n",
    "\n",
    "    # figure out which frames we're missing\n",
    "    labels_vid = labels[labels['video'] == vid_name]\n",
    "\n",
    "    labels_vid = pd.merge(labels_vid,paths_frames,left_on='frame', right_on='frame_file',how='left')\n",
    "\n",
    "    print(len(labels_vid[labels_vid['frame_file'].isnull()]))\n",
    "    \n",
    "#     print(labels_vid[labels_vid['frame_file'].isnull()])"
   ]
  },
  {
   "cell_type": "code",
   "execution_count": null,
   "metadata": {},
   "outputs": [],
   "source": []
  }
 ],
 "metadata": {
  "kernelspec": {
   "display_name": "Python 3",
   "language": "python",
   "name": "python3"
  },
  "language_info": {
   "codemirror_mode": {
    "name": "ipython",
    "version": 3
   },
   "file_extension": ".py",
   "mimetype": "text/x-python",
   "name": "python",
   "nbconvert_exporter": "python",
   "pygments_lexer": "ipython3",
   "version": "3.5.3"
  }
 },
 "nbformat": 4,
 "nbformat_minor": 2
}
