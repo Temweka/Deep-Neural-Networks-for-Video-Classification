{
 "cells": [
  {
   "cell_type": "markdown",
   "metadata": {},
   "source": [
    "# Instructions"
   ]
  },
  {
   "cell_type": "markdown",
   "metadata": {
    "ExecuteTime": {
     "end_time": "2019-01-12T13:50:12.447437Z",
     "start_time": "2019-01-12T13:50:12.442304Z"
    }
   },
   "source": [
    "Create `data/*vid_name*/` folder with frames for each video in videos and verify the created frames match your `data/labels.csv` file.\n",
    "\n",
    "e.g. `/videos/video_1.MOV` will be converted to `/data/video_1_000001.jpg`, etc.\n",
    "\n",
    "Note: depending on chosen `FPS_OUTPUT`, you may have to extend the number \n",
    "of digits in filename from 06 to something bigger like 09, just update the line in this script that says `_%06d.jpg`\n",
    "\n",
    "Your `labels.csv` file must have frame filenames at the same FPS as the frame files in `/data/`.\n",
    "You can use `notebooks/helper_convert_timestamps_file_to_labels.ipynb` to assist in converting `video,timestamp1,timestamp2,label` style data into `labels.csv`\n",
    "\n",
    "You can use `notebooks/helper_check_frames_against_labels.ipynb` to more deeply investigate a mismatch between frame files and `labels.csv`...\n",
    "\n",
    "(You could alternatively use the command line tool `ffmpeg` to extract frames instead of this notebook)"
   ]
  },
  {
   "cell_type": "markdown",
   "metadata": {},
   "source": [
    "# Setup"
   ]
  },
  {
   "cell_type": "code",
   "execution_count": 5,
   "metadata": {
    "ExecuteTime": {
     "end_time": "2019-01-13T13:53:21.303083Z",
     "start_time": "2019-01-13T13:53:21.299870Z"
    }
   },
   "outputs": [],
   "source": [
    "# define FPS to extract frames at\n",
    "FPS_OUTPUT = 2"
   ]
  },
  {
   "cell_type": "code",
   "execution_count": 1,
   "metadata": {
    "ExecuteTime": {
     "end_time": "2019-01-13T13:51:54.083509Z",
     "start_time": "2019-01-13T13:51:53.746450Z"
    }
   },
   "outputs": [],
   "source": [
    "import numpy as np\n",
    "import cv2\n",
    "from time import time as timer\n",
    "import sys\n",
    "import os\n",
    "import pandas as pd"
   ]
  },
  {
   "cell_type": "code",
   "execution_count": 2,
   "metadata": {
    "ExecuteTime": {
     "end_time": "2019-01-13T13:52:52.026237Z",
     "start_time": "2019-01-13T13:52:52.022081Z"
    }
   },
   "outputs": [],
   "source": [
    "# setup paths\n",
    "pwd = os.getcwd().replace(\"notebooks\",\"\")\n",
    "path_videos = pwd + 'videos/'\n",
    "path_data = pwd + 'data/'"
   ]
  },
  {
   "cell_type": "code",
   "execution_count": 3,
   "metadata": {
    "ExecuteTime": {
     "end_time": "2019-01-13T13:52:52.484245Z",
     "start_time": "2019-01-13T13:52:52.470690Z"
    }
   },
   "outputs": [
    {
     "data": {
      "text/plain": [
       "['/mnt/seals/videos/20161014_no8_3.MOV',\n",
       " '/mnt/seals/videos/20161014_no8_1.MOV',\n",
       " '/mnt/seals/videos/20161014_no8_2.MOV']"
      ]
     },
     "execution_count": 3,
     "metadata": {},
     "output_type": "execute_result"
    }
   ],
   "source": [
    "# read video paths\n",
    "paths = os.listdir(path_videos)\n",
    "paths = [path_videos + v for v in paths if v != '.DS_Store']\n",
    "paths"
   ]
  },
  {
   "cell_type": "markdown",
   "metadata": {},
   "source": [
    "# Extract Frames from Videos"
   ]
  },
  {
   "cell_type": "code",
   "execution_count": 6,
   "metadata": {
    "ExecuteTime": {
     "end_time": "2019-01-13T13:56:12.326587Z",
     "start_time": "2019-01-13T13:53:23.408285Z"
    }
   },
   "outputs": [
    {
     "name": "stdout",
     "output_type": "stream",
     "text": [
      "20161014_no8_3\n",
      "Frames already extracted from video 1/3\n",
      "20161014_no8_1\n",
      "Extracting frames from video 2/3: 20161014_no8_1\n",
      "video FPS 29.818863446461272\n",
      "20161014_no8_2\n",
      "Extracting frames from video 3/3: 20161014_no8_2\n",
      "video FPS 29.8181915800353\n",
      "Done extracting frames from 3 videos\n"
     ]
    }
   ],
   "source": [
    "# create data folder\n",
    "if not os.path.exists(path_data):\n",
    "    os.makedirs(path_data)\n",
    "\n",
    "for c, path in enumerate(paths):\n",
    "\n",
    "    # extract video filename from path\n",
    "    filename = path.split(\"/\")[-1].split(\".\")[0]\n",
    "    print(filename)\n",
    "\n",
    "    if not os.path.exists(path_data + filename):\n",
    "\n",
    "        print(\"Extracting frames from video {}/{}: {}\".format(c+1,len(paths),filename))\n",
    "\n",
    "        # create directory for this video's frames\n",
    "        os.makedirs(path_data + filename)\n",
    "\n",
    "        # open video\n",
    "        vidcap = cv2.VideoCapture(path)\n",
    "\n",
    "        # get fps\n",
    "        print(\"video FPS {}\".format(vidcap.get(cv2.CAP_PROP_FPS)))\n",
    "        fps = vidcap.get(cv2.CAP_PROP_FPS)\n",
    "        fps_savecheck = fps/FPS_OUTPUT\n",
    "\n",
    "        # read frames and save to images at fps_save\n",
    "        success,image = vidcap.read()\n",
    "        count_frame = 0\n",
    "        count_saved = 0\n",
    "        success = True\n",
    "\n",
    "        fps_savecheck_progress = 0\n",
    "\n",
    "        while success:\n",
    "            # save frame at desired framerate, indexing filename from 0\n",
    "            if count_frame > fps_savecheck_progress:\n",
    "                cv2.imwrite(path_data + filename + '/' + filename + \"_%06d.jpg\" % count_saved, image)\n",
    "                fps_savecheck_progress += fps_savecheck\n",
    "                count_saved += 1\n",
    "            success,image = vidcap.read()\n",
    "            count_frame += 1\n",
    "\n",
    "        # close video file\n",
    "        vidcap.release()\n",
    "        \n",
    "    else:\n",
    "        print(\"Frames already extracted from video {}/{}\".format(c+1,len(paths)))\n",
    "\n",
    "# Done\n",
    "print(\"Done extracting frames from {} videos\".format(len(paths)))"
   ]
  },
  {
   "cell_type": "markdown",
   "metadata": {},
   "source": [
    "# Verify Frames Match Labels.csv"
   ]
  },
  {
   "cell_type": "code",
   "execution_count": 11,
   "metadata": {
    "ExecuteTime": {
     "end_time": "2019-01-12T13:10:05.255568Z",
     "start_time": "2019-01-12T13:10:05.251245Z"
    }
   },
   "outputs": [],
   "source": [
    "if not os.path.exists(pwd + 'data/labels.csv'):\n",
    "    print(\"ERROR: labels.csv missing - please copy labels.csv to /data/labels.csv\")\n",
    "    print()\n",
    "    print(\"Sample label file below:\")    \n",
    "    print(\"\"\"video\\t\\t\\tframe \\t\\t\\t\\t label\n",
    "    20160801_no9_1\\t\\t20160801_no9_1_00001.jpeg\tsearch\n",
    "    20160801_no9_1\\t\\t20160801_no9_1_00002.jpeg\tsearch\n",
    "    ...\"\"\")\n",
    "    print()\n",
    "    print(\"Note you also need a 'split' column that assigns videos to train/valid/test splits - can use /notebooks/helper_add_train_valid_test_splits_to_labels.ipynb to add splits\")"
   ]
  },
  {
   "cell_type": "code",
   "execution_count": 12,
   "metadata": {
    "ExecuteTime": {
     "end_time": "2019-01-12T13:10:05.920701Z",
     "start_time": "2019-01-12T13:10:05.814381Z"
    }
   },
   "outputs": [],
   "source": [
    "# load labels\n",
    "labels = pd.read_csv(path_data + 'labels.csv')"
   ]
  },
  {
   "cell_type": "code",
   "execution_count": 13,
   "metadata": {
    "ExecuteTime": {
     "end_time": "2019-01-12T13:10:06.505145Z",
     "start_time": "2019-01-12T13:10:06.464228Z"
    }
   },
   "outputs": [
    {
     "data": {
      "text/html": [
       "<div>\n",
       "<style scoped>\n",
       "    .dataframe tbody tr th:only-of-type {\n",
       "        vertical-align: middle;\n",
       "    }\n",
       "\n",
       "    .dataframe tbody tr th {\n",
       "        vertical-align: top;\n",
       "    }\n",
       "\n",
       "    .dataframe thead th {\n",
       "        text-align: right;\n",
       "    }\n",
       "</style>\n",
       "<table border=\"1\" class=\"dataframe\">\n",
       "  <thead>\n",
       "    <tr style=\"text-align: right;\">\n",
       "      <th></th>\n",
       "      <th>video</th>\n",
       "      <th>frame</th>\n",
       "      <th>label</th>\n",
       "    </tr>\n",
       "  </thead>\n",
       "  <tbody>\n",
       "    <tr>\n",
       "      <th>0</th>\n",
       "      <td>20160801_no9_1</td>\n",
       "      <td>20160801_no9_1_00001.jpeg</td>\n",
       "      <td>search</td>\n",
       "    </tr>\n",
       "    <tr>\n",
       "      <th>1</th>\n",
       "      <td>20160801_no9_1</td>\n",
       "      <td>20160801_no9_1_00002.jpeg</td>\n",
       "      <td>search</td>\n",
       "    </tr>\n",
       "    <tr>\n",
       "      <th>2</th>\n",
       "      <td>20160801_no9_1</td>\n",
       "      <td>20160801_no9_1_00003.jpeg</td>\n",
       "      <td>search</td>\n",
       "    </tr>\n",
       "    <tr>\n",
       "      <th>3</th>\n",
       "      <td>20160801_no9_1</td>\n",
       "      <td>20160801_no9_1_00004.jpeg</td>\n",
       "      <td>search</td>\n",
       "    </tr>\n",
       "    <tr>\n",
       "      <th>4</th>\n",
       "      <td>20160801_no9_1</td>\n",
       "      <td>20160801_no9_1_00005.jpeg</td>\n",
       "      <td>search</td>\n",
       "    </tr>\n",
       "  </tbody>\n",
       "</table>\n",
       "</div>"
      ],
      "text/plain": [
       "            video                      frame   label\n",
       "0  20160801_no9_1  20160801_no9_1_00001.jpeg  search\n",
       "1  20160801_no9_1  20160801_no9_1_00002.jpeg  search\n",
       "2  20160801_no9_1  20160801_no9_1_00003.jpeg  search\n",
       "3  20160801_no9_1  20160801_no9_1_00004.jpeg  search\n",
       "4  20160801_no9_1  20160801_no9_1_00005.jpeg  search"
      ]
     },
     "execution_count": 13,
     "metadata": {},
     "output_type": "execute_result"
    }
   ],
   "source": [
    "labels.head()"
   ]
  },
  {
   "cell_type": "code",
   "execution_count": 14,
   "metadata": {
    "ExecuteTime": {
     "end_time": "2019-01-12T13:10:08.797281Z",
     "start_time": "2019-01-12T13:10:08.453056Z"
    }
   },
   "outputs": [
    {
     "name": "stdout",
     "output_type": "stream",
     "text": [
      "ERRORS: 21 VIDS WITH #LABELS != #FRAMES\n",
      "20160930_no8_4 - Different number of labels (2814) than frames (2816) ... DIFF: -2 \n",
      "20160929_no9_3 - Different number of labels (3634) than frames (3600) ... DIFF: 34 \n",
      "20160819_no9_3 - Different number of labels (3598) than frames (3600) ... DIFF: -2 \n",
      "20160812_no9_2 - Different number of labels (548) than frames (563) ... DIFF: -15 \n",
      "20160929_no9_2 - Different number of labels (260) than frames (602) ... DIFF: -342 \n",
      "20150827_no8B_3 - Different number of labels (3240) than frames (3241) ... DIFF: -1 \n",
      "20160819_no9_2 - Different number of labels (576) than frames (558) ... DIFF: 18 \n",
      "20150820_no8B_1 - Different number of labels (3698) than frames (3600) ... DIFF: 98 \n",
      "20160802_no8_3 - Different number of labels (2702) than frames (2703) ... DIFF: -1 \n",
      "20150827_no8B_2 - Different number of labels (580) than frames (566) ... DIFF: 14 \n",
      "20160929_no9_4 - Different number of labels (3548) than frames (2816) ... DIFF: 732 \n",
      "20160802_no8_2 - Different number of labels (608) than frames (610) ... DIFF: -2 \n",
      "20161005_no9_2 - Different number of labels (578) than frames (560) ... DIFF: 18 \n",
      "20150820_no9W_2 - Different number of labels (600) than frames (612) ... DIFF: -12 \n",
      "20160930_no8_2 - Different number of labels (0) than frames (602) ... DIFF: -602 \n",
      "20150807_no8B_1 - Different number of labels (3138) than frames (3139) ... DIFF: -1 \n",
      "20150820_no8B_3 - Different number of labels (3406) than frames (3407) ... DIFF: -1 \n",
      "20160819_no9_5 - Different number of labels (766) than frames (768) ... DIFF: -2 \n",
      "20150820_no8B_2 - Different number of labels (568) than frames (570) ... DIFF: -2 \n",
      "20160930_no8_1 - Different number of labels (3530) than frames (3600) ... DIFF: -70 \n",
      "20161005_no9_5 - Different number of labels (446) than frames (448) ... DIFF: -2 \n",
      "\n",
      "\n",
      "OK: 14 VIDS WITH #LABELS != #FRAMES\n",
      "20160802_no8_1 - Same number of labels and frames for vid\n",
      "20160812_no9_3 - Same number of labels and frames for vid\n",
      "20150820_no9W_3 - Same number of labels and frames for vid\n",
      "20150827_no8B_1 - Same number of labels and frames for vid\n",
      "20160801_no9_2 - Same number of labels and frames for vid\n",
      "20160819_no9_4 - Same number of labels and frames for vid\n",
      "20161005_no9_4 - Same number of labels and frames for vid\n",
      "20160801_no9_1 - Same number of labels and frames for vid\n",
      "20161005_no9_1 - Same number of labels and frames for vid\n",
      "20161005_no9_3 - Same number of labels and frames for vid\n",
      "20160930_no8_3 - Same number of labels and frames for vid\n",
      "20160819_no9_1 - Same number of labels and frames for vid\n",
      "20160812_no9_1 - Same number of labels and frames for vid\n",
      "20150820_no9W_1 - Same number of labels and frames for vid\n"
     ]
    }
   ],
   "source": [
    "# read frames paths\n",
    "paths_videos = os.listdir(path_data)\n",
    "paths_videos = [path_data + v + '/' for v in paths_videos if v != '.DS_Store' and v != 'labels.csv']\n",
    "\n",
    "vids_error = []\n",
    "vids_ok = []\n",
    "\n",
    "# for path_video in paths_videos:    \n",
    "for path_video in paths_videos:\n",
    "\n",
    "    # get vid name from path\n",
    "    vid_name = path_video[:-1].split(\"/\")[-1]\n",
    "\n",
    "    # convert list of frame files to dataframe\n",
    "    paths_frames = os.listdir(path_video)\n",
    "    paths_frames = [f for f in paths_frames if f != '.DS_Store']\n",
    "    paths_frames = pd.DataFrame(paths_frames, columns = ['frame_file'])\n",
    "\n",
    "    # subset labels to just this vid\n",
    "    labels_vid = labels[labels['video'] == vid_name]\n",
    "\n",
    "    # collect errors so can print grouped\n",
    "    if not len(labels_vid) == len(paths_frames):\n",
    "        vids_error.append(\"{} - Different number of labels ({}) than frames ({}) ... DIFF: {} \".format(vid_name, len(labels_vid),len(paths_frames), len(labels_vid) - len(paths_frames)))\n",
    "    else:\n",
    "        vids_ok.append(\"{} - Same number of labels and frames for vid\".format(vid_name))\n",
    "        \n",
    "# print errors\n",
    "print(\"ERRORS: {} VIDS WITH #LABELS != #FRAMES\".format(len(vids_error)))\n",
    "for msg in vids_error:\n",
    "    print(msg)\n",
    "\n",
    "print(\"\\n\")\n",
    "print(\"OK: {} VIDS WITH #LABELS != #FRAMES\".format(len(vids_ok)))\n",
    "for msg in vids_ok:\n",
    "    print(msg)"
   ]
  },
  {
   "cell_type": "markdown",
   "metadata": {},
   "source": [
    "> see `/notebooks/helper_check_frames_against_labels.ipynb` for ways to more deeply investigate mismatch between frames and `labels.csv`"
   ]
  },
  {
   "cell_type": "code",
   "execution_count": null,
   "metadata": {},
   "outputs": [],
   "source": []
  }
 ],
 "metadata": {
  "kernelspec": {
   "display_name": "Python 3",
   "language": "python",
   "name": "python3"
  },
  "language_info": {
   "codemirror_mode": {
    "name": "ipython",
    "version": 3
   },
   "file_extension": ".py",
   "mimetype": "text/x-python",
   "name": "python",
   "nbconvert_exporter": "python",
   "pygments_lexer": "ipython3",
   "version": "3.5.3"
  }
 },
 "nbformat": 4,
 "nbformat_minor": 2
}
