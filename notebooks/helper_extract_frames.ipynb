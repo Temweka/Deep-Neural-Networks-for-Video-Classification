{
 "cells": [
  {
   "cell_type": "code",
   "execution_count": null,
   "metadata": {},
   "outputs": [],
   "source": [
    "# set desired output FPS\n",
    "fps_output = 2"
   ]
  },
  {
   "cell_type": "code",
   "execution_count": 1,
   "metadata": {
    "ExecuteTime": {
     "end_time": "2019-01-05T12:42:07.575951Z",
     "start_time": "2019-01-05T12:42:07.272939Z"
    }
   },
   "outputs": [],
   "source": [
    "import numpy as np\n",
    "import cv2\n",
    "from time import time as timer\n",
    "import sys\n",
    "import os"
   ]
  },
  {
   "cell_type": "code",
   "execution_count": null,
   "metadata": {},
   "outputs": [],
   "source": [
    "# setup paths\n",
    "pwd = os.getcwd().replace(\"notebooks\",\"\")\n",
    "path_cache = pwd + 'cache/'"
   ]
  },
  {
   "cell_type": "code",
   "execution_count": null,
   "metadata": {},
   "outputs": [],
   "source": [
    "# path where video files are stored e.g. /videos/video1.mov\n",
    "path_videos = pwd + 'videos/'"
   ]
  },
  {
   "cell_type": "code",
   "execution_count": null,
   "metadata": {},
   "outputs": [],
   "source": [
    "# path where sequential frame images will be stored \n",
    "# (needed to run the rest of this package)\n",
    "path_data = pwd + 'data/'"
   ]
  },
  {
   "cell_type": "code",
   "execution_count": 2,
   "metadata": {
    "ExecuteTime": {
     "end_time": "2019-01-05T12:42:07.582240Z",
     "start_time": "2019-01-05T12:42:07.578649Z"
    }
   },
   "outputs": [],
   "source": [
    "# read vid paths\n",
    "path_videos = []\n",
    "for filename in os.listdir(path_videos):\n",
    "    if os.path.isdir(os.path.join(path_videos, filename)):\n",
    "        path_videos.append(filename)\n",
    "\n",
    "path_videos = [path_videos + v + '/' for v in path_videos if v != '.DS_Store']"
   ]
  },
  {
   "cell_type": "code",
   "execution_count": null,
   "metadata": {
    "ExecuteTime": {
     "end_time": "2019-01-05T13:13:50.687565Z",
     "start_time": "2019-01-05T12:42:17.003793Z"
    }
   },
   "outputs": [],
   "source": [
    "if not os.path.exists(path_data):\n",
    "    os.makedirs(path_data)\n",
    "\n",
    "for c, path in enumerate(paths):\n",
    "\n",
    "    # extract video filename from path\n",
    "    filename = path.split(\"/\")[1].split(\".\")[0]\n",
    "    print(filename)\n",
    "    \n",
    "    if not os.path.exists(path_data + filename):\n",
    "\n",
    "        print(\"Extracting frames from video {}/{}\".format(c+1,len(paths)))\n",
    "\n",
    "        # create directory for this video's frames\n",
    "        os.makedirs(path_data + filename)\n",
    "\n",
    "        # open video\n",
    "        vidcap = cv2.VideoCapture(path)\n",
    "\n",
    "        # get fps\n",
    "        print(\"video FPS {}\".format(vidcap.get(cv2.CAP_PROP_FPS)))\n",
    "        fps = round(vidcap.get(cv2.CAP_PROP_FPS))\n",
    "        fps_savecheck = round(fps/fps_output) \n",
    "\n",
    "        # read frames and save to images at fps_save\n",
    "        success,image = vidcap.read()\n",
    "        count_frame = 0\n",
    "        count_saved = 0\n",
    "        success = True\n",
    "        while success:\n",
    "            # save frame at desired framerate, indexing filename from 0\n",
    "            if (count_frame % fps_savecheck == 0):\n",
    "                cv2.imwrite(path_data + filename + '/' + filename + \"_%06d.jpg\" % count_saved, image)\n",
    "                count_saved += 1\n",
    "            success,image = vidcap.read()\n",
    "            count_frame += 1\n",
    "\n",
    "        # close video file\n",
    "        vidcap.release()\n",
    "        \n",
    "    else:\n",
    "        print(\"Frames already extracted from video {}/{}\".format(c+1,len(paths)))"
   ]
  },
  {
   "cell_type": "code",
   "execution_count": 6,
   "metadata": {
    "ExecuteTime": {
     "end_time": "2019-01-05T13:13:50.694019Z",
     "start_time": "2019-01-05T13:13:50.690057Z"
    }
   },
   "outputs": [
    {
     "name": "stdout",
     "output_type": "stream",
     "text": [
      "Done extracting frames from 9 videos\n"
     ]
    }
   ],
   "source": [
    "print(\"Done extracting frames from {} videos\".format(len(paths)))"
   ]
  }
 ],
 "metadata": {
  "kernelspec": {
   "display_name": "Python 3",
   "language": "python",
   "name": "python3"
  },
  "language_info": {
   "codemirror_mode": {
    "name": "ipython",
    "version": 3
   },
   "file_extension": ".py",
   "mimetype": "text/x-python",
   "name": "python",
   "nbconvert_exporter": "python",
   "pygments_lexer": "ipython3",
   "version": "3.5.3"
  }
 },
 "nbformat": 4,
 "nbformat_minor": 2
}
