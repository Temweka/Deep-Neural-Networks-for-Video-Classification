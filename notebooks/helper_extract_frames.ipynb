{
 "cells": [
  {
   "cell_type": "code",
   "execution_count": 27,
   "metadata": {
    "ExecuteTime": {
     "end_time": "2019-01-11T09:35:12.299759Z",
     "start_time": "2019-01-11T09:35:12.294686Z"
    }
   },
   "outputs": [
    {
     "data": {
      "text/plain": [
       "' \\nCreate data/vid_name_1/ folder with frames for each video in videos\\n\\ne.g. /videos/video_1.MOV will be converted to /data/video_1_000001.jpg, etc.\\n\\nNote: depending on chosen `FPS_OUTPUT`, you may have to extend the number \\nof digits in filename from 06 to something bigger like 09, just update the line in this script that says `_%06d.jpg`\\n'"
      ]
     },
     "execution_count": 27,
     "metadata": {},
     "output_type": "execute_result"
    }
   ],
   "source": [
    "\"\"\" \n",
    "Create data/vid_name_1/ folder with frames for each video in videos\n",
    "\n",
    "e.g. /videos/video_1.MOV will be converted to /data/video_1_000001.jpg, etc.\n",
    "\n",
    "Note: depending on chosen `FPS_OUTPUT`, you may have to extend the number \n",
    "of digits in filename from 06 to something bigger like 09, just update the line in this script that says `_%06d.jpg`\n",
    "\"\"\""
   ]
  },
  {
   "cell_type": "code",
   "execution_count": 28,
   "metadata": {
    "ExecuteTime": {
     "end_time": "2019-01-11T09:35:14.746570Z",
     "start_time": "2019-01-11T09:35:14.743041Z"
    }
   },
   "outputs": [],
   "source": [
    "# set desired output FPS\n",
    "FPS_OUTPUT = 2"
   ]
  },
  {
   "cell_type": "code",
   "execution_count": 2,
   "metadata": {
    "ExecuteTime": {
     "end_time": "2019-01-11T09:04:35.918048Z",
     "start_time": "2019-01-11T09:04:35.716135Z"
    }
   },
   "outputs": [],
   "source": [
    "import numpy as np\n",
    "import cv2\n",
    "from time import time as timer\n",
    "import sys\n",
    "import os"
   ]
  },
  {
   "cell_type": "code",
   "execution_count": 24,
   "metadata": {
    "ExecuteTime": {
     "end_time": "2019-01-11T09:11:57.851169Z",
     "start_time": "2019-01-11T09:11:57.847375Z"
    }
   },
   "outputs": [],
   "source": [
    "# setup paths\n",
    "pwd = os.getcwd().replace(\"notebooks\",\"\")\n",
    "path_videos = pwd + 'videos/'\n",
    "path_data = pwd + 'data/'"
   ]
  },
  {
   "cell_type": "code",
   "execution_count": 25,
   "metadata": {
    "ExecuteTime": {
     "end_time": "2019-01-11T09:11:58.280558Z",
     "start_time": "2019-01-11T09:11:58.274520Z"
    }
   },
   "outputs": [
    {
     "data": {
      "text/plain": [
       "['/mnt/seals/videos/20150827_no8B_3.MOV',\n",
       " '/mnt/seals/videos/20150827_no8B_2.MOV',\n",
       " '/mnt/seals/videos/20160802_no8_1.MOV',\n",
       " '/mnt/seals/videos/20150827_no8B_1.MOV',\n",
       " '/mnt/seals/videos/20160802_no8_3.MOV',\n",
       " '/mnt/seals/videos/20160802_no8_2.MOV']"
      ]
     },
     "execution_count": 25,
     "metadata": {},
     "output_type": "execute_result"
    }
   ],
   "source": [
    "# read video paths\n",
    "paths = os.listdir(path_videos)\n",
    "paths = [path_videos + v for v in paths if v != '.DS_Store']\n",
    "paths"
   ]
  },
  {
   "cell_type": "code",
   "execution_count": 26,
   "metadata": {
    "ExecuteTime": {
     "end_time": "2019-01-11T09:28:29.520451Z",
     "start_time": "2019-01-11T09:11:59.272789Z"
    }
   },
   "outputs": [
    {
     "name": "stdout",
     "output_type": "stream",
     "text": [
      "20150827_no8B_3\n",
      "Extracting frames from video 1/6: 20150827_no8B_3\n",
      "video FPS 59.63677030962042\n",
      "20150827_no8B_2\n",
      "Extracting frames from video 2/6: 20150827_no8B_2\n",
      "video FPS 59.63523257457938\n",
      "20160802_no8_1\n",
      "Extracting frames from video 3/6: 20160802_no8_1\n",
      "video FPS 59.636284443476534\n",
      "20150827_no8B_1\n",
      "Extracting frames from video 4/6: 20150827_no8B_1\n",
      "video FPS 59.63768607089166\n",
      "20160802_no8_3\n",
      "Extracting frames from video 5/6: 20160802_no8_3\n",
      "video FPS 59.637711723311206\n",
      "20160802_no8_2\n",
      "Extracting frames from video 6/6: 20160802_no8_2\n",
      "video FPS 59.63540640959996\n"
     ]
    }
   ],
   "source": [
    "# create data folder\n",
    "if not os.path.exists(path_data):\n",
    "    os.makedirs(path_data)\n",
    "\n",
    "for c, path in enumerate(paths):\n",
    "\n",
    "    # extract video filename from path\n",
    "    filename = path.split(\"/\")[-1].split(\".\")[0]\n",
    "    print(filename)\n",
    "\n",
    "    if not os.path.exists(path_data + filename):\n",
    "\n",
    "        print(\"Extracting frames from video {}/{}: {}\".format(c+1,len(paths),filename))\n",
    "\n",
    "        # create directory for this video's frames\n",
    "        os.makedirs(path_data + filename)\n",
    "\n",
    "        # open video\n",
    "        vidcap = cv2.VideoCapture(path)\n",
    "\n",
    "        # get fps\n",
    "        print(\"video FPS {}\".format(vidcap.get(cv2.CAP_PROP_FPS)))\n",
    "        fps = vidcap.get(cv2.CAP_PROP_FPS)\n",
    "        fps_savecheck = fps/FPS_OUTPUT\n",
    "\n",
    "        # read frames and save to images at fps_save\n",
    "        success,image = vidcap.read()\n",
    "        count_frame = 0\n",
    "        count_saved = 0\n",
    "        success = True\n",
    "\n",
    "        fps_savecheck_progress = 0\n",
    "\n",
    "        while success:\n",
    "            # save frame at desired framerate, indexing filename from 0\n",
    "            if count_frame > fps_savecheck_progress:\n",
    "                cv2.imwrite(path_data + filename + '/' + filename + \"_%06d.jpg\" % count_saved, image)\n",
    "                fps_savecheck_progress += fps_savecheck\n",
    "                count_saved += 1\n",
    "            success,image = vidcap.read()\n",
    "            count_frame += 1\n",
    "\n",
    "        # close video file\n",
    "        vidcap.release()\n",
    "        \n",
    "    else:\n",
    "        print(\"Frames already extracted from video {}/{}\".format(c+1,len(paths)))"
   ]
  },
  {
   "cell_type": "code",
   "execution_count": null,
   "metadata": {
    "ExecuteTime": {
     "end_time": "2019-01-11T09:06:40.937671Z",
     "start_time": "2019-01-11T09:06:08.065Z"
    }
   },
   "outputs": [],
   "source": [
    "print(\"Done extracting frames from {} videos\".format(len(paths)))"
   ]
  },
  {
   "cell_type": "code",
   "execution_count": null,
   "metadata": {},
   "outputs": [],
   "source": []
  }
 ],
 "metadata": {
  "kernelspec": {
   "display_name": "Python 3",
   "language": "python",
   "name": "python3"
  },
  "language_info": {
   "codemirror_mode": {
    "name": "ipython",
    "version": 3
   },
   "file_extension": ".py",
   "mimetype": "text/x-python",
   "name": "python",
   "nbconvert_exporter": "python",
   "pygments_lexer": "ipython3",
   "version": "3.5.3"
  }
 },
 "nbformat": 4,
 "nbformat_minor": 2
}
