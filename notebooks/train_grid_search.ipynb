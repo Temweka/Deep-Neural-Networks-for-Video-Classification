{
 "cells": [
  {
   "cell_type": "code",
   "execution_count": 12,
   "metadata": {
    "ExecuteTime": {
     "end_time": "2020-04-07T10:15:52.939553Z",
     "start_time": "2020-04-07T10:15:52.936836Z"
    }
   },
   "outputs": [],
   "source": [
    "# whether to log each feature and sequence status\n",
    "verbose = True"
   ]
  },
  {
   "cell_type": "code",
   "execution_count": 13,
   "metadata": {
    "ExecuteTime": {
     "end_time": "2020-04-07T10:15:53.644459Z",
     "start_time": "2020-04-07T10:15:53.640240Z"
    }
   },
   "outputs": [],
   "source": [
    "import gc\n",
    "import os\n",
    "import pandas as pd\n",
    "pd.options.display.max_rows = 5000\n",
    "import numpy as np\n",
    "import json\n",
    "import datetime\n",
    "import matplotlib.pyplot as plt\n",
    "import itertools\n",
    "import sys\n",
    "sys.path.append('..')"
   ]
  },
  {
   "cell_type": "code",
   "execution_count": 14,
   "metadata": {
    "ExecuteTime": {
     "end_time": "2020-04-07T10:15:54.982729Z",
     "start_time": "2020-04-07T10:15:54.979493Z"
    }
   },
   "outputs": [],
   "source": [
    "# setup paths\n",
    "pwd = os.getcwd().replace(\"notebooks\",\"\")\n",
    "path_cache = pwd + 'cache/'\n",
    "path_data = pwd + 'data/'"
   ]
  },
  {
   "cell_type": "code",
   "execution_count": 41,
   "metadata": {
    "ExecuteTime": {
     "end_time": "2020-04-07T10:20:52.426985Z",
     "start_time": "2020-04-07T10:20:51.908260Z"
    }
   },
   "outputs": [],
   "source": [
    "from deepvideoclassification.architectures import Architecture"
   ]
  },
  {
   "cell_type": "code",
   "execution_count": 15,
   "metadata": {
    "ExecuteTime": {
     "end_time": "2020-04-07T10:15:55.737191Z",
     "start_time": "2020-04-07T10:15:55.731147Z"
    }
   },
   "outputs": [],
   "source": [
    "# setup logging\n",
    "# any explicit log messages or uncaught errors to stdout and file /logs.log\n",
    "import logging\n",
    "logging.basicConfig(\n",
    "    level=logging.INFO,\n",
    "    format=\"%(asctime)s [%(threadName)-12.12s] [%(levelname)-5.5s]  %(message)s\",\n",
    "    handlers=[\n",
    "        logging.FileHandler(\"{0}/{1}.log\".format(pwd, \"logs\")),\n",
    "        logging.StreamHandler()\n",
    "    ])\n",
    "# init logger\n",
    "logger = logging.getLogger()\n",
    "# make logger aware of any uncaught exceptions\n",
    "def handle_exception(exc_type, exc_value, exc_traceback):\n",
    "    if issubclass(exc_type, KeyboardInterrupt):\n",
    "        sys.__excepthook__(exc_type, exc_value, exc_traceback)\n",
    "        return\n",
    "\n",
    "    logger.error(\"Uncaught exception\", exc_info=(exc_type, exc_value, exc_traceback))\n",
    "sys.excepthook = handle_exception"
   ]
  },
  {
   "cell_type": "markdown",
   "metadata": {},
   "source": [
    "# Create list of experiments to run"
   ]
  },
  {
   "cell_type": "code",
   "execution_count": 20,
   "metadata": {
    "ExecuteTime": {
     "end_time": "2020-04-07T10:17:06.296399Z",
     "start_time": "2020-04-07T10:17:06.292218Z"
    }
   },
   "outputs": [],
   "source": [
    "# parameters to grid search over\n",
    "pooling = 'max'\n",
    "layer_sizes = [512, 256, 128, 0]\n",
    "dropouts = [0.2]\n",
    "sequence_lengths = [3,5,10]\n",
    "sequence_model_layer_counts = [1,2]\n",
    "sequence_models = [\"LSTM\", \"SimpleRNN\", \"GRU\", \"Convolution1D\"]\n",
    "pretrained_model_names = ['inception_resnet_v2', 'inception_v3', 'mobilenetv2_1.00_224', 'resnet50', 'vgg16', 'xception']"
   ]
  },
  {
   "cell_type": "code",
   "execution_count": 21,
   "metadata": {
    "ExecuteTime": {
     "end_time": "2020-04-07T10:17:08.105332Z",
     "start_time": "2020-04-07T10:17:08.102724Z"
    }
   },
   "outputs": [],
   "source": [
    "# init model id - need to make sure we pick up where we leave off don't overwrite it between batches\n",
    "model_id = 0\n",
    "\n",
    "# init list of experiments\n",
    "experiments = []"
   ]
  },
  {
   "cell_type": "code",
   "execution_count": 22,
   "metadata": {
    "ExecuteTime": {
     "end_time": "2020-04-07T10:17:08.112498Z",
     "start_time": "2020-04-07T10:17:08.107220Z"
    }
   },
   "outputs": [],
   "source": [
    "####################\n",
    "### image_MLP_frozen \n",
    "####################\n",
    "\n",
    "for pretrained_model_name in pretrained_model_names:\n",
    "    for layer_1_size in layer_sizes:\n",
    "        for layer_2_size in layer_sizes:\n",
    "            for layer_3_size in layer_sizes:\n",
    "                for dropout in dropouts:\n",
    "\n",
    "                    # build experiment parameters\n",
    "                    experiment = {}\n",
    "                    \n",
    "                    experiment['model_id'] = model_id\n",
    "                    experiment['architecture'] = 'image_MLP_frozen'\n",
    "                    experiment['sequence_length'] = 1\n",
    "                    experiment['pretrained_model_name'] = pretrained_model_name\n",
    "                    experiment['layer_1_size'] = layer_1_size\n",
    "                    experiment['layer_2_size'] = layer_2_size\n",
    "                    experiment['layer_3_size'] = layer_3_size\n",
    "                    experiment['dropout'] = dropout\n",
    "                    experiment['pooling'] = 'max' # outperforms avg across all parameters\n",
    "                    \n",
    "                    # add to list of experiments\n",
    "                    experiments.append(experiment)\n",
    "                    \n",
    "                    model_id+=1"
   ]
  },
  {
   "cell_type": "code",
   "execution_count": 23,
   "metadata": {
    "ExecuteTime": {
     "end_time": "2020-04-07T10:17:08.399195Z",
     "start_time": "2020-04-07T10:17:08.393587Z"
    }
   },
   "outputs": [],
   "source": [
    "####################\n",
    "### video_MLP_concat\n",
    "####################\n",
    "\n",
    "for sequence_length in sequence_lengths:\n",
    "    for pretrained_model_name in pretrained_model_names_bucketed:\n",
    "        for layer_1_size in layer_sizes:\n",
    "            for layer_2_size in layer_sizes:\n",
    "                for layer_3_size in layer_sizes:\n",
    "                    for dropout in dropouts:\n",
    "\n",
    "                        # build experiment parameters\n",
    "                        experiment = {}\n",
    "                        \n",
    "                        experiment['model_id'] = model_id\n",
    "                        experiment['architecture'] = 'video_MLP_concat'\n",
    "                        experiment['pretrained_model_name'] = pretrained_model_name\n",
    "                        experiment['layer_1_size'] = layer_1_size\n",
    "                        experiment['layer_2_size'] = layer_2_size\n",
    "                        experiment['layer_3_size'] = layer_3_size\n",
    "                        experiment['dropout'] = dropout\n",
    "                        experiment['pooling'] = 'max' # outperforms avg across all parameters\n",
    "                        experiment['sequence_length'] = sequence_length\n",
    "\n",
    "                        # add to list of experiments\n",
    "                        experiments.append(experiment)\n",
    "                        model_id+=1"
   ]
  },
  {
   "cell_type": "code",
   "execution_count": 24,
   "metadata": {
    "ExecuteTime": {
     "end_time": "2020-04-07T10:17:09.075055Z",
     "start_time": "2020-04-07T10:17:09.063521Z"
    }
   },
   "outputs": [],
   "source": [
    "######################\n",
    "### video_LRCNN_frozen\n",
    "######################\n",
    "\n",
    "for sequence_length in sequence_lengths:\n",
    "    for pretrained_model_name in pretrained_model_names_bucketed:\n",
    "        for layer_1_size in layer_sizes:\n",
    "            for layer_2_size in layer_sizes:\n",
    "                for layer_3_size in layer_sizes:\n",
    "                    for dropout in dropouts:\n",
    "                        for sequence_model in sequence_models:\n",
    "                            for sequence_model_layers in sequence_model_layer_counts:\n",
    "\n",
    "                                # build experiment parameters\n",
    "                                experiment = {}\n",
    "\n",
    "                                experiment['model_id'] = model_id\n",
    "                                experiment['architecture'] = 'video_LRCNN_frozen'\n",
    "                                experiment['pretrained_model_name'] = pretrained_model_name\n",
    "                                experiment['layer_1_size'] = layer_1_size\n",
    "                                experiment['layer_2_size'] = layer_2_size\n",
    "                                experiment['layer_3_size'] = layer_3_size\n",
    "                                experiment['dropout'] = dropout\n",
    "                                experiment['pooling'] = 'max' # outperforms avg across all parameters\n",
    "                                experiment['sequence_model'] = sequence_model\n",
    "                                experiment['sequence_model_layers'] = sequence_model_layers\n",
    "                                experiment['sequence_length'] = sequence_length\n",
    "\n",
    "                                # add to list of experiments\n",
    "                                experiments.append(experiment)\n",
    "                                model_id+=1"
   ]
  },
  {
   "cell_type": "code",
   "execution_count": 25,
   "metadata": {
    "ExecuteTime": {
     "end_time": "2020-04-07T10:17:21.724372Z",
     "start_time": "2020-04-07T10:17:21.700616Z"
    }
   },
   "outputs": [],
   "source": [
    "########################\n",
    "### convert to dataframe\n",
    "########################\n",
    "\n",
    "experiments = pd.DataFrame(experiments)"
   ]
  },
  {
   "cell_type": "code",
   "execution_count": 27,
   "metadata": {
    "ExecuteTime": {
     "end_time": "2020-04-07T10:17:33.862513Z",
     "start_time": "2020-04-07T10:17:33.842626Z"
    }
   },
   "outputs": [],
   "source": [
    "############################################\n",
    "### remove invalid experiment configurations\n",
    "############################################\n",
    "\n",
    "# Just won't run experiments for those model_ids - not an error that model ids not congituous count from 0!\n",
    "\n",
    "# delete video experiments with 0 neurons in a layer with nonzero neurons in later layers\n",
    "experiments = experiments[~((experiments['layer_1_size'] == 0) & (experiments['layer_2_size'] > 0))]\n",
    "experiments = experiments[~((experiments['layer_1_size'] == 0) & (experiments['layer_3_size'] > 0))]\n",
    "experiments = experiments[~((experiments['layer_2_size'] == 0) & (experiments['layer_3_size'] > 0))]\n",
    "\n",
    "# delete video experiments where convolution_kernel_size > sequence_length (convolution_kernel_size defaults to 3 and not set in this batch)\n",
    "experiments = experiments[~((experiments['sequence_model'] == 'Convolution1D') & (experiments['sequence_length']<=3))]"
   ]
  },
  {
   "cell_type": "code",
   "execution_count": 28,
   "metadata": {
    "ExecuteTime": {
     "end_time": "2020-04-07T10:17:41.008689Z",
     "start_time": "2020-04-07T10:17:41.002445Z"
    }
   },
   "outputs": [],
   "source": [
    "# delete LRCNN_frozen experiments with layer_1_size == 0\n",
    "experiments = experiments[~((experiments['architecture'] == 'video_LRCNN_frozen') & (experiments['layer_1_size']==0))]"
   ]
  },
  {
   "cell_type": "code",
   "execution_count": 30,
   "metadata": {
    "ExecuteTime": {
     "end_time": "2020-04-07T10:18:06.276333Z",
     "start_time": "2020-04-07T10:18:06.239629Z"
    }
   },
   "outputs": [],
   "source": [
    "##################################\n",
    "### output experiment batch to CSV\n",
    "##################################\n",
    "experiments.to_csv(pwd +  'experiments.csv', index=False)"
   ]
  },
  {
   "cell_type": "code",
   "execution_count": 31,
   "metadata": {
    "ExecuteTime": {
     "end_time": "2020-04-07T10:18:07.397486Z",
     "start_time": "2020-04-07T10:18:07.378064Z"
    }
   },
   "outputs": [
    {
     "name": "stdout",
     "output_type": "stream",
     "text": [
      "(3174, 11)\n"
     ]
    },
    {
     "data": {
      "text/html": [
       "<div>\n",
       "<style scoped>\n",
       "    .dataframe tbody tr th:only-of-type {\n",
       "        vertical-align: middle;\n",
       "    }\n",
       "\n",
       "    .dataframe tbody tr th {\n",
       "        vertical-align: top;\n",
       "    }\n",
       "\n",
       "    .dataframe thead th {\n",
       "        text-align: right;\n",
       "    }\n",
       "</style>\n",
       "<table border=\"1\" class=\"dataframe\">\n",
       "  <thead>\n",
       "    <tr style=\"text-align: right;\">\n",
       "      <th></th>\n",
       "      <th>5435</th>\n",
       "      <th>5436</th>\n",
       "      <th>5437</th>\n",
       "      <th>5438</th>\n",
       "      <th>5439</th>\n",
       "    </tr>\n",
       "  </thead>\n",
       "  <tbody>\n",
       "    <tr>\n",
       "      <th>architecture</th>\n",
       "      <td>video_LRCNN_frozen</td>\n",
       "      <td>video_LRCNN_frozen</td>\n",
       "      <td>video_LRCNN_frozen</td>\n",
       "      <td>video_LRCNN_frozen</td>\n",
       "      <td>video_LRCNN_frozen</td>\n",
       "    </tr>\n",
       "    <tr>\n",
       "      <th>dropout</th>\n",
       "      <td>0.2</td>\n",
       "      <td>0.2</td>\n",
       "      <td>0.2</td>\n",
       "      <td>0.2</td>\n",
       "      <td>0.2</td>\n",
       "    </tr>\n",
       "    <tr>\n",
       "      <th>layer_1_size</th>\n",
       "      <td>128</td>\n",
       "      <td>128</td>\n",
       "      <td>128</td>\n",
       "      <td>128</td>\n",
       "      <td>128</td>\n",
       "    </tr>\n",
       "    <tr>\n",
       "      <th>layer_2_size</th>\n",
       "      <td>0</td>\n",
       "      <td>0</td>\n",
       "      <td>0</td>\n",
       "      <td>0</td>\n",
       "      <td>0</td>\n",
       "    </tr>\n",
       "    <tr>\n",
       "      <th>layer_3_size</th>\n",
       "      <td>0</td>\n",
       "      <td>0</td>\n",
       "      <td>0</td>\n",
       "      <td>0</td>\n",
       "      <td>0</td>\n",
       "    </tr>\n",
       "    <tr>\n",
       "      <th>model_id</th>\n",
       "      <td>5435</td>\n",
       "      <td>5436</td>\n",
       "      <td>5437</td>\n",
       "      <td>5438</td>\n",
       "      <td>5439</td>\n",
       "    </tr>\n",
       "    <tr>\n",
       "      <th>pooling</th>\n",
       "      <td>max</td>\n",
       "      <td>max</td>\n",
       "      <td>max</td>\n",
       "      <td>max</td>\n",
       "      <td>max</td>\n",
       "    </tr>\n",
       "    <tr>\n",
       "      <th>pretrained_model_name</th>\n",
       "      <td>resnet50</td>\n",
       "      <td>resnet50</td>\n",
       "      <td>resnet50</td>\n",
       "      <td>resnet50</td>\n",
       "      <td>resnet50</td>\n",
       "    </tr>\n",
       "    <tr>\n",
       "      <th>sequence_length</th>\n",
       "      <td>10</td>\n",
       "      <td>10</td>\n",
       "      <td>10</td>\n",
       "      <td>10</td>\n",
       "      <td>10</td>\n",
       "    </tr>\n",
       "    <tr>\n",
       "      <th>sequence_model</th>\n",
       "      <td>SimpleRNN</td>\n",
       "      <td>GRU</td>\n",
       "      <td>GRU</td>\n",
       "      <td>Convolution1D</td>\n",
       "      <td>Convolution1D</td>\n",
       "    </tr>\n",
       "    <tr>\n",
       "      <th>sequence_model_layers</th>\n",
       "      <td>2</td>\n",
       "      <td>1</td>\n",
       "      <td>2</td>\n",
       "      <td>1</td>\n",
       "      <td>2</td>\n",
       "    </tr>\n",
       "  </tbody>\n",
       "</table>\n",
       "</div>"
      ],
      "text/plain": [
       "                                     5435                5436  \\\n",
       "architecture           video_LRCNN_frozen  video_LRCNN_frozen   \n",
       "dropout                               0.2                 0.2   \n",
       "layer_1_size                          128                 128   \n",
       "layer_2_size                            0                   0   \n",
       "layer_3_size                            0                   0   \n",
       "model_id                             5435                5436   \n",
       "pooling                               max                 max   \n",
       "pretrained_model_name            resnet50            resnet50   \n",
       "sequence_length                        10                  10   \n",
       "sequence_model                  SimpleRNN                 GRU   \n",
       "sequence_model_layers                   2                   1   \n",
       "\n",
       "                                     5437                5438  \\\n",
       "architecture           video_LRCNN_frozen  video_LRCNN_frozen   \n",
       "dropout                               0.2                 0.2   \n",
       "layer_1_size                          128                 128   \n",
       "layer_2_size                            0                   0   \n",
       "layer_3_size                            0                   0   \n",
       "model_id                             5437                5438   \n",
       "pooling                               max                 max   \n",
       "pretrained_model_name            resnet50            resnet50   \n",
       "sequence_length                        10                  10   \n",
       "sequence_model                        GRU       Convolution1D   \n",
       "sequence_model_layers                   2                   1   \n",
       "\n",
       "                                     5439  \n",
       "architecture           video_LRCNN_frozen  \n",
       "dropout                               0.2  \n",
       "layer_1_size                          128  \n",
       "layer_2_size                            0  \n",
       "layer_3_size                            0  \n",
       "model_id                             5439  \n",
       "pooling                               max  \n",
       "pretrained_model_name            resnet50  \n",
       "sequence_length                        10  \n",
       "sequence_model              Convolution1D  \n",
       "sequence_model_layers                   2  "
      ]
     },
     "execution_count": 31,
     "metadata": {},
     "output_type": "execute_result"
    }
   ],
   "source": [
    "print(experiments.shape)\n",
    "experiments.tail().T"
   ]
  },
  {
   "cell_type": "code",
   "execution_count": 39,
   "metadata": {
    "ExecuteTime": {
     "end_time": "2020-04-07T10:20:31.990595Z",
     "start_time": "2020-04-07T10:20:31.931905Z"
    }
   },
   "outputs": [],
   "source": [
    "exps = experiments.to_dict(orient=\"index\").values()"
   ]
  },
  {
   "cell_type": "markdown",
   "metadata": {},
   "source": [
    "# Run grid search"
   ]
  },
  {
   "cell_type": "code",
   "execution_count": 43,
   "metadata": {
    "ExecuteTime": {
     "end_time": "2020-04-07T10:21:06.760569Z",
     "start_time": "2020-04-07T10:21:06.757784Z"
    }
   },
   "outputs": [],
   "source": [
    "for experiment in exps:\n",
    "    print(str(experiment[\"model_id\"]) + \"   \" + \"X\"*60)\n",
    "    print(experiment)\n",
    "    \n",
    "    # delete existing results\n",
    "    if os.path.exists(pwd + 'models/' + str(experiment[\"model_id\"]) + '/results.json'):\n",
    "        rmtree(pwd + 'models/' + str(experiment[\"model_id\"]) + '/')\n",
    "\n",
    "    architecture = Architecture(model_id = experiment['model_id'], \n",
    "                                architecture = experiment['architecture'], \n",
    "                                sequence_length = experiment['sequence_length'], \n",
    "                                pretrained_model_name = experiment['pretrained_model_name'],\n",
    "                                pooling = experiment['pooling'],\n",
    "                                sequence_model = experiment['sequence_model'],\n",
    "                                sequence_model_layers = experiment['sequence_model_layers'],\n",
    "                                layer_1_size = experiment['layer_1_size'],\n",
    "                                layer_2_size = experiment['layer_2_size'],\n",
    "                                layer_3_size = experiment['layer_3_size'],\n",
    "                                dropout = experiment['dropout'],\n",
    "                                verbose=True)\n",
    "\n",
    "    architecture.train_model()\n",
    "\n",
    "    gc.collect()"
   ]
  },
  {
   "cell_type": "code",
   "execution_count": null,
   "metadata": {},
   "outputs": [],
   "source": []
  }
 ],
 "metadata": {
  "kernelspec": {
   "display_name": "Python 3",
   "language": "python",
   "name": "python3"
  },
  "language_info": {
   "codemirror_mode": {
    "name": "ipython",
    "version": 3
   },
   "file_extension": ".py",
   "mimetype": "text/x-python",
   "name": "python",
   "nbconvert_exporter": "python",
   "pygments_lexer": "ipython3",
   "version": "3.5.3"
  }
 },
 "nbformat": 4,
 "nbformat_minor": 2
}
