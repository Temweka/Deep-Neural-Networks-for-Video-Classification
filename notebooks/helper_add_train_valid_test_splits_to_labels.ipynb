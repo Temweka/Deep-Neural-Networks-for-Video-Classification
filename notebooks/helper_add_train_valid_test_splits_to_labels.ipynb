{
 "cells": [
  {
   "cell_type": "code",
   "execution_count": 141,
   "metadata": {
    "ExecuteTime": {
     "end_time": "2019-01-07T23:35:45.362291Z",
     "start_time": "2019-01-07T23:35:45.357955Z"
    }
   },
   "outputs": [],
   "source": [
    "import os\n",
    "import pandas as pd\n",
    "import numpy as np\n",
    "import json\n",
    "\n",
    "import cv2\n",
    "from time import time as timer\n",
    "import sys\n",
    "sys.path.append('..')"
   ]
  },
  {
   "cell_type": "code",
   "execution_count": 142,
   "metadata": {
    "ExecuteTime": {
     "end_time": "2019-01-07T23:35:45.623509Z",
     "start_time": "2019-01-07T23:35:45.620218Z"
    }
   },
   "outputs": [],
   "source": [
    "# setup paths\n",
    "pwd = os.getcwd().replace(\"notebooks\",\"\")\n",
    "path_cache = pwd + 'cache/'\n",
    "path_data = pwd + 'data/'"
   ]
  },
  {
   "cell_type": "code",
   "execution_count": 143,
   "metadata": {
    "ExecuteTime": {
     "end_time": "2019-01-07T23:35:46.087637Z",
     "start_time": "2019-01-07T23:35:46.082178Z"
    }
   },
   "outputs": [],
   "source": [
    "# read vid paths\n",
    "path_videos = []\n",
    "for filename in os.listdir(path_data):\n",
    "    if os.path.isdir(os.path.join(path_data, filename)):\n",
    "        path_videos.append(filename)\n",
    "\n",
    "path_videos = [path_data + v + '/' for v in path_videos if v != '.DS_Store']"
   ]
  },
  {
   "cell_type": "code",
   "execution_count": 144,
   "metadata": {
    "ExecuteTime": {
     "end_time": "2019-01-07T23:35:46.600211Z",
     "start_time": "2019-01-07T23:35:46.594421Z"
    }
   },
   "outputs": [],
   "source": [
    "def add_splits_to_labels_file(vids_valid, vids_test):\n",
    "    \"\"\"\n",
    "    Helper function to add splits to your labels file \n",
    "\n",
    "    If your labels file has the columns \"video\",\"filename\",\"label\", \n",
    "    you can use this function to add train/valid/test splits by specifying\n",
    "    as lists of video names which videos should be valid and which should be test\n",
    "\n",
    "    Will overwrite labels file on disk\n",
    "\n",
    "    Sample usage\n",
    "    \"\"\"\n",
    "    # e.g. \n",
    "    # * vids_valid = ['vid_a', 'vid_b', 'vid_c']\n",
    "    # * vids_test = ['vid_y', 'vid_z']\n",
    "    # all the rest will be train\n",
    "\n",
    "    labels = pd.read_csv(path_data + 'labels.csv', usecols=['video','frame','label'])\n",
    "\n",
    "    def allocate_set(vid):\n",
    "        if vid in vids_valid:\n",
    "            return \"valid\"\n",
    "        elif vid in vids_test:\n",
    "            return \"test\"\n",
    "        else: \n",
    "            return \"train\"\n",
    "\n",
    "    # apply split\n",
    "    labels['split'] = labels['video'].apply(lambda x: allocate_set(x))\n",
    "\n",
    "    # sort \n",
    "    labels.sort_values([\"video\",\"frame\"], inplace=True)\n",
    "\n",
    "    # output as csv\n",
    "    labels.to_csv(path_data + 'labels.csv', index=False)\n",
    "    \n",
    "    print(\"Done saving new labels file with splits to /data/labels.csv\")"
   ]
  },
  {
   "cell_type": "markdown",
   "metadata": {},
   "source": [
    "# Use function to add splits to labels file"
   ]
  },
  {
   "cell_type": "code",
   "execution_count": 5,
   "metadata": {
    "ExecuteTime": {
     "end_time": "2019-01-07T22:24:26.477591Z",
     "start_time": "2019-01-07T22:24:26.473871Z"
    }
   },
   "outputs": [],
   "source": [
    "# # penguins\n",
    "# vids_valid = ['20150820_no8B_1', '20160812_no9_1', '20160930_no8_3', '20161014_no8_1']\n",
    "# vids_test = ['20160812_no9_2', '20150820_no8B_3']"
   ]
  },
  {
   "cell_type": "code",
   "execution_count": 147,
   "metadata": {
    "ExecuteTime": {
     "end_time": "2019-01-07T23:55:42.955767Z",
     "start_time": "2019-01-07T23:55:42.951355Z"
    }
   },
   "outputs": [],
   "source": [
    "# seals - new\n",
    "vids_valid = ['s6-1247','s28-20','s45-6301','s1-218', 's43-5211']\n",
    "vids_test = ['s30-516', 's35-3664']\n",
    "\n",
    "# vids_valid = ['s6-1247', 's32-3110', 's45-6301', 's46-8087']\n",
    "# vids_test = ['s35-3664', 's30-516']"
   ]
  },
  {
   "cell_type": "code",
   "execution_count": 148,
   "metadata": {
    "ExecuteTime": {
     "end_time": "2019-01-07T23:55:43.732253Z",
     "start_time": "2019-01-07T23:55:43.662658Z"
    }
   },
   "outputs": [
    {
     "name": "stdout",
     "output_type": "stream",
     "text": [
      "Done saving new labels file with splits to /data/labels.csv\n"
     ]
    }
   ],
   "source": [
    "add_splits_to_labels_file(vids_valid, vids_test)"
   ]
  }
 ],
 "metadata": {
  "kernelspec": {
   "display_name": "Python 3",
   "language": "python",
   "name": "python3"
  },
  "language_info": {
   "codemirror_mode": {
    "name": "ipython",
    "version": 3
   },
   "file_extension": ".py",
   "mimetype": "text/x-python",
   "name": "python",
   "nbconvert_exporter": "python",
   "pygments_lexer": "ipython3",
   "version": "3.5.3"
  }
 },
 "nbformat": 4,
 "nbformat_minor": 2
}
