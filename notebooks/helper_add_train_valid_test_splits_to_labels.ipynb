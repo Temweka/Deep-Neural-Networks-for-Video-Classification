{
 "cells": [
  {
   "cell_type": "code",
   "execution_count": 9,
   "metadata": {
    "ExecuteTime": {
     "end_time": "2019-01-07T00:41:24.710455Z",
     "start_time": "2019-01-07T00:41:24.705865Z"
    }
   },
   "outputs": [],
   "source": [
    "import os\n",
    "import pandas as pd\n",
    "import numpy as np\n",
    "import json\n",
    "\n",
    "import cv2\n",
    "from time import time as timer\n",
    "import sys\n",
    "sys.path.append('..')"
   ]
  },
  {
   "cell_type": "code",
   "execution_count": 10,
   "metadata": {
    "ExecuteTime": {
     "end_time": "2019-01-07T00:41:25.488046Z",
     "start_time": "2019-01-07T00:41:25.484040Z"
    }
   },
   "outputs": [],
   "source": [
    "# setup paths\n",
    "pwd = os.getcwd().replace(\"notebooks\",\"\")\n",
    "path_cache = pwd + 'cache/'\n",
    "path_data = pwd + 'data/'"
   ]
  },
  {
   "cell_type": "code",
   "execution_count": 11,
   "metadata": {
    "ExecuteTime": {
     "end_time": "2019-01-07T00:41:26.276536Z",
     "start_time": "2019-01-07T00:41:26.271256Z"
    }
   },
   "outputs": [],
   "source": [
    "# read vid paths\n",
    "path_videos = []\n",
    "for filename in os.listdir(path_data):\n",
    "    if os.path.isdir(os.path.join(path_data, filename)):\n",
    "        path_videos.append(filename)\n",
    "\n",
    "path_videos = [path_data + v + '/' for v in path_videos if v != '.DS_Store']"
   ]
  },
  {
   "cell_type": "code",
   "execution_count": 15,
   "metadata": {
    "ExecuteTime": {
     "end_time": "2019-01-07T00:42:51.784029Z",
     "start_time": "2019-01-07T00:42:51.778028Z"
    }
   },
   "outputs": [],
   "source": [
    "def add_splits_to_labels_file(vids_valid, vids_test):\n",
    "    \"\"\"\n",
    "    Helper function to add splits to your labels file \n",
    "\n",
    "    If your labels file has the columns \"video\",\"filename\",\"label\", \n",
    "    you can use this function to add train/valid/test splits by specifying\n",
    "    as lists of video names which videos should be valid and which should be test\n",
    "\n",
    "    Will overwrite labels file on disk\n",
    "\n",
    "    Sample usage\n",
    "    \"\"\"\n",
    "    # e.g. \n",
    "    # * vids_valid = ['vid_a', 'vid_b', 'vid_c']\n",
    "    # * vids_test = ['vid_y', 'vid_z']\n",
    "    # all the rest will be train\n",
    "\n",
    "    labels = pd.read_csv(path_data + 'labels.csv', usecols=['video','frame','label'])\n",
    "\n",
    "    def allocate_set(vid):\n",
    "        if vid in vids_valid:\n",
    "            return \"valid\"\n",
    "        elif vid in vids_test:\n",
    "            return \"test\"\n",
    "        else: \n",
    "            return \"train\"\n",
    "\n",
    "    # apply split\n",
    "    labels['split'] = labels['video'].apply(lambda x: allocate_set(x))\n",
    "\n",
    "    # sort \n",
    "    labels.sort_values([\"video\",\"frame\"], inplace=True)\n",
    "\n",
    "    # output as csv\n",
    "    labels.to_csv(path_data + 'labels.csv', index=False)\n",
    "    \n",
    "    print(\"Done saving new labels file with splits to /data/labels.csv\")"
   ]
  },
  {
   "cell_type": "markdown",
   "metadata": {},
   "source": [
    "# Use function to add splits to labels file"
   ]
  },
  {
   "cell_type": "code",
   "execution_count": 16,
   "metadata": {
    "ExecuteTime": {
     "end_time": "2019-01-07T00:42:52.689166Z",
     "start_time": "2019-01-07T00:42:52.685386Z"
    }
   },
   "outputs": [],
   "source": [
    "vids_valid = ['20150820_no8B_1', '20160812_no9_1', '20160930_no8_3', '20161014_no8_1']\n",
    "vids_test = ['20160812_no9_2', '20150820_no8B_3']\n"
   ]
  },
  {
   "cell_type": "code",
   "execution_count": 17,
   "metadata": {
    "ExecuteTime": {
     "end_time": "2019-01-07T00:42:53.579483Z",
     "start_time": "2019-01-07T00:42:52.960535Z"
    }
   },
   "outputs": [
    {
     "name": "stdout",
     "output_type": "stream",
     "text": [
      "Done saving new labels file with splits to /data/labels.csv\n"
     ]
    }
   ],
   "source": [
    "add_splits_to_labels_file(vids_valid, vids_test)"
   ]
  },
  {
   "cell_type": "code",
   "execution_count": null,
   "metadata": {},
   "outputs": [],
   "source": []
  }
 ],
 "metadata": {
  "kernelspec": {
   "display_name": "Python 3",
   "language": "python",
   "name": "python3"
  },
  "language_info": {
   "codemirror_mode": {
    "name": "ipython",
    "version": 3
   },
   "file_extension": ".py",
   "mimetype": "text/x-python",
   "name": "python",
   "nbconvert_exporter": "python",
   "pygments_lexer": "ipython3",
   "version": "3.5.3"
  }
 },
 "nbformat": 4,
 "nbformat_minor": 2
}
