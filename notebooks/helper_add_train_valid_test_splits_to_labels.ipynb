{
 "cells": [
  {
   "cell_type": "markdown",
   "metadata": {},
   "source": [
    "# Instructions"
   ]
  },
  {
   "cell_type": "markdown",
   "metadata": {},
   "source": [
    "Your `data/labels.csv` file needs to be in the format `video_name, video_frame_filename, label, split` to use this package to train models. \n",
    "\n",
    "It is likely that your labels start in one of the following 2 formats:\n",
    "1. `video_name, video_frame_filename, label` format\n",
    "2. `video_name, timestamp_start, timestamp_end, label`\n",
    "\n",
    "If your data is in format 2, then run the helper notebook in `notebooks/helper_convert_timestamps_file_to_labels.ipynb` to convert it to format 1.\n",
    "\n",
    "Once your labels file is in format 1, use this notebook to add the `split` column that allocates videos to train/test/validation splits by specifying a list of video names for each split. \n",
    "\n",
    "Note, this package assumes train/valid/test videos are split at the video level. If you have one very long video, you could cut it up into several smaller videos first..."
   ]
  },
  {
   "cell_type": "markdown",
   "metadata": {},
   "source": [
    "# Setup"
   ]
  },
  {
   "cell_type": "code",
   "execution_count": 1,
   "metadata": {
    "ExecuteTime": {
     "end_time": "2019-01-12T13:21:35.971280Z",
     "start_time": "2019-01-12T13:21:35.678039Z"
    }
   },
   "outputs": [],
   "source": [
    "import os\n",
    "import pandas as pd\n",
    "import numpy as np\n",
    "import json\n",
    "\n",
    "import cv2\n",
    "from time import time as timer\n",
    "import sys\n",
    "sys.path.append('..')"
   ]
  },
  {
   "cell_type": "code",
   "execution_count": 2,
   "metadata": {
    "ExecuteTime": {
     "end_time": "2019-01-12T13:21:36.152095Z",
     "start_time": "2019-01-12T13:21:36.148755Z"
    }
   },
   "outputs": [],
   "source": [
    "# setup paths\n",
    "pwd = os.getcwd().replace(\"notebooks\",\"\")\n",
    "path_cache = pwd + 'cache/'\n",
    "path_data = pwd + 'data/'"
   ]
  },
  {
   "cell_type": "code",
   "execution_count": 3,
   "metadata": {
    "ExecuteTime": {
     "end_time": "2019-01-12T13:21:36.681051Z",
     "start_time": "2019-01-12T13:21:36.674997Z"
    }
   },
   "outputs": [],
   "source": [
    "# read vid paths\n",
    "path_videos = []\n",
    "for filename in os.listdir(path_data):\n",
    "    if os.path.isdir(os.path.join(path_data, filename)):\n",
    "        path_videos.append(filename)\n",
    "\n",
    "path_videos = [path_data + v + '/' for v in path_videos if v != '.DS_Store']"
   ]
  },
  {
   "cell_type": "code",
   "execution_count": 4,
   "metadata": {
    "ExecuteTime": {
     "end_time": "2019-01-12T13:21:41.666904Z",
     "start_time": "2019-01-12T13:21:41.660791Z"
    }
   },
   "outputs": [],
   "source": [
    "def add_splits_to_labels_file(vids_valid, vids_test):\n",
    "    \"\"\"\n",
    "    Helper function to add splits to your labels file \n",
    "\n",
    "    If your labels file has the columns \"video\",\"filename\",\"label\", \n",
    "    you can use this function to add train/valid/test splits by specifying\n",
    "    as lists of video names which videos should be valid and which should be test\n",
    "\n",
    "    Will overwrite labels file on disk\n",
    "\n",
    "    Sample usage\n",
    "    \"\"\"\n",
    "    # e.g. \n",
    "    # * vids_valid = ['vid_a', 'vid_b', 'vid_c']\n",
    "    # * vids_test = ['vid_y', 'vid_z']\n",
    "    # all the rest will be train\n",
    "\n",
    "    labels = pd.read_csv(path_data + 'labels.csv', usecols=['video','frame','label'])\n",
    "\n",
    "    def allocate_set(vid):\n",
    "        if vid in vids_valid:\n",
    "            return \"valid\"\n",
    "        elif vid in vids_test:\n",
    "            return \"test\"\n",
    "        else: \n",
    "            return \"train\"\n",
    "\n",
    "    # apply split\n",
    "    labels['split'] = labels['video'].apply(lambda x: allocate_set(x))\n",
    "\n",
    "    # sort \n",
    "    labels.sort_values([\"video\",\"frame\"], inplace=True)\n",
    "\n",
    "    # output as csv\n",
    "    labels.to_csv(path_data + 'labels.csv', index=False)\n",
    "    \n",
    "    print(\"Done saving new labels file with splits to /data/labels.csv\")"
   ]
  },
  {
   "cell_type": "markdown",
   "metadata": {},
   "source": [
    "# Use function to add splits to labels file"
   ]
  },
  {
   "cell_type": "code",
   "execution_count": 7,
   "metadata": {
    "ExecuteTime": {
     "end_time": "2019-01-12T13:22:05.919732Z",
     "start_time": "2019-01-12T13:22:05.916315Z"
    }
   },
   "outputs": [],
   "source": [
    "# penguins\n",
    "vids_valid = ['20150820_no8B_1', '20160812_no9_1', '20160930_no8_3', '20161014_no8_1']\n",
    "vids_test = ['20160812_no9_2', '20150820_no8B_3']"
   ]
  },
  {
   "cell_type": "code",
   "execution_count": 147,
   "metadata": {
    "ExecuteTime": {
     "end_time": "2019-01-07T23:55:42.955767Z",
     "start_time": "2019-01-07T23:55:42.951355Z"
    }
   },
   "outputs": [],
   "source": [
    "# # seals - new\n",
    "# vids_valid = ['s6-1247','s28-20','s45-6301','s1-218', 's43-5211']\n",
    "# vids_test = ['s30-516', 's35-3664']\n",
    "\n",
    "# # vids_valid = ['s6-1247', 's32-3110', 's45-6301', 's46-8087']\n",
    "# # vids_test = ['s35-3664', 's30-516']"
   ]
  },
  {
   "cell_type": "code",
   "execution_count": 8,
   "metadata": {
    "ExecuteTime": {
     "end_time": "2019-01-12T13:22:07.280277Z",
     "start_time": "2019-01-12T13:22:06.723399Z"
    }
   },
   "outputs": [
    {
     "name": "stdout",
     "output_type": "stream",
     "text": [
      "Done saving new labels file with splits to /data/labels.csv\n"
     ]
    }
   ],
   "source": [
    "add_splits_to_labels_file(vids_valid, vids_test)"
   ]
  }
 ],
 "metadata": {
  "kernelspec": {
   "display_name": "Python 3",
   "language": "python",
   "name": "python3"
  },
  "language_info": {
   "codemirror_mode": {
    "name": "ipython",
    "version": 3
   },
   "file_extension": ".py",
   "mimetype": "text/x-python",
   "name": "python",
   "nbconvert_exporter": "python",
   "pygments_lexer": "ipython3",
   "version": "3.5.3"
  }
 },
 "nbformat": 4,
 "nbformat_minor": 2
}
