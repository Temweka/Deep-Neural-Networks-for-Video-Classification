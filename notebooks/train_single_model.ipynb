{
 "cells": [
  {
   "cell_type": "code",
   "execution_count": 4,
   "metadata": {
    "ExecuteTime": {
     "end_time": "2020-03-20T09:30:43.916181Z",
     "start_time": "2020-03-20T09:30:43.913332Z"
    }
   },
   "outputs": [],
   "source": [
    "import os"
   ]
  },
  {
   "cell_type": "code",
   "execution_count": 5,
   "metadata": {
    "ExecuteTime": {
     "end_time": "2020-03-20T09:30:46.950217Z",
     "start_time": "2020-03-20T09:30:46.947065Z"
    }
   },
   "outputs": [],
   "source": [
    "# whether to log each feature and sequence status\n",
    "verbose = True"
   ]
  },
  {
   "cell_type": "code",
   "execution_count": 6,
   "metadata": {
    "ExecuteTime": {
     "end_time": "2020-03-20T09:30:48.253205Z",
     "start_time": "2020-03-20T09:30:47.836350Z"
    }
   },
   "outputs": [],
   "source": [
    "import gc\n",
    "import os\n",
    "import pandas as pd\n",
    "import numpy as np\n",
    "import json\n",
    "import datetime\n",
    "import matplotlib.pyplot as plt\n",
    "import itertools\n",
    "import sys\n",
    "sys.path.append('..')"
   ]
  },
  {
   "cell_type": "code",
   "execution_count": 7,
   "metadata": {
    "ExecuteTime": {
     "end_time": "2020-03-20T09:30:48.458110Z",
     "start_time": "2020-03-20T09:30:48.455031Z"
    }
   },
   "outputs": [],
   "source": [
    "# setup paths\n",
    "pwd = os.getcwd().replace(\"notebooks\",\"\")\n",
    "path_cache = pwd + 'cache/'\n",
    "path_data = pwd + 'data/'"
   ]
  },
  {
   "cell_type": "code",
   "execution_count": 8,
   "metadata": {
    "ExecuteTime": {
     "end_time": "2020-03-20T09:30:53.616766Z",
     "start_time": "2020-03-20T09:30:53.611595Z"
    }
   },
   "outputs": [],
   "source": [
    "# setup logging\n",
    "# any explicit log messages or uncaught errors to stdout and file /logs.log\n",
    "import logging\n",
    "logging.basicConfig(\n",
    "    level=logging.INFO,\n",
    "    format=\"%(asctime)s [%(threadName)-12.12s] [%(levelname)-5.5s]  %(message)s\",\n",
    "    handlers=[\n",
    "        logging.FileHandler(\"{0}/{1}.log\".format(pwd, \"logs\")),\n",
    "        logging.StreamHandler()\n",
    "    ])\n",
    "# init logger\n",
    "logger = logging.getLogger()\n",
    "# make logger aware of any uncaught exceptions\n",
    "def handle_exception(exc_type, exc_value, exc_traceback):\n",
    "    if issubclass(exc_type, KeyboardInterrupt):\n",
    "        sys.__excepthook__(exc_type, exc_value, exc_traceback)\n",
    "        return\n",
    "\n",
    "    logger.error(\"Uncaught exception\", exc_info=(exc_type, exc_value, exc_traceback))\n",
    "sys.excepthook = handle_exception"
   ]
  },
  {
   "cell_type": "code",
   "execution_count": 9,
   "metadata": {
    "ExecuteTime": {
     "end_time": "2020-03-20T09:30:57.894444Z",
     "start_time": "2020-03-20T09:30:54.926426Z"
    }
   },
   "outputs": [
    {
     "name": "stderr",
     "output_type": "stream",
     "text": [
      "Using TensorFlow backend.\n"
     ]
    }
   ],
   "source": [
    "from deepvideoclassification.architectures import Architecture"
   ]
  },
  {
   "cell_type": "markdown",
   "metadata": {},
   "source": [
    "# Load Model Params from Experiments Files"
   ]
  },
  {
   "cell_type": "code",
   "execution_count": 10,
   "metadata": {
    "ExecuteTime": {
     "end_time": "2020-03-20T09:30:57.985789Z",
     "start_time": "2020-03-20T09:30:57.982580Z"
    }
   },
   "outputs": [],
   "source": [
    "experiment_batch_name = 'experiment_batch_1'"
   ]
  },
  {
   "cell_type": "code",
   "execution_count": 13,
   "metadata": {
    "ExecuteTime": {
     "end_time": "2020-03-20T09:31:57.495440Z",
     "start_time": "2020-03-20T09:31:57.471700Z"
    }
   },
   "outputs": [],
   "source": [
    "# load list of experiments\n",
    "experiments1 = pd.read_csv(pwd + \"experiments/experiment_batch_1.csv\")\n",
    "experiments2 = pd.read_csv(pwd + \"experiments/experiment_batch_2.csv\")\n",
    "experiments3 = pd.read_csv(pwd + \"experiments/experiment_batch_3.csv\")"
   ]
  },
  {
   "cell_type": "code",
   "execution_count": 14,
   "metadata": {
    "ExecuteTime": {
     "end_time": "2020-03-20T09:32:14.921442Z",
     "start_time": "2020-03-20T09:32:14.909647Z"
    }
   },
   "outputs": [
    {
     "name": "stderr",
     "output_type": "stream",
     "text": [
      "/usr/local/lib/python3.5/dist-packages/ipykernel_launcher.py:1: FutureWarning: Sorting because non-concatenation axis is not aligned. A future version\n",
      "of pandas will change to not sort by default.\n",
      "\n",
      "To accept the future behavior, pass 'sort=False'.\n",
      "\n",
      "To retain the current behavior and silence the warning, pass 'sort=True'.\n",
      "\n",
      "  \"\"\"Entry point for launching an IPython kernel.\n"
     ]
    }
   ],
   "source": [
    "experiments = pd.concat([experiments1, experiments2, experiments2], axis = 0)"
   ]
  },
  {
   "cell_type": "code",
   "execution_count": 16,
   "metadata": {
    "ExecuteTime": {
     "end_time": "2020-03-20T09:32:32.895658Z",
     "start_time": "2020-03-20T09:32:32.891308Z"
    }
   },
   "outputs": [
    {
     "data": {
      "text/plain": [
       "(3068, 12)"
      ]
     },
     "execution_count": 16,
     "metadata": {},
     "output_type": "execute_result"
    }
   ],
   "source": [
    "experiments.shape"
   ]
  },
  {
   "cell_type": "code",
   "execution_count": 36,
   "metadata": {
    "ExecuteTime": {
     "end_time": "2020-03-20T09:39:06.107114Z",
     "start_time": "2020-03-20T09:39:06.101056Z"
    }
   },
   "outputs": [
    {
     "data": {
      "text/plain": [
       "{'WORKER': 5,\n",
       " 'architecture': 'image_MLP_frozen',\n",
       " 'dropout': 0.2,\n",
       " 'layer_1_size': 512,\n",
       " 'layer_2_size': 256,\n",
       " 'layer_3_size': 256,\n",
       " 'model_id': 5,\n",
       " 'pooling': 'max',\n",
       " 'pretrained_model_name': 'inception_resnet_v2',\n",
       " 'sequence_length': 1,\n",
       " 'sequence_model': nan,\n",
       " 'sequence_model_layers': nan}"
      ]
     },
     "execution_count": 36,
     "metadata": {},
     "output_type": "execute_result"
    }
   ],
   "source": [
    "# get experiment params from dataframe row\n",
    "# models_to_run = [5276, 5282, 4489, 5284, 4571, 162]\n",
    "row = 5 # model id to run\n",
    "experiment = dict(zip(experiments.columns, experiments.iloc[row]))\n",
    "experiment"
   ]
  },
  {
   "cell_type": "code",
   "execution_count": 42,
   "metadata": {
    "ExecuteTime": {
     "end_time": "2020-03-20T09:43:48.819153Z",
     "start_time": "2020-03-20T09:43:48.815581Z"
    }
   },
   "outputs": [],
   "source": [
    "experiment1 = {\n",
    "             'architecture': 'video_lrcnn_frozen',\n",
    "             'dropout': 0.2,\n",
    "             'layer_1_size': 256,\n",
    "             'layer_2_size': 512,\n",
    "             'layer_3_size': 256,\n",
    "             'model_id': 1,\n",
    "             'pooling': 'max',\n",
    "             'pretrained_model_name': 'vgg16',\n",
    "             'sequence_length': 20,\n",
    "             'sequence_model': \"LSTM\",\n",
    "             'sequence_model_layers': 2}"
   ]
  },
  {
   "cell_type": "code",
   "execution_count": 43,
   "metadata": {
    "ExecuteTime": {
     "end_time": "2020-03-20T09:43:49.009414Z",
     "start_time": "2020-03-20T09:43:49.006146Z"
    }
   },
   "outputs": [],
   "source": [
    "experiment2 = {\n",
    "             'architecture': 'video_lrcnn_frozen',\n",
    "             'dropout': 0.2,\n",
    "             'layer_1_size': 256,\n",
    "             'layer_2_size': 128,\n",
    "             'layer_3_size': 256,\n",
    "             'model_id': 2,\n",
    "             'pooling': 'max',\n",
    "             'pretrained_model_name': 'vgg16',\n",
    "             'sequence_length': 20,\n",
    "             'sequence_model': \"SimpleRNN\",\n",
    "             'sequence_model_layers': 2}"
   ]
  },
  {
   "cell_type": "code",
   "execution_count": 44,
   "metadata": {
    "ExecuteTime": {
     "end_time": "2020-03-20T09:43:49.284852Z",
     "start_time": "2020-03-20T09:43:49.281252Z"
    }
   },
   "outputs": [],
   "source": [
    "experiment3 = {\n",
    "             'architecture': 'video_lrcnn_frozen',\n",
    "             'dropout': 0.2,\n",
    "             'layer_1_size': 256,\n",
    "             'layer_2_size': 512,\n",
    "             'layer_3_size': 256,\n",
    "             'model_id': 3,\n",
    "             'pooling': 'max',\n",
    "             'pretrained_model_name': 'vgg16',\n",
    "             'sequence_length': 10,\n",
    "             'sequence_model': \"LSTM\",\n",
    "             'sequence_model_layers': 2}"
   ]
  },
  {
   "cell_type": "code",
   "execution_count": 47,
   "metadata": {
    "ExecuteTime": {
     "end_time": "2020-03-20T09:43:52.435795Z",
     "start_time": "2020-03-20T09:43:52.431953Z"
    }
   },
   "outputs": [],
   "source": [
    "experiment4 = {\n",
    "             'architecture': 'video_lrcnn_frozen',\n",
    "             'dropout': 0.2,\n",
    "             'layer_1_size': 256,\n",
    "             'layer_2_size': 512,\n",
    "             'layer_3_size': 256,\n",
    "             'model_id': 4,\n",
    "             'pooling': 'max',\n",
    "             'pretrained_model_name': 'vgg16',\n",
    "             'sequence_length': 20,\n",
    "             'sequence_model': \"SimpleRNN\",\n",
    "             'sequence_model_layers': 2}"
   ]
  },
  {
   "cell_type": "code",
   "execution_count": 48,
   "metadata": {
    "ExecuteTime": {
     "end_time": "2020-03-20T09:43:52.589168Z",
     "start_time": "2020-03-20T09:43:52.585725Z"
    }
   },
   "outputs": [],
   "source": [
    "experiment5 = {\n",
    "             'architecture': 'video_lrcnn_frozen',\n",
    "             'dropout': 0.2,\n",
    "             'layer_1_size': 256,\n",
    "             'layer_2_size': 128,\n",
    "             'layer_3_size': 0,\n",
    "             'model_id': 5,\n",
    "             'pooling': 'max',\n",
    "             'pretrained_model_name': 'vgg16',\n",
    "             'sequence_length': 10,\n",
    "             'sequence_model': \"SimpleRNN\",\n",
    "             'sequence_model_layers': 2}"
   ]
  },
  {
   "cell_type": "code",
   "execution_count": 49,
   "metadata": {
    "ExecuteTime": {
     "end_time": "2020-03-20T09:44:41.274898Z",
     "start_time": "2020-03-20T09:44:41.271622Z"
    }
   },
   "outputs": [],
   "source": [
    "experiment6 = {\n",
    "             'architecture': 'image_mlp_frozen',\n",
    "             'dropout': 0.2,\n",
    "             'layer_1_size': 128,\n",
    "             'layer_2_size': 0,\n",
    "             'layer_3_size': 0,\n",
    "             'model_id': 6,\n",
    "             'pooling': 'max',\n",
    "             'pretrained_model_name': 'resnet50',\n",
    "             'sequence_length': 1,\n",
    "             'sequence_model': \"\",\n",
    "             'sequence_model_layers': \"\"}"
   ]
  },
  {
   "cell_type": "markdown",
   "metadata": {},
   "source": [
    "# Train Model"
   ]
  },
  {
   "cell_type": "code",
   "execution_count": null,
   "metadata": {
    "ExecuteTime": {
     "end_time": "2020-03-20T09:37:54.051072Z",
     "start_time": "2020-03-20T09:37:48.058Z"
    }
   },
   "outputs": [],
   "source": [
    "# delete existing results\n",
    "if os.path.exists(pwd + 'models/' + str(experiment[\"model_id\"]) + '/results.json'):\n",
    "    rmtree(pwd + 'models/' + str(experiment[\"model_id\"]) + '/')"
   ]
  },
  {
   "cell_type": "code",
   "execution_count": 50,
   "metadata": {
    "ExecuteTime": {
     "end_time": "2020-03-20T09:44:51.376337Z",
     "start_time": "2020-03-20T09:44:51.373417Z"
    }
   },
   "outputs": [],
   "source": [
    "experiment = experiment1"
   ]
  },
  {
   "cell_type": "code",
   "execution_count": null,
   "metadata": {
    "ExecuteTime": {
     "start_time": "2020-03-20T09:44:52.059Z"
    },
    "scrolled": false
   },
   "outputs": [
    {
     "name": "stderr",
     "output_type": "stream",
     "text": [
      "2020-03-20 09:44:52,622 [MainThread  ] [INFO ]  Begin experiment for model_id=1 on GPU:0 \n",
      "2020-03-20 09:44:52,624 [MainThread  ] [INFO ]  Loading data\n"
     ]
    },
    {
     "name": "stdout",
     "output_type": "stream",
     "text": [
      "1   XXXXXXXXXXXXXXXXXXXXXXXXXXXXXXXXXXXXXXXXXXXXXXXXXXXXXXXXXXXX\n",
      "{'model_id': 1, 'pretrained_model_name': 'vgg16', 'sequence_model': 'LSTM', 'sequence_length': 20, 'layer_3_size': 256, 'dropout': 0.2, 'layer_2_size': 512, 'sequence_model_layers': 2, 'pooling': 'max', 'architecture': 'video_lrcnn_frozen', 'layer_1_size': 256}\n"
     ]
    },
    {
     "name": "stderr",
     "output_type": "stream",
     "text": [
      "2020-03-20 09:44:52,899 [MainThread  ] [INFO ]  resizing vid 1/46 to 224x224\n",
      "2020-03-20 09:44:54,725 [MainThread  ] [INFO ]  resizing vid 2/46 to 224x224\n",
      "2020-03-20 09:44:57,187 [MainThread  ] [INFO ]  resizing vid 3/46 to 224x224\n",
      "2020-03-20 09:44:58,905 [MainThread  ] [INFO ]  resizing vid 4/46 to 224x224\n",
      "2020-03-20 09:45:00,515 [MainThread  ] [INFO ]  resizing vid 5/46 to 224x224\n",
      "2020-03-20 09:45:04,171 [MainThread  ] [INFO ]  resizing vid 6/46 to 224x224\n",
      "2020-03-20 09:45:05,500 [MainThread  ] [INFO ]  resizing vid 7/46 to 224x224\n",
      "2020-03-20 09:45:08,901 [MainThread  ] [INFO ]  resizing vid 8/46 to 224x224\n",
      "2020-03-20 09:45:10,767 [MainThread  ] [INFO ]  resizing vid 9/46 to 224x224\n",
      "2020-03-20 09:45:13,773 [MainThread  ] [INFO ]  resizing vid 10/46 to 224x224\n",
      "2020-03-20 09:45:17,916 [MainThread  ] [INFO ]  resizing vid 11/46 to 224x224\n",
      "2020-03-20 09:45:21,789 [MainThread  ] [INFO ]  resizing vid 12/46 to 224x224\n",
      "2020-03-20 09:45:23,923 [MainThread  ] [INFO ]  resizing vid 13/46 to 224x224\n",
      "2020-03-20 09:45:25,581 [MainThread  ] [INFO ]  resizing vid 14/46 to 224x224\n",
      "2020-03-20 09:45:29,055 [MainThread  ] [INFO ]  resizing vid 15/46 to 224x224\n",
      "2020-03-20 09:45:30,704 [MainThread  ] [INFO ]  resizing vid 16/46 to 224x224\n",
      "2020-03-20 09:45:32,152 [MainThread  ] [INFO ]  resizing vid 17/46 to 224x224\n",
      "2020-03-20 09:45:34,826 [MainThread  ] [INFO ]  resizing vid 18/46 to 224x224\n",
      "2020-03-20 09:45:39,364 [MainThread  ] [INFO ]  resizing vid 19/46 to 224x224\n",
      "2020-03-20 09:45:46,698 [MainThread  ] [INFO ]  resizing vid 20/46 to 224x224\n",
      "2020-03-20 09:45:48,574 [MainThread  ] [INFO ]  resizing vid 21/46 to 224x224\n",
      "2020-03-20 09:45:50,738 [MainThread  ] [INFO ]  resizing vid 22/46 to 224x224\n",
      "2020-03-20 09:45:53,931 [MainThread  ] [INFO ]  resizing vid 23/46 to 224x224\n",
      "2020-03-20 09:45:56,046 [MainThread  ] [INFO ]  resizing vid 24/46 to 224x224\n",
      "2020-03-20 09:45:58,303 [MainThread  ] [INFO ]  resizing vid 25/46 to 224x224\n",
      "2020-03-20 09:46:01,724 [MainThread  ] [INFO ]  resizing vid 26/46 to 224x224\n",
      "2020-03-20 09:46:03,182 [MainThread  ] [INFO ]  resizing vid 27/46 to 224x224\n",
      "2020-03-20 09:46:04,890 [MainThread  ] [INFO ]  resizing vid 28/46 to 224x224\n",
      "2020-03-20 09:46:06,522 [MainThread  ] [INFO ]  resizing vid 29/46 to 224x224\n",
      "2020-03-20 09:46:10,737 [MainThread  ] [INFO ]  resizing vid 30/46 to 224x224\n",
      "2020-03-20 09:46:14,054 [MainThread  ] [INFO ]  resizing vid 31/46 to 224x224\n",
      "2020-03-20 09:46:20,648 [MainThread  ] [INFO ]  resizing vid 32/46 to 224x224\n",
      "2020-03-20 09:46:23,366 [MainThread  ] [INFO ]  resizing vid 33/46 to 224x224\n",
      "2020-03-20 09:46:25,117 [MainThread  ] [INFO ]  resizing vid 34/46 to 224x224\n",
      "2020-03-20 09:46:28,102 [MainThread  ] [INFO ]  resizing vid 35/46 to 224x224\n"
     ]
    }
   ],
   "source": [
    "print(str(experiment[\"model_id\"]) + \"   \" + \"X\"*60)\n",
    "logging.info(\"Begin experiment for model_id={} on GPU:{} \".format(experiment['model_id'], os.environ[\"CUDA_VISIBLE_DEVICES\"]))\n",
    "print(experiment)\n",
    "\n",
    "architecture = Architecture(model_id = experiment['model_id'], \n",
    "                            architecture = experiment['architecture'], \n",
    "                            sequence_length = experiment['sequence_length'], \n",
    "                            pretrained_model_name = experiment['pretrained_model_name'],\n",
    "                            pooling = experiment['pooling'],\n",
    "                            sequence_model = experiment['sequence_model'],\n",
    "                            sequence_model_layers = experiment['sequence_model_layers'],\n",
    "                            layer_1_size = experiment['layer_1_size'],\n",
    "                            layer_2_size = experiment['layer_2_size'],\n",
    "                            layer_3_size = experiment['layer_3_size'],\n",
    "                            dropout = experiment['dropout'],\n",
    "                            verbose=True)\n",
    "\n",
    "architecture.train_model()\n",
    "\n",
    "gc.collect()"
   ]
  },
  {
   "cell_type": "code",
   "execution_count": null,
   "metadata": {},
   "outputs": [],
   "source": []
  },
  {
   "cell_type": "code",
   "execution_count": null,
   "metadata": {},
   "outputs": [],
   "source": []
  }
 ],
 "metadata": {
  "kernelspec": {
   "display_name": "Python 3",
   "language": "python",
   "name": "python3"
  },
  "language_info": {
   "codemirror_mode": {
    "name": "ipython",
    "version": 3
   },
   "file_extension": ".py",
   "mimetype": "text/x-python",
   "name": "python",
   "nbconvert_exporter": "python",
   "pygments_lexer": "ipython3",
   "version": "3.5.3"
  }
 },
 "nbformat": 4,
 "nbformat_minor": 2
}
