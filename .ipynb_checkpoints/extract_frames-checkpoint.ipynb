{
 "cells": [
  {
   "cell_type": "code",
   "execution_count": 1,
   "metadata": {
    "ExecuteTime": {
     "end_time": "2019-01-05T12:42:07.575951Z",
     "start_time": "2019-01-05T12:42:07.272939Z"
    }
   },
   "outputs": [],
   "source": [
    "import numpy as np\n",
    "import cv2\n",
    "from time import time as timer\n",
    "import sys\n",
    "import os"
   ]
  },
  {
   "cell_type": "code",
   "execution_count": 2,
   "metadata": {
    "ExecuteTime": {
     "end_time": "2019-01-05T12:42:07.582240Z",
     "start_time": "2019-01-05T12:42:07.578649Z"
    }
   },
   "outputs": [],
   "source": [
    "# read video paths\n",
    "paths = os.listdir('videos/')\n",
    "paths = ['videos/' + v for v in paths if v != '.DS_Store']"
   ]
  },
  {
   "cell_type": "code",
   "execution_count": 3,
   "metadata": {
    "ExecuteTime": {
     "end_time": "2019-01-05T12:42:09.384993Z",
     "start_time": "2019-01-05T12:42:09.382112Z"
    }
   },
   "outputs": [],
   "source": [
    "# set desired output FPS\n",
    "fps_output = 2"
   ]
  },
  {
   "cell_type": "code",
   "execution_count": null,
   "metadata": {
    "ExecuteTime": {
     "start_time": "2019-01-05T12:42:15.346Z"
    }
   },
   "outputs": [
    {
     "name": "stdout",
     "output_type": "stream",
     "text": [
      "20150827_8B_2\n",
      "Extracting frames from video 1/9\n",
      "video FPS 59.63523257457938\n",
      "20161014_no8_3\n",
      "Extracting frames from video 2/9\n",
      "video FPS 29.819385878653534\n"
     ]
    }
   ],
   "source": [
    "if not os.path.exists(\"frames\"):\n",
    "    os.makedirs(\"frames\")\n",
    "\n",
    "for c, path in enumerate(paths):\n",
    "\n",
    "    # extract video filename from path\n",
    "    filename = path.split(\"/\")[1].split(\".\")[0]\n",
    "    print(filename)\n",
    "    \n",
    "    if not os.path.exists(\"frames/\" + filename):\n",
    "\n",
    "        print(\"Extracting frames from video {}/{}\".format(c+1,len(paths)))\n",
    "\n",
    "        # create directory for this video's frames\n",
    "        os.makedirs(\"frames/\" + filename)\n",
    "\n",
    "        # open video\n",
    "        vidcap = cv2.VideoCapture(path)\n",
    "\n",
    "        # get fps\n",
    "        print(\"video FPS {}\".format(vidcap.get(cv2.CAP_PROP_FPS)))\n",
    "        fps = round(vidcap.get(cv2.CAP_PROP_FPS))\n",
    "        fps_savecheck = round(fps/fps_output) \n",
    "\n",
    "        # read frames and save to images at fps_save\n",
    "        success,image = vidcap.read()\n",
    "        count_frame = 0\n",
    "        count_saved = 0\n",
    "        success = True\n",
    "        while success:\n",
    "            # save frame at desired framerate, indexing filename from 0\n",
    "            if (count_frame % fps_savecheck == 0):\n",
    "                cv2.imwrite(\"frames/\" + filename + '/' + filename + \"_%06d.jpg\" % count_saved, image)\n",
    "                count_saved += 1\n",
    "            success,image = vidcap.read()\n",
    "            count_frame += 1\n",
    "\n",
    "        # close video file\n",
    "        vidcap.release()\n",
    "        \n",
    "    else:\n",
    "        print(\"Frames already extracted from video {}/{}\".format(c+1,len(paths)))"
   ]
  },
  {
   "cell_type": "code",
   "execution_count": null,
   "metadata": {
    "ExecuteTime": {
     "start_time": "2019-01-05T12:42:16.860Z"
    }
   },
   "outputs": [],
   "source": [
    "print(\"Done extracting frames from {} videos\".format(len(paths)))"
   ]
  },
  {
   "cell_type": "code",
   "execution_count": null,
   "metadata": {},
   "outputs": [],
   "source": []
  }
 ],
 "metadata": {
  "kernelspec": {
   "display_name": "Python 3",
   "language": "python",
   "name": "python3"
  },
  "language_info": {
   "codemirror_mode": {
    "name": "ipython",
    "version": 3
   },
   "file_extension": ".py",
   "mimetype": "text/x-python",
   "name": "python",
   "nbconvert_exporter": "python",
   "pygments_lexer": "ipython3",
   "version": "3.5.3"
  }
 },
 "nbformat": 4,
 "nbformat_minor": 2
}
