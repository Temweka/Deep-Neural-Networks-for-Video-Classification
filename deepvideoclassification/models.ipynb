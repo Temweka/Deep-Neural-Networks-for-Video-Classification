{
 "cells": [
  {
   "cell_type": "code",
   "execution_count": 1,
   "metadata": {
    "ExecuteTime": {
     "end_time": "2019-01-06T19:13:40.192156Z",
     "start_time": "2019-01-06T19:13:40.188052Z"
    }
   },
   "outputs": [],
   "source": [
    "### TODO\n",
    "# * check base model outputs without pooling\n",
    "# * edit image MLPs to assume sequence_length of 1"
   ]
  },
  {
   "cell_type": "code",
   "execution_count": 7,
   "metadata": {
    "ExecuteTime": {
     "end_time": "2019-01-06T19:13:48.769562Z",
     "start_time": "2019-01-06T19:13:48.766787Z"
    }
   },
   "outputs": [],
   "source": [
    "# whether to log each feature and sequence status\n",
    "verbose = 1"
   ]
  },
  {
   "cell_type": "code",
   "execution_count": 9,
   "metadata": {
    "ExecuteTime": {
     "end_time": "2019-01-06T19:14:01.463728Z",
     "start_time": "2019-01-06T19:14:01.459951Z"
    }
   },
   "outputs": [],
   "source": [
    "import os\n",
    "import pandas as pd\n",
    "import numpy as np\n",
    "from PIL import Image\n",
    "import json\n",
    "import cv2\n",
    "import sys\n",
    "sys.path.append('..')"
   ]
  },
  {
   "cell_type": "code",
   "execution_count": 10,
   "metadata": {
    "ExecuteTime": {
     "end_time": "2019-01-06T19:14:01.606602Z",
     "start_time": "2019-01-06T19:14:01.603726Z"
    }
   },
   "outputs": [],
   "source": [
    "# import pretrained model functions\n",
    "from deepvideoclassification.data import Data"
   ]
  },
  {
   "cell_type": "code",
   "execution_count": 141,
   "metadata": {
    "ExecuteTime": {
     "end_time": "2019-01-06T20:10:38.665981Z",
     "start_time": "2019-01-06T20:10:38.660762Z"
    }
   },
   "outputs": [],
   "source": [
    "from keras import backend as K\n",
    "from keras.callbacks import EarlyStopping, ModelCheckpoint, CSVLogger, TensorBoard\n",
    "from keras.layers import Dense, Flatten, Dropout, ZeroPadding3D\n",
    "from keras.layers.recurrent import LSTM, SimpleRNN, GRU\n",
    "from keras.layers.wrappers import TimeDistributed\n",
    "from keras.layers.convolutional import Conv2D, MaxPooling3D, Conv3D, MaxPooling2D, Convolution1D, Convolution3D, MaxPooling3D, ZeroPadding3D\n",
    "from keras.models import Sequential, Model, load_model\n",
    "from keras.optimizers import Adam, RMSprop"
   ]
  },
  {
   "cell_type": "code",
   "execution_count": 12,
   "metadata": {
    "ExecuteTime": {
     "end_time": "2019-01-06T19:14:02.127091Z",
     "start_time": "2019-01-06T19:14:02.123788Z"
    }
   },
   "outputs": [],
   "source": [
    "# setup paths\n",
    "pwd = os.getcwd().replace(\"deepvideoclassification\",\"\")\n",
    "path_cache = pwd + 'cache/'\n",
    "path_data = pwd + 'data/'"
   ]
  },
  {
   "cell_type": "code",
   "execution_count": 13,
   "metadata": {
    "ExecuteTime": {
     "end_time": "2019-01-06T19:14:02.344765Z",
     "start_time": "2019-01-06T19:14:02.340334Z"
    }
   },
   "outputs": [],
   "source": [
    "# setup logging\n",
    "import logging\n",
    "logging.basicConfig(\n",
    "    level=logging.INFO,\n",
    "    format=\"%(asctime)s [%(threadName)-12.12s] [%(levelname)-5.5s]  %(message)s\",\n",
    "    handlers=[\n",
    "        logging.FileHandler(\"{0}/{1}.log\".format(pwd, \"logs\")),\n",
    "        logging.StreamHandler()\n",
    "    ])\n",
    "logger = logging.getLogger()"
   ]
  },
  {
   "cell_type": "markdown",
   "metadata": {
    "heading_collapsed": true
   },
   "source": [
    "# Pretrained_CNNs"
   ]
  },
  {
   "cell_type": "code",
   "execution_count": 14,
   "metadata": {
    "ExecuteTime": {
     "end_time": "2019-01-06T19:14:03.518992Z",
     "start_time": "2019-01-06T19:14:03.514980Z"
    },
    "hidden": true
   },
   "outputs": [],
   "source": [
    "# pretrained model shapes\n",
    "pretrained_model_len_features = {}\n",
    "#\n",
    "pretrained_model_len_features['vgg16'] = 512\n",
    "#\n",
    "pretrained_model_len_features['mobilenetv2_1.00_224'] = 1280\n",
    "#\n",
    "pretrained_model_len_features['inception_resnet_v2'] = 1536\n",
    "#\n",
    "pretrained_model_len_features['resnet50'] = 2048\n",
    "pretrained_model_len_features['xception'] = 2048\n",
    "pretrained_model_len_features['inception_v3'] = 2048"
   ]
  },
  {
   "cell_type": "code",
   "execution_count": 15,
   "metadata": {
    "ExecuteTime": {
     "end_time": "2019-01-06T19:14:03.706811Z",
     "start_time": "2019-01-06T19:14:03.702796Z"
    },
    "hidden": true
   },
   "outputs": [],
   "source": [
    "# pretrained model shapes\n",
    "pretrained_model_sizes = {}\n",
    "#\n",
    "pretrained_model_sizes['vgg16'] = (224,224)\n",
    "pretrained_model_sizes['resnet50'] = (224,224)\n",
    "pretrained_model_sizes['mobilenetv2_1.00_224'] = (224,224)\n",
    "#\n",
    "pretrained_model_sizes['xception'] = (299,299)\n",
    "pretrained_model_sizes['inception_v3'] = (299,299)\n",
    "pretrained_model_sizes['inception_resnet_v2'] = (299,299)"
   ]
  },
  {
   "cell_type": "code",
   "execution_count": 16,
   "metadata": {
    "ExecuteTime": {
     "end_time": "2019-01-06T19:14:03.876752Z",
     "start_time": "2019-01-06T19:14:03.873400Z"
    },
    "hidden": true
   },
   "outputs": [],
   "source": [
    "pretrained_model_names = [\"inception_resnet_v2\", \"inception_v3\", \"mobilenetv2_1.00_224\", \"resnet50\", \"vgg16\", \"xception\"]\n",
    "poolings = ['max','avg']"
   ]
  },
  {
   "cell_type": "code",
   "execution_count": 17,
   "metadata": {
    "ExecuteTime": {
     "end_time": "2019-01-06T19:14:04.073181Z",
     "start_time": "2019-01-06T19:14:04.066233Z"
    },
    "hidden": true
   },
   "outputs": [],
   "source": [
    "def load_pretrained_model(pretrained_model_name, pooling):\n",
    "    \"\"\" Load pretrained model with given pooling applied\n",
    "    \n",
    "    Args:\n",
    "        pretrained_model: name of pretrained model [\"Xception\", \"VGG16\", \"ResNet50\", \"InceptionV3\", \"InceptionResNetV2\", \"MobileNetV2\"]\n",
    "        pooling: pooling strategy for final pretrained model layer [\"max\",\"avg\"]\n",
    "    \n",
    "    Returns:\n",
    "        Pretrained model object (excluding dense softmax 1000 ImageNet classes layer)\n",
    "    \"\"\"\n",
    "    \n",
    "    # initialize output\n",
    "    model = None\n",
    "    \n",
    "    pretrained_model_name = pretrained_model_name.lower()\n",
    "    \n",
    "    ###########################\n",
    "    ### import pretrained model\n",
    "    ###########################\n",
    "    if pretrained_model_name == \"xception\":   \n",
    "        from keras.applications.xception import Xception\n",
    "        model = Xception(include_top=False, weights='imagenet', pooling=pooling)\n",
    "    elif pretrained_model_name == \"vgg16\":   \n",
    "        from keras.applications.vgg16 import VGG16\n",
    "        model = VGG16(include_top=False, weights='imagenet', pooling=pooling)\n",
    "    elif pretrained_model_name == \"resnet50\":   \n",
    "        from keras.applications.resnet50 import ResNet50\n",
    "        model = ResNet50(include_top=False, weights='imagenet', pooling=pooling)\n",
    "    elif pretrained_model_name == \"inception_v3\":   \n",
    "        from keras.applications.inception_v3 import InceptionV3\n",
    "        model = InceptionV3(include_top=False, weights='imagenet', pooling=pooling)\n",
    "    elif pretrained_model_name == \"inception_resnet_v2\":   \n",
    "        from keras.applications.inception_resnet_v2 import InceptionResNetV2\n",
    "        model = InceptionResNetV2(include_top=False, weights='imagenet', pooling=pooling)\n",
    "    elif pretrained_model_name == \"mobilenetv2_1.00_224\":   \n",
    "        from keras.applications.mobilenet_v2 import MobileNetV2\n",
    "        model = MobileNetV2(include_top=False, weights='imagenet', pooling=pooling)\n",
    "    else:\n",
    "        raise NameError('Invalid pretrained model name - must be one of [\"Xception\", \"VGG16\", \"ResNet50\", \"InceptionV3\", \"InceptionResNetV2\", \"MobileNetV2\"]')\n",
    "    \n",
    "    return model"
   ]
  },
  {
   "cell_type": "code",
   "execution_count": 18,
   "metadata": {
    "ExecuteTime": {
     "end_time": "2019-01-06T19:14:04.321192Z",
     "start_time": "2019-01-06T19:14:04.315545Z"
    },
    "hidden": true
   },
   "outputs": [],
   "source": [
    "def load_pretrained_model_preprocessor(pretrained_model_name):\n",
    "    \"\"\"\n",
    "    Return preprocessing function for a given pretrained model\n",
    "    \"\"\"\n",
    "\n",
    "    preprocess_input = None\n",
    "\n",
    "    pretrained_model_name = pretrained_model_name.lower()\n",
    "        \n",
    "    if pretrained_model_name == \"xception\":   \n",
    "        from keras.applications.xception import preprocess_input\n",
    "    elif pretrained_model_name == \"vgg16\":   \n",
    "        from keras.applications.vgg16 import preprocess_input\n",
    "    elif pretrained_model_name == \"resnet50\":   \n",
    "        from keras.applications.resnet50 import preprocess_input\n",
    "    elif pretrained_model_name == \"inception_v3\":   \n",
    "        from keras.applications.inception_v3 import preprocess_input\n",
    "    elif pretrained_model_name == \"inception_resnet_v2\":   \n",
    "        from keras.applications.inception_resnet_v2 import preprocess_input\n",
    "    elif pretrained_model_name == \"mobilenetv2_1.00_224\":   \n",
    "        from keras.applications.mobilenet_v2 import preprocess_input\n",
    "    else:\n",
    "        raise NameError('Invalid pretrained model name - must be one of [\"Xception\", \"VGG16\", \"ResNet50\", \"InceptionV3\", \"InceptionResNetV2\", \"MobileNetV2\"]')\n",
    "        \n",
    "    return preprocess_input"
   ]
  },
  {
   "cell_type": "code",
   "execution_count": 19,
   "metadata": {
    "ExecuteTime": {
     "end_time": "2019-01-06T19:14:04.627852Z",
     "start_time": "2019-01-06T19:14:04.617568Z"
    },
    "hidden": true
   },
   "outputs": [],
   "source": [
    "def precompute_CNN_features(pretrained_model_name, pooling):\n",
    "    \"\"\" Save pretrained features array computed over all frames of each video using given pretrained model and pooling method\n",
    "    \n",
    "    Args:\n",
    "        pretrained_model_name: pretrained model object loaded using `load_pretrained_model`\n",
    "        pooling: pooling method used with pretrained model\n",
    "    \n",
    "    Returns:\n",
    "        None. Saves pretrained frames to `/cache/features/*pretrained_model_name*/*pooling*/*video_name*.npy`\n",
    "    \"\"\"\n",
    "    \n",
    "    pretrained_model_name = pretrained_model_name.lower()\n",
    "    \n",
    "    # setup path to save features\n",
    "    path_features = path_cache + 'features/' + pretrained_model_name + \"/\" + pooling + '/'\n",
    "    \n",
    "    if not os.path.exists(path_features):\n",
    "        \n",
    "        os.makedirs(path_features)\n",
    "        \n",
    "        # load pretrained model\n",
    "        pretrained_model = load_pretrained_model(pretrained_model_name, pooling)\n",
    "\n",
    "        # load preprocessing function\n",
    "        preprocess_input = load_pretrained_model_preprocessor(pretrained_model_name)\n",
    "\n",
    "        # lookup pretrained model input shape\n",
    "        model_input_size = pretrained_model_sizes[pretrained_model_name]\n",
    "        \n",
    "        # precompute features for each video using pretrained model\n",
    "        path_videos = get_video_paths()\n",
    "\n",
    "        for c, path_video in enumerate(path_videos):\n",
    "\n",
    "            if verbose:\n",
    "                logging.info(\"Computing pretrained model features for video {}/{} using pretrained model: {}, pooling: {}\".format(c+1,len(path_videos),pretrained_model_name, pooling))\n",
    "\n",
    "            # get video name from video path\n",
    "            video_name = path_video.split(\"/\")[-2]\n",
    "\n",
    "            # build output path\n",
    "            path_output = path_features + video_name\n",
    "\n",
    "            try:\n",
    "                if not os.path.exists(path_output + '.npy'):\n",
    "\n",
    "                    path_frames = path_data + video_name + \"/\"\n",
    "\n",
    "                    # initialize features list\n",
    "                    features = []\n",
    "\n",
    "                    frame_paths = os.listdir(path_frames)\n",
    "                    frame_paths = [path_frames + f for f in frame_paths if f != '.DS_Store']\n",
    "\n",
    "                    # sort paths in sequence (they were created with incrementing filenames through time)\n",
    "                    frame_paths.sort()\n",
    "\n",
    "                    # load each frame in vid and get features\n",
    "                    for j, frame_path in enumerate(frame_paths):\n",
    "\n",
    "                        # load image & preprocess\n",
    "                        image = cv2.imread(frame_path, cv2.COLOR_BGR2RGB)\n",
    "                        img = cv2.resize(image, model_input_size, interpolation=cv2.INTER_AREA)\n",
    "                        img = img_to_array(img)\n",
    "                        img = np.expand_dims(img, axis=0)\n",
    "                        img = preprocess_input(img)\n",
    "\n",
    "                        # get features from pretrained model\n",
    "                        feature = pretrained_model.predict(img).ravel()\n",
    "                        features.append(feature)\n",
    "\n",
    "                    # convert to arrays\n",
    "                    features = np.array(features)\n",
    "\n",
    "                    np.save(path_output, features)\n",
    "                else:\n",
    "                    if verbose:\n",
    "                        logger.info(\"Features already cached: {}\".format(path_output))\n",
    "\n",
    "            except Exception as e:\n",
    "                logging.error(\"Error precomputing features {} / {},{}\".format(video_namepretrained_model_name, pooling))\n",
    "                logging.fatal(e, exc_info=True)\n",
    "                \n",
    "    else:\n",
    "        if verbose:\n",
    "            logger.info(\"Features already cached: {}\".format(path_features))"
   ]
  },
  {
   "cell_type": "markdown",
   "metadata": {},
   "source": [
    "# Image/video classification architecture object (contains keras model object) "
   ]
  },
  {
   "cell_type": "code",
   "execution_count": 324,
   "metadata": {
    "ExecuteTime": {
     "end_time": "2019-01-06T21:49:59.564646Z",
     "start_time": "2019-01-06T21:49:59.527285Z"
    }
   },
   "outputs": [],
   "source": [
    "class Architecture(object):\n",
    "    \n",
    "    def __init__(self, architecture, sequence_length, num_classes, frame_size, \n",
    "                pretrained_model_name = None, pooling = None,\n",
    "                sequence_model = None, sequence_model_layers = 1,\n",
    "                layer_1_size = 0, layer_2_size = 0, layer_3_size = 0, \n",
    "                dropout = 0):\n",
    "        \"\"\"\n",
    "        Model object constructor. Architecture can be one of: \n",
    "        image_MLP_frozen, image_MLP_trainable, video_MLP_concat, \n",
    "        video_LRCNN_frozen, video_LRCNN_trainable, 3DCNN\n",
    "        \n",
    "        :architecture: architecture of model in [image_MLP_frozen, image_MLP_trainable, video_MLP_concat, video_LRCNN_frozen, video_LRCNN_trainable, 3DCNN]\n",
    "        \n",
    "        :sequence_length: number of frames in sequence to be returned by Data object\n",
    "        :num_classes: number of classes to predict\n",
    "        :frame_size: size that frames are resized to (different models / architectures accept different input sizes)\n",
    "\n",
    "        :pretrained_model_name: name of pretrained model (or None if not using pretrained model e.g. for 3D-CNN)\n",
    "        :pooling: name of pooling variant (or None if not using pretrained model e.g. for 3D-CNN or if fitting more non-dense layers on top of pretrained model base)\n",
    "        \n",
    "        :sequence_model: sequence model in [LSTM, SimpleRNN, GRU, Convolution1D]\n",
    "        :sequence_model_layers: default to 1, can be stacked 2 or 3 (but less than 4) layer sequence model (assume always stacking the same sequence model, not mixing LSTM and GRU, for example)\n",
    "        \n",
    "        :layer_1_size: number of neurons in layer 1\n",
    "        :layer_2_size: number of neurons in layer 2\n",
    "        :layer_3_size: number of neurons in layer 3\n",
    "        \n",
    "        :dropout: amount of dropout to add (same amount throughout)\n",
    "        \"\"\"\n",
    "    \n",
    "        # required params\n",
    "        self.sequence_length = sequence_length\n",
    "        self.frame_size = frame_size\n",
    "        self.num_classes = num_classes\n",
    "        \n",
    "        # model architecture params\n",
    "        self.architecture = architecture\n",
    "        self.pretrained_model_name = pretrained_model_name\n",
    "        self.pooling = pooling\n",
    "        self.sequence_model = sequence_model\n",
    "        self.sequence_model_layers = sequence_model_layers\n",
    "        #\n",
    "        self.layer_1_size = layer_1_size\n",
    "        self.layer_2_size = layer_2_size\n",
    "        self.layer_3_size = layer_3_size\n",
    "        self.dropout = dropout\n",
    "        \n",
    "        # fix case sensitivity\n",
    "        if type(self.architecture) == str:\n",
    "            self.architecture = self.architecture.lower()\n",
    "        if type(self.pretrained_model_name) == str:\n",
    "            self.pretrained_model_name = self.pretrained_model_name.lower()\n",
    "        if type(self.pooling) == str:\n",
    "            self.pooling = self.pooling.lower()\n",
    "        \n",
    "        # read num features from pretrained model\n",
    "        if pretrained_model_name is not None:\n",
    "            self.num_features = pretrained_model_len_features[pretrained_model_name]\n",
    "        \n",
    "        model = None\n",
    "        \n",
    "        if architecture == \"image_MLP_frozen\":\n",
    "            \n",
    "            ####################\n",
    "            ### image_MLP_frozen\n",
    "            ####################\n",
    "            # image classification (single frame)\n",
    "            # train MLP on top of weights extracted from pretrained CNN with no fine-tuning\n",
    "            \n",
    "            # check inputs\n",
    "            assert self.sequence_length == 1, \"image_MLP_frozen requires sequence length of 1\"\n",
    "            assert self.pretrained_model_name is not None, \"image_MLP_frozen requires a pretrained_model_name input\" \n",
    "            \n",
    "            # init model\n",
    "            model = Sequential()\n",
    "\n",
    "            # 1st layer group\n",
    "            if self.layer_1_size > 0:\n",
    "                model.add(Dense(self.layer_1_size, activation='relu', input_shape=(self.num_features,)))\n",
    "                if self.dropout > 0:\n",
    "                    model.add(Dropout(self.dropout))\n",
    "                \n",
    "            # 2nd layer group\n",
    "            if self.layer_2_size > 0 and self.layer_1_size > 0:\n",
    "                model.add(Dense(self.layer_2_size, activation='relu'))\n",
    "                if self.dropout > 0:\n",
    "                    model.add(Dropout(self.dropout))\n",
    "\n",
    "            # 3rd layer group\n",
    "            if self.layer_3_size > 0 and self.layer_2_size > 0 and self.layer_1_size > 0:\n",
    "                model.add(Dense(self.layer_3_size, activation='relu'))\n",
    "                if dropout > 0:\n",
    "                    model.add(Dropout(self.dropout))\n",
    "\n",
    "            # classifier layer\n",
    "            model.add(Dense(self.num_classes, activation='softmax'))\n",
    "\n",
    "        elif architecture == \"image_MLP_trainable\":\n",
    "            \n",
    "            #######################\n",
    "            ### image_MLP_trainable\n",
    "            #######################\n",
    "            # image classification (single frame)\n",
    "            # fine-tune pretrained CNN with MLP on top\n",
    "            #\n",
    "            # start off freezing base CNN layers then will unfreeze \n",
    "            # after each training round\n",
    "            #\n",
    "            # we will ultimately want to compare our best fine-tuned \n",
    "            # CNN as a feature extractor vs fixed ImageNet pretrained CNN features\n",
    "            \n",
    "            # check inputs\n",
    "            assert self.sequence_length == 1, \"image_MLP_trainable requires sequence length of 1\"\n",
    "            assert self.pretrained_model_name is not None, \"image_MLP_trainable requires a pretrained_model_name input\" \n",
    "            assert self.pooling is not None, \"image_MLP_trainable requires a pooling input\" \n",
    "            \n",
    "            \n",
    "            # create the base pre-trained model\n",
    "            model_base = load_pretrained_model(self.pretrained_model_name, pooling=self.pooling)\n",
    "\n",
    "            # freeze base model layers (will unfreeze after train top)\n",
    "            for l in model_base.layers:\n",
    "                l.trainable=False\n",
    "\n",
    "            # use Keras functional API\n",
    "            model_top = base_model.output\n",
    "\n",
    "            # note layer names are there so we can exclude those layers \n",
    "            # when setting base model layers to trainable\n",
    "\n",
    "            # 1st layer group\n",
    "            if self.layer_1_size > 0:\n",
    "                model_top = Dense(self.layer_1_size, activation=\"relu\", name='top_a')(model_top)\n",
    "                if self.dropout > 0:\n",
    "                    model_top = Dropout(self.dropout, name='top_b')(model_top)\n",
    "\n",
    "            # 2nd layer group\n",
    "            if self.layer_2_size > 0 and self.layer_1_size > 0:\n",
    "                model_top = Dense(self.layer_2_size, activation=\"relu\", name='top_c')(model_top)\n",
    "                if self.dropout > 0:\n",
    "                    model_top = Dropout(self.dropout, name='top_d')(model_top)\n",
    "\n",
    "            # 3rd layer group\n",
    "            if self.layer_3_size > 0 and self.layer_2_size > 0 and self.layer_1_size > 0:\n",
    "                model_top = Dense(self.layer_3_size, activation=\"relu\", name='top_e')(model_top)\n",
    "                if self.dropout > 0:\n",
    "                    model_top = Dropout(self.dropout, name='top_f')(model_top)\n",
    "\n",
    "            # classifier layer\n",
    "            model_predictions = Dense(self.num_classes, activation=\"softmax\", name='top_g')(model_top)\n",
    "\n",
    "            # combine base and top models into single model object\n",
    "            model = Model(inputs=base_model.input, outputs=model_predictions)\n",
    "                \n",
    "        elif architecture == \"video_MLP_concat\":\n",
    "\n",
    "            ####################\n",
    "            ### video_MLP_concat\n",
    "            ####################\n",
    "            \n",
    "            # video classification\n",
    "            # concatenate all frames in sequence and train MLP on top of concatenated frame input\n",
    "            \n",
    "            print('TODO')\n",
    "            \n",
    "        elif architecture == \"video_LRCNN_frozen\":\n",
    "\n",
    "            ######################\n",
    "            ### video_LRCNN_frozen\n",
    "            ######################\n",
    "            \n",
    "            # Implement:\n",
    "            # “Long-Term Recurrent Convolutional Networks for Visual Recognition and Description.”\n",
    "            # Donahue, Jeff, Lisa Anne Hendricks, Marcus Rohrbach, Subhashini Venugopalan, \n",
    "            # Sergio Guadarrama, Kate Saenko, and Trevor Darrell.  \n",
    "            # Proceedings of the IEEE Computer Society Conference on Computer Vision and \n",
    "            # Pattern Recognition, 2015, 2625–34.\n",
    "            #\n",
    "            # Essentially they extract features with fine-tuned CNN then fit recurrent models on top\n",
    "            # in the paper they only use LSTM but we will also try RNN, GRU and 1-D CNN\n",
    "            # \n",
    "            # note: no fine-tuning of CNN in this frozen LRCNN architecture\n",
    "            # \n",
    "            # implementation inspired by:\n",
    "            # https://github.com/sagarvegad/Video-Classification-CNN-and-LSTM-/blob/master/train_CNN_RNN.py\n",
    "\n",
    "            \n",
    "            # check inputs\n",
    "            assert self.sequence_length > 1, \"video_LRCNN_frozen requires sequence length > 1\"\n",
    "            assert self.layer_1_size > 0, \"video_LRCNN_frozen requires a layer_1_size > 0\" \n",
    "            assert self.pretrained_model_name is not None, \"video_LRCNN_frozen requires a pretrained_model_name input\" \n",
    "            assert self.pooling is not None, \"video_LRCNN_frozen requires a pooling input\" \n",
    "            assert self.sequence_model_layers >= 1, \"video_LRCNN_frozen requires sequence_model_layers >= 1\" \n",
    "            assert self.sequence_model_layers < 4, \"video_LRCNN_frozen requires sequence_model_layers <= 3\" \n",
    "            assert self.sequence_model is not None, \"video_LRCNN_frozen requires a sequence_model\" \n",
    "\n",
    "            \n",
    "            # set whether to return sequences for stacked sequence models\n",
    "            return_sequences_1, return_sequences_2 = False, False\n",
    "            if sequence_model_layers > 1 and layer_2_size > 0:\n",
    "                return_sequences_1 = True\n",
    "            if sequence_model_layers == 2 and layer_3_size > 0 and layer_2_size > 0:\n",
    "                return_sequences_2 = True\n",
    "                \n",
    "            #LSTM, SimpleRNN, GRU, Convolution1D\n",
    "            \n",
    "            # init model\n",
    "            model = Sequential()\n",
    "\n",
    "            # layer 1 (sequence layer)\n",
    "            if sequence_model == \"LSTM\":\n",
    "                model.add(LSTM(self.layer_1_size, return_sequences=return_sequences_1, dropout=self.dropout, \n",
    "                               input_shape=(self.sequence_length, self.num_features)))\n",
    "            elif sequence_model == \"SimpleRNN\":\n",
    "                model.add(SimpleRNN(self.layer_1_size, return_sequences=return_sequences_1, dropout=self.dropout, \n",
    "                               input_shape=(self.sequence_length, self.num_features)))\n",
    "            elif sequence_model == \"GRU\":\n",
    "                model.add(GRU(self.layer_1_size, return_sequences=return_sequences_1, dropout=self.dropout, \n",
    "                               input_shape=(self.sequence_length, self.num_features)))\n",
    "            elif sequence_model == \"Convolution1D\":\n",
    "                model.add(Convolution1D(self.layer_1_size, return_sequences=return_sequences_1, dropout=self.dropout, \n",
    "                               input_shape=(self.sequence_length, self.num_features)))\n",
    "            else:\n",
    "                raise NameError('Invalid sequence_model - must be one of [LSTM, SimpleRNN, GRU, Convolution1D]')    \n",
    "\n",
    "            # layer 2 (sequential or dense)\n",
    "            if layer_2_size > 0:\n",
    "                if return_sequences_1 == False:\n",
    "                    model.add(Dropout(self.dropout))\n",
    "                    model.add(Dense(self.layer_2_size, activation='relu'))\n",
    "                    if layer_3_size == 0:\n",
    "                        model.add(Flatten())\n",
    "                else:\n",
    "                    if sequence_model == \"LSTM\":\n",
    "                        model.add(LSTM(self.layer_2_size, return_sequences=return_sequences_2, dropout=self.dropout))\n",
    "                    elif sequence_model == \"SimpleRNN\":\n",
    "                        model.add(SimpleRNN(self.layer_2_size, return_sequences=return_sequences_2, dropout=self.dropout))\n",
    "                    elif sequence_model == \"GRU\":\n",
    "                        model.add(GRU(self.layer_2_size, return_sequences=return_sequences_2, dropout=self.dropout))\n",
    "                    elif sequence_model == \"Convolution1D\":\n",
    "                        model.add(Convolution1D(self.layer_2_size, return_sequences=return_sequences_2, dropout=self.dropout))\n",
    "                    else:\n",
    "                        raise NameError('Invalid sequence_model - must be one of [LSTM, SimpleRNN, GRU, Convolution1D]') \n",
    "\n",
    "            # layer 3 (sequential or dense)\n",
    "            if layer_3_size > 0:\n",
    "                if sequence_model_layers < 3:\n",
    "                    model.add(Dropout(self.dropout))\n",
    "                    model.add(Dense(self.layer_3_size, activation='relu'))\n",
    "                else:\n",
    "                    if sequence_model == \"LSTM\":\n",
    "                        model.add(LSTM(self.layer_3_size, return_sequences=False, dropout=self.dropout))\n",
    "                    elif sequence_model == \"SimpleRNN\":\n",
    "                        model.add(SimpleRNN(self.layer_3_size, return_sequences=False, dropout=self.dropout))\n",
    "                    elif sequence_model == \"GRU\":\n",
    "                        model.add(GRU(self.layer_3_size, return_sequences=False, dropout=self.dropout))\n",
    "                    elif sequence_model == \"Convolution1D\":\n",
    "                        model.add(Convolution1D(self.layer_3_size, return_sequences=False, dropout=self.dropout))\n",
    "                    else:\n",
    "                        raise NameError('Invalid sequence_model - must be one of [LSTM, SimpleRNN, GRU, Convolution1D]') \n",
    "\n",
    "            # classifier layer\n",
    "            if self.dropout > 0:\n",
    "                model.add(Dropout(self.dropout))\n",
    "            model.add(Dense(self.num_classes, activation='softmax'))\n",
    "\n",
    "        elif architecture == \"video_LRCNN_trainable\":\n",
    "            \n",
    "            #########################\n",
    "            ### video_LRCNN_trainable\n",
    "            #########################\n",
    "            \n",
    "            # Same as above:\n",
    "            # “Long-Term Recurrent Convolutional Networks for Visual Recognition and Description.”\n",
    "            # Donahue, Jeff, Lisa Anne Hendricks, Marcus Rohrbach, Subhashini Venugopalan, \n",
    "            # Sergio Guadarrama, Kate Saenko, and Trevor Darrell.  \n",
    "            # Proceedings of the IEEE Computer Society Conference on Computer Vision and \n",
    "            # Pattern Recognition, 2015, 2625–34.\n",
    "            #\n",
    "            # But with fine-tuning of the CNNs that are input into the recurrent models\n",
    "            # \n",
    "            # note: will take long because not precomputing the CNN part so re-computed \n",
    "            # on each training pass\n",
    "            \n",
    "            print('TODO')\n",
    "            \n",
    "        elif architecture == \"3DCNN\":\n",
    "            \n",
    "            #########\n",
    "            ### 3DCNN\n",
    "            #########\n",
    "            \n",
    "            # Implement:\n",
    "            \n",
    "            # “3D Convolutional Neural Networks for Human Action Recognition.” \n",
    "            # Ji, Shuiwang, Wei Xu, Ming Yang, and Kai Yu. \n",
    "            # IEEE Transactions on Pattern Analysis and Machine Intelligence \n",
    "            # 35, no. 1 (2013): 221–31. doi:10.1109/TPAMI.2012.59.\n",
    "            #\n",
    "            # They fit a 3-D convolutional model on top of stacked frame volumes\n",
    "            \n",
    "            # Implementation from: \n",
    "            # https://gist.github.com/albertomontesg/d8b21a179c1e6cca0480ebdf292c34d2\n",
    "            \n",
    "            # init model\n",
    "            model = Sequential()\n",
    "            \n",
    "            # 1st layer group\n",
    "            model.add(Convolution3D(64, 3, 3, 3, activation='relu',  border_mode='same', name='conv1', subsample=(1, 1, 1), input_shape=(3, 16, 112, 112)))\n",
    "            model.add(MaxPooling3D(pool_size=(1, 2, 2), strides=(1, 2, 2), border_mode='valid', name='pool1'))\n",
    "\n",
    "            # 2nd layer group\n",
    "            model.add(Convolution3D(128, 3, 3, 3, activation='relu',border_mode='same', name='conv2', subsample=(1, 1, 1)))\n",
    "            model.add(MaxPooling3D(pool_size=(2, 2, 2), strides=(2, 2, 2),  border_mode='valid', name='pool2'))\n",
    "\n",
    "            # 3rd layer group\n",
    "            model.add(Convolution3D(256, 3, 3, 3, activation='relu',border_mode='same', name='conv3a', subsample=(1, 1, 1)))\n",
    "            model.add(Convolution3D(256, 3, 3, 3, activation='relu',  border_mode='same', name='conv3b', subsample=(1, 1, 1)))\n",
    "            model.add(MaxPooling3D(pool_size=(2, 2, 2), strides=(2, 2, 2), border_mode='valid', name='pool3'))\n",
    "\n",
    "            # 4th layer group\n",
    "            model.add(Convolution3D(512, 3, 3, 3, activation='relu',  border_mode='same', name='conv4a', subsample=(1, 1, 1)))\n",
    "            model.add(Convolution3D(512, 3, 3, 3, activation='relu',  border_mode='same', name='conv4b', subsample=(1, 1, 1)))\n",
    "            model.add(MaxPooling3D(pool_size=(2, 2, 2), strides=(2, 2, 2), border_mode='valid', name='pool4'))\n",
    "\n",
    "            # 5th layer group\n",
    "            model.add(Convolution3D(512, 3, 3, 3, activation='relu',border_mode='same', name='conv5a', subsample=(1, 1, 1)))\n",
    "            model.add(Convolution3D(512, 3, 3, 3, activation='relu', border_mode='same', name='conv5b', subsample=(1, 1, 1)))\n",
    "            model.add(ZeroPadding3D(padding=(0, 1, 1)))\n",
    "            model.add(MaxPooling3D(pool_size=(2, 2, 2), strides=(2, 2, 2), border_mode='valid', name='pool5'))\n",
    "            model.add(Flatten())\n",
    "            \n",
    "            # FC layers group\n",
    "            model.add(Dense(4096, activation='relu', name='fc6'))\n",
    "            model.add(Dropout(.5))\n",
    "            model.add(Dense(4096, activation='relu', name='fc7'))\n",
    "            model.add(Dropout(.5))\n",
    "            model.add(Dense(487, activation='softmax', name='fc8'))\n",
    "            \n",
    "        else:\n",
    "            raise NameError('Invalid architecture - must be one of [image_MLP_frozen, image_MLP_trainable, video_MLP_concat, video_LRCNN_frozen, video_LRCNN_trainable, 3DCNN]')    \n",
    "        \n",
    "        # set class model to constructed model\n",
    "        self.model = model"
   ]
  },
  {
   "cell_type": "code",
   "execution_count": null,
   "metadata": {},
   "outputs": [],
   "source": [
    "def make_last_layers_trainable(num_layers):\n",
    "    \"\"\"\n",
    "    Set the last *num_layers* non-trainable layers to trainable  \n",
    "    \n",
    "    NB to be used with model_base and assumes name = \"top_xxx\" added to each top layer to know \n",
    "    to ignore that layer when looping through layers from top backwards\n",
    "    \n",
    "    :num_layers: number of layers from end of model (that are currently not trainable) to be set as trainable\n",
    "    \"\"\"\n",
    "    \n",
    "    # get index of last non-trainable layer\n",
    "    # (the layers we added on top of model_base are already trainable=True)\n",
    "    # ...\n",
    "    # need to find last layer of base model and set that (and previous num_layers)\n",
    "    # to trainable=True via this method\n",
    "    \n",
    "    # find last non-trainable layer index\n",
    "    idx_non_trainable = 0\n",
    "    for i, l in enumerate(model.layers):\n",
    "        if \"top\" not in l.name:\n",
    "            idx_non_trainable = i\n",
    "                \n",
    "    # set last non-trainable layer and num_layers prior to trainable=True\n",
    "    for i in reversed(range(idx_not_trainable-num_layers+1, idx_not_trainable+1)):\n",
    "        model.layers[i].trainable = True\n",
    "        print(idx_not_trainable, num_layers, i)"
   ]
  },
  {
   "cell_type": "code",
   "execution_count": 288,
   "metadata": {
    "ExecuteTime": {
     "end_time": "2019-01-06T21:36:28.207672Z",
     "start_time": "2019-01-06T21:36:28.199775Z"
    }
   },
   "outputs": [],
   "source": [
    "def train(model, data, path_model, learning_rate = 0.001, epochs = 20, batch_size = 32, patience=10, verbose = verbose):\n",
    "    \"\"\"\n",
    "    Compile and fit model for *epochs* rounds of training, dividing learning rate by 10 after each round\n",
    "    \n",
    "    Fitting will stop if val_acc does not improve for at least patience epochs\n",
    "    \n",
    "    Only the best weights will be kept\n",
    "    \n",
    "    Good practice is to decrease the learning rate by a factor of 10 after each plateau and train some more \n",
    "    (after first re-loading best weights from previous training round)...\n",
    "\n",
    "    for example:\n",
    "        fit_history = train(model, data, path_model = pwd+'models/', learning_rate = 0.001, epochs = 30)\n",
    "        model.load_weights(path_model + \"model.h5\")\n",
    "        fit_history = train(model, data, path_model = pwd+'models/', learning_rate = 0.0001, epochs = 30)\n",
    "    \n",
    "    :model: model object to train\n",
    "    :data: data object\n",
    "    :path_model: path to save fit logs and model snapshot\n",
    "    :learning_rate: learning rate parameter for Adam optimizer (default is 0.001)\n",
    "    \n",
    "    :epochs: number of training epochs per fit round (subject to patience)\n",
    "    :batch_size: number of samples in each batch\n",
    "    :patience: how many epochs without val_acc improvement before stopping fit round\n",
    "    :verbose: print progress\n",
    "\n",
    "\n",
    "\n",
    "    \"\"\"\n",
    "    \n",
    "\n",
    "    \n",
    "\n",
    "    # TODO: refactor\n",
    "    path_model = pwd + 'models/'\n",
    "    \n",
    "    # create optimizer with given learning rate \n",
    "    opt = Adam(lr = learning_rate)\n",
    "    \n",
    "    # compile model\n",
    "    model.compile(optimizer=opt, loss='categorical_crossentropy', metrics=['accuracy'])\n",
    "    \n",
    "    # setup training callbacks\n",
    "    callback_stopper = EarlyStopping(monitor='val_acc', patience=patience, verbose=0)\n",
    "    callback_csvlogger = CSVLogger(path_model + 'training.log')\n",
    "    callback_checkpointer = ModelCheckpoint(path_model +  'model.h5', monitor='val_acc', save_best_only=True, verbose=verbose)\n",
    "    callback_tensorboard = TensorBoard(log_dir='tensorboard', histogram_freq=0, write_graph=True, write_images=True)\n",
    "    # to start tensorboard, run the following from the package base directory: tensorboard --logdir tensorboard/\n",
    "    callbacks = [callback_stopper, callback_checkpointer, callback_csvlogger, callback_tensorboard]\n",
    "    \n",
    "    return model.fit(data.x_train, data.y_train, \n",
    "              validation_data=(data.x_valid, data.y_valid),\n",
    "              batch_size=batch_size,\n",
    "              epochs=epochs,\n",
    "              callbacks=callbacks,\n",
    "              shuffle=True,\n",
    "              verbose=verbose)"
   ]
  },
  {
   "cell_type": "code",
   "execution_count": null,
   "metadata": {},
   "outputs": [],
   "source": [
    "# fit_history = train(model, data, path_model = pwd+'models/', learning_rate = 0.001)"
   ]
  },
  {
   "cell_type": "markdown",
   "metadata": {},
   "source": [
    "# Debug"
   ]
  },
  {
   "cell_type": "code",
   "execution_count": 329,
   "metadata": {
    "ExecuteTime": {
     "end_time": "2019-01-06T21:51:01.439827Z",
     "start_time": "2019-01-06T21:51:01.436668Z"
    }
   },
   "outputs": [],
   "source": [
    "pretrained_model_name = \"vgg16\"\n",
    "pooling=\"max\"\n",
    "sequence_length = 12"
   ]
  },
  {
   "cell_type": "code",
   "execution_count": 330,
   "metadata": {
    "ExecuteTime": {
     "end_time": "2019-01-06T21:51:02.450470Z",
     "start_time": "2019-01-06T21:51:02.447724Z"
    }
   },
   "outputs": [],
   "source": [
    "sequence_model = \"LSTM\"\n",
    "sequence_model_layers = 2"
   ]
  },
  {
   "cell_type": "code",
   "execution_count": 331,
   "metadata": {
    "ExecuteTime": {
     "end_time": "2019-01-06T21:51:03.940557Z",
     "start_time": "2019-01-06T21:51:03.572425Z"
    }
   },
   "outputs": [
    {
     "name": "stderr",
     "output_type": "stream",
     "text": [
      "2019-01-06 21:51:03,770 [MainThread  ] [INFO ]  Features already cached: /mnt/seals/cache/features/vgg16/max/\n"
     ]
    }
   ],
   "source": [
    "data = Data(sequence_length = sequence_length, \n",
    "            return_CNN_features = True, \n",
    "            pretrained_model_name=pretrained_model_name,\n",
    "            pooling = \"max\")"
   ]
  },
  {
   "cell_type": "code",
   "execution_count": 332,
   "metadata": {
    "ExecuteTime": {
     "end_time": "2019-01-06T21:51:04.725843Z",
     "start_time": "2019-01-06T21:51:04.721575Z"
    }
   },
   "outputs": [],
   "source": [
    "layer_1_sizes = [1024,512,256,128,64,32,16]\n",
    "layer_2_sizes = [1024,512,256,128,64,32,16]\n",
    "layer_3_sizes = [1024,512,256,128,64,32,16]\n",
    "dropouts = [0.2]"
   ]
  },
  {
   "cell_type": "code",
   "execution_count": 333,
   "metadata": {
    "ExecuteTime": {
     "end_time": "2019-01-06T21:51:05.038678Z",
     "start_time": "2019-01-06T21:51:05.034892Z"
    }
   },
   "outputs": [],
   "source": [
    "num_classes = data.num_classes \n",
    "frame_size = data.frame_size\n",
    "num_features = pretrained_model_len_features[pretrained_model_name]"
   ]
  },
  {
   "cell_type": "code",
   "execution_count": 334,
   "metadata": {
    "ExecuteTime": {
     "end_time": "2019-01-06T21:51:05.334119Z",
     "start_time": "2019-01-06T21:51:05.330563Z"
    }
   },
   "outputs": [],
   "source": [
    "layer_1_size = 128\n",
    "layer_2_size = 64\n",
    "layer_3_size = 32\n",
    "dropout = 0.2"
   ]
  },
  {
   "cell_type": "code",
   "execution_count": 335,
   "metadata": {
    "ExecuteTime": {
     "end_time": "2019-01-06T21:51:05.691758Z",
     "start_time": "2019-01-06T21:51:05.686681Z"
    }
   },
   "outputs": [
    {
     "data": {
      "text/plain": [
       "512"
      ]
     },
     "execution_count": 335,
     "metadata": {},
     "output_type": "execute_result"
    }
   ],
   "source": [
    "num_features"
   ]
  },
  {
   "cell_type": "markdown",
   "metadata": {},
   "source": [
    "## define architecture"
   ]
  },
  {
   "cell_type": "code",
   "execution_count": 336,
   "metadata": {
    "ExecuteTime": {
     "end_time": "2019-01-06T21:51:06.947510Z",
     "start_time": "2019-01-06T21:51:06.944035Z"
    }
   },
   "outputs": [],
   "source": [
    "# architecture = Architecture(architecture=\"image_MLP_frozen\", \n",
    "#                      sequence_length = 1,\n",
    "#                      num_classes = data.num_classes, \n",
    "#                      frame_size = data.frame_size, \n",
    "#                      pretrained_model_name='vgg16', \n",
    "#                      pooling='max',\n",
    "#                      layer_1_size=128, \n",
    "#                      layer_2_size=32, \n",
    "#                      layer_3_size=16, \n",
    "#                      dropout=0.2)"
   ]
  },
  {
   "cell_type": "code",
   "execution_count": 337,
   "metadata": {
    "ExecuteTime": {
     "end_time": "2019-01-06T21:51:08.094632Z",
     "start_time": "2019-01-06T21:51:07.664618Z"
    }
   },
   "outputs": [],
   "source": [
    "architecture = Architecture(architecture=\"video_LRCNN_frozen\", \n",
    "                            sequence_model = 'LSTM',\n",
    "                            sequence_model_layers = 1,\n",
    "                            sequence_length = 12,\n",
    "                            num_classes = data.num_classes, \n",
    "                            frame_size = data.frame_size, \n",
    "                            pretrained_model_name='vgg16', \n",
    "                            pooling='max',\n",
    "                            layer_1_size=128, \n",
    "                            layer_2_size=32, \n",
    "                            layer_3_size=16, \n",
    "                            dropout=0.2)"
   ]
  },
  {
   "cell_type": "markdown",
   "metadata": {},
   "source": [
    "## fit"
   ]
  },
  {
   "cell_type": "code",
   "execution_count": null,
   "metadata": {
    "ExecuteTime": {
     "start_time": "2019-01-06T21:51:30.034Z"
    }
   },
   "outputs": [
    {
     "name": "stdout",
     "output_type": "stream",
     "text": [
      "Train on 9406 samples, validate on 2265 samples\n"
     ]
    }
   ],
   "source": [
    "fit_history = train(architecture.model, data, path_model = pwd+'models/', learning_rate = 0.001, epochs = 10)\n",
    "model.load_weights(path_model + \"model.h5\")\n",
    "fit_history = train(architecture.model, data, path_model = pwd+'models/', learning_rate = 0.0001, epochs = 10)"
   ]
  },
  {
   "cell_type": "markdown",
   "metadata": {},
   "source": [
    "## evaluate"
   ]
  },
  {
   "cell_type": "code",
   "execution_count": null,
   "metadata": {
    "ExecuteTime": {
     "start_time": "2019-01-06T21:51:33.093Z"
    }
   },
   "outputs": [],
   "source": [
    "data.x_train.shape,data.x_test.shape"
   ]
  },
  {
   "cell_type": "code",
   "execution_count": null,
   "metadata": {
    "ExecuteTime": {
     "start_time": "2019-01-06T21:51:45.608Z"
    }
   },
   "outputs": [],
   "source": [
    "evaluate(architecture.model, data)"
   ]
  },
  {
   "cell_type": "code",
   "execution_count": 321,
   "metadata": {
    "ExecuteTime": {
     "end_time": "2019-01-06T21:49:09.645874Z",
     "start_time": "2019-01-06T21:49:09.639237Z"
    }
   },
   "outputs": [],
   "source": [
    "def evaluate(model, data):\n",
    "    \"\"\"\n",
    "    Evaluate model on test set, returning percentage of classes exactly correct and dataframe with predicted probabilities and labels\n",
    "    \n",
    "    :model: trained model object\n",
    "    :data: data object\n",
    "    \"\"\"\n",
    "    #######################\n",
    "    ### predict on test set\n",
    "    #######################\n",
    "\n",
    "    # calculate predictions on test set\n",
    "    predictions = model.predict(data.x_test)\n",
    "\n",
    "    # build dataframe and calculate test error\n",
    "    pdf = pd.DataFrame(predictions, columns = list(data.label_map.values()), index = data.paths_test)\n",
    "    pdf['prediction'] = pdf.idxmax(axis=1)\n",
    "    truth = pd.DataFrame(data.y_test, columns = list(data.label_map.values()), index = data.paths_test)\n",
    "    truth['label'] = truth.idxmax(axis=1)\n",
    "    truth = truth[['label']]\n",
    "    pdf = pd.concat([pdf, truth], axis=1)\n",
    "    pdf['error'] = (pdf['prediction'] != pdf['label']).astype(int)\n",
    "    test_acc = 1 - pdf['error'].mean()\n",
    "    print(\"test_acc {}\".format(test_acc))\n",
    "\n",
    "    return pdf, test_acc"
   ]
  },
  {
   "cell_type": "code",
   "execution_count": null,
   "metadata": {},
   "outputs": [],
   "source": []
  },
  {
   "cell_type": "markdown",
   "metadata": {},
   "source": [
    "# Move to experiment"
   ]
  },
  {
   "cell_type": "code",
   "execution_count": 19,
   "metadata": {
    "ExecuteTime": {
     "end_time": "2019-01-06T18:12:32.559967Z",
     "start_time": "2019-01-06T18:12:32.557367Z"
    }
   },
   "outputs": [],
   "source": [
    "# # define optimizer and compile model\n",
    "# # (compiling the model should be done *after* setting layers to non-trainable)\n",
    "# opt = Adam()\n",
    "# model.compile(optimizer=opt, loss='categorical_crossentropy', metrics=['accuracy'])"
   ]
  }
 ],
 "metadata": {
  "kernelspec": {
   "display_name": "Python 3",
   "language": "python",
   "name": "python3"
  },
  "language_info": {
   "codemirror_mode": {
    "name": "ipython",
    "version": 3
   },
   "file_extension": ".py",
   "mimetype": "text/x-python",
   "name": "python",
   "nbconvert_exporter": "python",
   "pygments_lexer": "ipython3",
   "version": "3.5.3"
  }
 },
 "nbformat": 4,
 "nbformat_minor": 2
}
