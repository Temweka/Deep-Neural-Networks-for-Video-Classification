{
 "cells": [
  {
   "cell_type": "code",
   "execution_count": 1,
   "metadata": {
    "ExecuteTime": {
     "end_time": "2019-01-20T01:26:53.570790Z",
     "start_time": "2019-01-20T01:26:53.567196Z"
    }
   },
   "outputs": [],
   "source": [
    "### TODO\n",
    "# * fit_models create_architectures_list (append mode)\n",
    "# * fit_models worker if experiment id last digit in os environment var\n",
    "\n",
    "# * collect garbage between fitting models\n",
    "\n",
    "# * refactor custom_model_name and model_weights_path to instead use trained model id\n",
    "\n",
    "# * delete cached sequences after each experiment\n",
    "\n",
    "# train c3d and c3dsmall separately\n",
    "# save model summary"
   ]
  },
  {
   "cell_type": "code",
   "execution_count": 2,
   "metadata": {
    "ExecuteTime": {
     "end_time": "2019-01-20T01:26:53.584042Z",
     "start_time": "2019-01-20T01:26:53.573105Z"
    }
   },
   "outputs": [],
   "source": [
    "# whether to log each feature and sequence status\n",
    "verbose = True"
   ]
  },
  {
   "cell_type": "code",
   "execution_count": 3,
   "metadata": {
    "ExecuteTime": {
     "end_time": "2019-01-20T01:26:53.589615Z",
     "start_time": "2019-01-20T01:26:53.586447Z"
    }
   },
   "outputs": [],
   "source": [
    "# to get number of CPUs to parallelize fit generator batch loading\n",
    "import multiprocessing"
   ]
  },
  {
   "cell_type": "code",
   "execution_count": 4,
   "metadata": {
    "ExecuteTime": {
     "end_time": "2019-01-20T01:26:53.595058Z",
     "start_time": "2019-01-20T01:26:53.592154Z"
    }
   },
   "outputs": [],
   "source": [
    "from contextlib import redirect_stdout"
   ]
  },
  {
   "cell_type": "code",
   "execution_count": 5,
   "metadata": {
    "ExecuteTime": {
     "end_time": "2019-01-20T01:26:56.114458Z",
     "start_time": "2019-01-20T01:26:55.311307Z"
    }
   },
   "outputs": [],
   "source": [
    "import gc\n",
    "import os\n",
    "import pandas as pd\n",
    "import numpy as np\n",
    "from PIL import Image\n",
    "import json\n",
    "import cv2\n",
    "import matplotlib.pyplot as plt\n",
    "import itertools\n",
    "import sys\n",
    "sys.path.append('..')"
   ]
  },
  {
   "cell_type": "code",
   "execution_count": 14,
   "metadata": {
    "ExecuteTime": {
     "end_time": "2019-01-20T01:27:55.543016Z",
     "start_time": "2019-01-20T01:27:54.217897Z"
    }
   },
   "outputs": [
    {
     "name": "stderr",
     "output_type": "stream",
     "text": [
      "Using TensorFlow backend.\n"
     ]
    }
   ],
   "source": [
    "from keras import backend as K\n",
    "from keras.callbacks import EarlyStopping, ModelCheckpoint, CSVLogger, TensorBoard\n",
    "from keras.layers import Dense, Flatten, Dropout, ZeroPadding3D, Input\n",
    "from keras.layers.recurrent import SimpleRNN, GRU, LSTM\n",
    "from keras.layers.wrappers import TimeDistributed\n",
    "from keras.layers.convolutional import Conv2D, MaxPooling3D, Conv3D, MaxPooling2D, Convolution1D, Convolution3D, MaxPooling3D, ZeroPadding3D\n",
    "from keras.models import Sequential, Model, load_model\n",
    "from keras.optimizers import Adam, RMSprop\n",
    "from keras.preprocessing.image import img_to_array\n",
    "import datetime"
   ]
  },
  {
   "cell_type": "code",
   "execution_count": 15,
   "metadata": {
    "ExecuteTime": {
     "end_time": "2019-01-20T01:27:57.284140Z",
     "start_time": "2019-01-20T01:27:55.545717Z"
    }
   },
   "outputs": [],
   "source": [
    "from sklearn.metrics import confusion_matrix"
   ]
  },
  {
   "cell_type": "code",
   "execution_count": 16,
   "metadata": {
    "ExecuteTime": {
     "end_time": "2019-01-20T01:27:57.290382Z",
     "start_time": "2019-01-20T01:27:57.286651Z"
    }
   },
   "outputs": [],
   "source": [
    "# setup paths\n",
    "pwd = os.getcwd().replace(\"deepvideoclassification\",\"\")\n",
    "path_cache = pwd + 'cache/'\n",
    "path_data = pwd + 'data/'"
   ]
  },
  {
   "cell_type": "code",
   "execution_count": 17,
   "metadata": {
    "ExecuteTime": {
     "end_time": "2019-01-20T01:27:57.298462Z",
     "start_time": "2019-01-20T01:27:57.293053Z"
    }
   },
   "outputs": [],
   "source": [
    "# setup logging\n",
    "# any explicit log messages or uncaught errors to stdout and file /logs.log\n",
    "import logging\n",
    "logging.basicConfig(\n",
    "    level=logging.INFO,\n",
    "    format=\"%(asctime)s [%(threadName)-12.12s] [%(levelname)-5.5s]  %(message)s\",\n",
    "    handlers=[\n",
    "        logging.FileHandler(\"{0}/{1}.log\".format(pwd, \"logs\")),\n",
    "        logging.StreamHandler()\n",
    "    ])\n",
    "# init logger\n",
    "logger = logging.getLogger()\n",
    "# make logger aware of any uncaught exceptions\n",
    "def handle_exception(exc_type, exc_value, exc_traceback):\n",
    "    if issubclass(exc_type, KeyboardInterrupt):\n",
    "        sys.__excepthook__(exc_type, exc_value, exc_traceback)\n",
    "        return\n",
    "\n",
    "    logger.error(\"Uncaught exception\", exc_info=(exc_type, exc_value, exc_traceback))\n",
    "sys.excepthook = handle_exception"
   ]
  },
  {
   "cell_type": "code",
   "execution_count": 18,
   "metadata": {
    "ExecuteTime": {
     "end_time": "2019-01-20T01:27:57.820509Z",
     "start_time": "2019-01-20T01:27:57.810243Z"
    }
   },
   "outputs": [],
   "source": [
    "from deepvideoclassification.data import Data"
   ]
  },
  {
   "cell_type": "code",
   "execution_count": 21,
   "metadata": {
    "ExecuteTime": {
     "end_time": "2019-01-20T01:28:17.930508Z",
     "start_time": "2019-01-20T01:28:17.925343Z"
    }
   },
   "outputs": [
    {
     "name": "stderr",
     "output_type": "stream",
     "text": [
      "2019-01-20 01:28:17,926 [MainThread  ] [INFO ]  WORKER ID=1\n"
     ]
    }
   ],
   "source": [
    "# get worker id for this instance\n",
    "WORKERID = None\n",
    "try:\n",
    "    WORKERID = int(os.environ['WORKERID'])\n",
    "except:\n",
    "    pass\n",
    "\n",
    "logging.info(\"WORKER ID={}\".format(WORKERID))"
   ]
  },
  {
   "cell_type": "markdown",
   "metadata": {},
   "source": [
    "# Pretrained_CNNs"
   ]
  },
  {
   "cell_type": "code",
   "execution_count": 22,
   "metadata": {
    "ExecuteTime": {
     "end_time": "2019-01-20T01:28:19.984773Z",
     "start_time": "2019-01-20T01:28:19.980758Z"
    }
   },
   "outputs": [],
   "source": [
    "# pretrained model shapes\n",
    "pretrained_model_len_features = {}\n",
    "#\n",
    "pretrained_model_len_features['vgg16'] = 512\n",
    "#\n",
    "pretrained_model_len_features['mobilenetv2_1.00_224'] = 1280\n",
    "#\n",
    "pretrained_model_len_features['inception_resnet_v2'] = 1536\n",
    "#\n",
    "pretrained_model_len_features['resnet50'] = 2048\n",
    "pretrained_model_len_features['xception'] = 2048\n",
    "pretrained_model_len_features['inception_v3'] = 2048"
   ]
  },
  {
   "cell_type": "code",
   "execution_count": 23,
   "metadata": {
    "ExecuteTime": {
     "end_time": "2019-01-20T01:28:20.486177Z",
     "start_time": "2019-01-20T01:28:20.481882Z"
    }
   },
   "outputs": [],
   "source": [
    "# pretrained model shapes\n",
    "pretrained_model_sizes = {}\n",
    "#\n",
    "pretrained_model_sizes['vgg16'] = (224,224)\n",
    "pretrained_model_sizes['resnet50'] = (224,224)\n",
    "pretrained_model_sizes['mobilenetv2_1.00_224'] = (224,224)\n",
    "#\n",
    "pretrained_model_sizes['xception'] = (299,299)\n",
    "pretrained_model_sizes['inception_v3'] = (299,299)\n",
    "pretrained_model_sizes['inception_resnet_v2'] = (299,299)"
   ]
  },
  {
   "cell_type": "code",
   "execution_count": 24,
   "metadata": {
    "ExecuteTime": {
     "end_time": "2019-01-20T01:28:20.566588Z",
     "start_time": "2019-01-20T01:28:20.562722Z"
    }
   },
   "outputs": [],
   "source": [
    "pretrained_model_names = [\"inception_resnet_v2\", \"inception_v3\", \"mobilenetv2_1.00_224\", \"resnet50\", \"vgg16\", \"xception\"]\n",
    "poolings = ['max','avg']"
   ]
  },
  {
   "cell_type": "code",
   "execution_count": 25,
   "metadata": {
    "ExecuteTime": {
     "end_time": "2019-01-20T01:28:20.657716Z",
     "start_time": "2019-01-20T01:28:20.649948Z"
    }
   },
   "outputs": [],
   "source": [
    "def load_pretrained_model(pretrained_model_name, pooling, model_weights_path = None):\n",
    "    \"\"\" Load pretrained model with given pooling applied\n",
    "    \n",
    "    Args:\n",
    "        pretrained_model: name of pretrained model [\"Xception\", \"VGG16\", \"ResNet50\", \"InceptionV3\", \"InceptionResNetV2\", \"MobileNetV2\"]\n",
    "        pooling: pooling strategy for final pretrained model layer [\"max\",\"avg\"]\n",
    "        :model_weights_path: path to custom model weights if we want to load CNN model we've fine-tuned to produce features (e.g. for LRCNN)\n",
    "    \n",
    "    Returns:\n",
    "        Pretrained model object (excluding dense softmax 1000 ImageNet classes layer)\n",
    "    \"\"\"\n",
    "    \n",
    "    # initialize output\n",
    "    model = None\n",
    "    \n",
    "    pretrained_model_name = pretrained_model_name.lower()\n",
    "    \n",
    "    ###########################\n",
    "    ### import pretrained model\n",
    "    ###########################\n",
    "    if pretrained_model_name == \"xception\":   \n",
    "        from keras.applications.xception import Xception\n",
    "        model = Xception(include_top=False, weights='imagenet', pooling=pooling)\n",
    "    elif pretrained_model_name == \"vgg16\":   \n",
    "        from keras.applications.vgg16 import VGG16\n",
    "        model = VGG16(include_top=False, weights='imagenet', pooling=pooling)\n",
    "    elif pretrained_model_name == \"resnet50\":   \n",
    "        from keras.applications.resnet50 import ResNet50\n",
    "        model = ResNet50(include_top=False, weights='imagenet', pooling=pooling)\n",
    "    elif pretrained_model_name == \"inception_v3\":   \n",
    "        from keras.applications.inception_v3 import InceptionV3\n",
    "        model = InceptionV3(include_top=False, weights='imagenet', pooling=pooling)\n",
    "    elif pretrained_model_name == \"inception_resnet_v2\":   \n",
    "        from keras.applications.inception_resnet_v2 import InceptionResNetV2\n",
    "        model = InceptionResNetV2(include_top=False, weights='imagenet', pooling=pooling)\n",
    "    elif pretrained_model_name == \"mobilenetv2_1.00_224\":   \n",
    "        from keras.applications.mobilenet_v2 import MobileNetV2\n",
    "        model = MobileNetV2(include_top=False, weights='imagenet', pooling=pooling)\n",
    "    else:\n",
    "        raise NameError('Invalid pretrained model name - must be one of [\"Xception\", \"VGG16\", \"ResNet50\", \"InceptionV3\", \"InceptionResNetV2\", \"MobileNetV2\"]')\n",
    "    \n",
    "    if model_weights_path is not None:\n",
    "        if os.path.exists(model_weights_path):\n",
    "            model.load_weights(model_weights_path)\n",
    "        else:\n",
    "            raise NameError('pretrained model weights not found')\n",
    "    \n",
    "    return model"
   ]
  },
  {
   "cell_type": "code",
   "execution_count": 26,
   "metadata": {
    "ExecuteTime": {
     "end_time": "2019-01-20T01:28:20.740350Z",
     "start_time": "2019-01-20T01:28:20.735376Z"
    }
   },
   "outputs": [],
   "source": [
    "def load_pretrained_model_preprocessor(pretrained_model_name):\n",
    "    \"\"\"\n",
    "    Return preprocessing function for a given pretrained model\n",
    "    \"\"\"\n",
    "\n",
    "    preprocess_input = None\n",
    "\n",
    "    pretrained_model_name = pretrained_model_name.lower()\n",
    "        \n",
    "    if pretrained_model_name == \"xception\":   \n",
    "        from keras.applications.xception import preprocess_input\n",
    "    elif pretrained_model_name == \"vgg16\":   \n",
    "        from keras.applications.vgg16 import preprocess_input\n",
    "    elif pretrained_model_name == \"resnet50\":   \n",
    "        from keras.applications.resnet50 import preprocess_input\n",
    "    elif pretrained_model_name == \"inception_v3\":   \n",
    "        from keras.applications.inception_v3 import preprocess_input\n",
    "    elif pretrained_model_name == \"inception_resnet_v2\":   \n",
    "        from keras.applications.inception_resnet_v2 import preprocess_input\n",
    "    elif pretrained_model_name == \"mobilenetv2_1.00_224\":   \n",
    "        from keras.applications.mobilenet_v2 import preprocess_input\n",
    "    else:\n",
    "        raise NameError('Invalid pretrained model name - must be one of [\"Xception\", \"VGG16\", \"ResNet50\", \"InceptionV3\", \"InceptionResNetV2\", \"MobileNetV2\"]')\n",
    "        \n",
    "    return preprocess_input"
   ]
  },
  {
   "cell_type": "code",
   "execution_count": 27,
   "metadata": {
    "ExecuteTime": {
     "end_time": "2019-01-20T01:28:20.844599Z",
     "start_time": "2019-01-20T01:28:20.833662Z"
    }
   },
   "outputs": [],
   "source": [
    "def precompute_CNN_features(pretrained_model_name, pooling, model_weights_path = None, custom_model_name = None):\n",
    "    \"\"\" \n",
    "    Save pretrained features array computed over all frames of each video \n",
    "    using given pretrained model and pooling method\n",
    "    \n",
    "    :pretrained_model_name: pretrained model object loaded using `load_pretrained_model`\n",
    "    :pooling: pooling method used with pretrained model\n",
    "    :model_weights_path: path to custom model weights if we want to load CNN model we've fine-tuned to produce features (e.g. for LRCNN)\n",
    "    :custom_model_name: custom output name to append to pretrained model name\n",
    "\n",
    "    \"\"\"\n",
    "    \n",
    "    assert (pretrained_model_name is not None or custom_model_name is not None), \"need to specify a pretrained_model_name in ['Xception', 'VGG16', 'ResNet50', 'InceptionV3', 'InceptionResNetV2', 'MobileNetV2'] or a custom_model_name\"\n",
    "    \n",
    "    pretrained_model_name = pretrained_model_name.lower()\n",
    "    \n",
    "    # setup path to save features\n",
    "    path_features = path_cache + 'features/' + pretrained_model_name + \"/\" + pooling + '/'\n",
    "    \n",
    "    # store in custom directory if custom model name given (for when loading weights from fine-tuned CNN and precomputing features from that model)\n",
    "    if custom_model_name is not None and model_weights_path is not None:\n",
    "        path_features = path_cache + 'features/' + pretrained_model_name + \"__\" + custom_model_name + \"/\" + pooling + '/'\n",
    "    \n",
    "    if not os.path.exists(path_features):\n",
    "        \n",
    "        os.makedirs(path_features)\n",
    "        \n",
    "        # load pretrained model\n",
    "        pretrained_model = load_pretrained_model(pretrained_model_name, pooling, model_weights_path)\n",
    "\n",
    "        # load preprocessing function\n",
    "        preprocess_input = load_pretrained_model_preprocessor(pretrained_model_name)\n",
    "\n",
    "        # lookup pretrained model input shape\n",
    "        model_input_size = pretrained_model_sizes[pretrained_model_name]\n",
    "        \n",
    "        # precompute features for each video using pretrained model\n",
    "        from deepvideoclassification.data import get_video_paths\n",
    "        path_videos = get_video_paths()\n",
    "\n",
    "        for c, path_video in enumerate(path_videos):\n",
    "\n",
    "            if verbose:\n",
    "                logging.info(\"Computing pretrained model features for video {}/{} using pretrained model: {}, pooling: {}\".format(c+1,len(path_videos),pretrained_model_name, pooling))\n",
    "\n",
    "            # get video name from video path\n",
    "            video_name = path_video.split(\"/\")[-2]\n",
    "\n",
    "            # build output path\n",
    "            path_output = path_features + video_name\n",
    "\n",
    "            try:\n",
    "                if not os.path.exists(path_output + '.npy'):\n",
    "\n",
    "                    path_frames = path_data + video_name + \"/\"\n",
    "\n",
    "                    # initialize features list\n",
    "                    features = []\n",
    "\n",
    "                    frame_paths = os.listdir(path_frames)\n",
    "                    frame_paths = [path_frames + f for f in frame_paths if f != '.DS_Store']\n",
    "\n",
    "                    # sort paths in sequence (they were created with incrementing filenames through time)\n",
    "                    frame_paths.sort()\n",
    "\n",
    "                    # load each frame in vid and get features\n",
    "                    for j, frame_path in enumerate(frame_paths):\n",
    "\n",
    "                        # load image & preprocess\n",
    "                        image = cv2.imread(frame_path, cv2.COLOR_BGR2RGB)\n",
    "                        img = cv2.resize(image, model_input_size, interpolation=cv2.INTER_AREA)\n",
    "                        img = img_to_array(img)\n",
    "                        img = np.expand_dims(img, axis=0)\n",
    "                        img = preprocess_input(img)\n",
    "\n",
    "                        # get features from pretrained model\n",
    "                        feature = pretrained_model.predict(img).ravel()\n",
    "                        features.append(feature)\n",
    "\n",
    "                    # convert to arrays\n",
    "                    features = np.array(features)\n",
    "\n",
    "                    np.save(path_output, features)\n",
    "                else:\n",
    "                    if verbose:\n",
    "                        logger.info(\"Features already cached: {}\".format(path_output))\n",
    "\n",
    "            except Exception as e:\n",
    "                logging.error(\"Error precomputing features {} / {},{}\".format(video_namepretrained_model_name, pooling))\n",
    "                logging.fatal(e, exc_info=True)\n",
    "                \n",
    "    else:\n",
    "        if verbose:\n",
    "            logger.info(\"Features already cached: {}\".format(path_features))"
   ]
  },
  {
   "cell_type": "markdown",
   "metadata": {},
   "source": [
    "# Confusion Matrix"
   ]
  },
  {
   "cell_type": "code",
   "execution_count": 28,
   "metadata": {
    "ExecuteTime": {
     "end_time": "2019-01-20T01:28:20.999847Z",
     "start_time": "2019-01-20T01:28:20.993696Z"
    }
   },
   "outputs": [],
   "source": [
    "def plot_confusion_matrix(cm, classes, normalize=False, title='Confusion matrix', cmap=plt.cm.Blues):\n",
    "    \"\"\"\n",
    "    This function prints and plots the confusion matrix.\n",
    "    Normalization can be applied by setting `normalize=True`.\n",
    "    \"\"\"\n",
    "#     if normalize:\n",
    "#         cm = cm.astype('float') / cm.sum(axis=1)[:, np.newaxis]\n",
    "#         print(\"Normalized confusion matrix\")\n",
    "#     else:\n",
    "#         print('Confusion matrix, without normalization')\n",
    "\n",
    "#     print(cm)\n",
    "\n",
    "    plt.imshow(cm, interpolation='nearest', cmap=cmap)\n",
    "    plt.title(title)\n",
    "    plt.colorbar()\n",
    "    tick_marks = np.arange(len(classes))\n",
    "    plt.xticks(tick_marks, classes, rotation=90)\n",
    "    plt.yticks(tick_marks, classes)\n",
    "\n",
    "    fmt = '.2f' if normalize else 'd'\n",
    "    thresh = cm.max() / 2.\n",
    "    for i, j in itertools.product(range(cm.shape[0]), range(cm.shape[1])):\n",
    "        plt.text(j, i, format(cm[i, j], fmt),\n",
    "                 horizontalalignment=\"center\",\n",
    "                 color=\"white\" if cm[i, j] > thresh else \"black\")\n",
    "\n",
    "    plt.ylabel('True label')\n",
    "    plt.xlabel('Predicted label')\n",
    "    plt.tight_layout()"
   ]
  },
  {
   "cell_type": "markdown",
   "metadata": {},
   "source": [
    "# Architecture class (contains keras model object and train/evaluate method, writes training results to /models/)"
   ]
  },
  {
   "cell_type": "code",
   "execution_count": 78,
   "metadata": {
    "ExecuteTime": {
     "end_time": "2019-01-20T01:41:02.664701Z",
     "start_time": "2019-01-20T01:41:02.567421Z"
    },
    "code_folding": []
   },
   "outputs": [],
   "source": [
    "class Architecture(object):\n",
    "    \n",
    "    def __init__(self, model_id, architecture, sequence_length, \n",
    "                frame_size = None, \n",
    "                pretrained_model_name = None, pooling = None,\n",
    "                sequence_model = None, sequence_model_layers = None,\n",
    "                layer_1_size = 0, layer_2_size = 0, layer_3_size = 0, \n",
    "                dropout = 0, convolution_kernel_size = 3, \n",
    "                model_weights_path = None, \n",
    "                batch_size = 32, \n",
    "                verbose = False):\n",
    "        \"\"\"\n",
    "        Model object constructor. Contains Keras model object and training/evaluation methods. Writes model results to /models/_id_ folder\n",
    "        \n",
    "        Architecture can be one of: \n",
    "        image_MLP_frozen, image_MLP_trainable, video_MLP_concat, video_LRCNN_frozen, video_LRCNN_trainable, C3D, C3Dsmall\n",
    "        \n",
    "        :model_id: integer identifier for this model e.g. 1337\n",
    "        \n",
    "        :architecture: architecture of model in [image_MLP_frozen, image_MLP_trainable, video_MLP_concat, video_LRCNN_frozen, video_LRCNN_trainable, C3D, C3Dsmall]\n",
    "        \n",
    "        :sequence_length: number of frames in sequence to be returned by Data object\n",
    "        \n",
    "        :frame_size: size that frames are resized to (different models / architectures accept different input sizes - will be inferred if pretrained_model_name is given since they have fixed sizes)\n",
    "        :pretrained_model_name: name of pretrained model (or None if not using pretrained model e.g. for 3D-CNN)\n",
    "        :pooling: name of pooling variant (or None if not using pretrained model e.g. for 3D-CNN or if fitting more non-dense layers on top of pretrained model base)\n",
    "        \n",
    "        :sequence_model: sequence model in [LSTM, SimpleRNN, GRU, Convolution1D]\n",
    "        :sequence_model_layers: default to 1, can be stacked 2 or 3 (but less than 4) layer sequence model (assume always stacking the same sequence model, not mixing LSTM and GRU, for example)\n",
    "        \n",
    "        :layer_1_size: number of neurons in layer 1\n",
    "        :layer_2_size: number of neurons in layer 2\n",
    "        :layer_3_size: number of neurons in layer 3 \n",
    "        \n",
    "        :dropout: amount of dropout to add (same applied throughout model - good default is 0.2) \n",
    "        \n",
    "        :convolution_kernel_size: size of 1-D convolutional kernel for 1-d conv sequence models (good default is 3)\n",
    "        \n",
    "        :model_weights_path: path to .h5 weights file to be loaded for pretrained CNN in LRCNN-trainable \n",
    "        \n",
    "        :batch_size: batch size used to fit model (default to 32)\n",
    "        \n",
    "        :verbose: whether to log progress updates\n",
    "        \"\"\"\n",
    "    \n",
    "        # required params\n",
    "        self.model_id = model_id\n",
    "        \n",
    "        # create path based on model id\n",
    "        self.path_model = pwd + 'models/' + str(model_id) + '/'\n",
    "        if not os.path.exists(self.path_model):\n",
    "            os.makedirs(self.path_model)\n",
    "        else:\n",
    "            if not os.path.exists(self.path_model + 'results.json'):\n",
    "                logging.info(\"Model folder exists but no results found - potential error in previous model training\")\n",
    "        \n",
    "        self.architecture = architecture\n",
    "        self.sequence_length = sequence_length\n",
    "        \n",
    "        # model architecture params\n",
    "        self.frame_size = frame_size\n",
    "        self.pretrained_model_name = pretrained_model_name\n",
    "        self.pooling = pooling\n",
    "        self.sequence_model = sequence_model\n",
    "        self.sequence_model_layers = sequence_model_layers\n",
    "        #\n",
    "        self.layer_1_size = layer_1_size\n",
    "        self.layer_2_size = layer_2_size\n",
    "        self.layer_3_size = layer_3_size\n",
    "        #\n",
    "        self.dropout = dropout\n",
    "        #\n",
    "        self.convolution_kernel_size = convolution_kernel_size\n",
    "        #\n",
    "        self.model_weights_path = model_weights_path\n",
    "        #\n",
    "        self.batch_size = batch_size\n",
    "        #\n",
    "        self.verbose = verbose\n",
    "        \n",
    "        # fix case sensitivity\n",
    "        if type(self.architecture) == str:\n",
    "            self.architecture = self.architecture.lower()\n",
    "        if type(self.pretrained_model_name) == str:\n",
    "            self.pretrained_model_name = self.pretrained_model_name.lower()\n",
    "        if type(self.pooling) == str:\n",
    "            self.pooling = self.pooling.lower()\n",
    "        \n",
    "        # read num features from pretrained model\n",
    "        if pretrained_model_name is not None:\n",
    "            self.num_features = pretrained_model_len_features[pretrained_model_name]\n",
    "            self.frame_size = pretrained_model_sizes[pretrained_model_name]\n",
    "        \n",
    "        # check one of pretrained model and frame size is specified\n",
    "        assert (self.pretrained_model_name is not None or self.frame_size is not None), \"Must specify one of pretrained_model_name or frame_size\"\n",
    "            \n",
    "            \n",
    "        # init model and data objects for this architecture\n",
    "        self.model = None\n",
    "        self.data = None\n",
    "        \n",
    "        \n",
    "        #############################################################\n",
    "        ### Build model architecture and init appropriate data object\n",
    "        #############################################################\n",
    "        \n",
    "        if architecture == \"image_MLP_frozen\":\n",
    "            \n",
    "            ####################\n",
    "            ### image_MLP_frozen\n",
    "            ####################\n",
    "            # image classification (single frame)\n",
    "            # train MLP on top of weights extracted from pretrained CNN with no fine-tuning\n",
    "            \n",
    "            # check inputs\n",
    "            assert self.sequence_length == 1, \"image_MLP_frozen requires sequence length of 1\"\n",
    "            assert self.pretrained_model_name is not None, \"image_MLP_frozen requires a pretrained_model_name input\" \n",
    "            assert self.pooling is not None, \"image_MLP_frozen requires a pooling input\" \n",
    "            \n",
    "            \n",
    "            ### create data object for this architecture\n",
    "            if self.verbose:\n",
    "                logging.info(\"Loading data\")\n",
    "            self.data = Data(sequence_length = 1, \n",
    "                                return_CNN_features = True, \n",
    "                                pretrained_model_name= self.pretrained_model_name,\n",
    "                                pooling = self.pooling)\n",
    "            \n",
    "            # init model\n",
    "            model = Sequential()\n",
    "\n",
    "            # 1st layer group\n",
    "            if self.layer_1_size > 0:\n",
    "                model.add(Dense(self.layer_1_size, activation='relu', input_shape=(self.num_features,)))\n",
    "                if self.dropout > 0:\n",
    "                    model.add(Dropout(self.dropout))\n",
    "                \n",
    "            # 2nd layer group\n",
    "            if self.layer_2_size > 0 and self.layer_1_size > 0:\n",
    "                model.add(Dense(self.layer_2_size, activation='relu'))\n",
    "                if self.dropout > 0:\n",
    "                    model.add(Dropout(self.dropout))\n",
    "\n",
    "            # 3rd layer group\n",
    "            if self.layer_3_size > 0 and self.layer_2_size > 0 and self.layer_1_size > 0:\n",
    "                model.add(Dense(self.layer_3_size, activation='relu'))\n",
    "                if dropout > 0:\n",
    "                    model.add(Dropout(self.dropout))\n",
    "\n",
    "            # classifier layer\n",
    "            model.add(Dense(self.data.num_classes, activation='softmax'))\n",
    "            \n",
    "\n",
    "        elif architecture == \"image_MLP_trainable\":\n",
    "            \n",
    "            #######################\n",
    "            ### image_MLP_trainable\n",
    "            #######################\n",
    "            # image classification (single frame)\n",
    "            # fine-tune pretrained CNN with MLP on top\n",
    "            #\n",
    "            # start off freezing base CNN layers then will unfreeze \n",
    "            # after each training round\n",
    "            #\n",
    "            # we will ultimately want to compare our best fine-tuned \n",
    "            # CNN as a feature extractor vs fixed ImageNet pretrained CNN features\n",
    "            \n",
    "            # check inputs\n",
    "            assert self.sequence_length == 1, \"image_MLP_trainable requires sequence length of 1\"\n",
    "            assert self.pretrained_model_name is not None, \"image_MLP_trainable requires a pretrained_model_name input\" \n",
    "            assert self.pooling is not None, \"image_MLP_trainable requires a pooling input\" \n",
    "            \n",
    "            ### create data object for this architecture\n",
    "            if self.verbose:\n",
    "                logging.info(\"Loading data\")\n",
    "            self.data = Data(sequence_length = 1, \n",
    "                                return_CNN_features = False, \n",
    "                                pretrained_model_name = self.pretrained_model_name,\n",
    "                                pooling = self.pooling,\n",
    "                                return_generator = True,\n",
    "                                batch_size = self.batch_size)\n",
    "            \n",
    "            # create the base pre-trained model\n",
    "            model_base = load_pretrained_model(self.pretrained_model_name, pooling=self.pooling)\n",
    "            \n",
    "\n",
    "            # freeze base model layers (will unfreeze after train top)\n",
    "            for l in model_base.layers:\n",
    "                l.trainable=False\n",
    "\n",
    "            # use Keras functional API\n",
    "            model_top = model_base.output\n",
    "\n",
    "            # note layer names are there so we can exclude those layers \n",
    "            # when setting base model layers to trainable\n",
    "\n",
    "            # 1st layer group\n",
    "            if self.layer_1_size > 0:\n",
    "                model_top = Dense(self.layer_1_size, activation=\"relu\", name='top_a')(model_top)\n",
    "                if self.dropout > 0:\n",
    "                    model_top = Dropout(self.dropout, name='top_b')(model_top)\n",
    "\n",
    "            # 2nd layer group\n",
    "            if self.layer_2_size > 0 and self.layer_1_size > 0:\n",
    "                model_top = Dense(self.layer_2_size, activation=\"relu\", name='top_c')(model_top)\n",
    "                if self.dropout > 0:\n",
    "                    model_top = Dropout(self.dropout, name='top_d')(model_top)\n",
    "\n",
    "            # 3rd layer group\n",
    "            if self.layer_3_size > 0 and self.layer_2_size > 0 and self.layer_1_size > 0:\n",
    "                model_top = Dense(self.layer_3_size, activation=\"relu\", name='top_e')(model_top)\n",
    "                if self.dropout > 0:\n",
    "                    model_top = Dropout(self.dropout, name='top_f')(model_top)\n",
    "\n",
    "            # classifier layer\n",
    "            model_predictions = Dense(self.data.num_classes, activation=\"softmax\", name='top_g')(model_top)\n",
    "\n",
    "            # combine base and top models into single model object\n",
    "            model = Model(inputs=model_base.input, outputs=model_predictions)\n",
    "                \n",
    "        elif architecture == \"video_MLP_concat\":\n",
    "\n",
    "            ####################\n",
    "            ### video_MLP_concat\n",
    "            ####################\n",
    "            \n",
    "            # concatenate all frames in sequence and train MLP on top of concatenated frame input\n",
    "            \n",
    "            assert self.sequence_length > 1, \"video_MLP_concat requires sequence length > 1\"\n",
    "            assert self.pretrained_model_name is not None, \"video_MLP_concat requires a pretrained_model_name input\"\n",
    "            assert self.pooling is not None, \"video_MLP_concat requires a pooling input\"\n",
    "            \n",
    "            ### create data object for this architecture\n",
    "            if self.verbose:\n",
    "                logging.info(\"Loading data\")\n",
    "            self.data = Data(sequence_length = self.sequence_length, \n",
    "                                return_CNN_features = True, \n",
    "                                pretrained_model_name=self.pretrained_model_name,\n",
    "                                pooling = self.pooling)\n",
    "\n",
    "            # init model\n",
    "            model = Sequential()\n",
    "\n",
    "            model.add(Flatten(input_shape=(self.sequence_length, self.num_features)))\n",
    "\n",
    "            # 1st layer group\n",
    "            if self.layer_1_size > 0:\n",
    "                model.add(Dense(self.layer_1_size, activation='relu', input_shape=(self.num_features,)))\n",
    "                if self.dropout > 0:\n",
    "                    model.add(Dropout(self.dropout))\n",
    "\n",
    "            # 2nd layer group\n",
    "            if self.layer_2_size > 0 and self.layer_1_size > 0:\n",
    "                model.add(Dense(self.layer_2_size, activation='relu'))\n",
    "                if self.dropout > 0:\n",
    "                    model.add(Dropout(self.dropout))\n",
    "\n",
    "            # 3rd layer group\n",
    "            if self.layer_3_size > 0 and self.layer_2_size > 0 and self.layer_1_size > 0:\n",
    "                model.add(Dense(self.layer_3_size, activation='relu'))\n",
    "                if self.dropout > 0:\n",
    "                    model.add(Dropout(self.dropout))\n",
    "\n",
    "            # classifier layer\n",
    "            model.add(Dense(self.data.num_classes, activation='softmax'))\n",
    "            \n",
    "        elif architecture == \"video_LRCNN_frozen\":\n",
    "\n",
    "            ######################\n",
    "            ### video_LRCNN_frozen\n",
    "            ######################\n",
    "            \n",
    "            # Implement:\n",
    "            # “Long-Term Recurrent Convolutional Networks for Visual Recognition and Description.”\n",
    "            # Donahue, Jeff, Lisa Anne Hendricks, Marcus Rohrbach, Subhashini Venugopalan, \n",
    "            # Sergio Guadarrama, Kate Saenko, and Trevor Darrell.  \n",
    "            # Proceedings of the IEEE Computer Society Conference on Computer Vision and \n",
    "            # Pattern Recognition, 2015, 2625–34.\n",
    "            #\n",
    "            # Essentially they extract features with fine-tuned CNN then fit recurrent models on top\n",
    "            # in the paper they only use LSTM but we will also try RNN, GRU and 1-D CNN\n",
    "            # \n",
    "            # note: no fine-tuning of CNN in this frozen LRCNN architecture\n",
    "            # \n",
    "            # implementation inspired by:\n",
    "            # https://github.com/sagarvegad/Video-Classification-CNN-and-LSTM-/blob/master/train_CNN_RNN.py\n",
    "\n",
    "            \n",
    "            # check inputs\n",
    "            assert self.sequence_length > 1, \"video_LRCNN_frozen requires sequence length > 1\"\n",
    "            assert self.layer_1_size > 0, \"video_LRCNN_frozen requires a layer_1_size > 0\" \n",
    "            assert self.pretrained_model_name is not None, \"video_LRCNN_frozen requires a pretrained_model_name input\" \n",
    "            assert self.pooling is not None, \"video_LRCNN_frozen requires a pooling input\" \n",
    "            assert self.sequence_model_layers is not None, \"video_LRCNN_frozen requires sequence_model_layers >= 1\" \n",
    "            assert self.sequence_model_layers >= 1, \"video_LRCNN_frozen requires sequence_model_layers >= 1\" \n",
    "            assert self.sequence_model_layers < 4, \"video_LRCNN_frozen requires sequence_model_layers <= 3\" \n",
    "            assert self.sequence_model is not None, \"video_LRCNN_frozen requires a sequence_model\" \n",
    "            if self.sequence_model == 'Convolution1D':\n",
    "                assert self.convolution_kernel_size > 0, \"Convolution1D sequence model requires convolution_kernel_size parameter > 0\"\n",
    "                assert self.convolution_kernel_size < self.sequence_length, \"convolution_kernel_size must be less than sequence_length\"\n",
    "\n",
    "                \n",
    "            ### create data object for this architecture\n",
    "            if self.verbose:\n",
    "                logging.info(\"Loading data\")\n",
    "            self.data = Data(sequence_length = self.sequence_length, \n",
    "                                return_CNN_features = True, \n",
    "                                pretrained_model_name = self.pretrained_model_name,\n",
    "                                pooling = self.pooling)\n",
    "            \n",
    "                \n",
    "            # set whether to return sequences for stacked sequence models\n",
    "            return_sequences_1, return_sequences_2 = False, False\n",
    "            if sequence_model_layers > 1 and layer_2_size > 0:\n",
    "                return_sequences_1 = True\n",
    "            if sequence_model_layers >= 2 and layer_3_size > 0 and layer_2_size > 0:\n",
    "                return_sequences_2 = True\n",
    "            \n",
    "            # init model\n",
    "            model = Sequential()\n",
    "\n",
    "            # layer 1 (sequence layer)\n",
    "            if sequence_model == \"LSTM\":\n",
    "                model.add(LSTM(self.layer_1_size, return_sequences=return_sequences_1, dropout=self.dropout, \n",
    "                               input_shape=(self.sequence_length, self.num_features)))\n",
    "            elif sequence_model == \"SimpleRNN\":\n",
    "                model.add(SimpleRNN(self.layer_1_size, return_sequences=return_sequences_1, dropout=self.dropout, \n",
    "                               input_shape=(self.sequence_length, self.num_features)))\n",
    "            elif sequence_model == \"GRU\":\n",
    "                model.add(GRU(self.layer_1_size, return_sequences=return_sequences_1, dropout=self.dropout, \n",
    "                               input_shape=(self.sequence_length, self.num_features)))\n",
    "            elif sequence_model == \"Convolution1D\":\n",
    "                model.add(Convolution1D(self.layer_1_size, kernel_size = self.convolution_kernel_size, padding = 'valid', \n",
    "                               input_shape=(self.sequence_length, self.num_features)))\n",
    "                if layer_2_size == 0 or sequence_model_layers == 1:\n",
    "                    model.add(Flatten())\n",
    "            else:\n",
    "                raise NameError('Invalid sequence_model - must be one of [LSTM, SimpleRNN, GRU, Convolution1D]')    \n",
    "\n",
    "            # layer 2 (sequential or dense)\n",
    "            if layer_2_size > 0:\n",
    "                if return_sequences_1 == False:\n",
    "                    model.add(Dense(self.layer_2_size, activation='relu'))\n",
    "                    model.add(Dropout(self.dropout))\n",
    "                else:\n",
    "                    if sequence_model == \"LSTM\":\n",
    "                        model.add(LSTM(self.layer_2_size, return_sequences=return_sequences_2, dropout=self.dropout))\n",
    "                    elif sequence_model == \"SimpleRNN\":\n",
    "                        model.add(SimpleRNN(self.layer_2_size, return_sequences=return_sequences_2, dropout=self.dropout))\n",
    "                    elif sequence_model == \"GRU\":\n",
    "                        model.add(GRU(self.layer_2_size, return_sequences=return_sequences_2, dropout=self.dropout))\n",
    "                    elif sequence_model == \"Convolution1D\":\n",
    "                        model.add(Convolution1D(self.layer_2_size, kernel_size = self.convolution_kernel_size, padding = 'valid'))\n",
    "                    else:\n",
    "                        raise NameError('Invalid sequence_model - must be one of [LSTM, SimpleRNN, GRU, Convolution1D]') \n",
    "\n",
    "            # layer 3 (sequential or dense)\n",
    "            if layer_3_size > 0:\n",
    "                if sequence_model_layers < 3:\n",
    "                    if sequence_model_layers == 2:\n",
    "                        model.add(Flatten())\n",
    "                    model.add(Dense(self.layer_3_size, activation='relu'))\n",
    "                    model.add(Dropout(self.dropout))\n",
    "                else:\n",
    "                    if sequence_model == \"LSTM\":\n",
    "                        model.add(LSTM(self.layer_3_size, return_sequences=False, dropout=self.dropout))\n",
    "                        model.add(Flatten())\n",
    "                    elif sequence_model == \"SimpleRNN\":\n",
    "                        model.add(SimpleRNN(self.layer_3_size, return_sequences=False, dropout=self.dropout))\n",
    "                        model.add(Flatten())\n",
    "                    elif sequence_model == \"GRU\":\n",
    "                        model.add(GRU(self.layer_3_size, return_sequences=False, dropout=self.dropout))\n",
    "                        model.add(Flatten())\n",
    "                    elif sequence_model == \"Convolution1D\":\n",
    "                        model.add(Convolution1D(self.layer_3_size, kernel_size = self.convolution_kernel_size, padding = 'valid'))\n",
    "                        model.add(Flatten())\n",
    "                    else:\n",
    "                        raise NameError('Invalid sequence_model - must be one of [LSTM, SimpleRNN, GRU, Convolution1D]') \n",
    "            else:\n",
    "                if return_sequences_2 == True: \n",
    "                    model.add(Flatten())\n",
    "\n",
    "            # classifier layer\n",
    "            if self.dropout > 0:\n",
    "                model.add(Dropout(self.dropout))\n",
    "            model.add(Dense(self.data.num_classes, activation='softmax'))\n",
    "\n",
    "        elif architecture == \"video_LRCNN_trainable\":\n",
    "            \n",
    "            #########################\n",
    "            ### video_LRCNN_trainable\n",
    "            #########################\n",
    "            \n",
    "            # Same as above:\n",
    "            # “Long-Term Recurrent Convolutional Networks for Visual Recognition and Description.”\n",
    "            # Donahue, Jeff, Lisa Anne Hendricks, Marcus Rohrbach, Subhashini Venugopalan, \n",
    "            # Sergio Guadarrama, Kate Saenko, and Trevor Darrell.  \n",
    "            # Proceedings of the IEEE Computer Society Conference on Computer Vision and \n",
    "            # Pattern Recognition, 2015, 2625–34.\n",
    "            #\n",
    "            # But with fine-tuning of the CNNs that are input into the recurrent models\n",
    "            # \n",
    "            # note: will take long because not precomputing the CNN part so re-computed \n",
    "            # on each training pass\n",
    "\n",
    "            # implementation inspired by https://stackoverflow.com/questions/49535488/lstm-on-top-of-a-pre-trained-cnn\n",
    "            \n",
    "            # check inputs\n",
    "            assert self.sequence_length > 1, \"video_LRCNN_trainable requires sequence length > 1\"\n",
    "            assert self.layer_1_size > 0, \"video_LRCNN_trainable requires a layer_1_size > 0\" \n",
    "            assert self.pretrained_model_name is not None, \"video_LRCNN_trainable requires a pretrained_model_name input\" \n",
    "            assert self.pooling is not None, \"video_LRCNN_trainable requires a pooling input\" \n",
    "            assert self.sequence_model_layers >= 1, \"video_LRCNN_trainable requires sequence_model_layers >= 1\" \n",
    "            assert self.sequence_model_layers < 4, \"video_LRCNN_trainable requires sequence_model_layers <= 3\" \n",
    "            assert self.sequence_model is not None, \"video_LRCNN_trainable requires a sequence_model\" \n",
    "            if self.sequence_model == 'Convolution1D':\n",
    "                assert self.convolution_kernel_size > 0, \"Convolution1D sequence model requires convolution_kernel_size parameter > 0\"\n",
    "                assert self.convolution_kernel_size < self.sequence_length, \"convolution_kernel_size must be less than sequence_length\"\n",
    "                \n",
    "                \n",
    "            ### create data object for this architecture\n",
    "            if self.verbose:\n",
    "                logging.info(\"Loading data\")\n",
    "            self.data = Data(sequence_length = self.sequence_length, \n",
    "                                return_CNN_features = False, \n",
    "                                return_generator=True,\n",
    "                                pretrained_model_name = self.pretrained_model_name,\n",
    "                                pooling = self.pooling,\n",
    "                                batch_size=self.batch_size)\n",
    "            \n",
    "                \n",
    "            # set whether to return sequences for stacked sequence models\n",
    "            return_sequences_1, return_sequences_2 = False, False\n",
    "            if sequence_model_layers > 1 and layer_2_size > 0:\n",
    "                return_sequences_1 = True\n",
    "            if sequence_model_layers >= 2 and layer_3_size > 0 and layer_2_size > 0:\n",
    "                return_sequences_2 = True\n",
    "\n",
    "            # load pretrained model weights - will train from there\n",
    "            model_cnn = load_pretrained_model(self.pretrained_model_name, pooling=self.pooling)\n",
    "\n",
    "            # optionally load weights for pretrained architecture\n",
    "            # (will likely be better to first train CNN then load weights in LRCNN vs. use pretrained ImageNet CNN)\n",
    "            if self.model_weights_path is not None:\n",
    "                model_base.load_weights(self.model_weights_path)\n",
    "            \n",
    "            # freeze model_cnn layers but make final 3 layers of pretrained CNN trainable\n",
    "            for i, l in enumerate(model_cnn.layers):\n",
    "                if i < len(model_cnn.layers)-3:\n",
    "                    l.trainable = False\n",
    "                else:\n",
    "                    l.trainable = True\n",
    "\n",
    "            # sequential component on top of CNN\n",
    "            frames = Input(shape=(self.sequence_length, self.frame_size[0], self.frame_size[1], 3))\n",
    "            x = TimeDistributed(model_cnn)(frames)\n",
    "            x = TimeDistributed(Flatten())(x)\n",
    "            \n",
    "\n",
    "            # layer 1 (sequence layer)\n",
    "            if sequence_model == \"LSTM\":\n",
    "                x = LSTM(self.layer_1_size, return_sequences=return_sequences_1, dropout=self.dropout)(x)\n",
    "            elif sequence_model == \"SimpleRNN\":\n",
    "                x = SimpleRNN(self.layer_1_size, return_sequences=return_sequences_1, dropout=self.dropout)(x)\n",
    "            elif sequence_model == \"GRU\":\n",
    "                x = GRU(self.layer_1_size, return_sequences=return_sequences_1, dropout=self.dropout)(x)\n",
    "            elif sequence_model == \"Convolution1D\":\n",
    "                x = Convolution1D(self.layer_1_size, kernel_size = self.convolution_kernel_size, padding = 'valid')(x)\n",
    "                if layer_2_size == 0 or sequence_model_layers == 1:\n",
    "                    x = Flatten()(x)\n",
    "            else:\n",
    "                raise NameError('Invalid sequence_model - must be one of [LSTM, SimpleRNN, GRU, Convolution1D]')    \n",
    "\n",
    "            # layer 2 (sequential or dense)\n",
    "            if layer_2_size > 0:\n",
    "                if return_sequences_1 == False:\n",
    "                    x = Dense(self.layer_2_size, activation='relu')(x)\n",
    "                    x = Dropout(self.dropout)(x)\n",
    "                else:\n",
    "                    if sequence_model == \"LSTM\":\n",
    "                        x = LSTM(self.layer_2_size, return_sequences=return_sequences_2, dropout=self.dropout)(x)\n",
    "                    elif sequence_model == \"SimpleRNN\":\n",
    "                        x = SimpleRNN(self.layer_2_size, return_sequences=return_sequences_2, dropout=self.dropout)(x)\n",
    "                    elif sequence_model == \"GRU\":\n",
    "                        x = GRU(self.layer_2_size, return_sequences=return_sequences_2, dropout=self.dropout)(x)\n",
    "                    elif sequence_model == \"Convolution1D\":\n",
    "                        x = Convolution1D(self.layer_2_size, kernel_size = self.convolution_kernel_size, padding = 'valid')(x)\n",
    "                    else:\n",
    "                        raise NameError('Invalid sequence_model - must be one of [LSTM, SimpleRNN, GRU, Convolution1D]') \n",
    "\n",
    "            # layer 3 (sequential or dense)\n",
    "            if layer_3_size > 0:\n",
    "                if sequence_model_layers < 3:\n",
    "                    if sequence_model_layers == 2:\n",
    "                        x = Flatten()(x)\n",
    "                    x = Dense(self.layer_3_size, activation='relu')(x)\n",
    "                    x = Dropout(self.dropout)(x)\n",
    "                else:\n",
    "                    if sequence_model == \"LSTM\":\n",
    "                        x = LSTM(self.layer_3_size, return_sequences=False, dropout=self.dropout)(x)\n",
    "                        x = Flatten()(x)\n",
    "                    elif sequence_model == \"SimpleRNN\":\n",
    "                        x = SimpleRNN(self.layer_3_size, return_sequences=False, dropout=self.dropout)(x)\n",
    "                        x = Flatten()(x)\n",
    "                    elif sequence_model == \"GRU\":\n",
    "                        x = GRU(self.layer_3_size, return_sequences=False, dropout=self.dropout)(x)\n",
    "                        x = Flatten()(x)\n",
    "                    elif sequence_model == \"Convolution1D\":\n",
    "                        x = Convolution1D(self.layer_3_size, kernel_size = self.convolution_kernel_size, padding = 'valid')(x)\n",
    "                        x = Flatten()(x)\n",
    "                    else:\n",
    "                        raise NameError('Invalid sequence_model - must be one of [LSTM, SimpleRNN, GRU, Convolution1D]') \n",
    "            else:\n",
    "                if return_sequences_2 == True: \n",
    "                    x = Flatten()(x)\n",
    "\n",
    "            # classifier layer\n",
    "            if self.dropout > 0:\n",
    "                x = Dropout(self.dropout)(x)\n",
    "            out = Dense(self.data.num_classes, activation='softmax')(x)\n",
    "                        \n",
    "\n",
    "            # join cnn frame model and LSTM top\n",
    "            model = Model(inputs=frames, outputs=out)\n",
    "         \n",
    "        elif architecture == \"C3D\":\n",
    "            \n",
    "            #########\n",
    "            ### C3D\n",
    "            #########\n",
    "            \n",
    "            # Implement:\n",
    "            # Learning Spatiotemporal Features with 3D Convolutional Networks\n",
    "            # Tran et al 2015\n",
    "            # https://arxiv.org/abs/1412.0767\n",
    "            #\n",
    "            # Implementation inspired by https://gist.github.com/albertomontesg/d8b21a179c1e6cca0480ebdf292c34d2\n",
    "            \n",
    "            assert self.sequence_length == 16, \"C3D requires sequence length 16\"\n",
    "            assert self.frame_size == (112,112), \"C3D requires frame size 112x112\"\n",
    "            assert self.layer_1_size == 0, \"C3D does not accept layer size inputs since it's a predefined architecture\"\n",
    "            assert self.layer_2_size == 0, \"C3D does not accept layer size inputs since it's a predefined architecture\"\n",
    "            assert self.layer_3_size == 0, \"C3D does not accept layer size inputs since it's a predefined architecture\"\n",
    "            assert self.dropout == 0, \"C3D does not accept layer size inputs since it's a predefined architecture\"\n",
    "            assert self.sequence_model == None, \"C3D does not accept a sequence_model parameter\"\n",
    "            assert self.sequence_model_layers == None, \"C3D does not accept a sequence_model_layers parameter\"\n",
    "            assert self.pretrained_model_name == None, \"C3D does not accept a pretrained_model_name parameter\"            \n",
    "            assert self.pooling == None, \"C3D does not accept a pooling parameter\"                            \n",
    "            \n",
    "            \n",
    "            ### create data object for this architecture\n",
    "            if self.verbose:\n",
    "                logging.info(\"Loading data\")\n",
    "            self.data = Data(sequence_length = 16, \n",
    "                                return_CNN_features = False, \n",
    "                                return_generator = True,\n",
    "                                frame_size = (112,112),\n",
    "                                batch_size=self.batch_size,\n",
    "                                verbose = False)\n",
    "            \n",
    "            # C3D\n",
    "            model = Sequential()\n",
    "            # 1st layer group\n",
    "            model.add(Conv3D(64, (3, 3, 3), activation='relu', padding='same', name='conv1', input_shape=(16, 112, 112, 3)))\n",
    "            model.add(MaxPooling3D(pool_size=(1, 2, 2), strides=(1, 2, 2), padding='valid', name='pool1'))\n",
    "            # 2nd layer group\n",
    "            model.add(Conv3D(128, (3, 3, 3), activation='relu',padding='same', name='conv2'))\n",
    "            model.add(MaxPooling3D(pool_size=(2, 2, 2), strides=(2, 2, 2),padding='valid', name='pool2'))\n",
    "            # 3rd layer group\n",
    "            model.add(Conv3D(256, (3, 3, 3), activation='relu',padding='same', name='conv3a'))\n",
    "            model.add(Conv3D(256, (3, 3, 3), activation='relu',padding='same', name='conv3b'))\n",
    "            model.add(MaxPooling3D(pool_size=(2, 2, 2), strides=(2, 2, 2), padding='valid', name='pool3'))\n",
    "            # 4th layer group\n",
    "            model.add(Conv3D(512, (3, 3, 3), activation='relu',padding='same', name='conv4a'))\n",
    "            model.add(Conv3D(512, (3, 3, 3), activation='relu',padding='same', name='conv4b'))\n",
    "            model.add(MaxPooling3D(pool_size=(2, 2, 2), strides=(2, 2, 2),padding='valid', name='pool4'))\n",
    "            # 5th layer group\n",
    "            model.add(Conv3D(512, (3, 3, 3), activation='relu',padding='same', name='conv5a'))\n",
    "            model.add(Conv3D(512, (3, 3, 3), activation='relu',padding='same', name='conv5b'))\n",
    "            model.add(ZeroPadding3D(padding=(0, 1, 1)))\n",
    "            model.add(MaxPooling3D(pool_size=(2, 2, 2), strides=(2, 2, 2),padding='valid', name='pool5'))\n",
    "            model.add(Flatten())\n",
    "            # FC layers group\n",
    "            model.add(Dense(4096, activation='relu', name='fc6'))\n",
    "            model.add(Dropout(.5))\n",
    "            model.add(Dense(4096, activation='relu', name='fc7'))\n",
    "            model.add(Dropout(.5))\n",
    "            model.add(Dense(self.data.num_classes, activation='softmax', name='fc8'))\n",
    "            \n",
    "        elif architecture == \"C3Dsmall\":\n",
    "            \n",
    "            #########################\n",
    "            ### C3D - small variation\n",
    "            #########################\n",
    "            \n",
    "            # Custom small version of C3D from paper:\n",
    "            # Learning Spatiotemporal Features with 3D Convolutional Networks\n",
    "            # Tran et al 2015\n",
    "            # https://arxiv.org/abs/1412.0767\n",
    "            #\n",
    "            # Implementation inspired by https://gist.github.com/albertomontesg/d8b21a179c1e6cca0480ebdf292c34d2\n",
    "            \n",
    "            assert self.sequence_length == 16, \"C3Dsmall requires sequence length 16\"\n",
    "            assert self.frame_size == (112,112), \"C3Dsmall requires frame size 112x112\"\n",
    "            assert self.layer_1_size == 0, \"C3Dsmall does not accept layer size inputs since it's a predefined architecture\"\n",
    "            assert self.layer_2_size == 0, \"C3Dsmall does not accept layer size inputs since it's a predefined architecture\"\n",
    "            assert self.layer_3_size == 0, \"C3Dsmall does not accept layer size inputs since it's a predefined architecture\"\n",
    "            assert self.dropout == 0, \"C3Dsmall does not accept layer size inputs since it's a predefined architecture\"\n",
    "            assert self.sequence_model == None, \"C3Dsmall does not accept a sequence_model parameter\"\n",
    "            assert self.sequence_model_layers == None, \"C3Dsmall does not accept a sequence_model_layers parameter\"\n",
    "            assert self.pretrained_model_name == None, \"C3Dsmall does not accept a pretrained_model_name parameter\"            \n",
    "            assert self.pooling == None, \"C3Dsmall does not accept a pooling parameter\"      \n",
    "            \n",
    "            \n",
    "            ### create data object for this architecture\n",
    "            if self.verbose:\n",
    "                logging.info(\"Loading data\")\n",
    "            self.data = Data(sequence_length = 16, \n",
    "                                return_CNN_features = False, \n",
    "                                return_generator = True,\n",
    "                                frame_size = (112,112),\n",
    "                                batch_size=self.batch_size,\n",
    "                                verbose = False)\n",
    "            \n",
    "            # C3Dsmall\n",
    "            model = Sequential()\n",
    "            # 1st layer group\n",
    "            model.add(Conv3D(32, (3,3,3), activation='relu', input_shape=(data.sequence_length, 112, 112, 3)))\n",
    "            model.add(MaxPooling3D(pool_size=(1, 2, 2), strides=(1, 2, 2)))\n",
    "            # 2nd layer group\n",
    "            model.add(Conv3D(64, (3,3,3), activation='relu'))\n",
    "            model.add(MaxPooling3D(pool_size=(1, 2, 2), strides=(1, 2, 2)))\n",
    "            # 3rd layer group\n",
    "            model.add(Conv3D(128, (3,3,3), activation='relu'))\n",
    "            model.add(Conv3D(128, (3,3,3), activation='relu'))\n",
    "            model.add(MaxPooling3D(pool_size=(1, 2, 2), strides=(1, 2, 2)))\n",
    "            # 4th layer group\n",
    "            model.add(Conv3D(256, (2,2,2), activation='relu'))\n",
    "            model.add(Conv3D(256, (2,2,2), activation='relu'))\n",
    "            model.add(MaxPooling3D(pool_size=(1, 2, 2), strides=(1, 2, 2)))\n",
    "            # FC layers group\n",
    "            model.add(Flatten())\n",
    "            model.add(Dense(256))\n",
    "            model.add(Dropout(0.5))\n",
    "            model.add(Dense(128))\n",
    "            model.add(Dropout(0.5))\n",
    "            model.add(Dense(self.data.num_classes, activation='softmax'))\n",
    "            \n",
    "        else:\n",
    "            raise NameError('Invalid architecture - must be one of [image_MLP_frozen, image_MLP_trainable, video_MLP_concat, video_LRCNN_frozen, video_LRCNN_trainable, C3D, C3Dsmall]')    \n",
    "        \n",
    "        \n",
    "        \n",
    "        \n",
    "        ###############\n",
    "        ### Finish init\n",
    "        ###############\n",
    "        \n",
    "        # set class model to constructed model\n",
    "        self.model = model\n",
    "        \n",
    "        # load weights of model if they exist\n",
    "        if os.path.exists(self.path_model + 'model.h5'):\n",
    "            if self.verbose:\n",
    "                logging.info(\"Loading saved model weights\")\n",
    "            model.load_weights(self.path_model + 'model.h5')            \n",
    "        \n",
    "        # save model summary to model folder\n",
    "        with open(self.path_model + 'model_summary.txt', 'w') as f:\n",
    "            with redirect_stdout(f):\n",
    "                self.model.summary()\n",
    "        \n",
    "        # save architecture params to model folder\n",
    "        params = self.__dict__.copy()\n",
    "        params['data_shape'] = str(self.data)\n",
    "        del params['model']\n",
    "        del params['data']\n",
    "        with open(self.path_model + 'params.json', 'w') as fp:\n",
    "            json.dump(params, fp, indent=4)\n",
    "    \n",
    "    \n",
    "    def train_model(self):\n",
    "        \"\"\"\n",
    "        Run several rounds of fitting to train model, reducing learning rate after each round\n",
    "        \n",
    "        Progress and model parameters will be saved to the model's path e.g. /models/1/\n",
    "        \n",
    "        \"\"\"\n",
    "        \n",
    "        # init results with architecture params\n",
    "        results = self.__dict__.copy()\n",
    "        results['data_total_rows_train'] = self.data.total_rows_train\n",
    "        results['data_total_rows_valid'] = self.data.total_rows_train\n",
    "        results['data_total_rows_test'] = self.data.total_rows_train\n",
    "        del results['model']\n",
    "        del results['data']\n",
    "        results['model_param_count'] = self.model.count_params()\n",
    "        \n",
    "        \n",
    "        ###############\n",
    "        ### Train model\n",
    "        ###############\n",
    "        \n",
    "        # start training timer\n",
    "        start = datetime.datetime.now()\n",
    "        results['fit_dt_train_start'] = start.strftime(\"%Y-%m-%d %H:%M:%S\")\n",
    "        \n",
    "        # do first round of fitting\n",
    "        history1, stopped_epoch1 = self.fit(learning_rate = 0.001)\n",
    "        \n",
    "        # load best model weights so far\n",
    "        self.model.load_weights(self.path_model + 'model.h5')\n",
    "        \n",
    "        # reduce learning rate and fit some more\n",
    "        history2, stopped_epoch2 = self.fit(learning_rate = 0.0001)\n",
    "        \n",
    "        # load best model weights so far\n",
    "        self.model.load_weights(self.path_model + 'model.h5')\n",
    "        \n",
    "        # reduce learning rate and fit some more\n",
    "        history3, stopped_epoch3 = self.fit(learning_rate = 0.00001)\n",
    "        \n",
    "        # end time training\n",
    "        end = datetime.datetime.now()    \n",
    "        results['fit_dt_train_end']  = end.strftime(\"%Y-%m-%d %H:%M:%S\")\n",
    "        results['fit_dt_train_duration_seconds']  = str((end - start).total_seconds()).split(\".\")[0]\n",
    "        \n",
    "        \n",
    "        #################\n",
    "        ### build results\n",
    "        #################\n",
    "        # combine fit histories into big dataframe and write to model folder\n",
    "        # only keep history until accuracy declined (where early stopping made checkpoint)\n",
    "\n",
    "        # parse history dicts to dataframes\n",
    "        history1 = pd.DataFrame(history1.history).head(stopped_epoch1)\n",
    "        history1['fit_round'] = 1\n",
    "        history2 = pd.DataFrame(history2.history).head(stopped_epoch2)\n",
    "        history2['fit_round'] = 2\n",
    "        history3 = pd.DataFrame(history3.history).head(stopped_epoch3)\n",
    "        history3['fit_round'] = 3\n",
    "        \n",
    "        # combine and save csv\n",
    "        fit_history = pd.concat([history1, history2, history3], axis=0)\n",
    "        fit_history = fit_history.reset_index(drop=True)\n",
    "        fit_history['epoch'] = fit_history.index+1\n",
    "        fit_history.to_csv(self.path_model + 'fit_history.csv')\n",
    "        self.fit_history = fit_history\n",
    "        \n",
    "        results['fit_stopped_epoch1'] = stopped_epoch1\n",
    "        results['fit_stopped_epoch2'] = stopped_epoch2\n",
    "        results['fit_stopped_epoch3'] = stopped_epoch3\n",
    "        \n",
    "        # add 3 = 1 for each training round because stopped_epoch is 0 indexed\n",
    "        results['fit_num_epochs'] = stopped_epoch1 + stopped_epoch2 + stopped_epoch3 + 3\n",
    "        results['fit_val_acc'] = list(fit_history.tail(1)['val_acc'])[0]\n",
    "        results['fit_train_acc'] = list(fit_history.tail(1)['acc'])[0]\n",
    "        results['fit_val_loss'] = list(fit_history.tail(1)['val_loss'])[0]\n",
    "        results['fit_train_loss'] = list(fit_history.tail(1)['loss'])[0]\n",
    "\n",
    "        #######################\n",
    "        ### Predict on test set\n",
    "        #######################\n",
    "        \n",
    "        # start test timer\n",
    "        start = datetime.datetime.now()\n",
    "        results['fit_dt_test_start'] = start.strftime(\"%Y-%m-%d %H:%M:%S\")\n",
    "        \n",
    "        y_pred = None\n",
    "        y_test = None\n",
    "        if self.data.return_generator:\n",
    "            # predict on test set via generator\n",
    "            y_pred = self.model.predict_generator(self.data.generator_test,verbose=self.verbose)\n",
    "            \n",
    "            # save predicted clas probabilities\n",
    "            np.save(self.path_model + 'test_predictions', y_pred)\n",
    "            \n",
    "            # take argmax to get predicted class\n",
    "            y_pred = np.argmax(y_pred, axis = 1)\n",
    "\n",
    "            # get truth labels from generator\n",
    "            y_test = []\n",
    "            for _, label in self.data.generator_test:\n",
    "                y_test.extend(label)\n",
    "            y_test = np.argmax(np.array(y_test), axis = 1)\n",
    "            \n",
    "        else:\n",
    "            # predict on test data loaded into memory\n",
    "            y_pred = self.model.predict(self.data.x_test, verbose=self.verbose)\n",
    "            \n",
    "            # save predicted clas probabilities\n",
    "            np.save(self.path_model + 'test_predictions', y_pred)\n",
    "            \n",
    "            # take argmax to get predicted class\n",
    "            y_pred = np.argmax(y_pred, axis=1)\n",
    "\n",
    "            # get truth labels from memory\n",
    "            y_test = np.argmax(self.data.y_test,axis=1)\n",
    "        \n",
    "        # end time testing\n",
    "        end = datetime.datetime.now()    \n",
    "        results['fit_dt_test_end']  = end.strftime(\"%Y-%m-%d %H:%M:%S\")\n",
    "        results['fit_dt_test_duration_seconds']  = str((end - start).total_seconds()).split(\".\")[0]\n",
    "        \n",
    "        ############################\n",
    "        ### Compute confusion matrix\n",
    "        ############################\n",
    "        \n",
    "        # Compute and store confusion matrix\n",
    "        cnf_matrix = confusion_matrix(y_test, y_pred)\n",
    "        pd.DataFrame(cnf_matrix).to_csv(self.path_model + \"confusion_matrix.csv\")\n",
    "\n",
    "        # get clas names from label map for plot\n",
    "        class_names = list(self.data.label_map.values())\n",
    "\n",
    "        # Plot non-normalized confusion matrix\n",
    "        plt.figure(figsize=(8,8))\n",
    "        plot_confusion_matrix(cnf_matrix, classes=class_names, title='Confusion matrix, without normalization')\n",
    "        plt.savefig(self.path_model + 'confusion_matrix.png', bbox_inches='tight')\n",
    "\n",
    "        # Plot normalized confusion matrix\n",
    "        plt.figure(figsize=(8,8))\n",
    "        plot_confusion_matrix(cnf_matrix, classes=class_names, normalize=True, title='Normalized confusion matrix')\n",
    "        plt.savefig(self.path_model + 'confusion_matrix_normalized.png', bbox_inches='tight')\n",
    "        \n",
    "        \n",
    "        ##########################\n",
    "        ### Compute raw error rate\n",
    "        ##########################\n",
    "        \n",
    "        # build dataframe and calculate test error (assuming we classify using majority rule, not ROC cutoff approach)\n",
    "        pdf = pd.DataFrame(y_pred, columns = ['pred'])\n",
    "        pdf['prediction'] = pdf['pred'].apply(lambda x: self.data.label_map[str(x)])\n",
    "\n",
    "        truth = pd.DataFrame(y_test, columns = ['truth'])\n",
    "        truth['label'] = truth['truth'].apply(lambda x: self.data.label_map[str(x)])\n",
    "        truth = truth[['label']]\n",
    "\n",
    "        pdf = pd.concat([pdf, truth], axis=1)\n",
    "        pdf['error'] = (pdf['prediction'] != pdf['label']).astype(int)\n",
    "        test_acc = 1 - pdf['error'].mean()\n",
    "        \n",
    "        results['fit_test_acc'] = test_acc\n",
    "        \n",
    "        if self.verbose:\n",
    "            logger.info(str(results))\n",
    "            logger.info(\"model {} test acc: {}\".format(self.model_id, test_acc))\n",
    "        \n",
    "        \n",
    "        ##################\n",
    "        ### Output results\n",
    "        ##################\n",
    "        self.results = results\n",
    "        with open(self.path_model + 'results.json', 'w') as fp:\n",
    "            json.dump(results, fp, indent=4)\n",
    "\n",
    "        \n",
    "    def fit(self, learning_rate = 0.001, epochs = 30, patience=5):\n",
    "        \"\"\"\n",
    "        Compile and fit model for *epochs* rounds of training, dividing learning rate by 10 after each round\n",
    "\n",
    "        Fitting will stop if val_acc does not improve for at least patience epochs\n",
    "\n",
    "        Only the best weights will be kept\n",
    "\n",
    "        The model is saved to /models/*model_id*/\n",
    "\n",
    "        Good practice is to decrease the learning rate by a factor of 10 after each plateau and train some more \n",
    "        (after first re-loading best weights from previous training round)...\n",
    "\n",
    "        for example (not exact example because this fit method has been refactored into the architecture object but the principle remains):\n",
    "            fit_history = fit(model_id, model, data, learning_rate = 0.001, epochs = 30)\n",
    "            model.load_weights(path_model + \"model.h5\")\n",
    "            model = fit(model, 5)\n",
    "            fit_history = train(model_id, model, data, learning_rate = 0.0001, epochs = 30)\n",
    "\n",
    "        :learning_rate: learning rate parameter for Adam optimizer (default is 0.001)\n",
    "\n",
    "        :epochs: number of training epochs per fit round (subject to patience)\n",
    "        :batch_size: number of samples in each batch\n",
    "        :patience: how many epochs without val_acc improvement before stopping fit round\n",
    "        :verbose: print progress\n",
    "\n",
    "        \"\"\"\n",
    "\n",
    "        # get number of processors for multiprocessing fit generators\n",
    "        num_workers = multiprocessing.cpu_count()\n",
    "\n",
    "        # create optimizer with given learning rate \n",
    "        opt = Adam(lr = learning_rate)\n",
    "\n",
    "        # compile model\n",
    "        self.model.compile(optimizer=opt, loss='binary_crossentropy', metrics=['accuracy'])\n",
    "\n",
    "        # setup training callbacks\n",
    "        callback_stopper = EarlyStopping(monitor='val_acc', patience=patience, verbose=0)\n",
    "        callback_csvlogger = CSVLogger(self.path_model + 'training.log')\n",
    "        callback_checkpointer = ModelCheckpoint(self.path_model +  'model.h5', monitor='val_acc', save_best_only=True, verbose=verbose)\n",
    "        callbacks = [callback_stopper, callback_checkpointer, callback_csvlogger]\n",
    "\n",
    "        # fit model\n",
    "        if self.data.return_generator == True:\n",
    "            # train using generator\n",
    "            history = self.model.fit_generator(generator=self.data.generator_train,\n",
    "                validation_data=self.data.generator_valid,\n",
    "                use_multiprocessing=True,\n",
    "                workers=num_workers,\n",
    "                epochs=epochs,\n",
    "                callbacks=callbacks,\n",
    "                shuffle=True,\n",
    "                verbose=self.verbose)\n",
    "        else:\n",
    "            # train using full dataset\n",
    "            history = self.model.fit(self.data.x_train, self.data.y_train, \n",
    "                validation_data=(self.data.x_valid, self.data.y_valid),\n",
    "                batch_size=self.batch_size,\n",
    "                epochs=epochs,\n",
    "                callbacks=callbacks,\n",
    "                shuffle=True,\n",
    "                verbose=self.verbose)\n",
    "\n",
    "        # get number of epochs actually trained (might have early stopped)\n",
    "        epochs_trained = callback_stopper.stopped_epoch\n",
    "        \n",
    "        if epochs_trained == 0:\n",
    "            # trained but didn't stop early\n",
    "            if len(history.history) > 0:\n",
    "                epochs_trained = epochs\n",
    "        else:\n",
    "            # subtract patience from stop point to get actual peak epoch for this fitting round\n",
    "            epochs_trained -= patience \n",
    "        \n",
    "        # return fit history and the epoch that the early stopper completed on\n",
    "        return history, epochs_trained\n",
    "        \n",
    "        \n",
    "    def make_last_layers_trainable(self, num_layers):\n",
    "        \"\"\"\n",
    "        Set the last *num_layers* non-trainable layers to trainable  \n",
    "\n",
    "        NB to be used with model_base and assumes name = \"top_xxx\" added to each top layer to know \n",
    "        to ignore that layer when looping through layers from top backwards\n",
    "\n",
    "        :num_layers: number of layers from end of model (that are currently not trainable) to be set as trainable\n",
    "        \"\"\"\n",
    "\n",
    "        # get index of last non-trainable layer\n",
    "        # (the layers we added on top of model_base are already trainable=True)\n",
    "        # ...\n",
    "        # need to find last layer of base model and set that (and previous num_layers)\n",
    "        # to trainable=True via this method\n",
    "\n",
    "        # find last non-trainable layer index\n",
    "        idx_not_trainable = 0\n",
    "        for i, l in enumerate(self.model.layers):\n",
    "            if \"top\" not in l.name:\n",
    "                idx_not_trainable = i\n",
    "\n",
    "        # set last non-trainable layer and num_layers prior to trainable=True\n",
    "        for i in reversed(range(idx_not_trainable-num_layers+1, idx_not_trainable+1)):\n",
    "            self.model.layers[i].trainable = True\n",
    "        \n",
    "        if self.verbose:\n",
    "            logging.info(\"last {} layers of CNN set to trainable\".format(num_layers))"
   ]
  },
  {
   "cell_type": "markdown",
   "metadata": {},
   "source": [
    "# Create experiments lists and run experiments"
   ]
  },
  {
   "cell_type": "markdown",
   "metadata": {},
   "source": [
    "* batch 1 = run frozen MLPs and LRCNNs and all concats\n",
    "\n",
    "* batch 2 = run trainable MLP and LRCNN on best performing frozen variants\n",
    "\n",
    "* batch 3 = run trainable but initializing with best CNN weights\n",
    "\n",
    "* batch 4 = run C3D models"
   ]
  },
  {
   "cell_type": "markdown",
   "metadata": {},
   "source": [
    "## Experiment batch 1"
   ]
  },
  {
   "cell_type": "code",
   "execution_count": 79,
   "metadata": {
    "ExecuteTime": {
     "end_time": "2019-01-20T01:41:03.837126Z",
     "start_time": "2019-01-20T01:41:03.834422Z"
    }
   },
   "outputs": [],
   "source": [
    "experiment_batch_name = 'experiment_batch_1'"
   ]
  },
  {
   "cell_type": "code",
   "execution_count": 80,
   "metadata": {
    "ExecuteTime": {
     "end_time": "2019-01-20T01:41:04.024470Z",
     "start_time": "2019-01-20T01:41:04.020819Z"
    }
   },
   "outputs": [],
   "source": [
    "# init list of experiments\n",
    "experiments = []"
   ]
  },
  {
   "cell_type": "code",
   "execution_count": 81,
   "metadata": {
    "ExecuteTime": {
     "end_time": "2019-01-20T01:41:04.198860Z",
     "start_time": "2019-01-20T01:41:04.194735Z"
    }
   },
   "outputs": [],
   "source": [
    "pooling = 'max'\n",
    "layer_sizes = [512, 256, 128, 0]\n",
    "dropouts = [0.2]\n",
    "sequence_lengths = [1,3,5,10,20]\n",
    "sequence_models = [\"LSTM\", \"SimpleRNN\", \"GRU\", \"Convolution1D\"]\n",
    "sequence_model_layer_counts = [1,2,3]"
   ]
  },
  {
   "cell_type": "code",
   "execution_count": 82,
   "metadata": {
    "ExecuteTime": {
     "end_time": "2019-01-20T01:41:04.401380Z",
     "start_time": "2019-01-20T01:41:04.396020Z"
    }
   },
   "outputs": [],
   "source": [
    "####################\n",
    "### image_MLP_frozen \n",
    "####################\n",
    "\n",
    "for pretrained_model_name in pretrained_model_names:\n",
    "    for layer_1_size in layer_sizes:\n",
    "        for layer_2_size in layer_sizes:\n",
    "            for layer_3_size in layer_sizes:\n",
    "                for dropout in dropouts:\n",
    "\n",
    "                    # build experiment parameters\n",
    "                    experiment = {}\n",
    "                    \n",
    "                    experiment['architecture'] = 'image_MLP_frozen'\n",
    "                    experiment['sequence_length'] = 1\n",
    "                    experiment['pretrained_model_name'] = pretrained_model_name\n",
    "                    experiment['layer_1_size'] = layer_1_size\n",
    "                    experiment['layer_2_size'] = layer_2_size\n",
    "                    experiment['layer_3_size'] = layer_3_size\n",
    "                    experiment['dropout'] = dropout\n",
    "                    experiment['pooling'] = 'max' # outperforms avg across all parameters\n",
    "                    \n",
    "                    # add to list of experiments\n",
    "                    experiments.append(experiment)"
   ]
  },
  {
   "cell_type": "code",
   "execution_count": 83,
   "metadata": {
    "ExecuteTime": {
     "end_time": "2019-01-20T01:41:04.570337Z",
     "start_time": "2019-01-20T01:41:04.563744Z"
    }
   },
   "outputs": [],
   "source": [
    "####################\n",
    "### video_MLP_concat\n",
    "####################\n",
    "\n",
    "for sequence_length in sequence_lengths:\n",
    "    for pretrained_model_name in pretrained_model_names:\n",
    "        for layer_1_size in layer_sizes:\n",
    "            for layer_2_size in layer_sizes:\n",
    "                for layer_3_size in layer_sizes:\n",
    "                    for dropout in dropouts:\n",
    "\n",
    "                        # build experiment parameters\n",
    "                        experiment = {}\n",
    "\n",
    "                        experiment['architecture'] = 'video_MLP_concat'\n",
    "                        experiment['pretrained_model_name'] = pretrained_model_name\n",
    "                        experiment['layer_1_size'] = layer_1_size\n",
    "                        experiment['layer_2_size'] = layer_2_size\n",
    "                        experiment['layer_3_size'] = layer_3_size\n",
    "                        experiment['dropout'] = dropout\n",
    "                        experiment['pooling'] = 'max' # outperforms avg across all parameters\n",
    "\n",
    "                        # add to list of experiments\n",
    "                        experiments.append(experiment)"
   ]
  },
  {
   "cell_type": "code",
   "execution_count": 84,
   "metadata": {
    "ExecuteTime": {
     "end_time": "2019-01-20T01:41:04.763026Z",
     "start_time": "2019-01-20T01:41:04.736057Z"
    }
   },
   "outputs": [],
   "source": [
    "######################\n",
    "### video_LRCNN_frozen\n",
    "######################\n",
    "\n",
    "for sequence_length in sequence_lengths:\n",
    "    for pretrained_model_name in pretrained_model_names:\n",
    "        for layer_1_size in layer_sizes:\n",
    "            for layer_2_size in layer_sizes:\n",
    "                for layer_3_size in layer_sizes:\n",
    "                    for dropout in dropouts:\n",
    "                        for sequence_model in sequence_models:\n",
    "                            for sequence_model_layers in sequence_model_layer_counts:\n",
    "\n",
    "                                # build experiment parameters\n",
    "                                experiment = {}\n",
    "\n",
    "                                experiment['architecture'] = 'video_LRCNN_frozen'\n",
    "                                experiment['pretrained_model_name'] = pretrained_model_name\n",
    "                                experiment['layer_1_size'] = layer_1_size\n",
    "                                experiment['layer_2_size'] = layer_2_size\n",
    "                                experiment['layer_3_size'] = layer_3_size\n",
    "                                experiment['dropout'] = dropout\n",
    "                                experiment['pooling'] = 'max' # outperforms avg across all parameters\n",
    "                                experiment['sequence_model'] = sequence_model\n",
    "                                experiment['sequence_model_layers'] = sequence_model_layers\n",
    "\n",
    "                                # add to list of experiments\n",
    "                                experiments.append(experiment)"
   ]
  },
  {
   "cell_type": "code",
   "execution_count": 85,
   "metadata": {
    "ExecuteTime": {
     "end_time": "2019-01-20T01:41:04.984691Z",
     "start_time": "2019-01-20T01:41:04.913119Z"
    }
   },
   "outputs": [],
   "source": [
    "########################\n",
    "### convert to dataframe\n",
    "########################\n",
    "\n",
    "experiments = pd.DataFrame(experiments)\n",
    "experiments['model_id'] = experiments.index"
   ]
  },
  {
   "cell_type": "code",
   "execution_count": 86,
   "metadata": {
    "ExecuteTime": {
     "end_time": "2019-01-20T01:41:05.722649Z",
     "start_time": "2019-01-20T01:41:05.477593Z"
    }
   },
   "outputs": [],
   "source": [
    "experiments.to_csv(pwd + \"experiments/\" + experiment_batch_name + '.csv')"
   ]
  },
  {
   "cell_type": "code",
   "execution_count": null,
   "metadata": {
    "ExecuteTime": {
     "start_time": "2019-01-20T01:41:08.709Z"
    }
   },
   "outputs": [
    {
     "name": "stderr",
     "output_type": "stream",
     "text": [
      "2019-01-20 01:41:08,918 [MainThread  ] [INFO ]  Begin experiment for model_id=0\n",
      "2019-01-20 01:41:08,920 [MainThread  ] [INFO ]  Loading data\n"
     ]
    },
    {
     "name": "stdout",
     "output_type": "stream",
     "text": [
      "{'sequence_length': 1.0, 'dropout': 0.2, 'model_id': 0, 'layer_3_size': 512, 'architecture': 'image_MLP_frozen', 'layer_1_size': 512, 'sequence_model': nan, 'sequence_model_layers': nan, 'pooling': 'max', 'layer_2_size': 512, 'pretrained_model_name': 'inception_resnet_v2'}\n"
     ]
    }
   ],
   "source": [
    "###################\n",
    "### Run experiments\n",
    "###################\n",
    "\n",
    "for row in experiments.values:\n",
    "    \n",
    "    # get experiment params from dataframe row\n",
    "    experiment = dict(zip(experiments.columns, row))\n",
    "    print(experiment)\n",
    "\n",
    "    logging.info(\"Begin experiment for model_id={}\".format(experiment['model_id']))\n",
    "    \n",
    "    architecture = Architecture(model_id = experiment['model_id'], \n",
    "                                architecture = experiment['architecture'], \n",
    "                                sequence_length = experiment['sequence_length'], \n",
    "                                pretrained_model_name = experiment['pretrained_model_name'],\n",
    "                                pooling = experiment['pooling'],\n",
    "                                sequence_model = experiment['sequence_model'],\n",
    "                                sequence_model_layers = experiment['sequence_model_layers'],\n",
    "                                layer_1_size = experiment['layer_1_size'],\n",
    "                                layer_2_size = experiment['layer_2_size'],\n",
    "                                layer_3_size = experiment['layer_3_size'],\n",
    "                                dropout = experiment['dropout'],\n",
    "                                verbose=True)\n",
    "    \n",
    "    architecture.train_model()"
   ]
  },
  {
   "cell_type": "markdown",
   "metadata": {},
   "source": [
    "## batch 2"
   ]
  },
  {
   "cell_type": "code",
   "execution_count": null,
   "metadata": {},
   "outputs": [],
   "source": [
    "#######################\n",
    "### image_MLP_trainable\n",
    "#######################\n",
    "\n",
    "architecture = 'video_LRCNN_trainable'"
   ]
  },
  {
   "cell_type": "code",
   "execution_count": null,
   "metadata": {},
   "outputs": [],
   "source": [
    "#########################\n",
    "### video_LRCNN_trainable\n",
    "#########################\n",
    "\n",
    "architecture = 'video_LRCNN_trainable'"
   ]
  },
  {
   "cell_type": "markdown",
   "metadata": {},
   "source": [
    "## batch 3"
   ]
  },
  {
   "cell_type": "code",
   "execution_count": null,
   "metadata": {},
   "outputs": [],
   "source": [
    "# TODO - custom weights MLP loaded into trainable and LRCNN"
   ]
  },
  {
   "cell_type": "markdown",
   "metadata": {},
   "source": [
    "## batch 4"
   ]
  },
  {
   "cell_type": "code",
   "execution_count": null,
   "metadata": {},
   "outputs": [],
   "source": [
    "#######\n",
    "### C3D\n",
    "#######\n",
    "\n",
    "architecture = 'C3D'\n",
    "\n",
    "############\n",
    "### C3Dsmall\n",
    "############\n",
    "\n",
    "architecture = 'C3Dsmall' "
   ]
  },
  {
   "cell_type": "markdown",
   "metadata": {},
   "source": [
    "# Run experiments"
   ]
  },
  {
   "cell_type": "code",
   "execution_count": null,
   "metadata": {
    "ExecuteTime": {
     "end_time": "2019-01-20T00:50:01.871676Z",
     "start_time": "2019-01-20T00:50:01.868446Z"
    }
   },
   "outputs": [],
   "source": [
    "# architecture = Architecture(model_id = 1221, \n",
    "#                             architecture = 'image_MLP_trainable',\n",
    "#                             sequence_length = 1, \n",
    "#                             pretrained_model_name = \"vgg16\", \n",
    "#                             pooling = 'max', \n",
    "#                             layer_1_size=32,\n",
    "#                             layer_2_size=0, \n",
    "#                             layer_3_size=0,\n",
    "#                             dropout=0.2,\n",
    "#                             verbose=True)"
   ]
  },
  {
   "cell_type": "code",
   "execution_count": null,
   "metadata": {
    "ExecuteTime": {
     "end_time": "2019-01-20T00:50:08.825434Z",
     "start_time": "2019-01-20T00:50:07.388240Z"
    },
    "scrolled": true
   },
   "outputs": [],
   "source": [
    "architecture = Architecture(model_id = 55, \n",
    "                            architecture = 'image_MLP_frozen',\n",
    "                            sequence_length = 1, \n",
    "                            pretrained_model_name = \"vgg16\", \n",
    "                            pooling = 'max', \n",
    "                            layer_1_size=256,\n",
    "                            layer_2_size=128, \n",
    "                            layer_3_size=0,\n",
    "                            dropout=0.2,\n",
    "                            verbose=True)"
   ]
  },
  {
   "cell_type": "code",
   "execution_count": null,
   "metadata": {
    "ExecuteTime": {
     "end_time": "2019-01-20T00:50:19.882928Z",
     "start_time": "2019-01-20T00:50:09.634082Z"
    },
    "scrolled": false
   },
   "outputs": [],
   "source": [
    "architecture.train_model()"
   ]
  },
  {
   "cell_type": "markdown",
   "metadata": {},
   "source": [
    "# Debug"
   ]
  },
  {
   "cell_type": "markdown",
   "metadata": {
    "heading_collapsed": true
   },
   "source": [
    "## image_MLP_trainable"
   ]
  },
  {
   "cell_type": "code",
   "execution_count": null,
   "metadata": {
    "ExecuteTime": {
     "end_time": "2019-01-20T00:01:47.875295Z",
     "start_time": "2019-01-20T00:01:43.392Z"
    },
    "hidden": true
   },
   "outputs": [],
   "source": [
    "pretrained_model_name = \"vgg16\"\n",
    "pooling=\"max\"\n",
    "sequence_length = 2\n",
    "\n",
    "layer_1_size = 128\n",
    "layer_2_size = 64\n",
    "layer_3_size = 32\n",
    "dropout=0.20\n",
    "\n",
    "data = Data(sequence_length = 1, \n",
    "            return_CNN_features = False, \n",
    "            pretrained_model_name=pretrained_modesl_name,\n",
    "            pooling = pooling,\n",
    "            return_generator=True,\n",
    "            batch_size=32)\n",
    "\n",
    "num_classes = data.num_classes \n",
    "frame_size = data.frame_size\n",
    "num_features = pretrained_model_len_features[pretrained_model_name]"
   ]
  },
  {
   "cell_type": "code",
   "execution_count": null,
   "metadata": {
    "ExecuteTime": {
     "end_time": "2019-01-20T00:01:47.876587Z",
     "start_time": "2019-01-20T00:01:43.393Z"
    },
    "hidden": true
   },
   "outputs": [],
   "source": [
    "architecture = Architecture(model_id = 1, \n",
    "                            architecture = 'image_MLP_trainable',\n",
    "                            sequence_length = 1, \n",
    "                            num_classes = num_classes, \n",
    "                            pretrained_model_name = pretrained_model_name, \n",
    "                            pooling = 'max', \n",
    "                            layer_1_size=128,\n",
    "                            layer_2_size=0, \n",
    "                            layer_3_size=0,\n",
    "                            dropout=0.2)"
   ]
  },
  {
   "cell_type": "code",
   "execution_count": null,
   "metadata": {
    "ExecuteTime": {
     "end_time": "2019-01-20T00:01:47.877762Z",
     "start_time": "2019-01-20T00:01:43.395Z"
    },
    "hidden": true
   },
   "outputs": [],
   "source": [
    "fit(model_id=1337, model = architecture.model, data = data)"
   ]
  },
  {
   "cell_type": "markdown",
   "metadata": {
    "heading_collapsed": true
   },
   "source": [
    "## image_MLP_frozen"
   ]
  },
  {
   "cell_type": "code",
   "execution_count": null,
   "metadata": {
    "ExecuteTime": {
     "end_time": "2019-01-20T00:01:47.878958Z",
     "start_time": "2019-01-20T00:01:43.397Z"
    },
    "hidden": true
   },
   "outputs": [],
   "source": [
    "pretrained_model_name = \"vgg16\"\n",
    "pooling=\"max\"\n",
    "layer_1_size = 128\n",
    "layer_2_size = 64\n",
    "layer_3_size = 32\n",
    "dropout=0.20"
   ]
  },
  {
   "cell_type": "code",
   "execution_count": null,
   "metadata": {
    "ExecuteTime": {
     "end_time": "2019-01-20T00:01:47.880069Z",
     "start_time": "2019-01-20T00:01:43.400Z"
    },
    "hidden": true,
    "scrolled": true
   },
   "outputs": [],
   "source": [
    "data = Data(sequence_length = 1, \n",
    "            return_CNN_features = True, \n",
    "            pretrained_model_name=pretrained_model_name,\n",
    "            pooling = pooling)"
   ]
  },
  {
   "cell_type": "code",
   "execution_count": null,
   "metadata": {
    "ExecuteTime": {
     "end_time": "2019-01-20T00:01:47.881261Z",
     "start_time": "2019-01-20T00:01:43.403Z"
    },
    "hidden": true
   },
   "outputs": [],
   "source": [
    "num_classes = data.num_classes \n",
    "frame_size = data.frame_size\n",
    "num_features = pretrained_model_len_features[pretrained_model_name]"
   ]
  },
  {
   "cell_type": "code",
   "execution_count": null,
   "metadata": {
    "ExecuteTime": {
     "end_time": "2019-01-20T00:01:47.882376Z",
     "start_time": "2019-01-20T00:01:43.404Z"
    },
    "hidden": true
   },
   "outputs": [],
   "source": [
    "architecture = Architecture(model_id = 1, \n",
    "                            architecture = 'image_MLP_frozen',\n",
    "                            sequence_length = 1, \n",
    "                            num_classes = num_classes, \n",
    "                            pretrained_model_name = pretrained_model_name, \n",
    "                            pooling = 'max', \n",
    "                            layer_1_size=128,\n",
    "                            layer_2_size=0, \n",
    "                            layer_3_size=0,\n",
    "                            dropout=0.2)"
   ]
  },
  {
   "cell_type": "code",
   "execution_count": null,
   "metadata": {
    "ExecuteTime": {
     "end_time": "2019-01-20T00:01:47.883366Z",
     "start_time": "2019-01-20T00:01:43.406Z"
    },
    "hidden": true,
    "scrolled": true
   },
   "outputs": [],
   "source": [
    "# train model\n",
    "fit_history = fit(model_id = 1, model = architecture.model, data = data, learning_rate = 0.001, epochs = 10)"
   ]
  },
  {
   "cell_type": "markdown",
   "metadata": {
    "heading_collapsed": true
   },
   "source": [
    "## video_MLP_concat"
   ]
  },
  {
   "cell_type": "code",
   "execution_count": null,
   "metadata": {
    "ExecuteTime": {
     "end_time": "2019-01-20T00:01:47.884556Z",
     "start_time": "2019-01-20T00:01:43.408Z"
    },
    "hidden": true
   },
   "outputs": [],
   "source": [
    "pretrained_model_name = \"vgg16\"\n",
    "pooling=\"max\"\n",
    "sequence_length = 3\n",
    "layer_1_size = 128\n",
    "layer_2_size = 64\n",
    "layer_3_size = 32\n",
    "dropout=0.20"
   ]
  },
  {
   "cell_type": "code",
   "execution_count": null,
   "metadata": {
    "ExecuteTime": {
     "end_time": "2019-01-20T00:01:47.885632Z",
     "start_time": "2019-01-20T00:01:43.411Z"
    },
    "hidden": true
   },
   "outputs": [],
   "source": [
    "data = Data(sequence_length = sequence_length, \n",
    "            return_CNN_features = True, \n",
    "            pretrained_model_name=pretrained_model_name,\n",
    "            pooling = pooling)"
   ]
  },
  {
   "cell_type": "code",
   "execution_count": null,
   "metadata": {
    "ExecuteTime": {
     "end_time": "2019-01-20T00:01:47.886791Z",
     "start_time": "2019-01-20T00:01:43.413Z"
    },
    "hidden": true
   },
   "outputs": [],
   "source": [
    "num_classes = data.num_classes \n",
    "frame_size = data.frame_size\n",
    "num_features = pretrained_model_len_features[pretrained_model_name]"
   ]
  },
  {
   "cell_type": "code",
   "execution_count": null,
   "metadata": {
    "ExecuteTime": {
     "end_time": "2019-01-20T00:01:47.887814Z",
     "start_time": "2019-01-20T00:01:43.414Z"
    },
    "hidden": true
   },
   "outputs": [],
   "source": [
    "architecture = Architecture(model_id = 1, \n",
    "                            architecture = 'video_MLP_concat',\n",
    "                            sequence_length = 3, \n",
    "                            num_classes = num_classes, \n",
    "                            pretrained_model_name = pretrained_model_name, \n",
    "                            pooling = 'max', \n",
    "                            layer_1_size=128,\n",
    "                            layer_2_size=0, \n",
    "                            layer_3_size=0,\n",
    "                            dropout=0.2)"
   ]
  },
  {
   "cell_type": "code",
   "execution_count": null,
   "metadata": {
    "ExecuteTime": {
     "end_time": "2019-01-20T00:01:47.888908Z",
     "start_time": "2019-01-20T00:01:43.415Z"
    },
    "hidden": true
   },
   "outputs": [],
   "source": [
    "# train model\n",
    "fit_history = fit(model_id = 1, model = architecture.model, data = data, learning_rate = 0.001, epochs = 10)"
   ]
  },
  {
   "cell_type": "markdown",
   "metadata": {
    "heading_collapsed": true
   },
   "source": [
    "## video_LRCNN_frozen"
   ]
  },
  {
   "cell_type": "code",
   "execution_count": null,
   "metadata": {
    "ExecuteTime": {
     "end_time": "2019-01-20T00:01:47.889895Z",
     "start_time": "2019-01-20T00:01:43.418Z"
    },
    "hidden": true
   },
   "outputs": [],
   "source": [
    "pretrained_model_name = \"vgg16\"\n",
    "pooling=\"max\"\n",
    "sequence_length = \n",
    "layer_1_size = 128\n",
    "layer_2_size = 64\n",
    "layer_3_size = 32\n",
    "dropout=0.20"
   ]
  },
  {
   "cell_type": "code",
   "execution_count": null,
   "metadata": {
    "ExecuteTime": {
     "end_time": "2019-01-20T00:01:47.890963Z",
     "start_time": "2019-01-20T00:01:43.420Z"
    },
    "hidden": true
   },
   "outputs": [],
   "source": [
    "data = Data(sequence_length = sequence_length, \n",
    "            return_CNN_features = True, \n",
    "            pretrained_model_name=pretrained_model_name,\n",
    "            pooling = pooling)"
   ]
  },
  {
   "cell_type": "code",
   "execution_count": null,
   "metadata": {
    "ExecuteTime": {
     "end_time": "2019-01-20T00:01:47.892039Z",
     "start_time": "2019-01-20T00:01:43.422Z"
    },
    "hidden": true
   },
   "outputs": [],
   "source": [
    "architecture = Architecture(model_id=1,\n",
    "                            architecture=\"video_LRCNN_frozen\", \n",
    "                            sequence_model = 'LSTM',\n",
    "                            sequence_model_layers = 1,\n",
    "                            sequence_length = sequence_length,\n",
    "                            num_classes = data.num_classes, \n",
    "                            frame_size = data.frame_size, \n",
    "                            pretrained_model_name='vgg16', \n",
    "                            pooling='max',\n",
    "                            layer_1_size=64, \n",
    "                            layer_2_size=32, \n",
    "                            layer_3_size=8, \n",
    "                            dropout=0.2,\n",
    "                            convolution_kernel_size=3)"
   ]
  },
  {
   "cell_type": "code",
   "execution_count": null,
   "metadata": {
    "ExecuteTime": {
     "end_time": "2019-01-20T00:01:47.893274Z",
     "start_time": "2019-01-20T00:01:43.424Z"
    },
    "hidden": true
   },
   "outputs": [],
   "source": [
    "# train model\n",
    "fit_history = fit(model_id=1, model=architecture.model, data=data, learning_rate = 0.001, epochs = 50)"
   ]
  },
  {
   "cell_type": "markdown",
   "metadata": {
    "heading_collapsed": true
   },
   "source": [
    "## video_LRCNN_trainable"
   ]
  },
  {
   "cell_type": "code",
   "execution_count": null,
   "metadata": {
    "ExecuteTime": {
     "end_time": "2019-01-20T00:01:47.894825Z",
     "start_time": "2019-01-20T00:01:43.426Z"
    },
    "hidden": true
   },
   "outputs": [],
   "source": [
    "sequence_length=5"
   ]
  },
  {
   "cell_type": "code",
   "execution_count": null,
   "metadata": {
    "ExecuteTime": {
     "end_time": "2019-01-20T00:01:47.896011Z",
     "start_time": "2019-01-20T00:01:43.427Z"
    },
    "hidden": true
   },
   "outputs": [],
   "source": [
    "data = Data(sequence_length = sequence_length, \n",
    "            return_CNN_features = False, \n",
    "            pretrained_model_name=\"vgg16\",\n",
    "            pooling = \"max\",\n",
    "            batch_size=32,\n",
    "            return_generator=True)"
   ]
  },
  {
   "cell_type": "code",
   "execution_count": null,
   "metadata": {
    "ExecuteTime": {
     "end_time": "2019-01-20T00:01:47.897325Z",
     "start_time": "2019-01-20T00:01:43.429Z"
    },
    "hidden": true
   },
   "outputs": [],
   "source": [
    "architecture = Architecture(model_id = 4,\n",
    "                            architecture=\"video_LRCNN_trainable\", \n",
    "                            sequence_model = 'LSTM',\n",
    "                            sequence_model_layers = 1,\n",
    "                            sequence_length = sequence_length,\n",
    "                            num_classes = data.num_classes, \n",
    "                            frame_size = data.frame_size, \n",
    "                            pretrained_model_name='vgg16', \n",
    "                            pooling='max',\n",
    "                            layer_1_size=64, \n",
    "                            layer_2_size=32, \n",
    "                            layer_3_size=8, \n",
    "                            dropout=0.2,\n",
    "                            convolution_kernel_size=3)"
   ]
  },
  {
   "cell_type": "code",
   "execution_count": null,
   "metadata": {
    "ExecuteTime": {
     "end_time": "2019-01-20T00:01:47.898485Z",
     "start_time": "2019-01-20T00:01:43.431Z"
    },
    "hidden": true
   },
   "outputs": [],
   "source": [
    "# train model\n",
    "fit_history = fit(model_id = 1, model = architecture.model, data = data, learning_rate = 0.001, epochs = 50)"
   ]
  },
  {
   "cell_type": "markdown",
   "metadata": {
    "ExecuteTime": {
     "end_time": "2019-01-07T23:14:32.403927Z",
     "start_time": "2019-01-07T23:14:32.400506Z"
    }
   },
   "source": [
    "## C3D"
   ]
  },
  {
   "cell_type": "code",
   "execution_count": null,
   "metadata": {
    "ExecuteTime": {
     "end_time": "2019-01-20T00:01:47.900757Z",
     "start_time": "2019-01-20T00:01:43.434Z"
    }
   },
   "outputs": [],
   "source": [
    "architecture = Architecture(model_id = 4,\n",
    "                            architecture=\"C3D\", \n",
    "                            sequence_length = 16,\n",
    "                            num_classes = data.num_classes, \n",
    "                            frame_size = data.frame_size)"
   ]
  },
  {
   "cell_type": "code",
   "execution_count": null,
   "metadata": {
    "ExecuteTime": {
     "end_time": "2019-01-20T00:01:47.901887Z",
     "start_time": "2019-01-20T00:01:43.435Z"
    }
   },
   "outputs": [],
   "source": [
    "# train model\n",
    "fit_history = fit(model_id = 122, model = architecture.model, data = data, learning_rate = 0.001, epochs = 10)"
   ]
  },
  {
   "cell_type": "markdown",
   "metadata": {
    "heading_collapsed": true
   },
   "source": [
    "## C3Dsmall"
   ]
  },
  {
   "cell_type": "code",
   "execution_count": null,
   "metadata": {
    "ExecuteTime": {
     "end_time": "2019-01-20T00:01:47.903186Z",
     "start_time": "2019-01-20T00:01:43.437Z"
    },
    "hidden": true
   },
   "outputs": [],
   "source": [
    "data = Data(sequence_length = 16, \n",
    "            return_CNN_features = False, \n",
    "            frame_size = (112,112),\n",
    "            return_generator=True,\n",
    "            batch_size=32,\n",
    "            verbose=False)"
   ]
  },
  {
   "cell_type": "code",
   "execution_count": null,
   "metadata": {
    "ExecuteTime": {
     "end_time": "2019-01-20T00:01:47.904356Z",
     "start_time": "2019-01-20T00:01:43.439Z"
    },
    "hidden": true
   },
   "outputs": [],
   "source": [
    "architecture = Architecture(model_id = 4,\n",
    "                            architecture=\"C3Dsmall\", \n",
    "                            sequence_length = 16,\n",
    "                            num_classes = data.num_classes, \n",
    "                            frame_size = data.frame_size)"
   ]
  },
  {
   "cell_type": "code",
   "execution_count": null,
   "metadata": {
    "ExecuteTime": {
     "end_time": "2019-01-20T00:01:47.905603Z",
     "start_time": "2019-01-20T00:01:43.441Z"
    },
    "hidden": true
   },
   "outputs": [],
   "source": [
    "# train model\n",
    "fit_history = fit(model_id = 122, model = model, data = data, learning_rate = 0.001, epochs = 10)"
   ]
  },
  {
   "cell_type": "markdown",
   "metadata": {},
   "source": [
    "# analyze results"
   ]
  },
  {
   "cell_type": "code",
   "execution_count": null,
   "metadata": {
    "ExecuteTime": {
     "end_time": "2019-01-20T00:01:47.908895Z",
     "start_time": "2019-01-20T00:01:43.447Z"
    }
   },
   "outputs": [],
   "source": [
    "path_models = pwd + 'models/'\n",
    "\n",
    "results = []\n",
    "\n",
    "for folder, subs, files in os.walk(path_models):\n",
    "    for filename in files:\n",
    "        if 'results.json' in filename:\n",
    "            with open(os.path.abspath(os.path.join(folder, filename))) as f:\n",
    "                data = json.load(f)\n",
    "            results.append(data)\n",
    "\n",
    "results = pd.DataFrame(results)        \n",
    "results.sort_values(\"fit_val_acc\", inplace=True, ascending=False)"
   ]
  },
  {
   "cell_type": "code",
   "execution_count": null,
   "metadata": {
    "ExecuteTime": {
     "end_time": "2019-01-20T00:01:47.910098Z",
     "start_time": "2019-01-20T00:01:43.449Z"
    }
   },
   "outputs": [],
   "source": [
    "results.head(10)"
   ]
  }
 ],
 "metadata": {
  "kernelspec": {
   "display_name": "Python 3",
   "language": "python",
   "name": "python3"
  },
  "language_info": {
   "codemirror_mode": {
    "name": "ipython",
    "version": 3
   },
   "file_extension": ".py",
   "mimetype": "text/x-python",
   "name": "python",
   "nbconvert_exporter": "python",
   "pygments_lexer": "ipython3",
   "version": "3.5.3"
  }
 },
 "nbformat": 4,
 "nbformat_minor": 2
}
